{
 "cells": [
  {
   "cell_type": "markdown",
   "metadata": {},
   "source": [
    "# 완주하지 못한 선수\n",
    "\n",
    "문제: [완주하지 못한 선수](http://j.mp/2piYxLy)"
   ]
  },
  {
   "cell_type": "code",
   "execution_count": 1,
   "metadata": {},
   "outputs": [],
   "source": [
    "# 문제에서 제공한 예제를 테스트 코드로 작성했습니다.\n",
    "\n",
    "def test_example1():\n",
    "    participant = ['leo', 'kiki', 'eden']\n",
    "    completion = ['eden', 'kiki']\n",
    "    loser = 'leo'\n",
    "    assert find_incompletion(participant, completion) == loser\n",
    "\n",
    "\n",
    "def test_example2():\n",
    "    participant = ['marina', 'josipa', 'nikola', 'vinko', 'filipa']\n",
    "    completion = ['josipa', 'filipa', 'marina', 'nikola']\n",
    "    loser = 'vinko'\n",
    "    assert find_incompletion(participant, completion) == loser\n",
    "\n",
    "\n",
    "def test_example3():\n",
    "    participant = ['mislav', 'stanko', 'mislav', 'ana']\n",
    "    completion = ['stanko', 'ana', 'mislav']\n",
    "    loser = 'mislav'\n",
    "    assert find_incompletion(participant, completion) == loser"
   ]
  },
  {
   "cell_type": "code",
   "execution_count": 2,
   "metadata": {},
   "outputs": [
    {
     "ename": "NameError",
     "evalue": "name 'find_incompletion' is not defined",
     "output_type": "error",
     "traceback": [
      "\u001b[0;31m---------------------------------------------------------------------------\u001b[0m",
      "\u001b[0;31mNameError\u001b[0m                                 Traceback (most recent call last)",
      "\u001b[0;32m<ipython-input-2-d46f1cf8fc09>\u001b[0m in \u001b[0;36m<module>\u001b[0;34m\u001b[0m\n\u001b[1;32m      1\u001b[0m \u001b[0;31m# 테스트를 실행하면 “find_incompletion”가 없다는 에러가 발생합니다.\u001b[0m\u001b[0;34m\u001b[0m\u001b[0;34m\u001b[0m\u001b[0;34m\u001b[0m\u001b[0m\n\u001b[1;32m      2\u001b[0m \u001b[0;34m\u001b[0m\u001b[0m\n\u001b[0;32m----> 3\u001b[0;31m \u001b[0mtest_example1\u001b[0m\u001b[0;34m(\u001b[0m\u001b[0;34m)\u001b[0m\u001b[0;34m\u001b[0m\u001b[0;34m\u001b[0m\u001b[0m\n\u001b[0m\u001b[1;32m      4\u001b[0m \u001b[0;34m\u001b[0m\u001b[0m\n\u001b[1;32m      5\u001b[0m \u001b[0;31m# => NameError: name 'find_incompletion' is not defined\u001b[0m\u001b[0;34m\u001b[0m\u001b[0;34m\u001b[0m\u001b[0;34m\u001b[0m\u001b[0m\n",
      "\u001b[0;32m<ipython-input-1-1b56bf8f42bf>\u001b[0m in \u001b[0;36mtest_example1\u001b[0;34m()\u001b[0m\n\u001b[1;32m      5\u001b[0m     \u001b[0mcompletion\u001b[0m \u001b[0;34m=\u001b[0m \u001b[0;34m[\u001b[0m\u001b[0;34m'eden'\u001b[0m\u001b[0;34m,\u001b[0m \u001b[0;34m'kiki'\u001b[0m\u001b[0;34m]\u001b[0m\u001b[0;34m\u001b[0m\u001b[0;34m\u001b[0m\u001b[0m\n\u001b[1;32m      6\u001b[0m     \u001b[0mloser\u001b[0m \u001b[0;34m=\u001b[0m \u001b[0;34m'leo'\u001b[0m\u001b[0;34m\u001b[0m\u001b[0;34m\u001b[0m\u001b[0m\n\u001b[0;32m----> 7\u001b[0;31m     \u001b[0;32massert\u001b[0m \u001b[0mfind_incompletion\u001b[0m\u001b[0;34m(\u001b[0m\u001b[0mparticipant\u001b[0m\u001b[0;34m,\u001b[0m \u001b[0mcompletion\u001b[0m\u001b[0;34m)\u001b[0m \u001b[0;34m==\u001b[0m \u001b[0mloser\u001b[0m\u001b[0;34m\u001b[0m\u001b[0;34m\u001b[0m\u001b[0m\n\u001b[0m\u001b[1;32m      8\u001b[0m \u001b[0;34m\u001b[0m\u001b[0m\n\u001b[1;32m      9\u001b[0m \u001b[0;34m\u001b[0m\u001b[0m\n",
      "\u001b[0;31mNameError\u001b[0m: name 'find_incompletion' is not defined"
     ]
    }
   ],
   "source": [
    "# 테스트를 실행하면 “find_incompletion”가 없다는 에러가 발생합니다.\n",
    "\n",
    "test_example1()\n",
    "\n",
    "# => NameError: name 'find_incompletion' is not defined"
   ]
  },
  {
   "cell_type": "code",
   "execution_count": 3,
   "metadata": {},
   "outputs": [],
   "source": [
    "# 먼저, 두 집합의 차이를 구하는 아이디어를 실험해 봅니다.\n",
    "\n",
    "def find_incompletion(participant, completion):\n",
    "    incompletion = set(participant) - set(completion)\n",
    "    # 풀이하시다 어려운 게 있으면 중간에 print 등으로 어떤 일이 벌어지고 있는지 확인하셔도 됩니다.\n",
    "    print(incompletion)\n",
    "    return list(incompletion)[0]"
   ]
  },
  {
   "cell_type": "code",
   "execution_count": 4,
   "metadata": {},
   "outputs": [
    {
     "name": "stdout",
     "output_type": "stream",
     "text": [
      "{'leo'}\n"
     ]
    }
   ],
   "source": [
    "test_example1()"
   ]
  },
  {
   "cell_type": "code",
   "execution_count": 5,
   "metadata": {},
   "outputs": [
    {
     "name": "stdout",
     "output_type": "stream",
     "text": [
      "{'vinko'}\n"
     ]
    }
   ],
   "source": [
    "test_example2()"
   ]
  },
  {
   "cell_type": "code",
   "execution_count": 6,
   "metadata": {},
   "outputs": [
    {
     "name": "stdout",
     "output_type": "stream",
     "text": [
      "set()\n"
     ]
    },
    {
     "ename": "IndexError",
     "evalue": "list index out of range",
     "output_type": "error",
     "traceback": [
      "\u001b[0;31m---------------------------------------------------------------------------\u001b[0m",
      "\u001b[0;31mIndexError\u001b[0m                                Traceback (most recent call last)",
      "\u001b[0;32m<ipython-input-6-e82edeaa84aa>\u001b[0m in \u001b[0;36m<module>\u001b[0;34m\u001b[0m\n\u001b[1;32m      1\u001b[0m \u001b[0;31m# 동명이인이 있을 때는 실패합니다.\u001b[0m\u001b[0;34m\u001b[0m\u001b[0;34m\u001b[0m\u001b[0;34m\u001b[0m\u001b[0m\n\u001b[1;32m      2\u001b[0m \u001b[0;34m\u001b[0m\u001b[0m\n\u001b[0;32m----> 3\u001b[0;31m \u001b[0mtest_example3\u001b[0m\u001b[0;34m(\u001b[0m\u001b[0;34m)\u001b[0m\u001b[0;34m\u001b[0m\u001b[0;34m\u001b[0m\u001b[0m\n\u001b[0m\u001b[1;32m      4\u001b[0m \u001b[0;34m\u001b[0m\u001b[0m\n\u001b[1;32m      5\u001b[0m \u001b[0;31m# => IndexError: list index out of range\u001b[0m\u001b[0;34m\u001b[0m\u001b[0;34m\u001b[0m\u001b[0;34m\u001b[0m\u001b[0m\n",
      "\u001b[0;32m<ipython-input-1-1b56bf8f42bf>\u001b[0m in \u001b[0;36mtest_example3\u001b[0;34m()\u001b[0m\n\u001b[1;32m     19\u001b[0m     \u001b[0mcompletion\u001b[0m \u001b[0;34m=\u001b[0m \u001b[0;34m[\u001b[0m\u001b[0;34m'stanko'\u001b[0m\u001b[0;34m,\u001b[0m \u001b[0;34m'ana'\u001b[0m\u001b[0;34m,\u001b[0m \u001b[0;34m'mislav'\u001b[0m\u001b[0;34m]\u001b[0m\u001b[0;34m\u001b[0m\u001b[0;34m\u001b[0m\u001b[0m\n\u001b[1;32m     20\u001b[0m     \u001b[0mloser\u001b[0m \u001b[0;34m=\u001b[0m \u001b[0;34m'mislav'\u001b[0m\u001b[0;34m\u001b[0m\u001b[0;34m\u001b[0m\u001b[0m\n\u001b[0;32m---> 21\u001b[0;31m     \u001b[0;32massert\u001b[0m \u001b[0mfind_incompletion\u001b[0m\u001b[0;34m(\u001b[0m\u001b[0mparticipant\u001b[0m\u001b[0;34m,\u001b[0m \u001b[0mcompletion\u001b[0m\u001b[0;34m)\u001b[0m \u001b[0;34m==\u001b[0m \u001b[0mloser\u001b[0m\u001b[0;34m\u001b[0m\u001b[0;34m\u001b[0m\u001b[0m\n\u001b[0m",
      "\u001b[0;32m<ipython-input-3-a00cd83445e9>\u001b[0m in \u001b[0;36mfind_incompletion\u001b[0;34m(participant, completion)\u001b[0m\n\u001b[1;32m      5\u001b[0m     \u001b[0;31m# 풀이하시다 어려운 게 있으면 중간에 print 등으로 어떤 일이 벌어지고 있는지 확인하셔도 됩니다.\u001b[0m\u001b[0;34m\u001b[0m\u001b[0;34m\u001b[0m\u001b[0;34m\u001b[0m\u001b[0m\n\u001b[1;32m      6\u001b[0m     \u001b[0mprint\u001b[0m\u001b[0;34m(\u001b[0m\u001b[0mincompletion\u001b[0m\u001b[0;34m)\u001b[0m\u001b[0;34m\u001b[0m\u001b[0;34m\u001b[0m\u001b[0m\n\u001b[0;32m----> 7\u001b[0;31m     \u001b[0;32mreturn\u001b[0m \u001b[0mlist\u001b[0m\u001b[0;34m(\u001b[0m\u001b[0mincompletion\u001b[0m\u001b[0;34m)\u001b[0m\u001b[0;34m[\u001b[0m\u001b[0;36m0\u001b[0m\u001b[0;34m]\u001b[0m\u001b[0;34m\u001b[0m\u001b[0;34m\u001b[0m\u001b[0m\n\u001b[0m",
      "\u001b[0;31mIndexError\u001b[0m: list index out of range"
     ]
    }
   ],
   "source": [
    "# 동명이인이 있을 때는 실패합니다.\n",
    "\n",
    "test_example3()\n",
    "\n",
    "# => IndexError: list index out of range"
   ]
  },
  {
   "cell_type": "code",
   "execution_count": 7,
   "metadata": {},
   "outputs": [],
   "source": [
    "# 완주하지 못한 선수 목록을 직접 관리합니다.\n",
    "# 중간 단계를 print로 확인해 봤습니다.\n",
    "\n",
    "def find_incompletion(participant, completion):\n",
    "    incompletion = participant.copy()\n",
    "    print(incompletion)\n",
    "    for runner in completion:\n",
    "        incompletion.remove(runner)\n",
    "        print(incompletion)\n",
    "    return incompletion[0]"
   ]
  },
  {
   "cell_type": "code",
   "execution_count": 8,
   "metadata": {},
   "outputs": [
    {
     "name": "stdout",
     "output_type": "stream",
     "text": [
      "['leo', 'kiki', 'eden']\n",
      "['leo', 'kiki']\n",
      "['leo']\n"
     ]
    }
   ],
   "source": [
    "test_example1()"
   ]
  },
  {
   "cell_type": "code",
   "execution_count": 9,
   "metadata": {},
   "outputs": [
    {
     "name": "stdout",
     "output_type": "stream",
     "text": [
      "['marina', 'josipa', 'nikola', 'vinko', 'filipa']\n",
      "['marina', 'nikola', 'vinko', 'filipa']\n",
      "['marina', 'nikola', 'vinko']\n",
      "['nikola', 'vinko']\n",
      "['vinko']\n"
     ]
    }
   ],
   "source": [
    "test_example2()"
   ]
  },
  {
   "cell_type": "code",
   "execution_count": 10,
   "metadata": {},
   "outputs": [
    {
     "name": "stdout",
     "output_type": "stream",
     "text": [
      "['mislav', 'stanko', 'mislav', 'ana']\n",
      "['mislav', 'mislav', 'ana']\n",
      "['mislav', 'mislav']\n",
      "['mislav']\n"
     ]
    }
   ],
   "source": [
    "test_example3()"
   ]
  },
  {
   "cell_type": "code",
   "execution_count": 11,
   "metadata": {},
   "outputs": [],
   "source": [
    "# remove가 비효율적이기 때문에 문제가 됩니다.\n",
    "# 위의 코드는 풀어서 쓰면 다음과 같습니다.\n",
    "\n",
    "def find_incompletion(participant, completion):\n",
    "    incompletion = participant.copy()\n",
    "    for runner in completion:\n",
    "        # remove를 풀어서 쓰면 이렇습니다.\n",
    "        for i in range(len(incompletion)):\n",
    "            if incompletion[i] == runner:\n",
    "                del incompletion[i]\n",
    "                break\n",
    "    return incompletion[0]"
   ]
  },
  {
   "cell_type": "code",
   "execution_count": 12,
   "metadata": {},
   "outputs": [],
   "source": [
    "test_example1()\n",
    "test_example2()\n",
    "test_example3()"
   ]
  },
  {
   "cell_type": "markdown",
   "metadata": {},
   "source": [
    "알고리즘의 효율성을 따질 땐 시간 복잡도란 개념을 쓰는데,\n",
    "위의 코드는 `O(n^2)`의 시간 복잡도를 갖는다고 표현합니다.\n",
    "마라톤 주자가 많아지면 말 그대로 기하급수적으로 느려지게 되죠.\n",
    "\n",
    "이 문제를 해결하기 위해 `remove` 대신 다른 걸 사용해야 하고,\n",
    "이렇게 하기 위해 `list`가 아니라 `dictionary`를 써봅시다."
   ]
  },
  {
   "cell_type": "code",
   "execution_count": 13,
   "metadata": {},
   "outputs": [
    {
     "name": "stdout",
     "output_type": "stream",
     "text": [
      "{'a': 2, 'b': 1, 'c': 1}\n",
      "{'a': 1, 'b': 1, 'c': 1}\n",
      "{'a': 1, 'b': 0, 'c': 1}\n",
      "{'a': 1, 'b': 0, 'c': 0}\n",
      "완주하지 못한 선수: a\n"
     ]
    }
   ],
   "source": [
    "# 참석자를 좀 단순한 형태로 바꿔서 보겠습니다.\n",
    "participant = ['a', 'a', 'b', 'c']\n",
    "\n",
    "# 중복 문제의 효율을 위해 횟수를 파악해 참석자 목록을 이렇게 key-value 형태로 정리할 수 있습니다.\n",
    "incompletion = {'a': 2, 'b': 1, 'c': 1}\n",
    "print(incompletion)\n",
    "\n",
    "for runner in ['a', 'b', 'c']:\n",
    "    # 효율에 문제가 있던 remove 대신 dictionary를 활용합니다.\n",
    "    # 여기선 dictionary가 상수시간 O(1)에 가깝게 작동한다고 가정합니다.\n",
    "    incompletion[runner] -= 1\n",
    "    print(incompletion)\n",
    "\n",
    "# value가 0이 아닌 key를 찾으면 됩니다.\n",
    "for k, v in incompletion.items():\n",
    "    if v > 0:\n",
    "        print('완주하지 못한 선수:', k)"
   ]
  },
  {
   "cell_type": "code",
   "execution_count": 14,
   "metadata": {},
   "outputs": [
    {
     "name": "stdout",
     "output_type": "stream",
     "text": [
      "{}\n",
      "{'a': 1}\n",
      "{'a': 2}\n",
      "{'a': 2, 'b': 1}\n",
      "{'a': 2, 'b': 1, 'c': 1}\n"
     ]
    }
   ],
   "source": [
    "# 참석자 list를 dictionary로 바꿔봅시다.\n",
    "\n",
    "participant = ['a', 'a', 'b', 'c']\n",
    "\n",
    "# 초기값\n",
    "incompletion = {}\n",
    "print(incompletion)\n",
    "\n",
    "# 누산\n",
    "for runner in participant:\n",
    "    if runner not in incompletion:\n",
    "        incompletion[runner] = 0\n",
    "    incompletion[runner] += 1\n",
    "    print(incompletion)"
   ]
  },
  {
   "cell_type": "code",
   "execution_count": 15,
   "metadata": {},
   "outputs": [
    {
     "name": "stdout",
     "output_type": "stream",
     "text": [
      "{}\n",
      "{'a': 1}\n",
      "{'a': 2}\n",
      "{'a': 2, 'b': 1}\n",
      "{'a': 2, 'b': 1, 'c': 1}\n"
     ]
    }
   ],
   "source": [
    "# dictionary의 get을 활용하면 if를 제거할 수 있습니다.\n",
    "\n",
    "participant = ['a', 'a', 'b', 'c']\n",
    "\n",
    "# 초기값\n",
    "incompletion = {}\n",
    "print(incompletion)\n",
    "\n",
    "# 누산\n",
    "for runner in participant:\n",
    "    incompletion[runner] = incompletion.get(runner, 0) + 1\n",
    "    print(incompletion)"
   ]
  },
  {
   "cell_type": "code",
   "execution_count": 16,
   "metadata": {},
   "outputs": [],
   "source": [
    "# 이제 다시 문제로 돌아와서 dictionary를 사용하게 고쳐보죠.\n",
    "\n",
    "def find_incompletion(participant, completion):\n",
    "    incompletion = {}\n",
    "    for runner in participant:\n",
    "        incompletion[runner] = incompletion.get(runner, 0) + 1\n",
    "    print(incompletion)\n",
    "\n",
    "    for runner in completion:\n",
    "        incompletion[runner] -= 1\n",
    "        print(incompletion)\n",
    "\n",
    "    for runner, count in incompletion.items():\n",
    "        if count > 0:\n",
    "            return runner\n",
    "\n",
    "    # 완주하지 못한 선수가 항상 있다는 걸 전제로 합니다."
   ]
  },
  {
   "cell_type": "code",
   "execution_count": 17,
   "metadata": {},
   "outputs": [
    {
     "name": "stdout",
     "output_type": "stream",
     "text": [
      "{'leo': 1, 'kiki': 1, 'eden': 1}\n",
      "{'leo': 1, 'kiki': 1, 'eden': 0}\n",
      "{'leo': 1, 'kiki': 0, 'eden': 0}\n"
     ]
    }
   ],
   "source": [
    "test_example1()"
   ]
  },
  {
   "cell_type": "code",
   "execution_count": 18,
   "metadata": {},
   "outputs": [
    {
     "name": "stdout",
     "output_type": "stream",
     "text": [
      "{'marina': 1, 'josipa': 1, 'nikola': 1, 'vinko': 1, 'filipa': 1}\n",
      "{'marina': 1, 'josipa': 0, 'nikola': 1, 'vinko': 1, 'filipa': 1}\n",
      "{'marina': 1, 'josipa': 0, 'nikola': 1, 'vinko': 1, 'filipa': 0}\n",
      "{'marina': 0, 'josipa': 0, 'nikola': 1, 'vinko': 1, 'filipa': 0}\n",
      "{'marina': 0, 'josipa': 0, 'nikola': 0, 'vinko': 1, 'filipa': 0}\n"
     ]
    }
   ],
   "source": [
    "test_example2()"
   ]
  },
  {
   "cell_type": "code",
   "execution_count": 19,
   "metadata": {},
   "outputs": [
    {
     "name": "stdout",
     "output_type": "stream",
     "text": [
      "{'mislav': 2, 'stanko': 1, 'ana': 1}\n",
      "{'mislav': 2, 'stanko': 0, 'ana': 1}\n",
      "{'mislav': 2, 'stanko': 0, 'ana': 0}\n",
      "{'mislav': 1, 'stanko': 0, 'ana': 0}\n"
     ]
    }
   ],
   "source": [
    "test_example3()"
   ]
  },
  {
   "cell_type": "code",
   "execution_count": 20,
   "metadata": {},
   "outputs": [],
   "source": [
    "# 갯수를 셀 때 collections 모듈의 Counter를 쓰면 더 간단합니다.\n",
    "\n",
    "from collections import Counter\n",
    "\n",
    "\n",
    "def find_incompletion(participant, completion):\n",
    "    # 여기를 간단하게 만들었습니다.\n",
    "    incompletion = Counter(participant)\n",
    "    print(incompletion)\n",
    "\n",
    "    for runner in completion:\n",
    "        incompletion[runner] -= 1\n",
    "        print(incompletion)\n",
    "\n",
    "    for runner, count in incompletion.items():\n",
    "        if count > 0:\n",
    "            return runner"
   ]
  },
  {
   "cell_type": "code",
   "execution_count": 21,
   "metadata": {},
   "outputs": [
    {
     "name": "stdout",
     "output_type": "stream",
     "text": [
      "Counter({'leo': 1, 'kiki': 1, 'eden': 1})\n",
      "Counter({'leo': 1, 'kiki': 1, 'eden': 0})\n",
      "Counter({'leo': 1, 'kiki': 0, 'eden': 0})\n"
     ]
    }
   ],
   "source": [
    "test_example1()"
   ]
  },
  {
   "cell_type": "code",
   "execution_count": 22,
   "metadata": {},
   "outputs": [
    {
     "name": "stdout",
     "output_type": "stream",
     "text": [
      "Counter({'marina': 1, 'josipa': 1, 'nikola': 1, 'vinko': 1, 'filipa': 1})\n",
      "Counter({'marina': 1, 'nikola': 1, 'vinko': 1, 'filipa': 1, 'josipa': 0})\n",
      "Counter({'marina': 1, 'nikola': 1, 'vinko': 1, 'josipa': 0, 'filipa': 0})\n",
      "Counter({'nikola': 1, 'vinko': 1, 'marina': 0, 'josipa': 0, 'filipa': 0})\n",
      "Counter({'vinko': 1, 'marina': 0, 'josipa': 0, 'nikola': 0, 'filipa': 0})\n"
     ]
    }
   ],
   "source": [
    "test_example2()"
   ]
  },
  {
   "cell_type": "code",
   "execution_count": 23,
   "metadata": {},
   "outputs": [
    {
     "name": "stdout",
     "output_type": "stream",
     "text": [
      "Counter({'mislav': 2, 'stanko': 1, 'ana': 1})\n",
      "Counter({'mislav': 2, 'ana': 1, 'stanko': 0})\n",
      "Counter({'mislav': 2, 'stanko': 0, 'ana': 0})\n",
      "Counter({'mislav': 1, 'stanko': 0, 'ana': 0})\n"
     ]
    }
   ],
   "source": [
    "test_example3()"
   ]
  },
  {
   "cell_type": "code",
   "execution_count": 24,
   "metadata": {},
   "outputs": [],
   "source": [
    "# Counter는 subtract가 가능합니다.\n",
    "\n",
    "def find_incompletion(participant, completion):\n",
    "    incompletion = Counter(participant)\n",
    "    print(incompletion)\n",
    "\n",
    "    # 이번엔 여기를 간단하게 만들어 봤습니다.\n",
    "    incompletion.subtract(Counter(completion))\n",
    "    print(incompletion)\n",
    "\n",
    "    for runner, count in incompletion.items():\n",
    "        if count > 0:\n",
    "            return runner"
   ]
  },
  {
   "cell_type": "code",
   "execution_count": 25,
   "metadata": {},
   "outputs": [
    {
     "name": "stdout",
     "output_type": "stream",
     "text": [
      "Counter({'leo': 1, 'kiki': 1, 'eden': 1})\n",
      "Counter({'leo': 1, 'kiki': 0, 'eden': 0})\n",
      "\n",
      "Counter({'marina': 1, 'josipa': 1, 'nikola': 1, 'vinko': 1, 'filipa': 1})\n",
      "Counter({'vinko': 1, 'marina': 0, 'josipa': 0, 'nikola': 0, 'filipa': 0})\n",
      "\n",
      "Counter({'mislav': 2, 'stanko': 1, 'ana': 1})\n",
      "Counter({'mislav': 1, 'stanko': 0, 'ana': 0})\n"
     ]
    }
   ],
   "source": [
    "test_example1()\n",
    "print()\n",
    "test_example2()\n",
    "print()\n",
    "test_example3()"
   ]
  },
  {
   "cell_type": "code",
   "execution_count": 26,
   "metadata": {},
   "outputs": [],
   "source": [
    "# “subtract”를 “-” 연산자로도 표현할 수 있습니다.\n",
    "\n",
    "def find_incompletion(participant, completion):\n",
    "    incompletion = Counter(participant)\n",
    "    print(incompletion)\n",
    "\n",
    "    # 마이너스 연산자 사용\n",
    "    incompletion -= Counter(completion)\n",
    "    print(incompletion)\n",
    "\n",
    "    for runner, count in incompletion.items():\n",
    "        if count > 0:\n",
    "            return runner"
   ]
  },
  {
   "cell_type": "code",
   "execution_count": 27,
   "metadata": {},
   "outputs": [
    {
     "name": "stdout",
     "output_type": "stream",
     "text": [
      "Counter({'leo': 1, 'kiki': 1, 'eden': 1})\n",
      "Counter({'leo': 1})\n",
      "\n",
      "Counter({'marina': 1, 'josipa': 1, 'nikola': 1, 'vinko': 1, 'filipa': 1})\n",
      "Counter({'vinko': 1})\n",
      "\n",
      "Counter({'mislav': 2, 'stanko': 1, 'ana': 1})\n",
      "Counter({'mislav': 1})\n"
     ]
    }
   ],
   "source": [
    "test_example1()\n",
    "print()\n",
    "test_example2()\n",
    "print()\n",
    "test_example3()"
   ]
  },
  {
   "cell_type": "code",
   "execution_count": 28,
   "metadata": {},
   "outputs": [],
   "source": [
    "# Counter에 list를 사용하면 완주하지 못한 선수 목록을 쉽게 알 수 있습니다.\n",
    "\n",
    "def find_incompletion(participant, completion):\n",
    "    incompletion = Counter(participant)\n",
    "    print(incompletion)\n",
    "\n",
    "    incompletion -= Counter(completion)\n",
    "    print(incompletion)\n",
    "\n",
    "    runners = list(incompletion)\n",
    "    print(runners)\n",
    "\n",
    "    return runners[0]"
   ]
  },
  {
   "cell_type": "code",
   "execution_count": 29,
   "metadata": {},
   "outputs": [
    {
     "name": "stdout",
     "output_type": "stream",
     "text": [
      "Counter({'leo': 1, 'kiki': 1, 'eden': 1})\n",
      "Counter({'leo': 1})\n",
      "['leo']\n",
      "\n",
      "Counter({'marina': 1, 'josipa': 1, 'nikola': 1, 'vinko': 1, 'filipa': 1})\n",
      "Counter({'vinko': 1})\n",
      "['vinko']\n",
      "\n",
      "Counter({'mislav': 2, 'stanko': 1, 'ana': 1})\n",
      "Counter({'mislav': 1})\n",
      "['mislav']\n"
     ]
    }
   ],
   "source": [
    "test_example1()\n",
    "print()\n",
    "test_example2()\n",
    "print()\n",
    "test_example3()"
   ]
  },
  {
   "cell_type": "code",
   "execution_count": 30,
   "metadata": {},
   "outputs": [],
   "source": [
    "# 좀 더 줄여봅시다.\n",
    "\n",
    "def find_incompletion(participant, completion):\n",
    "    incompletion = Counter(participant) - Counter(completion)\n",
    "    runners = list(incompletion)\n",
    "    return runners[0]"
   ]
  },
  {
   "cell_type": "code",
   "execution_count": 31,
   "metadata": {},
   "outputs": [],
   "source": [
    "test_example1()\n",
    "test_example2()\n",
    "test_example3()"
   ]
  },
  {
   "cell_type": "code",
   "execution_count": 32,
   "metadata": {},
   "outputs": [],
   "source": [
    "# 좀 더 줄여봅시다.\n",
    "\n",
    "def find_incompletion(participant, completion):\n",
    "    runners = list(Counter(participant) - Counter(completion))\n",
    "    return runners[0]"
   ]
  },
  {
   "cell_type": "code",
   "execution_count": 33,
   "metadata": {},
   "outputs": [],
   "source": [
    "test_example1()\n",
    "test_example2()\n",
    "test_example3()"
   ]
  },
  {
   "cell_type": "code",
   "execution_count": 34,
   "metadata": {},
   "outputs": [],
   "source": [
    "# 좀 더 줄여봅시다.\n",
    "\n",
    "def find_incompletion(participant, completion):\n",
    "    return list(Counter(participant) - Counter(completion))[0]"
   ]
  },
  {
   "cell_type": "code",
   "execution_count": 35,
   "metadata": {},
   "outputs": [],
   "source": [
    "test_example1()\n",
    "test_example2()\n",
    "test_example3()"
   ]
  },
  {
   "cell_type": "code",
   "execution_count": 36,
   "metadata": {},
   "outputs": [],
   "source": [
    "# list가 아니라 elements와 next를 활용할 수도 있습니다.\n",
    "\n",
    "def find_incompletion(participant, completion):\n",
    "    return next((Counter(participant) - Counter(completion)).elements())"
   ]
  },
  {
   "cell_type": "code",
   "execution_count": 37,
   "metadata": {},
   "outputs": [],
   "source": [
    "test_example1()\n",
    "test_example2()\n",
    "test_example3()"
   ]
  },
  {
   "cell_type": "code",
   "execution_count": null,
   "metadata": {},
   "outputs": [],
   "source": []
  }
 ],
 "metadata": {
  "kernelspec": {
   "display_name": "Python 3",
   "language": "python",
   "name": "python3"
  },
  "language_info": {
   "codemirror_mode": {
    "name": "ipython",
    "version": 3
   },
   "file_extension": ".py",
   "mimetype": "text/x-python",
   "name": "python",
   "nbconvert_exporter": "python",
   "pygments_lexer": "ipython3",
   "version": "3.7.4"
  }
 },
 "nbformat": 4,
 "nbformat_minor": 2
}
