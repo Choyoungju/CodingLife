{
 "cells": [
  {
   "cell_type": "code",
   "execution_count": 1,
   "metadata": {},
   "outputs": [
    {
     "name": "stdout",
     "output_type": "stream",
     "text": [
      "Extracting /tmp/mnist-data/train-images-idx3-ubyte.gz\n",
      "Extracting /tmp/mnist-data/train-labels-idx1-ubyte.gz\n",
      "Extracting /tmp/mnist-data/t10k-images-idx3-ubyte.gz\n",
      "Extracting /tmp/mnist-data/t10k-labels-idx1-ubyte.gz\n"
     ]
    }
   ],
   "source": [
    "# MNIST 데이터 로딩\n",
    "\n",
    "from tensorflow.examples.tutorials.mnist import input_data\n",
    "\n",
    "mnist = input_data.read_data_sets('/tmp/mnist-data', one_hot=True)"
   ]
  },
  {
   "cell_type": "code",
   "execution_count": 2,
   "metadata": {},
   "outputs": [],
   "source": [
    "# 간단한 신경망 모델\n",
    "\n",
    "import tensorflow as tf\n",
    "\n",
    "# 입력은 28*28개 (Image Size)\n",
    "# 출력은 10개 (0~9)\n",
    "\n",
    "x = tf.placeholder(tf.float32, [None, 28 * 28])\n",
    "y = tf.placeholder(tf.float32, [None, 10])\n",
    "\n",
    "w = tf.Variable(tf.truncated_normal([28 * 28, 10], stddev=0.1))\n",
    "b = tf.Variable(tf.truncated_normal([10], stddev=0.1))\n",
    "\n",
    "u = tf.matmul(x, w) + b\n",
    "\n",
    "loss = tf.nn.softmax_cross_entropy_with_logits(logits=u, labels=y)\n",
    "\n",
    "learning_rate = 0.3\n",
    "train = tf.train.GradientDescentOptimizer(learning_rate).minimize(loss)"
   ]
  },
  {
   "cell_type": "code",
   "execution_count": 3,
   "metadata": {},
   "outputs": [
    {
     "name": "stdout",
     "output_type": "stream",
     "text": [
      "1\n",
      "2\n",
      "3\n",
      "4\n",
      "5\n",
      "6\n",
      "7\n",
      "8\n",
      "9\n",
      "10\n"
     ]
    }
   ],
   "source": [
    "# 훈련\n",
    "\n",
    "session = tf.Session()\n",
    "session.run(tf.global_variables_initializer())\n",
    "\n",
    "for i in range(10):\n",
    "    print(i + 1)\n",
    "    for j in range(100):\n",
    "        x_data, y_data = mnist.train.next_batch(550)\n",
    "        session.run(train, feed_dict={ x: x_data, y: y_data })"
   ]
  },
  {
   "cell_type": "code",
   "execution_count": 4,
   "metadata": {},
   "outputs": [
    {
     "data": {
      "text/plain": [
       "0.90869999999999995"
      ]
     },
     "execution_count": 4,
     "metadata": {},
     "output_type": "execute_result"
    }
   ],
   "source": [
    "# 예측\n",
    "\n",
    "z = tf.argmax(u, axis=1)\n",
    "data = { x: mnist.test.images, y: mnist.test.labels }\n",
    "predict = session.run(z, feed_dict=data)\n",
    "\n",
    "# 정답 비교\n",
    "\n",
    "correct = predict == mnist.test.labels.argmax(axis=1)\n",
    "\n",
    "# 정답률\n",
    "\n",
    "correct.mean()"
   ]
  }
 ],
 "metadata": {
  "kernelspec": {
   "display_name": "Python 3",
   "language": "python",
   "name": "python3"
  },
  "language_info": {
   "codemirror_mode": {
    "name": "ipython",
    "version": 3
   },
   "file_extension": ".py",
   "mimetype": "text/x-python",
   "name": "python",
   "nbconvert_exporter": "python",
   "pygments_lexer": "ipython3",
   "version": "3.6.2"
  }
 },
 "nbformat": 4,
 "nbformat_minor": 2
}
