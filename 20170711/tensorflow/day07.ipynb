{
 "cells": [
  {
   "cell_type": "code",
   "execution_count": 1,
   "metadata": {
    "collapsed": true
   },
   "outputs": [],
   "source": [
    "import numpy as np\n",
    "import tensorflow as tf\n",
    "import matplotlib.pyplot as plt"
   ]
  },
  {
   "cell_type": "code",
   "execution_count": 2,
   "metadata": {},
   "outputs": [
    {
     "name": "stdout",
     "output_type": "stream",
     "text": [
      "Extracting data/train-images-idx3-ubyte.gz\n",
      "Extracting data/train-labels-idx1-ubyte.gz\n",
      "Extracting data/t10k-images-idx3-ubyte.gz\n",
      "Extracting data/t10k-labels-idx1-ubyte.gz\n"
     ]
    }
   ],
   "source": [
    "from tensorflow.examples.tutorials.mnist import input_data\n",
    "\n",
    "mnist = input_data.read_data_sets('data')"
   ]
  },
  {
   "cell_type": "code",
   "execution_count": 3,
   "metadata": {
    "collapsed": true
   },
   "outputs": [],
   "source": [
    "learning_rate = 0.05\n",
    "batch_size = 100\n",
    "\n",
    "# num_channels = [4, 8]"
   ]
  },
  {
   "cell_type": "code",
   "execution_count": 4,
   "metadata": {},
   "outputs": [
    {
     "data": {
      "text/plain": [
       "550.0"
      ]
     },
     "execution_count": 4,
     "metadata": {},
     "output_type": "execute_result"
    }
   ],
   "source": [
    "mnist.train.labels.shape[0] / batch_size"
   ]
  },
  {
   "cell_type": "code",
   "execution_count": 5,
   "metadata": {
    "collapsed": true
   },
   "outputs": [],
   "source": [
    "def random(shape):\n",
    "    return tf.truncated_normal(shape, stddev=0.1)"
   ]
  },
  {
   "cell_type": "code",
   "execution_count": 6,
   "metadata": {
    "collapsed": true
   },
   "outputs": [],
   "source": [
    "def layer(x, in_size, out_size, activation):\n",
    "    w = tf.Variable(random([in_size, out_size]))\n",
    "    b = tf.Variable(random([out_size]))\n",
    "    u = tf.matmul(x, w) + b\n",
    "    return activation(u)"
   ]
  },
  {
   "cell_type": "code",
   "execution_count": 7,
   "metadata": {
    "collapsed": true
   },
   "outputs": [],
   "source": [
    "def cost(y, z):\n",
    "    cross_entropy = -tf.reduce_sum(y * tf.log(z), axis=1)\n",
    "    return tf.reduce_mean(cross_entropy)"
   ]
  },
  {
   "cell_type": "code",
   "execution_count": 8,
   "metadata": {
    "collapsed": true,
    "scrolled": false
   },
   "outputs": [],
   "source": [
    "def draw_incorrect():\n",
    "    images = mnist.test.images\n",
    "    labels = mnist.test.labels\n",
    "\n",
    "    p, c = session.run([predict, correct], feed_dict=test_data)\n",
    "\n",
    "    fig, axes = plt.subplots(5, 5, figsize=(10, 10))\n",
    "\n",
    "    for i, ax in zip(np.arange(len(c))[~c][:25], axes.flat):\n",
    "        ax.set_axis_off()\n",
    "        ax.imshow(images[i].reshape(28, 28))\n",
    "        ax.set_title('P {}, R {}'.format(p[i], labels[i]))\n",
    "\n",
    "    plt.show()"
   ]
  },
  {
   "cell_type": "code",
   "execution_count": 9,
   "metadata": {
    "collapsed": true
   },
   "outputs": [],
   "source": [
    "x = tf.placeholder(tf.float32, [None, 28 * 28])\n",
    "y = tf.placeholder(tf.int64, [None])\n",
    "keep_prob = tf.placeholder(tf.float32)\n",
    "\n",
    "z1 = layer(x, 28 * 28, 100, tf.nn.relu) # hidden layer 1: 764 -> 100\n",
    "z2 = layer(z1, 100, 50, tf.nn.relu) # hidden layer 2: 100 -> 50\n",
    "drop = tf.nn.dropout(z2, keep_prob)\n",
    "z = layer(z2, 50, 10, tf.nn.softmax) # output layer: 50 -> 10\n",
    "\n",
    "loss = cost(tf.one_hot(y, 10), z)\n",
    "\n",
    "train = tf.train.AdamOptimizer(0.0001).minimize(loss)"
   ]
  },
  {
   "cell_type": "code",
   "execution_count": 10,
   "metadata": {},
   "outputs": [
    {
     "data": {
      "text/plain": [
       "(TensorShape([Dimension(None), Dimension(100)]),\n",
       " TensorShape([Dimension(None), Dimension(50)]),\n",
       " TensorShape([Dimension(None), Dimension(10)]))"
      ]
     },
     "execution_count": 10,
     "metadata": {},
     "output_type": "execute_result"
    }
   ],
   "source": [
    "z1.shape, z2.shape, z.shape"
   ]
  },
  {
   "cell_type": "code",
   "execution_count": 11,
   "metadata": {
    "collapsed": true
   },
   "outputs": [],
   "source": [
    "predict = tf.argmax(z, axis=1) # 정답 예측\n",
    "correct = tf.equal(predict, y) # 정답 여부 (True, False, True, False ...)\n",
    "accuracy = tf.reduce_mean(tf.cast(correct, tf.float32)) # 정답률"
   ]
  },
  {
   "cell_type": "code",
   "execution_count": 12,
   "metadata": {
    "scrolled": false
   },
   "outputs": [
    {
     "name": "stdout",
     "output_type": "stream",
     "text": [
      "1\n",
      "loss = 2.0508041381835938\n",
      "accuracy = 0.42410001158714294\n",
      "\n",
      "2\n",
      "loss = 1.3575286865234375\n",
      "accuracy = 0.7005000114440918\n",
      "\n",
      "3\n",
      "loss = 0.9296520948410034\n",
      "accuracy = 0.8086000084877014\n",
      "\n",
      "4\n",
      "loss = 0.7888423800468445\n",
      "accuracy = 0.8388000130653381\n",
      "\n",
      "5\n",
      "loss = 0.5173695087432861\n",
      "accuracy = 0.8648999929428101\n",
      "\n",
      "6\n",
      "loss = 0.41036418080329895\n",
      "accuracy = 0.879800021648407\n",
      "\n",
      "7\n",
      "loss = 0.4061655104160309\n",
      "accuracy = 0.8888999819755554\n",
      "\n",
      "8\n",
      "loss = 0.38533297181129456\n",
      "accuracy = 0.8974000215530396\n",
      "\n",
      "9\n",
      "loss = 0.5290080904960632\n",
      "accuracy = 0.902899980545044\n",
      "\n",
      "10\n",
      "loss = 0.3902806043624878\n",
      "accuracy = 0.9057999849319458\n",
      "\n",
      "11\n",
      "loss = 0.44464361667633057\n",
      "accuracy = 0.9101999998092651\n",
      "\n",
      "12\n",
      "loss = 0.3772491216659546\n",
      "accuracy = 0.9101999998092651\n",
      "\n",
      "13\n",
      "loss = 0.21040882170200348\n",
      "accuracy = 0.9151999950408936\n",
      "\n",
      "14\n",
      "loss = 0.2968887686729431\n",
      "accuracy = 0.9171000123023987\n",
      "\n",
      "15\n",
      "loss = 0.4009127914905548\n",
      "accuracy = 0.9186000227928162\n",
      "\n",
      "16\n",
      "loss = 0.2757587730884552\n",
      "accuracy = 0.9193999767303467\n",
      "\n",
      "17\n",
      "loss = 0.19138634204864502\n",
      "accuracy = 0.9200000166893005\n",
      "\n",
      "18\n",
      "loss = 0.301593542098999\n",
      "accuracy = 0.9222000241279602\n",
      "\n",
      "19\n",
      "loss = 0.2773400545120239\n",
      "accuracy = 0.9229999780654907\n",
      "\n",
      "20\n",
      "loss = 0.2375127375125885\n",
      "accuracy = 0.9246000051498413\n",
      "\n",
      "21\n",
      "loss = 0.2142748236656189\n",
      "accuracy = 0.9266999959945679\n",
      "\n",
      "22\n",
      "loss = 0.29831549525260925\n",
      "accuracy = 0.9258999824523926\n",
      "\n",
      "23\n",
      "loss = 0.27417388558387756\n",
      "accuracy = 0.927299976348877\n",
      "\n",
      "24\n",
      "loss = 0.17048344016075134\n",
      "accuracy = 0.9279999732971191\n",
      "\n",
      "25\n",
      "loss = 0.28238582611083984\n",
      "accuracy = 0.9297999739646912\n",
      "\n",
      "26\n",
      "loss = 0.30241841077804565\n",
      "accuracy = 0.9300000071525574\n",
      "\n",
      "27\n",
      "loss = 0.1716136932373047\n",
      "accuracy = 0.9323999881744385\n",
      "\n",
      "28\n",
      "loss = 0.11075461655855179\n",
      "accuracy = 0.9322999715805054\n",
      "\n",
      "29\n",
      "loss = 0.28059205412864685\n",
      "accuracy = 0.933899998664856\n",
      "\n",
      "30\n",
      "loss = 0.21214984357357025\n",
      "accuracy = 0.9351999759674072\n",
      "\n",
      "31\n",
      "loss = 0.14277207851409912\n",
      "accuracy = 0.9366000294685364\n",
      "\n",
      "32\n",
      "loss = 0.2807583510875702\n",
      "accuracy = 0.9380999803543091\n",
      "\n",
      "33\n",
      "loss = 0.28309932351112366\n",
      "accuracy = 0.9372000098228455\n",
      "\n",
      "34\n",
      "loss = 0.2101767510175705\n",
      "accuracy = 0.9379000067710876\n",
      "\n",
      "35\n",
      "loss = 0.17327873408794403\n",
      "accuracy = 0.9383000135421753\n",
      "\n",
      "36\n",
      "loss = 0.21505028009414673\n",
      "accuracy = 0.9390000104904175\n",
      "\n",
      "37\n",
      "loss = 0.16996780037879944\n",
      "accuracy = 0.9395999908447266\n",
      "\n",
      "38\n",
      "loss = 0.12113585323095322\n",
      "accuracy = 0.9398999810218811\n",
      "\n",
      "39\n",
      "loss = 0.19947856664657593\n",
      "accuracy = 0.9408000111579895\n",
      "\n",
      "40\n",
      "loss = 0.13274697959423065\n",
      "accuracy = 0.941100001335144\n",
      "\n",
      "41\n",
      "loss = 0.16233353316783905\n",
      "accuracy = 0.9433000087738037\n",
      "\n",
      "42\n",
      "loss = 0.23516669869422913\n",
      "accuracy = 0.9433000087738037\n",
      "\n",
      "43\n",
      "loss = 0.3127315044403076\n",
      "accuracy = 0.9434999823570251\n",
      "\n",
      "44\n",
      "loss = 0.11278509348630905\n",
      "accuracy = 0.9440000057220459\n",
      "\n",
      "45\n",
      "loss = 0.10999546200037003\n",
      "accuracy = 0.9427000284194946\n",
      "\n",
      "46\n",
      "loss = 0.13667839765548706\n",
      "accuracy = 0.9449999928474426\n",
      "\n",
      "47\n",
      "loss = 0.19432362914085388\n",
      "accuracy = 0.9463000297546387\n",
      "\n",
      "48\n",
      "loss = 0.48034900426864624\n",
      "accuracy = 0.9474999904632568\n",
      "\n",
      "49\n",
      "loss = 0.1614059954881668\n",
      "accuracy = 0.9451000094413757\n",
      "\n",
      "50\n",
      "loss = 0.2198205441236496\n",
      "accuracy = 0.9470000267028809\n",
      "\n",
      "51\n",
      "loss = 0.19099849462509155\n",
      "accuracy = 0.9465000033378601\n",
      "\n",
      "52\n",
      "loss = 0.1476241499185562\n",
      "accuracy = 0.9467999935150146\n",
      "\n",
      "53\n",
      "loss = 0.1393568366765976\n",
      "accuracy = 0.9472000002861023\n",
      "\n",
      "54\n",
      "loss = 0.16378043591976166\n",
      "accuracy = 0.9483000040054321\n",
      "\n",
      "55\n",
      "loss = 0.11559949815273285\n",
      "accuracy = 0.9488000273704529\n",
      "\n",
      "56\n",
      "loss = 0.12793579697608948\n",
      "accuracy = 0.9485999941825867\n",
      "\n",
      "57\n",
      "loss = 0.19458359479904175\n",
      "accuracy = 0.9487000107765198\n",
      "\n",
      "58\n",
      "loss = 0.13854798674583435\n",
      "accuracy = 0.9495000243186951\n",
      "\n",
      "59\n",
      "loss = 0.29858914017677307\n",
      "accuracy = 0.9505000114440918\n",
      "\n",
      "60\n",
      "loss = 0.09531941264867783\n",
      "accuracy = 0.9505000114440918\n",
      "\n",
      "61\n",
      "loss = 0.25123852491378784\n",
      "accuracy = 0.9513999819755554\n",
      "\n",
      "62\n",
      "loss = 0.10946771502494812\n",
      "accuracy = 0.9501000046730042\n",
      "\n",
      "63\n",
      "loss = 0.08902312070131302\n",
      "accuracy = 0.9513000249862671\n",
      "\n",
      "64\n",
      "loss = 0.1174495667219162\n",
      "accuracy = 0.9506000280380249\n",
      "\n",
      "65\n",
      "loss = 0.08676008880138397\n",
      "accuracy = 0.9513000249862671\n",
      "\n",
      "66\n",
      "loss = 0.17637477815151215\n",
      "accuracy = 0.9524999856948853\n",
      "\n",
      "67\n",
      "loss = 0.23541702330112457\n",
      "accuracy = 0.9524000287055969\n",
      "\n",
      "68\n",
      "loss = 0.11180847138166428\n",
      "accuracy = 0.9526000022888184\n",
      "\n",
      "69\n",
      "loss = 0.12916921079158783\n",
      "accuracy = 0.9544000029563904\n",
      "\n",
      "70\n",
      "loss = 0.09786872565746307\n",
      "accuracy = 0.9528999924659729\n",
      "\n",
      "71\n",
      "loss = 0.09633909165859222\n",
      "accuracy = 0.9538000226020813\n",
      "\n",
      "72\n",
      "loss = 0.166188046336174\n",
      "accuracy = 0.9537000060081482\n",
      "\n",
      "73\n",
      "loss = 0.1004081517457962\n",
      "accuracy = 0.954200029373169\n",
      "\n",
      "74\n",
      "loss = 0.15966904163360596\n",
      "accuracy = 0.955299973487854\n",
      "\n",
      "75\n",
      "loss = 0.0951337218284607\n",
      "accuracy = 0.9557999968528748\n",
      "\n",
      "76\n",
      "loss = 0.12944930791854858\n",
      "accuracy = 0.9556000232696533\n",
      "\n",
      "77\n",
      "loss = 0.1635323017835617\n",
      "accuracy = 0.9549999833106995\n",
      "\n",
      "78\n",
      "loss = 0.0981142446398735\n",
      "accuracy = 0.954200029373169\n",
      "\n",
      "79\n",
      "loss = 0.1609765589237213\n",
      "accuracy = 0.9559000134468079\n",
      "\n",
      "80\n",
      "loss = 0.17904900014400482\n",
      "accuracy = 0.9564999938011169\n",
      "\n",
      "81\n",
      "loss = 0.1355140656232834\n",
      "accuracy = 0.9567999839782715\n",
      "\n",
      "82\n",
      "loss = 0.23742422461509705\n",
      "accuracy = 0.9569000005722046\n",
      "\n",
      "83\n",
      "loss = 0.10337081551551819\n",
      "accuracy = 0.9569000005722046\n",
      "\n",
      "84\n",
      "loss = 0.09515877068042755\n",
      "accuracy = 0.9577000141143799\n",
      "\n",
      "85\n",
      "loss = 0.12265262752771378\n",
      "accuracy = 0.9581000208854675\n",
      "\n",
      "86\n",
      "loss = 0.06633923947811127\n",
      "accuracy = 0.9570000171661377\n",
      "\n",
      "87\n",
      "loss = 0.1766374260187149\n",
      "accuracy = 0.9581000208854675\n",
      "\n",
      "88\n",
      "loss = 0.10562913119792938\n",
      "accuracy = 0.9578999876976013\n",
      "\n",
      "89\n",
      "loss = 0.12365511059761047\n",
      "accuracy = 0.9580000042915344\n",
      "\n",
      "90\n",
      "loss = 0.23878467082977295\n",
      "accuracy = 0.9585000276565552\n",
      "\n",
      "91\n",
      "loss = 0.14592105150222778\n",
      "accuracy = 0.9575999975204468\n",
      "\n",
      "92\n",
      "loss = 0.05964161083102226\n",
      "accuracy = 0.9574999809265137\n",
      "\n",
      "93\n",
      "loss = 0.11063980311155319\n",
      "accuracy = 0.9578999876976013\n",
      "\n",
      "94\n",
      "loss = 0.04970027878880501\n",
      "accuracy = 0.9591000080108643\n",
      "\n",
      "95\n",
      "loss = 0.13492630422115326\n",
      "accuracy = 0.9593999981880188\n",
      "\n",
      "96\n",
      "loss = 0.07872387021780014\n",
      "accuracy = 0.9593999981880188\n",
      "\n",
      "97\n",
      "loss = 0.08715047687292099\n",
      "accuracy = 0.9599000215530396\n",
      "\n",
      "98\n",
      "loss = 0.14805427193641663\n",
      "accuracy = 0.958899974822998\n",
      "\n",
      "99\n",
      "loss = 0.09236843883991241\n",
      "accuracy = 0.9609000086784363\n",
      "\n",
      "100\n",
      "loss = 0.10970794409513474\n",
      "accuracy = 0.9599999785423279\n",
      "\n"
     ]
    }
   ],
   "source": [
    "session = tf.Session()\n",
    "session.run(tf.global_variables_initializer())\n",
    "\n",
    "test_data = {\n",
    "    x: mnist.test.images,\n",
    "    y: mnist.test.labels,\n",
    "    keep_prob: 1.0\n",
    "}\n",
    "\n",
    "for i in range(100):\n",
    "    print(i + 1)\n",
    "    for j in range(100):\n",
    "        images, labels = mnist.train.next_batch(batch_size)\n",
    "        data = {\n",
    "            x: images,\n",
    "            y: labels,\n",
    "            keep_prob: 0.5\n",
    "        }\n",
    "        session.run(train, feed_dict=data)\n",
    "    print('loss = {}'.format(session.run(loss, feed_dict=data)))\n",
    "    print('accuracy = {}'.format(session.run(accuracy, feed_dict=test_data)))\n",
    "    print()"
   ]
  },
  {
   "cell_type": "code",
   "execution_count": 13,
   "metadata": {},
   "outputs": [
    {
     "data": {
      "image/png": "[encoded data removed]",
      "text/plain": [
       "<matplotlib.figure.Figure at 0x10b339668>"
      ]
     },
     "metadata": {},
     "output_type": "display_data"
    }
   ],
   "source": [
    "draw_incorrect()"
   ]
  },
  {
   "cell_type": "markdown",
   "metadata": {},
   "source": [
    "Convolution\n",
    "\n",
    "[https://en.wikipedia.org/wiki/Kernel_(image_processing)](https://en.wikipedia.org/wiki/Kernel_%28image_processing%29)"
   ]
  },
  {
   "cell_type": "code",
   "execution_count": 14,
   "metadata": {},
   "outputs": [
    {
     "data": {
      "image/png": "[encoded data removed]",
      "text/plain": [
       "<matplotlib.figure.Figure at 0x122c0bba8>"
      ]
     },
     "metadata": {},
     "output_type": "display_data"
    }
   ],
   "source": [
    "# draw images\n",
    "\n",
    "def draw(images):\n",
    "    count = images.shape[0]\n",
    "    fig, axes = plt.subplots(1, count, figsize=(count * 2, 2))\n",
    "    for i in range(count):\n",
    "        axes[i].set_axis_off()\n",
    "        axes[i].imshow(images[i].reshape(28, 28), cmap='gray')\n",
    "    plt.show()\n",
    "\n",
    "draw(mnist.test.images[:5])"
   ]
  },
  {
   "cell_type": "code",
   "execution_count": 15,
   "metadata": {
    "scrolled": false
   },
   "outputs": [
    {
     "data": {
      "image/png": "[encoded data removed]",
      "text/plain": [
       "<matplotlib.figure.Figure at 0x1230ae400>"
      ]
     },
     "metadata": {},
     "output_type": "display_data"
    },
    {
     "data": {
      "image/png": "[encoded data removed]",
      "text/plain": [
       "<matplotlib.figure.Figure at 0x12313d550>"
      ]
     },
     "metadata": {},
     "output_type": "display_data"
    },
    {
     "data": {
      "image/png": "[encoded data removed]",
      "text/plain": [
       "<matplotlib.figure.Figure at 0x12324da58>"
      ]
     },
     "metadata": {},
     "output_type": "display_data"
    },
    {
     "data": {
      "image/png": "[encoded data removed]",
      "text/plain": [
       "<matplotlib.figure.Figure at 0x123349668>"
      ]
     },
     "metadata": {},
     "output_type": "display_data"
    }
   ],
   "source": [
    "# image processing\n",
    "\n",
    "x = tf.placeholder(tf.float32, [None, 28 * 28])\n",
    "\n",
    "kernels = [\n",
    "    # Edge detection\n",
    "    [\n",
    "        [-1.0, -1.0, -1.0],\n",
    "        [-1.0,  8.0, -1.0],\n",
    "        [-1.0, -1.0, -1.0]\n",
    "    ],\n",
    "    # Sharpen\n",
    "    [\n",
    "        [ 0.0, -1.0,  0.0],\n",
    "        [-1.0,  5.0, -1.0],\n",
    "        [ 0.0, -1.0,  0.0]\n",
    "    ],\n",
    "    # Gaussian blur\n",
    "    [\n",
    "        [1 / 16, 2 / 16, 1 / 16],\n",
    "        [2 / 16, 4 / 16, 2 / 16],\n",
    "        [1 / 16, 2 / 16, 1 / 16]\n",
    "    ]\n",
    "]\n",
    "\n",
    "w = np.stack([np.array(i).reshape(3, 3, 1) for i in kernels], axis=3)\n",
    "\n",
    "xx = tf.reshape(x, [-1, 28, 28, 1])\n",
    "\n",
    "y = tf.nn.conv2d(xx, w,\n",
    "                 strides=[1, 1, 1, 1], padding='SAME')\n",
    "\n",
    "images = mnist.train.images[:5]\n",
    "\n",
    "new_images = session.run(y, feed_dict={ x: images })\n",
    "\n",
    "draw(images)\n",
    "\n",
    "for i in range(3):\n",
    "    draw(new_images.take(i, axis=3).reshape([-1, 28 * 28]))"
   ]
  },
  {
   "cell_type": "code",
   "execution_count": 16,
   "metadata": {},
   "outputs": [
    {
     "data": {
      "text/plain": [
       "array([[1, 2, 3],\n",
       "       [4, 5, 6]])"
      ]
     },
     "execution_count": 16,
     "metadata": {},
     "output_type": "execute_result"
    }
   ],
   "source": [
    "np.stack([[1, 2, 3], [4, 5, 6]], axis=0)"
   ]
  },
  {
   "cell_type": "code",
   "execution_count": 17,
   "metadata": {},
   "outputs": [
    {
     "data": {
      "text/plain": [
       "array([[1, 4],\n",
       "       [2, 5],\n",
       "       [3, 6]])"
      ]
     },
     "execution_count": 17,
     "metadata": {},
     "output_type": "execute_result"
    }
   ],
   "source": [
    "np.stack([[1, 2, 3], [4, 5, 6]], axis=1)"
   ]
  },
  {
   "cell_type": "code",
   "execution_count": 18,
   "metadata": {},
   "outputs": [
    {
     "data": {
      "text/plain": [
       "array([[[-1.],\n",
       "        [-1.],\n",
       "        [-1.]],\n",
       "\n",
       "       [[-1.],\n",
       "        [ 8.],\n",
       "        [-1.]],\n",
       "\n",
       "       [[-1.],\n",
       "        [-1.],\n",
       "        [-1.]]])"
      ]
     },
     "execution_count": 18,
     "metadata": {},
     "output_type": "execute_result"
    }
   ],
   "source": [
    "w.take(0, axis=3)"
   ]
  },
  {
   "cell_type": "code",
   "execution_count": 19,
   "metadata": {
    "collapsed": true
   },
   "outputs": [],
   "source": [
    "# https://www.tensorflow.org/api_docs/python/tf/nn/conv2d\n",
    "\n",
    "def conv(x, in_ch, out_ch):\n",
    "    w = tf.Variable(random([5, 5, in_ch, out_ch]))\n",
    "    b = tf.Variable(random([out_ch]))\n",
    "    return tf.nn.conv2d(x, w, strides=[1, 1, 1, 1], padding='SAME') \\\n",
    "           + b # 눈에 띄게 하려고 다음 줄로 넘김 :)"
   ]
  },
  {
   "cell_type": "code",
   "execution_count": 20,
   "metadata": {
    "collapsed": true
   },
   "outputs": [],
   "source": [
    "# https://www.tensorflow.org/api_docs/python/tf/nn/max_pool\n",
    "\n",
    "def pool(x):\n",
    "    return tf.nn.max_pool(x, ksize=[1, 2, 2, 1], strides=[1, 2, 2, 1], padding='SAME')"
   ]
  },
  {
   "cell_type": "code",
   "execution_count": 21,
   "metadata": {
    "collapsed": true
   },
   "outputs": [],
   "source": [
    "x = tf.placeholder(tf.float32, [None, 28 * 28])\n",
    "y = tf.placeholder(tf.int64, [None])\n",
    "keep_prob = tf.placeholder(tf.float32)\n",
    "\n",
    "xx = tf.reshape(x, [-1, 28, 28, 1])\n",
    "z1 = conv(xx, 1, 4)\n",
    "z2 = pool(z1)\n",
    "z3 = conv(z2, 4, 8)\n",
    "z4 = pool(z3)\n",
    "\n",
    "fc_size = 7 * 7 * 8\n",
    "fc_z = tf.reshape(z4, [-1, fc_size])\n",
    "\n",
    "h_z = layer(fc_z, fc_size, 200, tf.nn.relu)\n",
    "drop = tf.nn.dropout(h_z, keep_prob)\n",
    "z = layer(drop, 200, 10, tf.nn.softmax)\n",
    "\n",
    "loss = cost(tf.one_hot(y, 10), z)\n",
    "\n",
    "train = tf.train.AdamOptimizer(0.0001).minimize(loss)"
   ]
  },
  {
   "cell_type": "code",
   "execution_count": 22,
   "metadata": {
    "collapsed": true
   },
   "outputs": [],
   "source": [
    "predict = tf.argmax(z, axis=1)\n",
    "correct = tf.equal(predict, y)\n",
    "accuracy = tf.reduce_mean(tf.cast(correct, tf.float32))"
   ]
  },
  {
   "cell_type": "code",
   "execution_count": 23,
   "metadata": {
    "scrolled": false
   },
   "outputs": [
    {
     "name": "stdout",
     "output_type": "stream",
     "text": [
      "1\n",
      "loss = 2.049105644226074\n",
      "accuracy = 0.5390999913215637\n",
      "\n",
      "2\n",
      "loss = 1.5817517042160034\n",
      "accuracy = 0.7337999939918518\n",
      "\n",
      "3\n",
      "loss = 0.9900250434875488\n",
      "accuracy = 0.8113999962806702\n",
      "\n",
      "4\n",
      "loss = 0.8993934392929077\n",
      "accuracy = 0.8492000102996826\n",
      "\n",
      "5\n",
      "loss = 0.6145815849304199\n",
      "accuracy = 0.8708000183105469\n",
      "\n",
      "6\n",
      "loss = 0.7389550805091858\n",
      "accuracy = 0.8827999830245972\n",
      "\n",
      "7\n",
      "loss = 0.5587338805198669\n",
      "accuracy = 0.8953999876976013\n",
      "\n",
      "8\n",
      "loss = 0.5174174308776855\n",
      "accuracy = 0.9021999835968018\n",
      "\n",
      "9\n",
      "loss = 0.5890480875968933\n",
      "accuracy = 0.9063000082969666\n",
      "\n",
      "10\n",
      "loss = 0.4237896800041199\n",
      "accuracy = 0.9092000126838684\n",
      "\n",
      "11\n",
      "loss = 0.2735954523086548\n",
      "accuracy = 0.9125999808311462\n",
      "\n",
      "12\n",
      "loss = 0.3008754849433899\n",
      "accuracy = 0.9132999777793884\n",
      "\n",
      "13\n",
      "loss = 0.30178776383399963\n",
      "accuracy = 0.9214000105857849\n",
      "\n",
      "14\n",
      "loss = 0.31777268648147583\n",
      "accuracy = 0.9240000247955322\n",
      "\n",
      "15\n",
      "loss = 0.33925220370292664\n",
      "accuracy = 0.9261999726295471\n",
      "\n",
      "16\n",
      "loss = 0.34720396995544434\n",
      "accuracy = 0.9293000102043152\n",
      "\n",
      "17\n",
      "loss = 0.34815797209739685\n",
      "accuracy = 0.930899977684021\n",
      "\n",
      "18\n",
      "loss = 0.40437713265419006\n",
      "accuracy = 0.9337000250816345\n",
      "\n",
      "19\n",
      "loss = 0.1926528364419937\n",
      "accuracy = 0.9369000196456909\n",
      "\n",
      "20\n",
      "loss = 0.21479468047618866\n",
      "accuracy = 0.9366999864578247\n",
      "\n",
      "21\n",
      "loss = 0.2382611781358719\n",
      "accuracy = 0.9394999742507935\n",
      "\n",
      "22\n",
      "loss = 0.238303542137146\n",
      "accuracy = 0.9405999779701233\n",
      "\n",
      "23\n",
      "loss = 0.2753603458404541\n",
      "accuracy = 0.942300021648407\n",
      "\n",
      "24\n",
      "loss = 0.2032652050256729\n",
      "accuracy = 0.9430999755859375\n",
      "\n",
      "25\n",
      "loss = 0.19712910056114197\n",
      "accuracy = 0.9433000087738037\n",
      "\n",
      "26\n",
      "loss = 0.2819472849369049\n",
      "accuracy = 0.9455999732017517\n",
      "\n",
      "27\n",
      "loss = 0.26842373609542847\n",
      "accuracy = 0.9466000199317932\n",
      "\n",
      "28\n",
      "loss = 0.23850515484809875\n",
      "accuracy = 0.9476000070571899\n",
      "\n",
      "29\n",
      "loss = 0.15652786195278168\n",
      "accuracy = 0.9490000009536743\n",
      "\n",
      "30\n",
      "loss = 0.2777491509914398\n",
      "accuracy = 0.9491000175476074\n",
      "\n",
      "31\n",
      "loss = 0.14905411005020142\n",
      "accuracy = 0.9495000243186951\n",
      "\n",
      "32\n",
      "loss = 0.43403953313827515\n",
      "accuracy = 0.9510999917984009\n",
      "\n",
      "33\n",
      "loss = 0.23088736832141876\n",
      "accuracy = 0.9513000249862671\n",
      "\n",
      "34\n",
      "loss = 0.25205618143081665\n",
      "accuracy = 0.951200008392334\n",
      "\n",
      "35\n",
      "loss = 0.22422054409980774\n",
      "accuracy = 0.9521999955177307\n",
      "\n",
      "36\n",
      "loss = 0.35325053334236145\n",
      "accuracy = 0.9531999826431274\n",
      "\n",
      "37\n",
      "loss = 0.1714971959590912\n",
      "accuracy = 0.954800009727478\n",
      "\n",
      "38\n",
      "loss = 0.1625339835882187\n",
      "accuracy = 0.955299973487854\n",
      "\n",
      "39\n",
      "loss = 0.22757239639759064\n",
      "accuracy = 0.955299973487854\n",
      "\n",
      "40\n",
      "loss = 0.2803831100463867\n",
      "accuracy = 0.9562000036239624\n",
      "\n",
      "41\n",
      "loss = 0.16439037024974823\n",
      "accuracy = 0.9580000042915344\n",
      "\n",
      "42\n",
      "loss = 0.28473469614982605\n",
      "accuracy = 0.9587000012397766\n",
      "\n",
      "43\n",
      "loss = 0.09905310720205307\n",
      "accuracy = 0.9591000080108643\n",
      "\n",
      "44\n",
      "loss = 0.2429983764886856\n",
      "accuracy = 0.958899974822998\n",
      "\n",
      "45\n",
      "loss = 0.1766587793827057\n",
      "accuracy = 0.9591000080108643\n",
      "\n",
      "46\n",
      "loss = 0.2521438002586365\n",
      "accuracy = 0.9595000147819519\n",
      "\n",
      "47\n",
      "loss = 0.3116614818572998\n",
      "accuracy = 0.9598000049591064\n",
      "\n",
      "48\n",
      "loss = 0.10984699428081512\n",
      "accuracy = 0.9623000025749207\n",
      "\n",
      "49\n",
      "loss = 0.4088858366012573\n",
      "accuracy = 0.9616000056266785\n",
      "\n",
      "50\n",
      "loss = 0.11269565671682358\n",
      "accuracy = 0.9614999890327454\n",
      "\n",
      "51\n",
      "loss = 0.19251006841659546\n",
      "accuracy = 0.9617000222206116\n",
      "\n",
      "52\n",
      "loss = 0.19250786304473877\n",
      "accuracy = 0.9623000025749207\n",
      "\n",
      "53\n",
      "loss = 0.1845230907201767\n",
      "accuracy = 0.9634000062942505\n",
      "\n",
      "54\n",
      "loss = 0.16230592131614685\n",
      "accuracy = 0.9634000062942505\n",
      "\n",
      "55\n",
      "loss = 0.1478859931230545\n",
      "accuracy = 0.9646999835968018\n",
      "\n",
      "56\n",
      "loss = 0.17617373168468475\n",
      "accuracy = 0.9642999768257141\n",
      "\n",
      "57\n",
      "loss = 0.19064228236675262\n",
      "accuracy = 0.9639000296592712\n",
      "\n",
      "58\n",
      "loss = 0.13840602338314056\n",
      "accuracy = 0.9656000137329102\n",
      "\n",
      "59\n",
      "loss = 0.17432354390621185\n",
      "accuracy = 0.9656000137329102\n",
      "\n",
      "60\n",
      "loss = 0.15732929110527039\n",
      "accuracy = 0.9659000039100647\n",
      "\n",
      "61\n",
      "loss = 0.18061047792434692\n",
      "accuracy = 0.9672999978065491\n",
      "\n",
      "62\n",
      "loss = 0.0904642641544342\n",
      "accuracy = 0.967199981212616\n",
      "\n",
      "63\n",
      "loss = 0.09005425125360489\n",
      "accuracy = 0.9677000045776367\n",
      "\n",
      "64\n",
      "loss = 0.08480329811573029\n",
      "accuracy = 0.967199981212616\n",
      "\n",
      "65\n",
      "loss = 0.23071704804897308\n",
      "accuracy = 0.9681000113487244\n",
      "\n",
      "66\n",
      "loss = 0.15681380033493042\n",
      "accuracy = 0.9684000015258789\n",
      "\n",
      "67\n",
      "loss = 0.19092082977294922\n",
      "accuracy = 0.9686999917030334\n",
      "\n",
      "68\n",
      "loss = 0.19227612018585205\n",
      "accuracy = 0.9685999751091003\n",
      "\n",
      "69\n",
      "loss = 0.15292060375213623\n",
      "accuracy = 0.9702000021934509\n",
      "\n",
      "70\n",
      "loss = 0.2153041958808899\n",
      "accuracy = 0.968500018119812\n",
      "\n",
      "71\n",
      "loss = 0.051350031048059464\n",
      "accuracy = 0.968999981880188\n",
      "\n",
      "72\n",
      "loss = 0.13469909131526947\n",
      "accuracy = 0.9695000052452087\n",
      "\n",
      "73\n",
      "loss = 0.1583307683467865\n",
      "accuracy = 0.9711999893188477\n",
      "\n",
      "74\n",
      "loss = 0.13639764487743378\n",
      "accuracy = 0.9693999886512756\n",
      "\n",
      "75\n",
      "loss = 0.13625794649124146\n",
      "accuracy = 0.9710999727249146\n",
      "\n",
      "76\n",
      "loss = 0.08824225515127182\n",
      "accuracy = 0.9710999727249146\n",
      "\n",
      "77\n",
      "loss = 0.09731730818748474\n",
      "accuracy = 0.9711999893188477\n",
      "\n",
      "78\n",
      "loss = 0.12702926993370056\n",
      "accuracy = 0.9708999991416931\n",
      "\n",
      "79\n",
      "loss = 0.20570239424705505\n",
      "accuracy = 0.9703999757766724\n",
      "\n",
      "80\n",
      "loss = 0.22142596542835236\n",
      "accuracy = 0.9718999862670898\n",
      "\n",
      "81\n",
      "loss = 0.11769495159387589\n",
      "accuracy = 0.9725000262260437\n",
      "\n",
      "82\n",
      "loss = 0.24876800179481506\n",
      "accuracy = 0.97079998254776\n",
      "\n",
      "83\n",
      "loss = 0.13277052342891693\n",
      "accuracy = 0.9726999998092651\n",
      "\n",
      "84\n",
      "loss = 0.13322529196739197\n",
      "accuracy = 0.972000002861023\n",
      "\n",
      "85\n",
      "loss = 0.09909556061029434\n",
      "accuracy = 0.9728999733924866\n",
      "\n",
      "86\n",
      "loss = 0.2142881453037262\n",
      "accuracy = 0.9733999967575073\n",
      "\n",
      "87\n",
      "loss = 0.14488007128238678\n",
      "accuracy = 0.9739999771118164\n",
      "\n",
      "88\n",
      "loss = 0.13776473701000214\n",
      "accuracy = 0.9735000133514404\n",
      "\n",
      "89\n",
      "loss = 0.12091738730669022\n",
      "accuracy = 0.9721999764442444\n",
      "\n",
      "90\n",
      "loss = 0.06364423781633377\n",
      "accuracy = 0.9745000004768372\n",
      "\n",
      "91\n",
      "loss = 0.20026664435863495\n",
      "accuracy = 0.9745000004768372\n",
      "\n",
      "92\n",
      "loss = 0.11202285438776016\n",
      "accuracy = 0.9739999771118164\n",
      "\n",
      "93\n",
      "loss = 0.1657560020685196\n",
      "accuracy = 0.9743000268936157\n",
      "\n",
      "94\n",
      "loss = 0.08818136900663376\n",
      "accuracy = 0.9745000004768372\n",
      "\n",
      "95\n",
      "loss = 0.08044576644897461\n",
      "accuracy = 0.9749000072479248\n",
      "\n",
      "96\n",
      "loss = 0.14378829300403595\n",
      "accuracy = 0.9761999845504761\n",
      "\n",
      "97\n",
      "loss = 0.13063178956508636\n",
      "accuracy = 0.9765999913215637\n",
      "\n",
      "98\n",
      "loss = 0.07976806908845901\n",
      "accuracy = 0.975600004196167\n",
      "\n",
      "99\n",
      "loss = 0.07826623320579529\n",
      "accuracy = 0.975600004196167\n",
      "\n",
      "100\n",
      "loss = 0.21655847132205963\n",
      "accuracy = 0.9757999777793884\n",
      "\n"
     ]
    }
   ],
   "source": [
    "session = tf.Session()\n",
    "session.run(tf.global_variables_initializer())\n",
    "\n",
    "test_data = {\n",
    "    x: mnist.test.images,\n",
    "    y: mnist.test.labels,\n",
    "    keep_prob: 1.0\n",
    "}\n",
    "\n",
    "for i in range(100):\n",
    "    print(i + 1)\n",
    "    for j in range(100):\n",
    "        images, labels = mnist.train.next_batch(batch_size)\n",
    "        data = {\n",
    "            x: images,\n",
    "            y: labels,\n",
    "            keep_prob: 0.5\n",
    "        }\n",
    "        session.run(train, feed_dict=data)\n",
    "    print('loss = {}'.format(session.run(loss, feed_dict=data)))\n",
    "    print('accuracy = {}'.format(session.run(accuracy, feed_dict=test_data)))\n",
    "    print()"
   ]
  },
  {
   "cell_type": "code",
   "execution_count": 24,
   "metadata": {},
   "outputs": [
    {
     "data": {
      "image/png": "[encoded data removed]",
      "text/plain": [
       "<matplotlib.figure.Figure at 0x1231608d0>"
      ]
     },
     "metadata": {},
     "output_type": "display_data"
    }
   ],
   "source": [
    "draw_incorrect()"
   ]
  },
  {
   "cell_type": "code",
   "execution_count": 25,
   "metadata": {
    "scrolled": false
   },
   "outputs": [
    {
     "name": "stdout",
     "output_type": "stream",
     "text": [
      "7\n"
     ]
    },
    {
     "data": {
      "image/png": "[encoded data removed]",
      "text/plain": [
       "<matplotlib.figure.Figure at 0x11c426128>"
      ]
     },
     "metadata": {},
     "output_type": "display_data"
    },
    {
     "name": "stdout",
     "output_type": "stream",
     "text": [
      "2\n"
     ]
    },
    {
     "data": {
      "image/png": "[encoded data removed]",
      "text/plain": [
       "<matplotlib.figure.Figure at 0x11d2bcac8>"
      ]
     },
     "metadata": {},
     "output_type": "display_data"
    },
    {
     "name": "stdout",
     "output_type": "stream",
     "text": [
      "1\n"
     ]
    },
    {
     "data": {
      "image/png": "[encoded data removed]",
      "text/plain": [
       "<matplotlib.figure.Figure at 0x1236aa198>"
      ]
     },
     "metadata": {},
     "output_type": "display_data"
    },
    {
     "name": "stdout",
     "output_type": "stream",
     "text": [
      "0\n"
     ]
    },
    {
     "data": {
      "image/png": "[encoded data removed]",
      "text/plain": [
       "<matplotlib.figure.Figure at 0x122aa0c18>"
      ]
     },
     "metadata": {},
     "output_type": "display_data"
    },
    {
     "name": "stdout",
     "output_type": "stream",
     "text": [
      "4\n"
     ]
    },
    {
     "data": {
      "image/png": "[encoded data removed]",
      "text/plain": [
       "<matplotlib.figure.Figure at 0x1230b6550>"
      ]
     },
     "metadata": {},
     "output_type": "display_data"
    }
   ],
   "source": [
    "images = mnist.test.images[:5]\n",
    "labels = mnist.test.labels[:5]\n",
    "\n",
    "test_data = {\n",
    "    x: images,\n",
    "    keep_prob: 1.0\n",
    "}\n",
    "\n",
    "features = session.run(z4, feed_dict=test_data)\n",
    "\n",
    "for index in range(5):\n",
    "    print(labels[index])\n",
    "    fig, axes = plt.subplots(3, 3, figsize=(3, 3))\n",
    "    for i, ax in enumerate(axes.flat):\n",
    "        ax.set_axis_off()\n",
    "        if i == 0:\n",
    "            ax.imshow(images[index].reshape(28, 28), cmap='gray')\n",
    "        else:\n",
    "            ax.imshow(features[index, :, :, i - 1], cmap='gray')\n",
    "    plt.show()"
   ]
  }
 ],
 "metadata": {
  "kernelspec": {
   "display_name": "Python 3",
   "language": "python",
   "name": "python3"
  },
  "language_info": {
   "codemirror_mode": {
    "name": "ipython",
    "version": 3
   },
   "file_extension": ".py",
   "mimetype": "text/x-python",
   "name": "python",
   "nbconvert_exporter": "python",
   "pygments_lexer": "ipython3",
   "version": "3.6.1"
  }
 },
 "nbformat": 4,
 "nbformat_minor": 2
}
