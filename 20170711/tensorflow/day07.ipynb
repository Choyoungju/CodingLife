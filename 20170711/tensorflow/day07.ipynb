{
 "cells": [
  {
   "cell_type": "code",
   "execution_count": 1,
   "metadata": {
    "collapsed": true
   },
   "outputs": [],
   "source": [
    "import numpy as np\n",
    "import tensorflow as tf\n",
    "import matplotlib.pyplot as plt"
   ]
  },
  {
   "cell_type": "code",
   "execution_count": 2,
   "metadata": {},
   "outputs": [
    {
     "name": "stdout",
     "output_type": "stream",
     "text": [
      "Extracting data/train-images-idx3-ubyte.gz\n",
      "Extracting data/train-labels-idx1-ubyte.gz\n",
      "Extracting data/t10k-images-idx3-ubyte.gz\n",
      "Extracting data/t10k-labels-idx1-ubyte.gz\n"
     ]
    }
   ],
   "source": [
    "from tensorflow.examples.tutorials.mnist import input_data\n",
    "\n",
    "mnist = input_data.read_data_sets('data')"
   ]
  },
  {
   "cell_type": "code",
   "execution_count": 3,
   "metadata": {
    "collapsed": true
   },
   "outputs": [],
   "source": [
    "learning_rate = 0.05\n",
    "batch_size = 100\n",
    "\n",
    "# num_channels = [4, 8]"
   ]
  },
  {
   "cell_type": "code",
   "execution_count": 4,
   "metadata": {},
   "outputs": [
    {
     "data": {
      "text/plain": [
       "550.0"
      ]
     },
     "execution_count": 4,
     "metadata": {},
     "output_type": "execute_result"
    }
   ],
   "source": [
    "mnist.train.labels.shape[0] / batch_size"
   ]
  },
  {
   "cell_type": "code",
   "execution_count": 5,
   "metadata": {
    "collapsed": true
   },
   "outputs": [],
   "source": [
    "def random(shape):\n",
    "    return tf.truncated_normal(shape, stddev=0.1)"
   ]
  },
  {
   "cell_type": "code",
   "execution_count": 6,
   "metadata": {
    "collapsed": true
   },
   "outputs": [],
   "source": [
    "def layer(x, in_size, out_size, activation):\n",
    "    w = tf.Variable(random([in_size, out_size]))\n",
    "    b = tf.Variable(random([out_size]))\n",
    "    u = tf.matmul(x, w) + b\n",
    "    return activation(u)"
   ]
  },
  {
   "cell_type": "code",
   "execution_count": 7,
   "metadata": {
    "collapsed": true
   },
   "outputs": [],
   "source": [
    "def cost(y, z):\n",
    "    cross_entropy = -tf.reduce_sum(y * tf.log(z), axis=1)\n",
    "    return tf.reduce_mean(cross_entropy)"
   ]
  },
  {
   "cell_type": "code",
   "execution_count": 8,
   "metadata": {
    "collapsed": true,
    "scrolled": false
   },
   "outputs": [],
   "source": [
    "def draw_incorrect():\n",
    "    images = mnist.test.images\n",
    "    labels = mnist.test.labels\n",
    "\n",
    "    p, c = session.run([predict, correct], feed_dict=test_data)\n",
    "\n",
    "    fig, axes = plt.subplots(5, 5, figsize=(10, 10))\n",
    "\n",
    "    for i, ax in zip(np.arange(len(c))[~c][:25], axes.flat):\n",
    "        ax.set_axis_off()\n",
    "        ax.imshow(images[i].reshape(28, 28))\n",
    "        ax.set_title('P {}, R {}'.format(p[i], labels[i]))\n",
    "\n",
    "    plt.show()"
   ]
  },
  {
   "cell_type": "code",
   "execution_count": 9,
   "metadata": {
    "collapsed": true
   },
   "outputs": [],
   "source": [
    "x = tf.placeholder(tf.float32, [None, 28 * 28])\n",
    "y = tf.placeholder(tf.int64, [None])\n",
    "keep_prob = tf.placeholder(tf.float32)\n",
    "\n",
    "z1 = layer(x, 28 * 28, 100, tf.nn.relu) # hidden layer 1: 764 -> 100\n",
    "z2 = layer(z1, 100, 50, tf.nn.relu) # hidden layer 2: 100 -> 50\n",
    "drop = tf.nn.dropout(z2, keep_prob)\n",
    "z = layer(z2, 50, 10, tf.nn.softmax) # output layer: 50 -> 10\n",
    "\n",
    "loss = cost(tf.one_hot(y, 10), z)\n",
    "\n",
    "train = tf.train.AdamOptimizer(0.0001).minimize(loss)"
   ]
  },
  {
   "cell_type": "code",
   "execution_count": 10,
   "metadata": {},
   "outputs": [
    {
     "data": {
      "text/plain": [
       "(TensorShape([Dimension(None), Dimension(100)]),\n",
       " TensorShape([Dimension(None), Dimension(50)]),\n",
       " TensorShape([Dimension(None), Dimension(10)]))"
      ]
     },
     "execution_count": 10,
     "metadata": {},
     "output_type": "execute_result"
    }
   ],
   "source": [
    "z1.shape, z2.shape, z.shape"
   ]
  },
  {
   "cell_type": "code",
   "execution_count": 11,
   "metadata": {
    "collapsed": true
   },
   "outputs": [],
   "source": [
    "predict = tf.argmax(z, axis=1) # 정답 예측\n",
    "correct = tf.equal(predict, y) # 정답 여부 (True, False, True, False ...)\n",
    "accuracy = tf.reduce_mean(tf.cast(correct, tf.float32)) # 정답률"
   ]
  },
  {
   "cell_type": "code",
   "execution_count": 12,
   "metadata": {
    "scrolled": false
   },
   "outputs": [
    {
     "name": "stdout",
     "output_type": "stream",
     "text": [
      "1\n",
      "loss = 1.974637508392334\n",
      "accuracy = 0.4147999882698059\n",
      "\n",
      "2\n",
      "loss = 1.3924264907836914\n",
      "accuracy = 0.7232000231742859\n",
      "\n",
      "3\n",
      "loss = 1.032596468925476\n",
      "accuracy = 0.8149999976158142\n",
      "\n",
      "4\n",
      "loss = 0.6422448754310608\n",
      "accuracy = 0.8550999760627747\n",
      "\n",
      "5\n",
      "loss = 0.5267520546913147\n",
      "accuracy = 0.8701000213623047\n",
      "\n",
      "6\n",
      "loss = 0.4804547131061554\n",
      "accuracy = 0.8838000297546387\n",
      "\n",
      "7\n",
      "loss = 0.3692110478878021\n",
      "accuracy = 0.892300009727478\n",
      "\n",
      "8\n",
      "loss = 0.4513112008571625\n",
      "accuracy = 0.8982999920845032\n",
      "\n",
      "9\n",
      "loss = 0.394948810338974\n",
      "accuracy = 0.9023000001907349\n",
      "\n",
      "10\n",
      "loss = 0.3816797137260437\n",
      "accuracy = 0.9067999720573425\n",
      "\n",
      "11\n",
      "loss = 0.5303075313568115\n",
      "accuracy = 0.9093999862670898\n",
      "\n",
      "12\n",
      "loss = 0.3529307246208191\n",
      "accuracy = 0.9124000072479248\n",
      "\n",
      "13\n",
      "loss = 0.338622510433197\n",
      "accuracy = 0.913100004196167\n",
      "\n",
      "14\n",
      "loss = 0.2538926601409912\n",
      "accuracy = 0.9153000116348267\n",
      "\n",
      "15\n",
      "loss = 0.3401492238044739\n",
      "accuracy = 0.9182999730110168\n",
      "\n",
      "16\n",
      "loss = 0.31226298213005066\n",
      "accuracy = 0.9215999841690063\n",
      "\n",
      "17\n",
      "loss = 0.31699591875076294\n",
      "accuracy = 0.9228000044822693\n",
      "\n",
      "18\n",
      "loss = 0.237019345164299\n",
      "accuracy = 0.9233999848365784\n",
      "\n",
      "19\n",
      "loss = 0.29349032044410706\n",
      "accuracy = 0.9243999719619751\n",
      "\n",
      "20\n",
      "loss = 0.2804381549358368\n",
      "accuracy = 0.927299976348877\n",
      "\n",
      "21\n",
      "loss = 0.378070592880249\n",
      "accuracy = 0.9277999997138977\n",
      "\n",
      "22\n",
      "loss = 0.15037274360656738\n",
      "accuracy = 0.9287999868392944\n",
      "\n",
      "23\n",
      "loss = 0.31816351413726807\n",
      "accuracy = 0.930899977684021\n",
      "\n",
      "24\n",
      "loss = 0.21831724047660828\n",
      "accuracy = 0.9311000108718872\n",
      "\n",
      "25\n",
      "loss = 0.4713606536388397\n",
      "accuracy = 0.9332000017166138\n",
      "\n",
      "26\n",
      "loss = 0.20773740112781525\n",
      "accuracy = 0.9348000288009644\n",
      "\n",
      "27\n",
      "loss = 0.27315089106559753\n",
      "accuracy = 0.9336000084877014\n",
      "\n",
      "28\n",
      "loss = 0.2637217044830322\n",
      "accuracy = 0.9347000122070312\n",
      "\n",
      "29\n",
      "loss = 0.15908117592334747\n",
      "accuracy = 0.9368000030517578\n",
      "\n",
      "30\n",
      "loss = 0.19249556958675385\n",
      "accuracy = 0.9366000294685364\n",
      "\n",
      "31\n",
      "loss = 0.26191940903663635\n",
      "accuracy = 0.9372000098228455\n",
      "\n",
      "32\n",
      "loss = 0.33727049827575684\n",
      "accuracy = 0.9386000037193298\n",
      "\n",
      "33\n",
      "loss = 0.2272537350654602\n",
      "accuracy = 0.9398000240325928\n",
      "\n",
      "34\n",
      "loss = 0.16105251014232635\n",
      "accuracy = 0.9404000043869019\n",
      "\n",
      "35\n",
      "loss = 0.23298554122447968\n",
      "accuracy = 0.9405999779701233\n",
      "\n",
      "36\n",
      "loss = 0.2238469272851944\n",
      "accuracy = 0.9399999976158142\n",
      "\n",
      "37\n",
      "loss = 0.1934223175048828\n",
      "accuracy = 0.9419999718666077\n",
      "\n",
      "38\n",
      "loss = 0.23592811822891235\n",
      "accuracy = 0.9412999749183655\n",
      "\n",
      "39\n",
      "loss = 0.24907921254634857\n",
      "accuracy = 0.9419000148773193\n",
      "\n",
      "40\n",
      "loss = 0.25628653168678284\n",
      "accuracy = 0.9438999891281128\n",
      "\n",
      "41\n",
      "loss = 0.20033146440982819\n",
      "accuracy = 0.9419000148773193\n",
      "\n",
      "42\n",
      "loss = 0.23023349046707153\n",
      "accuracy = 0.9435999989509583\n",
      "\n",
      "43\n",
      "loss = 0.12967772781848907\n",
      "accuracy = 0.9452999830245972\n",
      "\n",
      "44\n",
      "loss = 0.08837001770734787\n",
      "accuracy = 0.9437000155448914\n",
      "\n",
      "45\n",
      "loss = 0.21024423837661743\n",
      "accuracy = 0.9455000162124634\n",
      "\n",
      "46\n",
      "loss = 0.11933912336826324\n",
      "accuracy = 0.945900022983551\n",
      "\n",
      "47\n",
      "loss = 0.15795743465423584\n",
      "accuracy = 0.9473999738693237\n",
      "\n",
      "48\n",
      "loss = 0.2525936961174011\n",
      "accuracy = 0.945900022983551\n",
      "\n",
      "49\n",
      "loss = 0.17760010063648224\n",
      "accuracy = 0.9473000168800354\n",
      "\n",
      "50\n",
      "loss = 0.4034677743911743\n",
      "accuracy = 0.946399986743927\n",
      "\n",
      "51\n",
      "loss = 0.17015652358531952\n",
      "accuracy = 0.9473999738693237\n",
      "\n",
      "52\n",
      "loss = 0.22541868686676025\n",
      "accuracy = 0.9480999708175659\n",
      "\n",
      "53\n",
      "loss = 0.16109547019004822\n",
      "accuracy = 0.9490000009536743\n",
      "\n",
      "54\n",
      "loss = 0.22225065529346466\n",
      "accuracy = 0.9508000016212463\n",
      "\n",
      "55\n",
      "loss = 0.12234480679035187\n",
      "accuracy = 0.9501000046730042\n",
      "\n",
      "56\n",
      "loss = 0.2614520788192749\n",
      "accuracy = 0.9491000175476074\n",
      "\n",
      "57\n",
      "loss = 0.08192429691553116\n",
      "accuracy = 0.9502000212669373\n",
      "\n",
      "58\n",
      "loss = 0.12941136956214905\n",
      "accuracy = 0.9501000046730042\n",
      "\n",
      "59\n",
      "loss = 0.16332530975341797\n",
      "accuracy = 0.9520000219345093\n",
      "\n",
      "60\n",
      "loss = 0.17468474805355072\n",
      "accuracy = 0.9510999917984009\n",
      "\n",
      "61\n",
      "loss = 0.14170701801776886\n",
      "accuracy = 0.9513000249862671\n",
      "\n",
      "62\n",
      "loss = 0.18704575300216675\n",
      "accuracy = 0.9532999992370605\n",
      "\n",
      "63\n",
      "loss = 0.13498477637767792\n",
      "accuracy = 0.9526000022888184\n",
      "\n",
      "64\n",
      "loss = 0.2845821678638458\n",
      "accuracy = 0.9519000053405762\n",
      "\n",
      "65\n",
      "loss = 0.09602776169776917\n",
      "accuracy = 0.9527999758720398\n",
      "\n",
      "66\n",
      "loss = 0.12681162357330322\n",
      "accuracy = 0.9527000188827515\n",
      "\n",
      "67\n",
      "loss = 0.22338172793388367\n",
      "accuracy = 0.9535999894142151\n",
      "\n",
      "68\n",
      "loss = 0.10352442413568497\n",
      "accuracy = 0.9531000256538391\n",
      "\n",
      "69\n",
      "loss = 0.13648755848407745\n",
      "accuracy = 0.9539999961853027\n",
      "\n",
      "70\n",
      "loss = 0.09884916990995407\n",
      "accuracy = 0.9542999863624573\n",
      "\n",
      "71\n",
      "loss = 0.1281789392232895\n",
      "accuracy = 0.9556999802589417\n",
      "\n",
      "72\n",
      "loss = 0.3142487406730652\n",
      "accuracy = 0.9556999802589417\n",
      "\n",
      "73\n",
      "loss = 0.11642919480800629\n",
      "accuracy = 0.9538999795913696\n",
      "\n",
      "74\n",
      "loss = 0.1440373957157135\n",
      "accuracy = 0.9552000164985657\n",
      "\n",
      "75\n",
      "loss = 0.19240827858448029\n",
      "accuracy = 0.9552000164985657\n",
      "\n",
      "76\n",
      "loss = 0.16411249339580536\n",
      "accuracy = 0.9559999704360962\n",
      "\n",
      "77\n",
      "loss = 0.14738351106643677\n",
      "accuracy = 0.9570000171661377\n",
      "\n",
      "78\n",
      "loss = 0.06872712820768356\n",
      "accuracy = 0.9567999839782715\n",
      "\n",
      "79\n",
      "loss = 0.12547650933265686\n",
      "accuracy = 0.9567999839782715\n",
      "\n",
      "80\n",
      "loss = 0.2160048633813858\n",
      "accuracy = 0.9580000042915344\n",
      "\n",
      "81\n",
      "loss = 0.16738885641098022\n",
      "accuracy = 0.9562000036239624\n",
      "\n",
      "82\n",
      "loss = 0.1380365788936615\n",
      "accuracy = 0.9570000171661377\n",
      "\n",
      "83\n",
      "loss = 0.09501828253269196\n",
      "accuracy = 0.9563999772071838\n",
      "\n",
      "84\n",
      "loss = 0.1252799779176712\n",
      "accuracy = 0.9581000208854675\n",
      "\n",
      "85\n",
      "loss = 0.10542821884155273\n",
      "accuracy = 0.9581999778747559\n",
      "\n",
      "86\n",
      "loss = 0.1531851589679718\n",
      "accuracy = 0.958899974822998\n",
      "\n",
      "87\n",
      "loss = 0.10179311782121658\n",
      "accuracy = 0.9584000110626221\n",
      "\n",
      "88\n",
      "loss = 0.12079324573278427\n",
      "accuracy = 0.9581999778747559\n",
      "\n",
      "89\n",
      "loss = 0.1808294802904129\n",
      "accuracy = 0.9589999914169312\n",
      "\n",
      "90\n",
      "loss = 0.06649518758058548\n",
      "accuracy = 0.9593999981880188\n",
      "\n",
      "91\n",
      "loss = 0.13131725788116455\n",
      "accuracy = 0.9592000246047974\n",
      "\n",
      "92\n",
      "loss = 0.25460708141326904\n",
      "accuracy = 0.9606000185012817\n",
      "\n",
      "93\n",
      "loss = 0.25618720054626465\n",
      "accuracy = 0.9605000019073486\n",
      "\n",
      "94\n",
      "loss = 0.16168908774852753\n",
      "accuracy = 0.9603999853134155\n",
      "\n",
      "95\n",
      "loss = 0.18517546355724335\n",
      "accuracy = 0.9605000019073486\n",
      "\n",
      "96\n",
      "loss = 0.1696564108133316\n",
      "accuracy = 0.9602000117301941\n",
      "\n",
      "97\n",
      "loss = 0.14844875037670135\n",
      "accuracy = 0.9606999754905701\n",
      "\n",
      "98\n",
      "loss = 0.130065456032753\n",
      "accuracy = 0.9599999785423279\n",
      "\n",
      "99\n",
      "loss = 0.12380047887563705\n",
      "accuracy = 0.961899995803833\n",
      "\n",
      "100\n",
      "loss = 0.10375846177339554\n",
      "accuracy = 0.961899995803833\n",
      "\n"
     ]
    }
   ],
   "source": [
    "session = tf.Session()\n",
    "session.run(tf.global_variables_initializer())\n",
    "\n",
    "test_data = {\n",
    "    x: mnist.test.images,\n",
    "    y: mnist.test.labels,\n",
    "    keep_prob: 1.0\n",
    "}\n",
    "\n",
    "for i in range(100):\n",
    "    print(i + 1)\n",
    "    for j in range(100):\n",
    "        images, labels = mnist.train.next_batch(batch_size)\n",
    "        data = {\n",
    "            x: images,\n",
    "            y: labels,\n",
    "            keep_prob: 0.5\n",
    "        }\n",
    "        session.run(train, feed_dict=data)\n",
    "    print('loss = {}'.format(session.run(loss, feed_dict=data)))\n",
    "    print('accuracy = {}'.format(session.run(accuracy, feed_dict=test_data)))\n",
    "    print()"
   ]
  },
  {
   "cell_type": "code",
   "execution_count": 13,
   "metadata": {},
   "outputs": [
    {
     "data": {
      "image/png": "[encoded data removed]",
      "text/plain": [
       "<matplotlib.figure.Figure at 0x118895a58>"
      ]
     },
     "metadata": {},
     "output_type": "display_data"
    }
   ],
   "source": [
    "draw_incorrect()"
   ]
  },
  {
   "cell_type": "markdown",
   "metadata": {},
   "source": [
    "Convolution\n",
    "\n",
    "[https://en.wikipedia.org/wiki/Kernel_(image_processing)](https://en.wikipedia.org/wiki/Kernel_%28image_processing%29)"
   ]
  },
  {
   "cell_type": "code",
   "execution_count": 14,
   "metadata": {},
   "outputs": [
    {
     "data": {
      "image/png": "[encoded data removed]",
      "text/plain": [
       "<matplotlib.figure.Figure at 0x12267b048>"
      ]
     },
     "metadata": {},
     "output_type": "display_data"
    }
   ],
   "source": [
    "# draw images\n",
    "\n",
    "def draw(images):\n",
    "    count = images.shape[0]\n",
    "    fig, axes = plt.subplots(1, count, figsize=(count * 2, 2))\n",
    "    for i in range(count):\n",
    "        axes[i].set_axis_off()\n",
    "        axes[i].imshow(images[i].reshape(28, 28), cmap='gray')\n",
    "    plt.show()\n",
    "\n",
    "draw(mnist.test.images[:5])"
   ]
  },
  {
   "cell_type": "code",
   "execution_count": 15,
   "metadata": {
    "scrolled": false
   },
   "outputs": [
    {
     "data": {
      "image/png": "[encoded data removed]",
      "text/plain": [
       "<matplotlib.figure.Figure at 0x122e499e8>"
      ]
     },
     "metadata": {},
     "output_type": "display_data"
    },
    {
     "data": {
      "image/png": "[encoded data removed]",
      "text/plain": [
       "<matplotlib.figure.Figure at 0x122effba8>"
      ]
     },
     "metadata": {},
     "output_type": "display_data"
    },
    {
     "data": {
      "image/png": "[encoded data removed]",
      "text/plain": [
       "<matplotlib.figure.Figure at 0x122b3d8d0>"
      ]
     },
     "metadata": {},
     "output_type": "display_data"
    },
    {
     "data": {
      "image/png": "[encoded data removed]",
      "text/plain": [
       "<matplotlib.figure.Figure at 0x122c3e080>"
      ]
     },
     "metadata": {},
     "output_type": "display_data"
    }
   ],
   "source": [
    "# image processing\n",
    "\n",
    "x = tf.placeholder(tf.float32, [None, 28 * 28])\n",
    "\n",
    "kernels = [\n",
    "    # Edge detection\n",
    "    [\n",
    "        [-1.0, -1.0, -1.0],\n",
    "        [-1.0,  8.0, -1.0],\n",
    "        [-1.0, -1.0, -1.0]\n",
    "    ],\n",
    "    # Sharpen\n",
    "    [\n",
    "        [ 0.0, -1.0,  0.0],\n",
    "        [-1.0,  5.0, -1.0],\n",
    "        [ 0.0, -1.0,  0.0]\n",
    "    ],\n",
    "    # Gaussian blur\n",
    "    [\n",
    "        [1 / 16, 2 / 16, 1 / 16],\n",
    "        [2 / 16, 4 / 16, 2 / 16],\n",
    "        [1 / 16, 2 / 16, 1 / 16]\n",
    "    ]\n",
    "]\n",
    "\n",
    "w = np.stack([np.array(i).reshape(3, 3, 1) for i in kernels], axis=3)\n",
    "\n",
    "xx = tf.reshape(x, [-1, 28, 28, 1])\n",
    "\n",
    "y = tf.nn.conv2d(xx, w,\n",
    "                 strides=[1, 1, 1, 1], padding='SAME')\n",
    "\n",
    "images = mnist.train.images[:5]\n",
    "\n",
    "new_images = session.run(y, feed_dict={ x: images })\n",
    "\n",
    "draw(images)\n",
    "\n",
    "for i in range(3):\n",
    "    draw(new_images.take(i, axis=3).reshape([-1, 28 * 28]))"
   ]
  },
  {
   "cell_type": "code",
   "execution_count": 16,
   "metadata": {},
   "outputs": [
    {
     "data": {
      "text/plain": [
       "array([[1, 2, 3],\n",
       "       [4, 5, 6]])"
      ]
     },
     "execution_count": 16,
     "metadata": {},
     "output_type": "execute_result"
    }
   ],
   "source": [
    "np.stack([[1, 2, 3], [4, 5, 6]], axis=0)"
   ]
  },
  {
   "cell_type": "code",
   "execution_count": 17,
   "metadata": {},
   "outputs": [
    {
     "data": {
      "text/plain": [
       "array([[1, 4],\n",
       "       [2, 5],\n",
       "       [3, 6]])"
      ]
     },
     "execution_count": 17,
     "metadata": {},
     "output_type": "execute_result"
    }
   ],
   "source": [
    "np.stack([[1, 2, 3], [4, 5, 6]], axis=1)"
   ]
  },
  {
   "cell_type": "code",
   "execution_count": 18,
   "metadata": {},
   "outputs": [
    {
     "data": {
      "text/plain": [
       "array([[[-1.],\n",
       "        [-1.],\n",
       "        [-1.]],\n",
       "\n",
       "       [[-1.],\n",
       "        [ 8.],\n",
       "        [-1.]],\n",
       "\n",
       "       [[-1.],\n",
       "        [-1.],\n",
       "        [-1.]]])"
      ]
     },
     "execution_count": 18,
     "metadata": {},
     "output_type": "execute_result"
    }
   ],
   "source": [
    "w.take(0, axis=3)"
   ]
  },
  {
   "cell_type": "code",
   "execution_count": 19,
   "metadata": {
    "collapsed": true
   },
   "outputs": [],
   "source": [
    "# https://www.tensorflow.org/api_docs/python/tf/nn/conv2d\n",
    "\n",
    "def conv(x, in_ch, out_ch):\n",
    "    w = tf.Variable(random([5, 5, in_ch, out_ch]))\n",
    "    b = tf.Variable(random([out_ch]))\n",
    "    return tf.nn.conv2d(x, w, strides=[1, 1, 1, 1], padding='SAME') \\\n",
    "           + b # 눈에 띄게 하려고 다음 줄로 넘김 :)"
   ]
  },
  {
   "cell_type": "code",
   "execution_count": 20,
   "metadata": {
    "collapsed": true
   },
   "outputs": [],
   "source": [
    "# https://www.tensorflow.org/api_docs/python/tf/nn/max_pool\n",
    "\n",
    "def pool(x):\n",
    "    return tf.nn.max_pool(x, ksize=[1, 2, 2, 1], strides=[1, 2, 2, 1], padding='SAME')"
   ]
  },
  {
   "cell_type": "code",
   "execution_count": 21,
   "metadata": {
    "collapsed": true
   },
   "outputs": [],
   "source": [
    "x = tf.placeholder(tf.float32, [None, 28 * 28])\n",
    "y = tf.placeholder(tf.int64, [None])\n",
    "keep_prob = tf.placeholder(tf.float32)\n",
    "\n",
    "xx = tf.reshape(x, [-1, 28, 28, 1])\n",
    "z1 = tf.nn.relu(conv(xx, 1, 4))\n",
    "z2 = pool(z1)\n",
    "z3 = tf.nn.relu(conv(z2, 4, 8))\n",
    "z4 = pool(z3)\n",
    "\n",
    "fc_size = 7 * 7 * 8\n",
    "fc_z = tf.reshape(z4, [-1, fc_size])\n",
    "\n",
    "h_z = layer(fc_z, fc_size, 200, tf.nn.relu)\n",
    "drop = tf.nn.dropout(h_z, keep_prob)\n",
    "z = layer(drop, 200, 10, tf.nn.softmax)\n",
    "\n",
    "loss = cost(tf.one_hot(y, 10), z)\n",
    "\n",
    "train = tf.train.AdamOptimizer(0.0001).minimize(loss)"
   ]
  },
  {
   "cell_type": "code",
   "execution_count": 22,
   "metadata": {
    "collapsed": true
   },
   "outputs": [],
   "source": [
    "predict = tf.argmax(z, axis=1)\n",
    "correct = tf.equal(predict, y)\n",
    "accuracy = tf.reduce_mean(tf.cast(correct, tf.float32))"
   ]
  },
  {
   "cell_type": "code",
   "execution_count": 23,
   "metadata": {
    "scrolled": false
   },
   "outputs": [
    {
     "name": "stdout",
     "output_type": "stream",
     "text": [
      "1\n",
      "loss = 2.190445899963379\n",
      "accuracy = 0.34389999508857727\n",
      "\n",
      "2\n",
      "loss = 1.680050015449524\n",
      "accuracy = 0.7580000162124634\n",
      "\n",
      "3\n",
      "loss = 1.1279280185699463\n",
      "accuracy = 0.8295999765396118\n",
      "\n",
      "4\n",
      "loss = 0.7894279360771179\n",
      "accuracy = 0.86080002784729\n",
      "\n",
      "5\n",
      "loss = 0.7265677452087402\n",
      "accuracy = 0.8787000179290771\n",
      "\n",
      "6\n",
      "loss = 0.46923407912254333\n",
      "accuracy = 0.8906999826431274\n",
      "\n",
      "7\n",
      "loss = 0.4074679911136627\n",
      "accuracy = 0.9021999835968018\n",
      "\n",
      "8\n",
      "loss = 0.4881395101547241\n",
      "accuracy = 0.9068999886512756\n",
      "\n",
      "9\n",
      "loss = 0.5096531510353088\n",
      "accuracy = 0.9120000004768372\n",
      "\n",
      "10\n",
      "loss = 0.38111191987991333\n",
      "accuracy = 0.9193999767303467\n",
      "\n",
      "11\n",
      "loss = 0.324980765581131\n",
      "accuracy = 0.9218000173568726\n",
      "\n",
      "12\n",
      "loss = 0.33888760209083557\n",
      "accuracy = 0.9247000217437744\n",
      "\n",
      "13\n",
      "loss = 0.36469945311546326\n",
      "accuracy = 0.9282000064849854\n",
      "\n",
      "14\n",
      "loss = 0.4509184956550598\n",
      "accuracy = 0.9291999936103821\n",
      "\n",
      "15\n",
      "loss = 0.2898910641670227\n",
      "accuracy = 0.9348000288009644\n",
      "\n",
      "16\n",
      "loss = 0.3949589431285858\n",
      "accuracy = 0.9348000288009644\n",
      "\n",
      "17\n",
      "loss = 0.3675173819065094\n",
      "accuracy = 0.9387999773025513\n",
      "\n",
      "18\n",
      "loss = 0.2920462489128113\n",
      "accuracy = 0.9399999976158142\n",
      "\n",
      "19\n",
      "loss = 0.4977942705154419\n",
      "accuracy = 0.9409000277519226\n",
      "\n",
      "20\n",
      "loss = 0.3828597366809845\n",
      "accuracy = 0.9408000111579895\n",
      "\n",
      "21\n",
      "loss = 0.32477566599845886\n",
      "accuracy = 0.9448000192642212\n",
      "\n",
      "22\n",
      "loss = 0.32901060581207275\n",
      "accuracy = 0.9458000063896179\n",
      "\n",
      "23\n",
      "loss = 0.18642455339431763\n",
      "accuracy = 0.9453999996185303\n",
      "\n",
      "24\n",
      "loss = 0.19130194187164307\n",
      "accuracy = 0.9491000175476074\n",
      "\n",
      "25\n",
      "loss = 0.17167259752750397\n",
      "accuracy = 0.9488000273704529\n",
      "\n",
      "26\n",
      "loss = 0.1877976655960083\n",
      "accuracy = 0.9487000107765198\n",
      "\n",
      "27\n",
      "loss = 0.25273367762565613\n",
      "accuracy = 0.9502999782562256\n",
      "\n",
      "28\n",
      "loss = 0.24628368020057678\n",
      "accuracy = 0.9510999917984009\n",
      "\n",
      "29\n",
      "loss = 0.10881008207798004\n",
      "accuracy = 0.953499972820282\n",
      "\n",
      "30\n",
      "loss = 0.272735059261322\n",
      "accuracy = 0.9538999795913696\n",
      "\n",
      "31\n",
      "loss = 0.27139654755592346\n",
      "accuracy = 0.955299973487854\n",
      "\n",
      "32\n",
      "loss = 0.2037813514471054\n",
      "accuracy = 0.9542999863624573\n",
      "\n",
      "33\n",
      "loss = 0.1887184977531433\n",
      "accuracy = 0.9556000232696533\n",
      "\n",
      "34\n",
      "loss = 0.20232869684696198\n",
      "accuracy = 0.9559000134468079\n",
      "\n",
      "35\n",
      "loss = 0.19830219447612762\n",
      "accuracy = 0.9591000080108643\n",
      "\n",
      "36\n",
      "loss = 0.24251338839530945\n",
      "accuracy = 0.9589999914169312\n",
      "\n",
      "37\n",
      "loss = 0.15567141771316528\n",
      "accuracy = 0.958899974822998\n",
      "\n",
      "38\n",
      "loss = 0.08939119428396225\n",
      "accuracy = 0.9621000289916992\n",
      "\n",
      "39\n",
      "loss = 0.19328545033931732\n",
      "accuracy = 0.9613000154495239\n",
      "\n",
      "40\n",
      "loss = 0.1612529754638672\n",
      "accuracy = 0.9620000123977661\n",
      "\n",
      "41\n",
      "loss = 0.1659633219242096\n",
      "accuracy = 0.9642000198364258\n",
      "\n",
      "42\n",
      "loss = 0.17941637337207794\n",
      "accuracy = 0.9625999927520752\n",
      "\n",
      "43\n",
      "loss = 0.2795252203941345\n",
      "accuracy = 0.9639000296592712\n",
      "\n",
      "44\n",
      "loss = 0.19492504000663757\n",
      "accuracy = 0.9646000266075134\n",
      "\n",
      "45\n",
      "loss = 0.12646496295928955\n",
      "accuracy = 0.9652000069618225\n",
      "\n",
      "46\n",
      "loss = 0.2162252813577652\n",
      "accuracy = 0.9660000205039978\n",
      "\n",
      "47\n",
      "loss = 0.07378850877285004\n",
      "accuracy = 0.9664999842643738\n",
      "\n",
      "48\n",
      "loss = 0.1562587320804596\n",
      "accuracy = 0.9656000137329102\n",
      "\n",
      "49\n",
      "loss = 0.12037786841392517\n",
      "accuracy = 0.9675999879837036\n",
      "\n",
      "50\n",
      "loss = 0.14624467492103577\n",
      "accuracy = 0.9674999713897705\n",
      "\n",
      "51\n",
      "loss = 0.08855687081813812\n",
      "accuracy = 0.9677000045776367\n",
      "\n",
      "52\n",
      "loss = 0.1537555754184723\n",
      "accuracy = 0.9682999849319458\n",
      "\n",
      "53\n",
      "loss = 0.12227500975131989\n",
      "accuracy = 0.9704999923706055\n",
      "\n",
      "54\n",
      "loss = 0.0630040094256401\n",
      "accuracy = 0.9686999917030334\n",
      "\n",
      "55\n",
      "loss = 0.11403753608465195\n",
      "accuracy = 0.9704999923706055\n",
      "\n",
      "56\n",
      "loss = 0.3055391311645508\n",
      "accuracy = 0.9710000157356262\n",
      "\n",
      "57\n",
      "loss = 0.03952430933713913\n",
      "accuracy = 0.9717000126838684\n",
      "\n",
      "58\n",
      "loss = 0.15160095691680908\n",
      "accuracy = 0.9710999727249146\n",
      "\n",
      "59\n",
      "loss = 0.090799480676651\n",
      "accuracy = 0.970300018787384\n",
      "\n",
      "60\n",
      "loss = 0.1847805380821228\n",
      "accuracy = 0.972000002861023\n",
      "\n",
      "61\n",
      "loss = 0.1158192828297615\n",
      "accuracy = 0.9726999998092651\n",
      "\n",
      "62\n",
      "loss = 0.11164970695972443\n",
      "accuracy = 0.9714999794960022\n",
      "\n",
      "63\n",
      "loss = 0.14154358208179474\n",
      "accuracy = 0.9725000262260437\n",
      "\n",
      "64\n",
      "loss = 0.18843793869018555\n",
      "accuracy = 0.9735000133514404\n",
      "\n",
      "65\n",
      "loss = 0.11525089293718338\n",
      "accuracy = 0.9729999899864197\n",
      "\n",
      "66\n",
      "loss = 0.12143769860267639\n",
      "accuracy = 0.9729999899864197\n",
      "\n",
      "67\n",
      "loss = 0.14003771543502808\n",
      "accuracy = 0.9735999703407288\n",
      "\n",
      "68\n",
      "loss = 0.12983058393001556\n",
      "accuracy = 0.9728000164031982\n",
      "\n",
      "69\n",
      "loss = 0.0917813703417778\n",
      "accuracy = 0.9735999703407288\n",
      "\n",
      "70\n",
      "loss = 0.06667444854974747\n",
      "accuracy = 0.9742000102996826\n",
      "\n",
      "71\n",
      "loss = 0.11799076199531555\n",
      "accuracy = 0.9747999906539917\n",
      "\n",
      "72\n",
      "loss = 0.08601938933134079\n",
      "accuracy = 0.9746999740600586\n",
      "\n",
      "73\n",
      "loss = 0.24309903383255005\n",
      "accuracy = 0.9739999771118164\n",
      "\n",
      "74\n",
      "loss = 0.06751271337270737\n",
      "accuracy = 0.9761999845504761\n",
      "\n",
      "75\n",
      "loss = 0.11001532524824142\n",
      "accuracy = 0.9757999777793884\n",
      "\n",
      "76\n",
      "loss = 0.17696844041347504\n",
      "accuracy = 0.9753999710083008\n",
      "\n",
      "77\n",
      "loss = 0.11323980242013931\n",
      "accuracy = 0.9746999740600586\n",
      "\n",
      "78\n",
      "loss = 0.047113582491874695\n",
      "accuracy = 0.9750999808311462\n",
      "\n",
      "79\n",
      "loss = 0.07158631086349487\n",
      "accuracy = 0.975600004196167\n",
      "\n",
      "80\n",
      "loss = 0.046158790588378906\n",
      "accuracy = 0.9767000079154968\n",
      "\n",
      "81\n",
      "loss = 0.11738225817680359\n",
      "accuracy = 0.9754999876022339\n",
      "\n",
      "82\n",
      "loss = 0.0942135825753212\n",
      "accuracy = 0.9757999777793884\n",
      "\n",
      "83\n",
      "loss = 0.05770743265748024\n",
      "accuracy = 0.9763000011444092\n",
      "\n",
      "84\n",
      "loss = 0.11831950396299362\n",
      "accuracy = 0.9764000177383423\n",
      "\n",
      "85\n",
      "loss = 0.1332351267337799\n",
      "accuracy = 0.9767000079154968\n",
      "\n",
      "86\n",
      "loss = 0.053203605115413666\n",
      "accuracy = 0.977400004863739\n",
      "\n",
      "87\n",
      "loss = 0.0649988055229187\n",
      "accuracy = 0.9763000011444092\n",
      "\n",
      "88\n",
      "loss = 0.06603314727544785\n",
      "accuracy = 0.9771999716758728\n",
      "\n",
      "89\n",
      "loss = 0.10421905666589737\n",
      "accuracy = 0.9772999882698059\n",
      "\n",
      "90\n",
      "loss = 0.1202639564871788\n",
      "accuracy = 0.9775999784469604\n",
      "\n",
      "91\n",
      "loss = 0.18018639087677002\n",
      "accuracy = 0.9782999753952026\n",
      "\n",
      "92\n",
      "loss = 0.09057480841875076\n",
      "accuracy = 0.9782999753952026\n",
      "\n",
      "93\n",
      "loss = 0.1631118655204773\n",
      "accuracy = 0.9789000153541565\n",
      "\n",
      "94\n",
      "loss = 0.11460092663764954\n",
      "accuracy = 0.9782000184059143\n",
      "\n",
      "95\n",
      "loss = 0.16685982048511505\n",
      "accuracy = 0.9790999889373779\n",
      "\n",
      "96\n",
      "loss = 0.15203583240509033\n",
      "accuracy = 0.9790999889373779\n",
      "\n",
      "97\n",
      "loss = 0.10741996765136719\n",
      "accuracy = 0.9789999723434448\n",
      "\n",
      "98\n",
      "loss = 0.2828899025917053\n",
      "accuracy = 0.979200005531311\n",
      "\n",
      "99\n",
      "loss = 0.08039134740829468\n",
      "accuracy = 0.9789000153541565\n",
      "\n",
      "100\n",
      "loss = 0.06645748019218445\n",
      "accuracy = 0.9786999821662903\n",
      "\n"
     ]
    }
   ],
   "source": [
    "session = tf.Session()\n",
    "session.run(tf.global_variables_initializer())\n",
    "\n",
    "test_data = {\n",
    "    x: mnist.test.images,\n",
    "    y: mnist.test.labels,\n",
    "    keep_prob: 1.0\n",
    "}\n",
    "\n",
    "for i in range(100):\n",
    "    print(i + 1)\n",
    "    for j in range(100):\n",
    "        images, labels = mnist.train.next_batch(batch_size)\n",
    "        data = {\n",
    "            x: images,\n",
    "            y: labels,\n",
    "            keep_prob: 0.5\n",
    "        }\n",
    "        session.run(train, feed_dict=data)\n",
    "    print('loss = {}'.format(session.run(loss, feed_dict=data)))\n",
    "    print('accuracy = {}'.format(session.run(accuracy, feed_dict=test_data)))\n",
    "    print()"
   ]
  },
  {
   "cell_type": "code",
   "execution_count": 24,
   "metadata": {},
   "outputs": [
    {
     "data": {
      "image/png": "[encoded data removed]",
      "text/plain": [
       "<matplotlib.figure.Figure at 0x121af7eb8>"
      ]
     },
     "metadata": {},
     "output_type": "display_data"
    }
   ],
   "source": [
    "draw_incorrect()"
   ]
  },
  {
   "cell_type": "code",
   "execution_count": 25,
   "metadata": {
    "scrolled": false
   },
   "outputs": [
    {
     "name": "stdout",
     "output_type": "stream",
     "text": [
      "7\n"
     ]
    },
    {
     "data": {
      "image/png": "[encoded data removed]",
      "text/plain": [
       "<matplotlib.figure.Figure at 0x11bee3048>"
      ]
     },
     "metadata": {},
     "output_type": "display_data"
    },
    {
     "name": "stdout",
     "output_type": "stream",
     "text": [
      "2\n"
     ]
    },
    {
     "data": {
      "image/png": "[encoded data removed]",
      "text/plain": [
       "<matplotlib.figure.Figure at 0x11c318240>"
      ]
     },
     "metadata": {},
     "output_type": "display_data"
    },
    {
     "name": "stdout",
     "output_type": "stream",
     "text": [
      "1\n"
     ]
    },
    {
     "data": {
      "image/png": "[encoded data removed]",
      "text/plain": [
       "<matplotlib.figure.Figure at 0x11c4196d8>"
      ]
     },
     "metadata": {},
     "output_type": "display_data"
    },
    {
     "name": "stdout",
     "output_type": "stream",
     "text": [
      "0\n"
     ]
    },
    {
     "data": {
      "image/png": "[encoded data removed]",
      "text/plain": [
       "<matplotlib.figure.Figure at 0x1228c9668>"
      ]
     },
     "metadata": {},
     "output_type": "display_data"
    },
    {
     "name": "stdout",
     "output_type": "stream",
     "text": [
      "4\n"
     ]
    },
    {
     "data": {
      "image/png": "[encoded data removed]",
      "text/plain": [
       "<matplotlib.figure.Figure at 0x1229b4a58>"
      ]
     },
     "metadata": {},
     "output_type": "display_data"
    }
   ],
   "source": [
    "images = mnist.test.images[:5]\n",
    "labels = mnist.test.labels[:5]\n",
    "\n",
    "test_data = {\n",
    "    x: images,\n",
    "    keep_prob: 1.0\n",
    "}\n",
    "\n",
    "features = session.run(z4, feed_dict=test_data)\n",
    "\n",
    "for index in range(5):\n",
    "    print(labels[index])\n",
    "    fig, axes = plt.subplots(3, 3, figsize=(3, 3))\n",
    "    for i, ax in enumerate(axes.flat):\n",
    "        ax.set_axis_off()\n",
    "        if i == 0:\n",
    "            ax.imshow(images[index].reshape(28, 28), cmap='gray')\n",
    "        else:\n",
    "            ax.imshow(features[index, :, :, i - 1], cmap='gray')\n",
    "    plt.show()"
   ]
  }
 ],
 "metadata": {
  "kernelspec": {
   "display_name": "Python 3",
   "language": "python",
   "name": "python3"
  },
  "language_info": {
   "codemirror_mode": {
    "name": "ipython",
    "version": 3
   },
   "file_extension": ".py",
   "mimetype": "text/x-python",
   "name": "python",
   "nbconvert_exporter": "python",
   "pygments_lexer": "ipython3",
   "version": "3.6.1"
  }
 },
 "nbformat": 4,
 "nbformat_minor": 2
}
