{
 "cells": [
  {
   "cell_type": "code",
   "execution_count": 1,
   "metadata": {
    "collapsed": false,
    "deletable": true,
    "editable": true
   },
   "outputs": [],
   "source": [
    "import tensorflow as tf\n",
    "import numpy as np\n",
    "import matplotlib.pyplot as plt\n",
    "from mnist import MNIST"
   ]
  },
  {
   "cell_type": "code",
   "execution_count": 2,
   "metadata": {
    "collapsed": true,
    "deletable": true,
    "editable": true
   },
   "outputs": [],
   "source": [
    "mnist = MNIST('./data')\n",
    "images, labels = mnist.load_training()\n",
    "\n",
    "labels = np.array(labels)\n",
    "images = np.array(images).astype('float32') / 255\n",
    "images2d = images.reshape([-1, 28, 28])"
   ]
  },
  {
   "cell_type": "code",
   "execution_count": 3,
   "metadata": {
    "collapsed": false,
    "deletable": true,
    "editable": true
   },
   "outputs": [],
   "source": [
    "def batch(data, index, batch_size):\n",
    "    offset = batch_size * index\n",
    "    return data[offset:offset + batch_size]"
   ]
  },
  {
   "cell_type": "code",
   "execution_count": 4,
   "metadata": {
    "collapsed": false,
    "deletable": true,
    "editable": true,
    "scrolled": false
   },
   "outputs": [
    {
     "name": "stdout",
     "output_type": "stream",
     "text": [
      "5\n"
     ]
    },
    {
     "data": {
      "image/png": "[encoded data removed]",
      "text/plain": [
       "<matplotlib.figure.Figure at 0x1131208d0>"
      ]
     },
     "metadata": {},
     "output_type": "display_data"
    },
    {
     "name": "stdout",
     "output_type": "stream",
     "text": [
      "0\n"
     ]
    },
    {
     "data": {
      "image/png": "[encoded data removed]",
      "text/plain": [
       "<matplotlib.figure.Figure at 0x1137658d0>"
      ]
     },
     "metadata": {},
     "output_type": "display_data"
    },
    {
     "name": "stdout",
     "output_type": "stream",
     "text": [
      "4\n"
     ]
    },
    {
     "data": {
      "image/png": "[encoded data removed]",
      "text/plain": [
       "<matplotlib.figure.Figure at 0x1137fde10>"
      ]
     },
     "metadata": {},
     "output_type": "display_data"
    },
    {
     "name": "stdout",
     "output_type": "stream",
     "text": [
      "1\n"
     ]
    },
    {
     "data": {
      "image/png": "[encoded data removed]",
      "text/plain": [
       "<matplotlib.figure.Figure at 0x1138f0908>"
      ]
     },
     "metadata": {},
     "output_type": "display_data"
    },
    {
     "name": "stdout",
     "output_type": "stream",
     "text": [
      "9\n"
     ]
    },
    {
     "data": {
      "image/png": "[encoded data removed]",
      "text/plain": [
       "<matplotlib.figure.Figure at 0x1139c8ac8>"
      ]
     },
     "metadata": {},
     "output_type": "display_data"
    }
   ],
   "source": [
    "for i in range(5):\n",
    "    print(labels[i])\n",
    "    plt.imshow(images2d[i])\n",
    "    plt.show()"
   ]
  },
  {
   "cell_type": "code",
   "execution_count": 5,
   "metadata": {
    "collapsed": true,
    "deletable": true,
    "editable": true
   },
   "outputs": [],
   "source": [
    "x = tf.placeholder(tf.float32, [None, 28, 28])\n",
    "z = tf.placeholder(tf.int64, [None])\n",
    "keep_prob = tf.placeholder(tf.float32)"
   ]
  },
  {
   "cell_type": "code",
   "execution_count": 6,
   "metadata": {
    "collapsed": false,
    "deletable": true,
    "editable": true
   },
   "outputs": [],
   "source": [
    "c1_k = 16\n",
    "c2_k = 32\n",
    "fc_k = 1024"
   ]
  },
  {
   "cell_type": "code",
   "execution_count": 7,
   "metadata": {
    "collapsed": false,
    "deletable": true,
    "editable": true
   },
   "outputs": [],
   "source": [
    "input = tf.reshape(x, [-1, 28, 28, 1])\n",
    "\n",
    "# Helpers\n",
    "\n",
    "def conv(x, w, b):\n",
    "    return tf.nn.conv2d(x, w, strides=[1, 1, 1, 1], padding='SAME') + b\n",
    "\n",
    "def pool(x):\n",
    "    return tf.nn.max_pool(x, ksize=[1, 2, 2, 1], strides=[1, 2, 2, 1], padding='SAME')\n",
    "\n",
    "# Convolution/Polling Layer 1\n",
    "\n",
    "c1_w = tf.Variable(tf.truncated_normal([5, 5, 1, c1_k], stddev=0.1))\n",
    "c1_b = tf.Variable(tf.truncated_normal([c1_k], stddev=0.1))\n",
    "c1_y = tf.nn.relu(conv(input, c1_w, c1_b))\n",
    "\n",
    "p1_y = pool(c1_y)\n",
    "\n",
    "# Convolution/Polling Layer 2\n",
    "\n",
    "c2_w = tf.Variable(tf.truncated_normal([5, 5, c1_k, c2_k], stddev=0.1))\n",
    "c2_b = tf.Variable(tf.truncated_normal([c2_k], stddev=0.1))\n",
    "c2_y = tf.nn.relu(conv(p1_y, c2_w, c2_b))\n",
    "\n",
    "p2_y = pool(c2_y)"
   ]
  },
  {
   "cell_type": "code",
   "execution_count": 8,
   "metadata": {
    "collapsed": false,
    "deletable": true,
    "editable": true
   },
   "outputs": [
    {
     "data": {
      "text/plain": [
       "TensorShape([Dimension(None), Dimension(14), Dimension(14), Dimension(16)])"
      ]
     },
     "execution_count": 8,
     "metadata": {},
     "output_type": "execute_result"
    }
   ],
   "source": [
    "p1_y.shape"
   ]
  },
  {
   "cell_type": "code",
   "execution_count": 9,
   "metadata": {
    "collapsed": false,
    "deletable": true,
    "editable": true
   },
   "outputs": [
    {
     "data": {
      "text/plain": [
       "TensorShape([Dimension(None), Dimension(7), Dimension(7), Dimension(32)])"
      ]
     },
     "execution_count": 9,
     "metadata": {},
     "output_type": "execute_result"
    }
   ],
   "source": [
    "p2_y.shape"
   ]
  },
  {
   "cell_type": "code",
   "execution_count": 10,
   "metadata": {
    "collapsed": true,
    "deletable": true,
    "editable": true
   },
   "outputs": [],
   "source": [
    "# Fully Connected\n",
    "\n",
    "fc_size = (28 // 4) * (28 // 4) * c2_k\n",
    "fc_y = tf.reshape(p2_y, [-1, fc_size])"
   ]
  },
  {
   "cell_type": "code",
   "execution_count": 11,
   "metadata": {
    "collapsed": false,
    "deletable": true,
    "editable": true,
    "scrolled": true
   },
   "outputs": [
    {
     "data": {
      "text/plain": [
       "TensorShape([Dimension(None), Dimension(1568)])"
      ]
     },
     "execution_count": 11,
     "metadata": {},
     "output_type": "execute_result"
    }
   ],
   "source": [
    "fc_y.shape"
   ]
  },
  {
   "cell_type": "code",
   "execution_count": 12,
   "metadata": {
    "collapsed": false,
    "deletable": true,
    "editable": true
   },
   "outputs": [],
   "source": [
    "# Hidden Layer\n",
    "\n",
    "w1 = tf.Variable(tf.truncated_normal([fc_size, fc_k], stddev=0.1))\n",
    "b1 = tf.Variable(tf.truncated_normal([fc_k], stddev=0.1))\n",
    "y1 = tf.nn.relu(tf.matmul(fc_y, w1) + b1)\n",
    "\n",
    "drop_y = tf.nn.dropout(y1, keep_prob)\n",
    "\n",
    "# Ouput Layer\n",
    "\n",
    "w = tf.Variable(tf.truncated_normal([fc_k, 10], stddev=0.1))\n",
    "b = tf.Variable(tf.truncated_normal([10], stddev=0.1))\n",
    "y = tf.nn.softmax(tf.matmul(drop_y, w) + b)"
   ]
  },
  {
   "cell_type": "code",
   "execution_count": 13,
   "metadata": {
    "collapsed": false,
    "deletable": true,
    "editable": true
   },
   "outputs": [
    {
     "data": {
      "text/plain": [
       "TensorShape([Dimension(None), Dimension(10)])"
      ]
     },
     "execution_count": 13,
     "metadata": {},
     "output_type": "execute_result"
    }
   ],
   "source": [
    "y.shape"
   ]
  },
  {
   "cell_type": "code",
   "execution_count": 14,
   "metadata": {
    "collapsed": true,
    "deletable": true,
    "editable": true
   },
   "outputs": [],
   "source": [
    "t = tf.one_hot(z, 10)\n",
    "\n",
    "cross_entropy = -tf.reduce_sum(t * tf.log(y), axis=1)\n",
    "loss = tf.reduce_mean(cross_entropy)\n",
    "\n",
    "train = tf.train.AdamOptimizer(0.001).minimize(loss)"
   ]
  },
  {
   "cell_type": "code",
   "execution_count": 15,
   "metadata": {
    "collapsed": false,
    "deletable": true,
    "editable": true
   },
   "outputs": [],
   "source": [
    "correct = tf.equal(tf.argmax(y, axis=1), z)\n",
    "accuracy = tf.reduce_mean(tf.cast(correct, tf.float32))"
   ]
  },
  {
   "cell_type": "code",
   "execution_count": 16,
   "metadata": {
    "collapsed": false,
    "deletable": true,
    "editable": true
   },
   "outputs": [
    {
     "name": "stdout",
     "output_type": "stream",
     "text": [
      "0.069\n",
      "0.759\n",
      "0.844\n",
      "0.889\n",
      "0.882\n",
      "0.913\n",
      "0.927\n",
      "0.939\n",
      "0.94\n",
      "0.948\n",
      "0.942\n",
      "0.933\n",
      "0.951\n",
      "0.956\n",
      "0.965\n",
      "0.962\n",
      "0.959\n",
      "0.959\n",
      "0.959\n",
      "0.963\n",
      "0.957\n"
     ]
    }
   ],
   "source": [
    "session = tf.Session()\n",
    "session.run(tf.global_variables_initializer())\n",
    "\n",
    "test_data = {\n",
    "    x: images2d[:1000],\n",
    "    z: labels[:1000],\n",
    "    keep_prob: 1.0\n",
    "}\n",
    "\n",
    "batch_size = 100\n",
    "\n",
    "print(session.run(accuracy, feed_dict=test_data))\n",
    "\n",
    "for i in range(20):\n",
    "    for j in range(10):\n",
    "        data = {\n",
    "            x: batch(images2d[1000:], i * 10 + j, batch_size),\n",
    "            z: batch(labels[1000:], i * 10 + j, batch_size),\n",
    "            keep_prob: 0.5\n",
    "        }\n",
    "        session.run(train, feed_dict=data)\n",
    "    print(session.run(accuracy, feed_dict=test_data))"
   ]
  }
 ],
 "metadata": {
  "kernelspec": {
   "display_name": "Python 3",
   "language": "python",
   "name": "python3"
  },
  "language_info": {
   "codemirror_mode": {
    "name": "ipython",
    "version": 3
   },
   "file_extension": ".py",
   "mimetype": "text/x-python",
   "name": "python",
   "nbconvert_exporter": "python",
   "pygments_lexer": "ipython3",
   "version": "3.5.1"
  }
 },
 "nbformat": 4,
 "nbformat_minor": 2
}
