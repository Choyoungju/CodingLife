{
 "cells": [
  {
   "cell_type": "code",
   "execution_count": 1,
   "metadata": {
    "collapsed": true
   },
   "outputs": [],
   "source": [
    "import os\n",
    "os.environ['KERAS_BACKEND'] = 'theano'"
   ]
  },
  {
   "cell_type": "code",
   "execution_count": 2,
   "metadata": {},
   "outputs": [
    {
     "name": "stderr",
     "output_type": "stream",
     "text": [
      "Using Theano backend.\n"
     ]
    }
   ],
   "source": [
    "from keras import backend as K"
   ]
  },
  {
   "cell_type": "code",
   "execution_count": 3,
   "metadata": {},
   "outputs": [
    {
     "data": {
      "text/plain": [
       "'theano'"
      ]
     },
     "execution_count": 3,
     "metadata": {},
     "output_type": "execute_result"
    }
   ],
   "source": [
    "K.backend()"
   ]
  },
  {
   "cell_type": "code",
   "execution_count": 4,
   "metadata": {},
   "outputs": [
    {
     "data": {
      "text/plain": [
       "'float32'"
      ]
     },
     "execution_count": 4,
     "metadata": {},
     "output_type": "execute_result"
    }
   ],
   "source": [
    "K.floatx()"
   ]
  },
  {
   "cell_type": "code",
   "execution_count": 5,
   "metadata": {
    "collapsed": true
   },
   "outputs": [],
   "source": [
    "import numpy as np\n",
    "\n",
    "with open('../../mnist/data/t10k-images-idx3-ubyte', 'rb') as f:\n",
    "    x_data = np.frombuffer(f.read(), np.uint8, offset=16).reshape(-1, 28 * 28)\n",
    "\n",
    "with open('../../mnist/data/t10k-labels-idx1-ubyte', 'rb') as f:\n",
    "    y_data = np.frombuffer(f.read(), np.uint8, offset=8)"
   ]
  },
  {
   "cell_type": "code",
   "execution_count": 6,
   "metadata": {
    "scrolled": true
   },
   "outputs": [
    {
     "data": {
      "text/plain": [
       "(dtype('uint8'), dtype('uint8'))"
      ]
     },
     "execution_count": 6,
     "metadata": {},
     "output_type": "execute_result"
    }
   ],
   "source": [
    "x_data.dtype, y_data.dtype"
   ]
  },
  {
   "cell_type": "code",
   "execution_count": 7,
   "metadata": {},
   "outputs": [
    {
     "data": {
      "text/plain": [
       "(0, 255)"
      ]
     },
     "execution_count": 7,
     "metadata": {},
     "output_type": "execute_result"
    }
   ],
   "source": [
    "x_data.min(), x_data.max()"
   ]
  },
  {
   "cell_type": "code",
   "execution_count": 8,
   "metadata": {
    "collapsed": true
   },
   "outputs": [],
   "source": [
    "x_test = x_data[:1000] / 255\n",
    "y_test = np.eye(10)[y_data[:1000]]\n",
    "\n",
    "x_train = x_data[1000:] / 255\n",
    "y_train = np.eye(10)[y_data[1000:]]"
   ]
  },
  {
   "cell_type": "code",
   "execution_count": 9,
   "metadata": {},
   "outputs": [
    {
     "data": {
      "text/plain": [
       "(dtype('float64'), dtype('float64'))"
      ]
     },
     "execution_count": 9,
     "metadata": {},
     "output_type": "execute_result"
    }
   ],
   "source": [
    "x_train.dtype, y_train.dtype"
   ]
  },
  {
   "cell_type": "code",
   "execution_count": 10,
   "metadata": {
    "collapsed": true
   },
   "outputs": [],
   "source": [
    "x_test = x_test.astype(K.floatx())\n",
    "y_test = y_test.astype(K.floatx())\n",
    "\n",
    "x_train = x_train.astype(K.floatx())\n",
    "y_train = y_train.astype(K.floatx())"
   ]
  },
  {
   "cell_type": "code",
   "execution_count": 11,
   "metadata": {},
   "outputs": [
    {
     "name": "stdout",
     "output_type": "stream",
     "text": [
      "Epoch 1/10\n",
      "9000/9000 [==============================] - 1s - loss: 1.9995 - acc: 0.3301     \n",
      "Epoch 2/10\n",
      "9000/9000 [==============================] - 2s - loss: 0.9767 - acc: 0.7293     \n",
      "Epoch 3/10\n",
      "9000/9000 [==============================] - 3s - loss: 0.5537 - acc: 0.8437     \n",
      "Epoch 4/10\n",
      "9000/9000 [==============================] - 3s - loss: 0.4270 - acc: 0.8752     \n",
      "Epoch 5/10\n",
      "9000/9000 [==============================] - 3s - loss: 0.3635 - acc: 0.8956     \n",
      "Epoch 6/10\n",
      "9000/9000 [==============================] - 2s - loss: 0.3182 - acc: 0.9073     \n",
      "Epoch 7/10\n",
      "9000/9000 [==============================] - 2s - loss: 0.2864 - acc: 0.9166     \n",
      "Epoch 8/10\n",
      "9000/9000 [==============================] - 2s - loss: 0.2616 - acc: 0.9236     \n",
      "Epoch 9/10\n",
      "9000/9000 [==============================] - 2s - loss: 0.2374 - acc: 0.9309     \n",
      "Epoch 10/10\n",
      "9000/9000 [==============================] - 2s - loss: 0.2205 - acc: 0.9351     \n"
     ]
    },
    {
     "data": {
      "text/plain": [
       "<keras.callbacks.History at 0x10e576668>"
      ]
     },
     "execution_count": 11,
     "metadata": {},
     "output_type": "execute_result"
    }
   ],
   "source": [
    "# Keras로 5층 인공신경망 만들고 훈련.\n",
    "\n",
    "from keras.models import Sequential\n",
    "from keras.layers import Dense\n",
    "\n",
    "model = Sequential()\n",
    "\n",
    "model.add(Dense(units=100, input_dim=28 * 28, activation='relu'))\n",
    "model.add(Dense(units=50, activation='relu'))\n",
    "model.add(Dense(units=30, activation='relu'))\n",
    "model.add(Dense(units=20, activation='relu'))\n",
    "model.add(Dense(units=10, activation='softmax'))\n",
    "\n",
    "model.compile(loss='categorical_crossentropy',\n",
    "              optimizer='sgd',\n",
    "              metrics=['accuracy'])\n",
    "\n",
    "model.fit(x_train, y_train, epochs=10, batch_size=32)\n",
    "# -> New MacBook 기준으로 Theano backend가 TensorFlow backend보다 빠르다."
   ]
  },
  {
   "cell_type": "code",
   "execution_count": 12,
   "metadata": {},
   "outputs": [
    {
     "data": {
      "text/plain": [
       "[array(0.28541094064712524, dtype=float32),\n",
       " array(0.8999999761581421, dtype=float32)]"
      ]
     },
     "execution_count": 12,
     "metadata": {},
     "output_type": "execute_result"
    }
   ],
   "source": [
    "# batch로 training을 직접할 때는 다음과 같이 한다.\n",
    "\n",
    "x_batch = x_train[:100]\n",
    "y_batch = y_train[:100]\n",
    "model.train_on_batch(x_batch, y_batch)\n",
    "# -> TensorFlow backend와 Theano backend의 결과가 다르다."
   ]
  },
  {
   "cell_type": "code",
   "execution_count": 13,
   "metadata": {},
   "outputs": [
    {
     "name": "stdout",
     "output_type": "stream",
     "text": [
      " 896/1000 [=========================>....] - ETA: 0s"
     ]
    },
    {
     "data": {
      "text/plain": [
       "0.92800000000000005"
      ]
     },
     "execution_count": 13,
     "metadata": {},
     "output_type": "execute_result"
    }
   ],
   "source": [
    "# 모델 검증\n",
    "\n",
    "loss, accuracy = model.evaluate(x_test, y_test, batch_size=128)\n",
    "accuracy"
   ]
  },
  {
   "cell_type": "code",
   "execution_count": 14,
   "metadata": {},
   "outputs": [
    {
     "data": {
      "text/plain": [
       "array([7, 2, 1, 0, 4, 1, 4, 9, 6, 9, 0, 6, 9, 0, 1, 5, 9, 7, 3, 4])"
      ]
     },
     "execution_count": 14,
     "metadata": {},
     "output_type": "execute_result"
    }
   ],
   "source": [
    "# 예측 = 솔글씨 이미지 인식\n",
    "\n",
    "classes = model.predict(x_test, batch_size=128)\n",
    "np.argmax(classes, axis=1)[:20]"
   ]
  },
  {
   "cell_type": "code",
   "execution_count": 15,
   "metadata": {},
   "outputs": [
    {
     "name": "stdout",
     "output_type": "stream",
     "text": [
      "ready...\n",
      "--------------------------------------------------------------------------------\n"
     ]
    },
    {
     "data": {
      "image/png": "[encoded data removed]",
      "text/plain": [
       "<matplotlib.figure.Figure at 0x10de68c88>"
      ]
     },
     "metadata": {},
     "output_type": "display_data"
    }
   ],
   "source": [
    "# 오답 시각화\n",
    "\n",
    "import matplotlib.pyplot as plt\n",
    "\n",
    "predict = np.argmax(classes, axis=1)\n",
    "correct = predict == y_data[:1000]\n",
    "\n",
    "indices = np.arange(1000)[~correct]\n",
    "np.random.shuffle(indices)\n",
    "\n",
    "print('ready...')\n",
    "print('-' * 80)\n",
    "\n",
    "fig, axes = plt.subplots(5, 5, figsize=(10, 10))\n",
    "for i, ax in zip(indices[:25], axes.flat):\n",
    "    ax.set_axis_off()\n",
    "    ax.imshow(x_data[i].reshape(28, 28))\n",
    "    ax.set_title('R: {} / P: {}'.format(y_data[i], predict[i]))\n",
    "\n",
    "plt.show()"
   ]
  }
 ],
 "metadata": {
  "kernelspec": {
   "display_name": "Python 3",
   "language": "python",
   "name": "python3"
  },
  "language_info": {
   "codemirror_mode": {
    "name": "ipython",
    "version": 3
   },
   "file_extension": ".py",
   "mimetype": "text/x-python",
   "name": "python",
   "nbconvert_exporter": "python",
   "pygments_lexer": "ipython3",
   "version": "3.6.1"
  }
 },
 "nbformat": 4,
 "nbformat_minor": 2
}
