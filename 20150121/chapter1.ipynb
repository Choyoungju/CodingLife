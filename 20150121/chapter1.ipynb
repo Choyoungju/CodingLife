{
 "metadata": {
  "name": "",
  "signature": "sha256:7afc7b5d4f210453734a34099ab70e189ece98c7218c671dc9e6ad4295537210"
 },
 "nbformat": 3,
 "nbformat_minor": 0,
 "worksheets": [
  {
   "cells": [
    {
     "cell_type": "markdown",
     "metadata": {},
     "source": [
      "M&M \ubb38\uc81c\n",
      "=======\n",
      "\n",
      "\u201c\ud30c\uc774\uc36c\uc744 \ud65c\uc6a9\ud55c \ubca0\uc774\uc9c0\uc548 \ud1b5\uacc4\u201d 25\ud398\uc774\uc9c0"
     ]
    },
    {
     "cell_type": "code",
     "collapsed": false,
     "input": [
      "from thinkbayes import Pmf\n",
      "\n",
      "pmf = Pmf()\n",
      "\n",
      "pmf.Set('Y-1994 G-1996', 0.5)\n",
      "pmf.Set('Y-1996 G-1994', 0.5)\n",
      "\n",
      "pmf.Mult('Y-1994 G-1996', 0.20 * 0.20)\n",
      "pmf.Mult('Y-1996 G-1994', 0.14 * 0.10)\n",
      "\n",
      "pmf.Normalize()\n",
      "\n",
      "pmf.Prob('Y-1994 G-1996'), pmf.Prob('Y-1996 G-1994')"
     ],
     "language": "python",
     "metadata": {},
     "outputs": [
      {
       "metadata": {},
       "output_type": "pyout",
       "prompt_number": 1,
       "text": [
        "(0.7407407407407408, 0.25925925925925924)"
       ]
      }
     ],
     "prompt_number": 1
    },
    {
     "cell_type": "code",
     "collapsed": false,
     "input": [],
     "language": "python",
     "metadata": {},
     "outputs": []
    }
   ],
   "metadata": {}
  }
 ]
}