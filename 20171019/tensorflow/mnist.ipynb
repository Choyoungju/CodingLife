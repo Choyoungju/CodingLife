{
 "cells": [
  {
   "cell_type": "code",
   "execution_count": 1,
   "metadata": {},
   "outputs": [
    {
     "data": {
      "text/plain": [
       "'1.3.0'"
      ]
     },
     "execution_count": 1,
     "metadata": {},
     "output_type": "execute_result"
    }
   ],
   "source": [
    "# TensorFlow 라이브러리 불러오기\n",
    "\n",
    "import tensorflow as tf\n",
    "\n",
    "tf.__version__"
   ]
  },
  {
   "cell_type": "code",
   "execution_count": 2,
   "metadata": {},
   "outputs": [
    {
     "data": {
      "text/plain": [
       "'1.14.3'"
      ]
     },
     "execution_count": 2,
     "metadata": {},
     "output_type": "execute_result"
    }
   ],
   "source": [
    "# NumPy 라이브러리 불러오기\n",
    "\n",
    "import numpy as np\n",
    "\n",
    "np.__version__"
   ]
  },
  {
   "cell_type": "code",
   "execution_count": 3,
   "metadata": {},
   "outputs": [
    {
     "data": {
      "text/plain": [
       "'2.0.2'"
      ]
     },
     "execution_count": 3,
     "metadata": {},
     "output_type": "execute_result"
    }
   ],
   "source": [
    "# Matplotlib 라이브러리 불러오기\n",
    "\n",
    "import matplotlib\n",
    "import matplotlib.pyplot as plt\n",
    "\n",
    "matplotlib.__version__"
   ]
  },
  {
   "cell_type": "code",
   "execution_count": 4,
   "metadata": {},
   "outputs": [
    {
     "name": "stdout",
     "output_type": "stream",
     "text": [
      "Successfully downloaded train-images-idx3-ubyte.gz 9912422 bytes.\n",
      "Extracting /tmp/mnist-data/train-images-idx3-ubyte.gz\n",
      "Successfully downloaded train-labels-idx1-ubyte.gz 28881 bytes.\n",
      "Extracting /tmp/mnist-data/train-labels-idx1-ubyte.gz\n",
      "Successfully downloaded t10k-images-idx3-ubyte.gz 1648877 bytes.\n",
      "Extracting /tmp/mnist-data/t10k-images-idx3-ubyte.gz\n",
      "Successfully downloaded t10k-labels-idx1-ubyte.gz 4542 bytes.\n",
      "Extracting /tmp/mnist-data/t10k-labels-idx1-ubyte.gz\n"
     ]
    }
   ],
   "source": [
    "# MNIST 데이터 로딩\n",
    "\n",
    "from tensorflow.examples.tutorials.mnist import input_data\n",
    "\n",
    "mnist = input_data.read_data_sets('/tmp/mnist-data')"
   ]
  },
  {
   "cell_type": "code",
   "execution_count": 5,
   "metadata": {},
   "outputs": [
    {
     "data": {
      "text/plain": [
       "((55000, 784), (55000,))"
      ]
     },
     "execution_count": 5,
     "metadata": {},
     "output_type": "execute_result"
    }
   ],
   "source": [
    "# 훈련 데이터 확인\n",
    "\n",
    "mnist.train.images.shape, mnist.train.labels.shape"
   ]
  },
  {
   "cell_type": "code",
   "execution_count": 6,
   "metadata": {},
   "outputs": [
    {
     "data": {
      "text/plain": [
       "((10000, 784), (10000,))"
      ]
     },
     "execution_count": 6,
     "metadata": {},
     "output_type": "execute_result"
    }
   ],
   "source": [
    "# 테스트 데이터 확인\n",
    "\n",
    "mnist.test.images.shape, mnist.test.labels.shape"
   ]
  },
  {
   "cell_type": "code",
   "execution_count": 7,
   "metadata": {},
   "outputs": [
    {
     "data": {
      "image/png": "[encoded data removed]",
      "text/plain": [
       "<matplotlib.figure.Figure at 0x113cf7b38>"
      ]
     },
     "metadata": {},
     "output_type": "display_data"
    },
    {
     "data": {
      "image/png": "[encoded data removed]",
      "text/plain": [
       "<matplotlib.figure.Figure at 0x113cf7ba8>"
      ]
     },
     "metadata": {},
     "output_type": "display_data"
    }
   ],
   "source": [
    "# 손글씨 이미지 시각화\n",
    "\n",
    "def draw_image(images, labels):\n",
    "    fig, axes = plt.subplots(1, images.shape[0])\n",
    "    for i, ax in enumerate(axes.flat):\n",
    "        ax.set_axis_off()\n",
    "        ax.imshow(images[i].reshape(28, 28))\n",
    "        ax.set_title(labels[i])\n",
    "    plt.show()\n",
    "\n",
    "draw_image(mnist.train.images[:8],\n",
    "           mnist.train.labels[:8])\n",
    "\n",
    "draw_image(mnist.test.images[:8],\n",
    "           mnist.test.labels[:8])"
   ]
  },
  {
   "cell_type": "code",
   "execution_count": 8,
   "metadata": {},
   "outputs": [],
   "source": [
    "# 신경망 모델 생성\n",
    "\n",
    "# 데이터\n",
    "\n",
    "x = tf.placeholder(tf.float32, [None, 28 * 28])\n",
    "y = tf.placeholder(tf.int64, [None])\n",
    "\n",
    "# 입력 노드: 28 * 28개 / 출력 노드: 10개\n",
    "\n",
    "w = tf.Variable(tf.truncated_normal([28 * 28, 10], stddev=0.1))\n",
    "b = tf.Variable(tf.truncated_normal([10], stddev=0.1))\n",
    "\n",
    "# f( W * x + b )\n",
    "\n",
    "u = tf.matmul(x, w) + b\n",
    "z = tf.nn.softmax(u)"
   ]
  },
  {
   "cell_type": "code",
   "execution_count": 9,
   "metadata": {},
   "outputs": [],
   "source": [
    "# 손실/비용 함수\n",
    "\n",
    "loss = tf.nn.softmax_cross_entropy_with_logits(\n",
    "    logits=u, # softmax 적용하지 않은 값\n",
    "    labels=tf.one_hot(y, 10)\n",
    ")\n",
    "\n",
    "# 최적화\n",
    "\n",
    "learning_rate = 0.3\n",
    "train = tf.train.GradientDescentOptimizer(learning_rate).minimize(loss)"
   ]
  },
  {
   "cell_type": "code",
   "execution_count": 10,
   "metadata": {},
   "outputs": [],
   "source": [
    "# 예측\n",
    "\n",
    "predict = tf.argmax(z, axis=1)\n",
    "\n",
    "# 정확도\n",
    "\n",
    "correct = tf.equal(y, predict)\n",
    "accuracy = tf.reduce_mean(tf.cast(correct, tf.float32))"
   ]
  },
  {
   "cell_type": "code",
   "execution_count": 11,
   "metadata": {},
   "outputs": [],
   "source": [
    "# TensorFlow 세션 준비\n",
    "\n",
    "session = tf.Session()\n",
    "session.run(tf.global_variables_initializer())"
   ]
  },
  {
   "cell_type": "code",
   "execution_count": 12,
   "metadata": {},
   "outputs": [],
   "source": [
    "# 정확도 출력\n",
    "\n",
    "test_feed = {\n",
    "    x: mnist.test.images,\n",
    "    y: mnist.test.labels\n",
    "}\n",
    "\n",
    "def print_accuracy(index):\n",
    "    print('{} - {}'.format(index, session.run(accuracy, feed_dict=test_feed)))"
   ]
  },
  {
   "cell_type": "code",
   "execution_count": 13,
   "metadata": {
    "scrolled": false
   },
   "outputs": [
    {
     "name": "stdout",
     "output_type": "stream",
     "text": [
      "0 - 0.10360000282526016\n",
      "1 - 0.8259999752044678\n",
      "2 - 0.8913999795913696\n",
      "3 - 0.7441999912261963\n",
      "4 - 0.8944000005722046\n",
      "5 - 0.849399983882904\n",
      "6 - 0.9104999899864197\n",
      "7 - 0.829200029373169\n",
      "8 - 0.9053000211715698\n",
      "9 - 0.9085000157356262\n",
      "10 - 0.8364999890327454\n",
      "11 - 0.8939999938011169\n",
      "12 - 0.9009000062942505\n",
      "13 - 0.9089999794960022\n",
      "14 - 0.9118000268936157\n",
      "15 - 0.8960999846458435\n",
      "16 - 0.808899998664856\n",
      "17 - 0.7649000287055969\n",
      "18 - 0.8841999769210815\n",
      "19 - 0.9079999923706055\n",
      "20 - 0.9056000113487244\n",
      "21 - 0.8953999876976013\n",
      "22 - 0.8087000250816345\n",
      "23 - 0.8395000100135803\n",
      "24 - 0.9078999757766724\n",
      "25 - 0.911899983882904\n",
      "26 - 0.7089999914169312\n",
      "27 - 0.7871999740600586\n",
      "28 - 0.8070999979972839\n",
      "29 - 0.8931000232696533\n",
      "30 - 0.911300003528595\n",
      "31 - 0.9092000126838684\n",
      "32 - 0.8083000183105469\n",
      "33 - 0.9043999910354614\n",
      "34 - 0.8974000215530396\n",
      "35 - 0.9161999821662903\n",
      "36 - 0.8959000110626221\n",
      "37 - 0.8141000270843506\n",
      "38 - 0.9104999899864197\n",
      "39 - 0.8971999883651733\n",
      "40 - 0.9082000255584717\n",
      "41 - 0.8791999816894531\n",
      "42 - 0.8945000171661377\n",
      "43 - 0.7809000015258789\n",
      "44 - 0.7870000004768372\n",
      "45 - 0.9021000266075134\n",
      "46 - 0.9104999899864197\n",
      "47 - 0.8992000222206116\n",
      "48 - 0.8579000234603882\n",
      "49 - 0.9067999720573425\n",
      "50 - 0.838100016117096\n",
      "51 - 0.8694000244140625\n",
      "52 - 0.9085000157356262\n",
      "53 - 0.887499988079071\n",
      "54 - 0.9002000093460083\n",
      "55 - 0.8913999795913696\n",
      "56 - 0.869700014591217\n",
      "57 - 0.8708999752998352\n",
      "58 - 0.8012999892234802\n",
      "59 - 0.9000999927520752\n",
      "60 - 0.8748999834060669\n",
      "61 - 0.882099986076355\n",
      "62 - 0.9120000004768372\n",
      "63 - 0.8981999754905701\n",
      "64 - 0.9160000085830688\n",
      "65 - 0.8679999709129333\n",
      "66 - 0.9056000113487244\n",
      "67 - 0.8296999931335449\n",
      "68 - 0.6147000193595886\n",
      "69 - 0.9129999876022339\n",
      "70 - 0.8921999931335449\n",
      "71 - 0.8319000005722046\n",
      "72 - 0.9143000245094299\n",
      "73 - 0.8945000171661377\n",
      "74 - 0.9038000106811523\n",
      "75 - 0.8762999773025513\n",
      "76 - 0.9122999906539917\n",
      "77 - 0.9120000004768372\n",
      "78 - 0.7912999987602234\n",
      "79 - 0.9078999757766724\n",
      "80 - 0.8949000239372253\n",
      "81 - 0.8866000175476074\n",
      "82 - 0.8931000232696533\n",
      "83 - 0.9124000072479248\n",
      "84 - 0.9125000238418579\n",
      "85 - 0.8995000123977661\n",
      "86 - 0.9072999954223633\n",
      "87 - 0.902899980545044\n",
      "88 - 0.9049000144004822\n",
      "89 - 0.843999981880188\n",
      "90 - 0.8855000138282776\n",
      "91 - 0.8924000263214111\n",
      "92 - 0.9018999934196472\n",
      "93 - 0.8180000185966492\n",
      "94 - 0.9106000065803528\n",
      "95 - 0.8327000141143799\n",
      "96 - 0.8787999749183655\n",
      "97 - 0.9071000218391418\n",
      "98 - 0.9086999893188477\n",
      "99 - 0.8960000276565552\n",
      "100 - 0.8076000213623047\n",
      "Done!\n"
     ]
    }
   ],
   "source": [
    "# 훈련\n",
    "\n",
    "print_accuracy(0)\n",
    "\n",
    "for i in range(100):\n",
    "    for j in range(100):\n",
    "        x_data, y_data = mnist.train.next_batch(200)\n",
    "        train_feed = {\n",
    "            x: x_data,\n",
    "            y: y_data\n",
    "        }\n",
    "        session.run(train, feed_dict=train_feed)\n",
    "    print_accuracy(i + 1)\n",
    "\n",
    "print('Done!')"
   ]
  },
  {
   "cell_type": "code",
   "execution_count": 14,
   "metadata": {},
   "outputs": [
    {
     "data": {
      "image/png": "[encoded data removed]",
      "text/plain": [
       "<matplotlib.figure.Figure at 0x1249d0128>"
      ]
     },
     "metadata": {},
     "output_type": "display_data"
    }
   ],
   "source": [
    "# 오답 시각화\n",
    "\n",
    "c, p = session.run([correct, predict], feed_dict=test_feed)\n",
    "\n",
    "images = mnist.test.images[~c]\n",
    "labels = p[~c]\n",
    "\n",
    "draw_image(images[:8], labels[:8])"
   ]
  },
  {
   "cell_type": "code",
   "execution_count": 15,
   "metadata": {},
   "outputs": [],
   "source": [
    "# TensorFlow 그래프 초기화\n",
    "\n",
    "tf.reset_default_graph()"
   ]
  },
  {
   "cell_type": "code",
   "execution_count": 16,
   "metadata": {},
   "outputs": [
    {
     "name": "stdout",
     "output_type": "stream",
     "text": [
      "입력 (?, 28, 28, 1)\n",
      "1단계 (?, 14, 14, 4)\n",
      "2단계 (?, 7, 7, 8)\n",
      "모두 연결 (?, 392)\n",
      "중간 (?, 200)\n",
      "출력 (?, 10)\n"
     ]
    }
   ],
   "source": [
    "# CNN 모델 생성\n",
    "\n",
    "x = tf.placeholder(tf.float32, [None, 28 * 28])\n",
    "y = tf.placeholder(tf.int64, [None])\n",
    "\n",
    "x_2d = tf.reshape(x, [-1, 28, 28, 1])\n",
    "\n",
    "print('입력', x_2d.shape)\n",
    "\n",
    "# 1단계 -> 4채널 14 * 14\n",
    "\n",
    "c1 = tf.contrib.layers.conv2d(x_2d, 4, [5, 5])\n",
    "p1 = tf.contrib.layers.max_pool2d(c1, [2, 2])\n",
    "\n",
    "print('1단계', p1.shape)\n",
    "\n",
    "# 2단계 -> 8채널 7 * 7\n",
    "\n",
    "c2 = tf.contrib.layers.conv2d(p1, 8, [5, 5])\n",
    "p2 = tf.contrib.layers.max_pool2d(c2, [2, 2])\n",
    "\n",
    "print('2단계', p2.shape)\n",
    "\n",
    "# Flat -> 7 * 7 * 8\n",
    "\n",
    "flat = tf.contrib.layers.flatten(p2)\n",
    "\n",
    "print('모두 연결', flat.shape)\n",
    "\n",
    "# 중간층 -> 출력 노드: 200개\n",
    "\n",
    "hidden = tf.contrib.layers.fully_connected(flat, 200)\n",
    "\n",
    "print('중간', hidden.shape)\n",
    "\n",
    "# 출력 노드: 10개\n",
    "\n",
    "u = tf.layers.dense(hidden, 10)\n",
    "z = tf.nn.softmax(u)\n",
    "\n",
    "print('출력', z.shape)"
   ]
  },
  {
   "cell_type": "code",
   "execution_count": 17,
   "metadata": {},
   "outputs": [],
   "source": [
    "# 손실/비용 함수\n",
    "\n",
    "loss = tf.nn.softmax_cross_entropy_with_logits(\n",
    "    logits=u, # softmax 적용하지 않은 값\n",
    "    labels=tf.one_hot(y, 10)\n",
    ")\n",
    "\n",
    "# 최적화 - Adam algorithm\n",
    "\n",
    "learning_rate = 0.0001\n",
    "train = tf.train.AdamOptimizer(learning_rate).minimize(loss)\n",
    "\n",
    "# 예측\n",
    "\n",
    "predict = tf.argmax(z, axis=1)\n",
    "\n",
    "# 정확도\n",
    "\n",
    "correct = tf.equal(y, predict)\n",
    "accuracy = tf.reduce_mean(tf.cast(correct, tf.float32))"
   ]
  },
  {
   "cell_type": "code",
   "execution_count": 18,
   "metadata": {},
   "outputs": [],
   "source": [
    "# TensorFlow 세션 준비\n",
    "\n",
    "session = tf.Session()\n",
    "session.run(tf.global_variables_initializer())\n",
    "\n",
    "# 정확도 출력\n",
    "\n",
    "test_feed = {\n",
    "    x: mnist.test.images,\n",
    "    y: mnist.test.labels\n",
    "}\n",
    "\n",
    "def print_accuracy(index):\n",
    "    print('{} - {}'.format(index, session.run(accuracy, feed_dict=test_feed)))"
   ]
  },
  {
   "cell_type": "code",
   "execution_count": 19,
   "metadata": {},
   "outputs": [
    {
     "name": "stdout",
     "output_type": "stream",
     "text": [
      "0 - 0.1331000030040741\n",
      "1 - 0.7046999931335449\n",
      "2 - 0.8314999938011169\n",
      "3 - 0.8668000102043152\n",
      "4 - 0.8914999961853027\n",
      "5 - 0.9046000242233276\n",
      "6 - 0.9140999913215637\n",
      "7 - 0.9186999797821045\n",
      "8 - 0.9262999892234802\n",
      "9 - 0.9293000102043152\n",
      "10 - 0.9323999881744385\n",
      "11 - 0.9365000128746033\n",
      "12 - 0.9394999742507935\n",
      "13 - 0.9419999718666077\n",
      "14 - 0.944599986076355\n",
      "15 - 0.9448000192642212\n",
      "16 - 0.9491999745368958\n",
      "17 - 0.9509999752044678\n",
      "18 - 0.9521999955177307\n",
      "19 - 0.954200029373169\n",
      "20 - 0.9555000066757202\n",
      "21 - 0.9574999809265137\n",
      "22 - 0.9585999846458435\n",
      "23 - 0.9596999883651733\n",
      "24 - 0.9611999988555908\n",
      "25 - 0.9632999897003174\n",
      "26 - 0.9625999927520752\n",
      "27 - 0.9639999866485596\n",
      "28 - 0.9660999774932861\n",
      "29 - 0.96670001745224\n",
      "30 - 0.9666000008583069\n",
      "31 - 0.9663000106811523\n",
      "32 - 0.9679999947547913\n",
      "33 - 0.9704999923706055\n",
      "34 - 0.9684000015258789\n",
      "35 - 0.9697999954223633\n",
      "36 - 0.9702000021934509\n",
      "37 - 0.970300018787384\n",
      "38 - 0.97079998254776\n",
      "39 - 0.9713000059127808\n",
      "40 - 0.9733999967575073\n",
      "41 - 0.9728999733924866\n",
      "42 - 0.9729999899864197\n",
      "43 - 0.9749000072479248\n",
      "44 - 0.9743000268936157\n",
      "45 - 0.9732999801635742\n",
      "46 - 0.9750000238418579\n",
      "47 - 0.9733999967575073\n",
      "48 - 0.9751999974250793\n",
      "49 - 0.9764000177383423\n",
      "50 - 0.9753000140190125\n",
      "51 - 0.9764999747276306\n",
      "52 - 0.9768000245094299\n",
      "53 - 0.9772999882698059\n",
      "54 - 0.9757000207901001\n",
      "55 - 0.9778000116348267\n",
      "56 - 0.9771999716758728\n",
      "57 - 0.9765999913215637\n",
      "58 - 0.9768999814987183\n",
      "59 - 0.9771000146865845\n",
      "60 - 0.9794999957084656\n",
      "61 - 0.9789999723434448\n",
      "62 - 0.9782999753952026\n",
      "63 - 0.9771000146865845\n",
      "64 - 0.978600025177002\n",
      "65 - 0.979200005531311\n",
      "66 - 0.9794999957084656\n",
      "67 - 0.9801999926567078\n",
      "68 - 0.9786999821662903\n",
      "69 - 0.9761999845504761\n",
      "70 - 0.9799000024795532\n",
      "71 - 0.9782000184059143\n",
      "72 - 0.9776999950408936\n",
      "73 - 0.9779999852180481\n",
      "74 - 0.9797000288963318\n",
      "75 - 0.9804999828338623\n",
      "76 - 0.9782999753952026\n",
      "77 - 0.9799000024795532\n",
      "78 - 0.9797999858856201\n",
      "79 - 0.9793999791145325\n",
      "80 - 0.9815000295639038\n",
      "81 - 0.9800999760627747\n",
      "82 - 0.9800999760627747\n",
      "83 - 0.9815999865531921\n",
      "84 - 0.9811000227928162\n",
      "85 - 0.9807000160217285\n",
      "86 - 0.9811999797821045\n",
      "87 - 0.9815000295639038\n",
      "88 - 0.9817000031471252\n",
      "89 - 0.9818999767303467\n",
      "90 - 0.9821000099182129\n",
      "91 - 0.9818999767303467\n",
      "92 - 0.982200026512146\n",
      "93 - 0.9818999767303467\n",
      "94 - 0.9819999933242798\n",
      "95 - 0.9829999804496765\n",
      "96 - 0.982699990272522\n",
      "97 - 0.9800000190734863\n",
      "98 - 0.9819999933242798\n",
      "99 - 0.9818999767303467\n",
      "100 - 0.9818000197410583\n",
      "Done!\n"
     ]
    }
   ],
   "source": [
    "# 훈련\n",
    "\n",
    "print_accuracy(0)\n",
    "\n",
    "for i in range(100):\n",
    "    for j in range(100):\n",
    "        x_data, y_data = mnist.train.next_batch(200)\n",
    "        train_feed = {\n",
    "            x: x_data,\n",
    "            y: y_data\n",
    "        }\n",
    "        session.run(train, feed_dict=train_feed)\n",
    "    print_accuracy(i + 1)\n",
    "\n",
    "print('Done!')"
   ]
  },
  {
   "cell_type": "code",
   "execution_count": 20,
   "metadata": {},
   "outputs": [
    {
     "data": {
      "image/png": "[encoded data removed]",
      "text/plain": [
       "<matplotlib.figure.Figure at 0x124e73a20>"
      ]
     },
     "metadata": {},
     "output_type": "display_data"
    }
   ],
   "source": [
    "# 오답 시각화\n",
    "\n",
    "c, p = session.run([correct, predict], feed_dict=test_feed)\n",
    "\n",
    "images = mnist.test.images[~c]\n",
    "labels = p[~c]\n",
    "\n",
    "draw_image(images[:8], labels[:8])"
   ]
  }
 ],
 "metadata": {
  "kernelspec": {
   "display_name": "Python 3",
   "language": "python",
   "name": "python3"
  },
  "language_info": {
   "codemirror_mode": {
    "name": "ipython",
    "version": 3
   },
   "file_extension": ".py",
   "mimetype": "text/x-python",
   "name": "python",
   "nbconvert_exporter": "python",
   "pygments_lexer": "ipython3",
   "version": "3.6.5"
  }
 },
 "nbformat": 4,
 "nbformat_minor": 2
}
