{
 "cells": [
  {
   "cell_type": "code",
   "execution_count": 1,
   "metadata": {},
   "outputs": [
    {
     "data": {
      "text/plain": [
       "'1.3.0'"
      ]
     },
     "execution_count": 1,
     "metadata": {},
     "output_type": "execute_result"
    }
   ],
   "source": [
    "# TensorFlow 라이브러리 불러오기\n",
    "\n",
    "import tensorflow as tf\n",
    "\n",
    "tf.__version__"
   ]
  },
  {
   "cell_type": "code",
   "execution_count": 2,
   "metadata": {},
   "outputs": [
    {
     "data": {
      "text/plain": [
       "'1.13.1'"
      ]
     },
     "execution_count": 2,
     "metadata": {},
     "output_type": "execute_result"
    }
   ],
   "source": [
    "# NumPy 라이브러리 불러오기\n",
    "\n",
    "import numpy as np\n",
    "\n",
    "np.__version__"
   ]
  },
  {
   "cell_type": "code",
   "execution_count": 3,
   "metadata": {},
   "outputs": [
    {
     "data": {
      "text/plain": [
       "'2.0.2'"
      ]
     },
     "execution_count": 3,
     "metadata": {},
     "output_type": "execute_result"
    }
   ],
   "source": [
    "# Matplotlib 라이브러리 불러오기\n",
    "\n",
    "import matplotlib\n",
    "import matplotlib.pyplot as plt\n",
    "\n",
    "matplotlib.__version__"
   ]
  },
  {
   "cell_type": "code",
   "execution_count": 4,
   "metadata": {},
   "outputs": [
    {
     "name": "stdout",
     "output_type": "stream",
     "text": [
      "Extracting /tmp/mnist-data/train-images-idx3-ubyte.gz\n",
      "Extracting /tmp/mnist-data/train-labels-idx1-ubyte.gz\n",
      "Extracting /tmp/mnist-data/t10k-images-idx3-ubyte.gz\n",
      "Extracting /tmp/mnist-data/t10k-labels-idx1-ubyte.gz\n"
     ]
    }
   ],
   "source": [
    "# MNIST 데이터 로딩\n",
    "\n",
    "from tensorflow.examples.tutorials.mnist import input_data\n",
    "\n",
    "mnist = input_data.read_data_sets('/tmp/mnist-data')"
   ]
  },
  {
   "cell_type": "code",
   "execution_count": 5,
   "metadata": {},
   "outputs": [
    {
     "data": {
      "text/plain": [
       "((55000, 784), (55000,))"
      ]
     },
     "execution_count": 5,
     "metadata": {},
     "output_type": "execute_result"
    }
   ],
   "source": [
    "# 훈련 데이터 확인\n",
    "\n",
    "mnist.train.images.shape, mnist.train.labels.shape"
   ]
  },
  {
   "cell_type": "code",
   "execution_count": 6,
   "metadata": {},
   "outputs": [
    {
     "data": {
      "text/plain": [
       "((10000, 784), (10000,))"
      ]
     },
     "execution_count": 6,
     "metadata": {},
     "output_type": "execute_result"
    }
   ],
   "source": [
    "# 테스트 데이터 확인\n",
    "\n",
    "mnist.test.images.shape, mnist.test.labels.shape"
   ]
  },
  {
   "cell_type": "code",
   "execution_count": 7,
   "metadata": {},
   "outputs": [
    {
     "data": {
      "image/png": "[encoded data removed]",
      "text/plain": [
       "<matplotlib.figure.Figure at 0x11518db70>"
      ]
     },
     "metadata": {},
     "output_type": "display_data"
    },
    {
     "data": {
      "image/png": "[encoded data removed]",
      "text/plain": [
       "<matplotlib.figure.Figure at 0x11518dbe0>"
      ]
     },
     "metadata": {},
     "output_type": "display_data"
    }
   ],
   "source": [
    "# 손글씨 이미지 시각화\n",
    "\n",
    "def draw_image(images, labels):\n",
    "    fig, axes = plt.subplots(1, images.shape[0])\n",
    "    for i, ax in enumerate(axes.flat):\n",
    "        ax.set_axis_off()\n",
    "        ax.imshow(images[i].reshape(28, 28))\n",
    "        ax.set_title(labels[i])\n",
    "    plt.show()\n",
    "\n",
    "draw_image(mnist.train.images[:8],\n",
    "           mnist.train.labels[:8])\n",
    "\n",
    "draw_image(mnist.test.images[:8],\n",
    "           mnist.test.labels[:8])"
   ]
  },
  {
   "cell_type": "code",
   "execution_count": 8,
   "metadata": {
    "collapsed": true
   },
   "outputs": [],
   "source": [
    "# 신경망 모델 생성\n",
    "\n",
    "# 데이터\n",
    "\n",
    "x = tf.placeholder(tf.float32, [None, 28 * 28])\n",
    "y = tf.placeholder(tf.int64, [None])\n",
    "\n",
    "# 입력 노드: 28 * 28개 / 출력 노드: 10개\n",
    "\n",
    "w = tf.Variable(tf.truncated_normal([28 * 28, 10], stddev=0.1))\n",
    "b = tf.Variable(tf.truncated_normal([10], stddev=0.1))\n",
    "\n",
    "# f( W * x + b )\n",
    "\n",
    "u = tf.matmul(x, w) + b\n",
    "z = tf.nn.softmax(u)"
   ]
  },
  {
   "cell_type": "code",
   "execution_count": 9,
   "metadata": {
    "collapsed": true
   },
   "outputs": [],
   "source": [
    "# 손실/비용 함수\n",
    "\n",
    "loss = tf.nn.softmax_cross_entropy_with_logits(\n",
    "    logits=u, # softmax 적용하지 않은 값\n",
    "    labels=tf.one_hot(y, 10)\n",
    ")\n",
    "\n",
    "# 최적화\n",
    "\n",
    "learning_rate = 0.3\n",
    "train = tf.train.GradientDescentOptimizer(learning_rate).minimize(loss)"
   ]
  },
  {
   "cell_type": "code",
   "execution_count": 10,
   "metadata": {
    "collapsed": true
   },
   "outputs": [],
   "source": [
    "# 예측\n",
    "\n",
    "predict = tf.argmax(z, axis=1)\n",
    "\n",
    "# 정확도\n",
    "\n",
    "correct = tf.equal(y, predict)\n",
    "accuracy = tf.reduce_mean(tf.cast(correct, tf.float32))"
   ]
  },
  {
   "cell_type": "code",
   "execution_count": 11,
   "metadata": {
    "collapsed": true
   },
   "outputs": [],
   "source": [
    "# TensorFlow 세션 준비\n",
    "\n",
    "session = tf.Session()\n",
    "session.run(tf.global_variables_initializer())"
   ]
  },
  {
   "cell_type": "code",
   "execution_count": 12,
   "metadata": {
    "collapsed": true
   },
   "outputs": [],
   "source": [
    "# 정확도 출력\n",
    "\n",
    "test_feed = {\n",
    "    x: mnist.test.images,\n",
    "    y: mnist.test.labels\n",
    "}\n",
    "\n",
    "def print_accuracy(index):\n",
    "    print('{} - {}'.format(index, session.run(accuracy, feed_dict=test_feed)))"
   ]
  },
  {
   "cell_type": "code",
   "execution_count": 13,
   "metadata": {
    "scrolled": false
   },
   "outputs": [
    {
     "name": "stdout",
     "output_type": "stream",
     "text": [
      "0 - 0.2231999933719635\n",
      "1 - 0.8907999992370605\n",
      "2 - 0.8809999823570251\n",
      "3 - 0.8892999887466431\n",
      "4 - 0.8806999921798706\n",
      "5 - 0.8930000066757202\n",
      "6 - 0.8860999941825867\n",
      "7 - 0.9092000126838684\n",
      "8 - 0.8955000042915344\n",
      "9 - 0.9068999886512756\n",
      "10 - 0.8252999782562256\n",
      "11 - 0.8266000151634216\n",
      "12 - 0.8428999781608582\n",
      "13 - 0.8783000111579895\n",
      "14 - 0.8949000239372253\n",
      "15 - 0.9139999747276306\n",
      "16 - 0.9175999760627747\n",
      "17 - 0.859000027179718\n",
      "18 - 0.829800009727478\n",
      "19 - 0.8877999782562256\n",
      "20 - 0.8783000111579895\n",
      "21 - 0.8985000252723694\n",
      "22 - 0.9121999740600586\n",
      "23 - 0.9132999777793884\n",
      "24 - 0.8758999705314636\n",
      "25 - 0.9154000282287598\n",
      "26 - 0.9093000292778015\n",
      "27 - 0.8650000095367432\n",
      "28 - 0.9103999733924866\n",
      "29 - 0.8644000291824341\n",
      "30 - 0.9171000123023987\n",
      "31 - 0.8859999775886536\n",
      "32 - 0.9088000059127808\n",
      "33 - 0.8845000267028809\n",
      "34 - 0.8967000246047974\n",
      "35 - 0.8927000164985657\n",
      "36 - 0.870199978351593\n",
      "37 - 0.916100025177002\n",
      "38 - 0.8891000151634216\n",
      "39 - 0.9031999707221985\n",
      "40 - 0.9147999882698059\n",
      "41 - 0.8964999914169312\n",
      "42 - 0.8962000012397766\n",
      "43 - 0.8043000102043152\n",
      "44 - 0.8604000210762024\n",
      "45 - 0.9176999926567078\n",
      "46 - 0.899399995803833\n",
      "47 - 0.7864999771118164\n",
      "48 - 0.8511999845504761\n",
      "49 - 0.7376000285148621\n",
      "50 - 0.8831999897956848\n",
      "51 - 0.8313999772071838\n",
      "52 - 0.9041000008583069\n",
      "53 - 0.8982999920845032\n",
      "54 - 0.90829998254776\n",
      "55 - 0.8331999778747559\n",
      "56 - 0.8991000056266785\n",
      "57 - 0.9010999798774719\n",
      "58 - 0.9126999974250793\n",
      "59 - 0.910099983215332\n",
      "60 - 0.914900004863739\n",
      "61 - 0.9010000228881836\n",
      "62 - 0.9053999781608582\n",
      "63 - 0.9114999771118164\n",
      "64 - 0.8827999830245972\n",
      "65 - 0.8978000283241272\n",
      "66 - 0.8729000091552734\n",
      "67 - 0.8920999765396118\n",
      "68 - 0.9135000109672546\n",
      "69 - 0.8482000231742859\n",
      "70 - 0.8406999707221985\n",
      "71 - 0.8259000182151794\n",
      "72 - 0.8568000197410583\n",
      "73 - 0.9059000015258789\n",
      "74 - 0.8999000191688538\n",
      "75 - 0.9121000170707703\n",
      "76 - 0.9093000292778015\n",
      "77 - 0.9023000001907349\n",
      "78 - 0.9085000157356262\n",
      "79 - 0.8962000012397766\n",
      "80 - 0.9081000089645386\n",
      "81 - 0.8402000069618225\n",
      "82 - 0.9121000170707703\n",
      "83 - 0.9004999995231628\n",
      "84 - 0.9122999906539917\n",
      "85 - 0.9114999771118164\n",
      "86 - 0.9135000109672546\n",
      "87 - 0.9039000272750854\n",
      "88 - 0.8827999830245972\n",
      "89 - 0.8377000093460083\n",
      "90 - 0.880299985408783\n",
      "91 - 0.9118000268936157\n",
      "92 - 0.9083999991416931\n",
      "93 - 0.8942000269889832\n",
      "94 - 0.9086999893188477\n",
      "95 - 0.8788999915122986\n",
      "96 - 0.8885999917984009\n",
      "97 - 0.8399999737739563\n",
      "98 - 0.9038000106811523\n",
      "99 - 0.9074000120162964\n",
      "100 - 0.8931000232696533\n",
      "Done!\n"
     ]
    }
   ],
   "source": [
    "# 훈련\n",
    "\n",
    "print_accuracy(0)\n",
    "\n",
    "for i in range(100):\n",
    "    for j in range(100):\n",
    "        x_data, y_data = mnist.train.next_batch(200)\n",
    "        train_feed = {\n",
    "            x: x_data,\n",
    "            y: y_data\n",
    "        }\n",
    "        session.run(train, feed_dict=train_feed)\n",
    "    print_accuracy(i + 1)\n",
    "\n",
    "print('Done!')"
   ]
  },
  {
   "cell_type": "code",
   "execution_count": 14,
   "metadata": {},
   "outputs": [
    {
     "data": {
      "image/png": "[encoded data removed]",
      "text/plain": [
       "<matplotlib.figure.Figure at 0x11e35bd68>"
      ]
     },
     "metadata": {},
     "output_type": "display_data"
    }
   ],
   "source": [
    "# 오답 시각화\n",
    "\n",
    "c, p = session.run([correct, predict], feed_dict=test_feed)\n",
    "\n",
    "images = mnist.test.images[~c]\n",
    "labels = p[~c]\n",
    "\n",
    "draw_image(images[:8], labels[:8])"
   ]
  },
  {
   "cell_type": "code",
   "execution_count": 15,
   "metadata": {
    "collapsed": true
   },
   "outputs": [],
   "source": [
    "# TensorFlow 그래프 초기화\n",
    "\n",
    "tf.reset_default_graph()"
   ]
  },
  {
   "cell_type": "code",
   "execution_count": 16,
   "metadata": {},
   "outputs": [
    {
     "name": "stdout",
     "output_type": "stream",
     "text": [
      "입력 (?, 28, 28, 1)\n",
      "1단계 (?, 14, 14, 4)\n",
      "2단계 (?, 7, 7, 8)\n",
      "모두 연결 (?, 392)\n",
      "중간 (?, 200)\n",
      "출력 (?, 10)\n"
     ]
    }
   ],
   "source": [
    "# CNN 모델 생성\n",
    "\n",
    "x = tf.placeholder(tf.float32, [None, 28 * 28])\n",
    "y = tf.placeholder(tf.int64, [None])\n",
    "\n",
    "x_2d = tf.reshape(x, [-1, 28, 28, 1])\n",
    "\n",
    "print('입력', x_2d.shape)\n",
    "\n",
    "# 1단계 -> 4채널 14 * 14\n",
    "\n",
    "c1 = tf.contrib.layers.conv2d(x_2d, 4, [5, 5])\n",
    "p1 = tf.contrib.layers.max_pool2d(c1, [2, 2])\n",
    "\n",
    "print('1단계', p1.shape)\n",
    "\n",
    "# 2단계 -> 8채널 7 * 7\n",
    "\n",
    "c2 = tf.contrib.layers.conv2d(p1, 8, [5, 5])\n",
    "p2 = tf.contrib.layers.max_pool2d(c2, [2, 2])\n",
    "\n",
    "print('2단계', p2.shape)\n",
    "\n",
    "# Flat -> 7 * 7 * 8\n",
    "\n",
    "flat = tf.contrib.layers.flatten(p2)\n",
    "\n",
    "print('모두 연결', flat.shape)\n",
    "\n",
    "# 중간층 -> 출력 노드: 200개\n",
    "\n",
    "hidden = tf.contrib.layers.fully_connected(flat, 200)\n",
    "\n",
    "print('중간', hidden.shape)\n",
    "\n",
    "# 출력 노드: 10개\n",
    "\n",
    "u = tf.layers.dense(hidden, 10)\n",
    "z = tf.nn.softmax(u)\n",
    "\n",
    "print('출력', z.shape)"
   ]
  },
  {
   "cell_type": "code",
   "execution_count": 17,
   "metadata": {
    "collapsed": true
   },
   "outputs": [],
   "source": [
    "# 손실/비용 함수\n",
    "\n",
    "loss = tf.nn.softmax_cross_entropy_with_logits(\n",
    "    logits=u, # softmax 적용하지 않은 값\n",
    "    labels=tf.one_hot(y, 10)\n",
    ")\n",
    "\n",
    "# 최적화 - Adam algorithm\n",
    "\n",
    "learning_rate = 0.0001\n",
    "train = tf.train.AdamOptimizer(learning_rate).minimize(loss)\n",
    "\n",
    "# 예측\n",
    "\n",
    "predict = tf.argmax(z, axis=1)\n",
    "\n",
    "# 정확도\n",
    "\n",
    "correct = tf.equal(y, predict)\n",
    "accuracy = tf.reduce_mean(tf.cast(correct, tf.float32))"
   ]
  },
  {
   "cell_type": "code",
   "execution_count": 18,
   "metadata": {
    "collapsed": true
   },
   "outputs": [],
   "source": [
    "# TensorFlow 세션 준비\n",
    "\n",
    "session = tf.Session()\n",
    "session.run(tf.global_variables_initializer())\n",
    "\n",
    "# 정확도 출력\n",
    "\n",
    "test_feed = {\n",
    "    x: mnist.test.images,\n",
    "    y: mnist.test.labels\n",
    "}\n",
    "\n",
    "def print_accuracy(index):\n",
    "    print('{} - {}'.format(index, session.run(accuracy, feed_dict=test_feed)))"
   ]
  },
  {
   "cell_type": "code",
   "execution_count": 19,
   "metadata": {},
   "outputs": [
    {
     "name": "stdout",
     "output_type": "stream",
     "text": [
      "0 - 0.07150000333786011\n",
      "1 - 0.704200029373169\n",
      "2 - 0.8346999883651733\n",
      "3 - 0.8733000159263611\n",
      "4 - 0.8971999883651733\n",
      "5 - 0.9096999764442444\n",
      "6 - 0.9175000190734863\n",
      "7 - 0.9244999885559082\n",
      "8 - 0.9302999973297119\n",
      "9 - 0.9332000017166138\n",
      "10 - 0.9376999735832214\n",
      "11 - 0.9394000172615051\n",
      "12 - 0.9442999958992004\n",
      "13 - 0.9466999769210815\n",
      "14 - 0.9478999972343445\n",
      "15 - 0.9509000182151794\n",
      "16 - 0.9534000158309937\n",
      "17 - 0.9564999938011169\n",
      "18 - 0.9569000005722046\n",
      "19 - 0.9603999853134155\n",
      "20 - 0.9603999853134155\n",
      "21 - 0.9617000222206116\n",
      "22 - 0.961899995803833\n",
      "23 - 0.9621000289916992\n",
      "24 - 0.9641000032424927\n",
      "25 - 0.9663000106811523\n",
      "26 - 0.9670000076293945\n",
      "27 - 0.9684000015258789\n",
      "28 - 0.9685999751091003\n",
      "29 - 0.9672999978065491\n",
      "30 - 0.9697999954223633\n",
      "31 - 0.9704999923706055\n",
      "32 - 0.972599983215332\n",
      "33 - 0.9714000225067139\n",
      "34 - 0.9724000096321106\n",
      "35 - 0.9722999930381775\n",
      "36 - 0.9731000065803528\n",
      "37 - 0.9732999801635742\n",
      "38 - 0.9743000268936157\n",
      "39 - 0.9742000102996826\n",
      "40 - 0.9746999740600586\n",
      "41 - 0.9754999876022339\n",
      "42 - 0.9747999906539917\n",
      "43 - 0.9764000177383423\n",
      "44 - 0.9760000109672546\n",
      "45 - 0.9764000177383423\n",
      "46 - 0.9760000109672546\n",
      "47 - 0.9753999710083008\n",
      "48 - 0.977400004863739\n",
      "49 - 0.9771000146865845\n",
      "50 - 0.9778000116348267\n",
      "51 - 0.9781000018119812\n",
      "52 - 0.9779999852180481\n",
      "53 - 0.9785000085830688\n",
      "54 - 0.9785000085830688\n",
      "55 - 0.979200005531311\n",
      "56 - 0.9782000184059143\n",
      "57 - 0.9794999957084656\n",
      "58 - 0.979200005531311\n",
      "59 - 0.9794999957084656\n",
      "60 - 0.980400025844574\n",
      "61 - 0.9794999957084656\n",
      "62 - 0.9805999994277954\n",
      "63 - 0.9805999994277954\n",
      "64 - 0.9807999730110168\n",
      "65 - 0.9804999828338623\n",
      "66 - 0.9818000197410583\n",
      "67 - 0.9817000031471252\n",
      "68 - 0.9810000061988831\n",
      "69 - 0.9811000227928162\n",
      "70 - 0.9812999963760376\n",
      "71 - 0.9819999933242798\n",
      "72 - 0.9824000000953674\n",
      "73 - 0.9818000197410583\n",
      "74 - 0.9815999865531921\n",
      "75 - 0.9825999736785889\n",
      "76 - 0.9821000099182129\n",
      "77 - 0.9829999804496765\n",
      "78 - 0.9829000234603882\n",
      "79 - 0.9837999939918518\n",
      "80 - 0.9836999773979187\n",
      "81 - 0.9832000136375427\n",
      "82 - 0.9836999773979187\n",
      "83 - 0.9835000038146973\n",
      "84 - 0.9836999773979187\n",
      "85 - 0.9832000136375427\n",
      "86 - 0.9837999939918518\n",
      "87 - 0.9843000173568726\n",
      "88 - 0.9850000143051147\n",
      "89 - 0.9847999811172485\n",
      "90 - 0.9835000038146973\n",
      "91 - 0.9847999811172485\n",
      "92 - 0.9854000210762024\n",
      "93 - 0.9858999848365784\n",
      "94 - 0.9851999878883362\n",
      "95 - 0.9836999773979187\n",
      "96 - 0.9851999878883362\n",
      "97 - 0.9850999712944031\n",
      "98 - 0.9853000044822693\n",
      "99 - 0.98580002784729\n",
      "100 - 0.9851999878883362\n",
      "Done!\n"
     ]
    }
   ],
   "source": [
    "# 훈련\n",
    "\n",
    "print_accuracy(0)\n",
    "\n",
    "for i in range(100):\n",
    "    for j in range(100):\n",
    "        x_data, y_data = mnist.train.next_batch(200)\n",
    "        train_feed = {\n",
    "            x: x_data,\n",
    "            y: y_data\n",
    "        }\n",
    "        session.run(train, feed_dict=train_feed)\n",
    "    print_accuracy(i + 1)\n",
    "\n",
    "print('Done!')"
   ]
  },
  {
   "cell_type": "code",
   "execution_count": 20,
   "metadata": {},
   "outputs": [
    {
     "data": {
      "image/png": "[encoded data removed]",
      "text/plain": [
       "<matplotlib.figure.Figure at 0x105edb7b8>"
      ]
     },
     "metadata": {},
     "output_type": "display_data"
    }
   ],
   "source": [
    "# 오답 시각화\n",
    "\n",
    "c, p = session.run([correct, predict], feed_dict=test_feed)\n",
    "\n",
    "images = mnist.test.images[~c]\n",
    "labels = p[~c]\n",
    "\n",
    "draw_image(images[:8], labels[:8])"
   ]
  },
  {
   "cell_type": "code",
   "execution_count": null,
   "metadata": {
    "collapsed": true
   },
   "outputs": [],
   "source": []
  }
 ],
 "metadata": {
  "kernelspec": {
   "display_name": "Python 3",
   "language": "python",
   "name": "python3"
  },
  "language_info": {
   "codemirror_mode": {
    "name": "ipython",
    "version": 3
   },
   "file_extension": ".py",
   "mimetype": "text/x-python",
   "name": "python",
   "nbconvert_exporter": "python",
   "pygments_lexer": "ipython3",
   "version": "3.6.2"
  }
 },
 "nbformat": 4,
 "nbformat_minor": 2
}
