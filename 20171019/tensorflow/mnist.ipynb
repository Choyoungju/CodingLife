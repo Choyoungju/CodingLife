{
 "cells": [
  {
   "cell_type": "code",
   "execution_count": 1,
   "metadata": {},
   "outputs": [
    {
     "data": {
      "text/plain": [
       "'1.3.0'"
      ]
     },
     "execution_count": 1,
     "metadata": {},
     "output_type": "execute_result"
    }
   ],
   "source": [
    "# TensorFlow 라이브러리 불러오기\n",
    "\n",
    "import tensorflow as tf\n",
    "\n",
    "tf.__version__"
   ]
  },
  {
   "cell_type": "code",
   "execution_count": 2,
   "metadata": {},
   "outputs": [
    {
     "data": {
      "text/plain": [
       "'1.13.1'"
      ]
     },
     "execution_count": 2,
     "metadata": {},
     "output_type": "execute_result"
    }
   ],
   "source": [
    "# NumPy 라이브러리 불러오기\n",
    "\n",
    "import numpy as np\n",
    "\n",
    "np.__version__"
   ]
  },
  {
   "cell_type": "code",
   "execution_count": 3,
   "metadata": {},
   "outputs": [
    {
     "data": {
      "text/plain": [
       "'2.0.2'"
      ]
     },
     "execution_count": 3,
     "metadata": {},
     "output_type": "execute_result"
    }
   ],
   "source": [
    "# Matplotlib 라이브러리 불러오기\n",
    "\n",
    "import matplotlib\n",
    "import matplotlib.pyplot as plt\n",
    "\n",
    "matplotlib.__version__"
   ]
  },
  {
   "cell_type": "code",
   "execution_count": 4,
   "metadata": {},
   "outputs": [
    {
     "name": "stdout",
     "output_type": "stream",
     "text": [
      "Extracting /tmp/mnist-data/train-images-idx3-ubyte.gz\n",
      "Extracting /tmp/mnist-data/train-labels-idx1-ubyte.gz\n",
      "Extracting /tmp/mnist-data/t10k-images-idx3-ubyte.gz\n",
      "Extracting /tmp/mnist-data/t10k-labels-idx1-ubyte.gz\n"
     ]
    }
   ],
   "source": [
    "# MNIST 데이터 로딩\n",
    "\n",
    "from tensorflow.examples.tutorials.mnist import input_data\n",
    "\n",
    "mnist = input_data.read_data_sets('/tmp/mnist-data')"
   ]
  },
  {
   "cell_type": "code",
   "execution_count": 5,
   "metadata": {},
   "outputs": [
    {
     "data": {
      "text/plain": [
       "((55000, 784), (55000,))"
      ]
     },
     "execution_count": 5,
     "metadata": {},
     "output_type": "execute_result"
    }
   ],
   "source": [
    "# 훈련 데이터 확인\n",
    "\n",
    "mnist.train.images.shape, mnist.train.labels.shape"
   ]
  },
  {
   "cell_type": "code",
   "execution_count": 6,
   "metadata": {},
   "outputs": [
    {
     "data": {
      "text/plain": [
       "((10000, 784), (10000,))"
      ]
     },
     "execution_count": 6,
     "metadata": {},
     "output_type": "execute_result"
    }
   ],
   "source": [
    "# 테스트 데이터 확인\n",
    "\n",
    "mnist.test.images.shape, mnist.test.labels.shape"
   ]
  },
  {
   "cell_type": "code",
   "execution_count": 7,
   "metadata": {},
   "outputs": [
    {
     "data": {
      "image/png": "[encoded data removed]",
      "text/plain": [
       "<matplotlib.figure.Figure at 0x1117fec50>"
      ]
     },
     "metadata": {},
     "output_type": "display_data"
    },
    {
     "data": {
      "image/png": "[encoded data removed]",
      "text/plain": [
       "<matplotlib.figure.Figure at 0x1117fecc0>"
      ]
     },
     "metadata": {},
     "output_type": "display_data"
    }
   ],
   "source": [
    "# 손글씨 이미지 시각화\n",
    "\n",
    "def draw_image(images, labels):\n",
    "    fig, axes = plt.subplots(1, images.shape[0])\n",
    "    for i, ax in enumerate(axes.flat):\n",
    "        ax.set_axis_off()\n",
    "        ax.imshow(images[i].reshape(28, 28))\n",
    "        ax.set_title(labels[i])\n",
    "    plt.show()\n",
    "\n",
    "draw_image(mnist.train.images[:8],\n",
    "           mnist.train.labels[:8])\n",
    "\n",
    "draw_image(mnist.test.images[:8],\n",
    "           mnist.test.labels[:8])"
   ]
  },
  {
   "cell_type": "code",
   "execution_count": 8,
   "metadata": {
    "collapsed": true
   },
   "outputs": [],
   "source": [
    "# 신경망 모델 생성\n",
    "\n",
    "# 데이터\n",
    "\n",
    "x = tf.placeholder(tf.float32, [None, 28 * 28])\n",
    "y = tf.placeholder(tf.int64, [None])\n",
    "\n",
    "# 입력 노드: 28 * 28개 / 출력 노드: 10개\n",
    "\n",
    "w = tf.Variable(tf.truncated_normal([28 * 28, 10], stddev=0.1))\n",
    "b = tf.Variable(tf.truncated_normal([10], stddev=0.1))\n",
    "\n",
    "# f( W * x + b )\n",
    "\n",
    "u = tf.matmul(x, w) + b\n",
    "z = tf.nn.softmax(u)"
   ]
  },
  {
   "cell_type": "code",
   "execution_count": 9,
   "metadata": {
    "collapsed": true
   },
   "outputs": [],
   "source": [
    "# 손실/비용 함수\n",
    "\n",
    "loss = tf.nn.softmax_cross_entropy_with_logits(\n",
    "    logits=u, # softmax 적용하지 않은 값\n",
    "    labels=tf.one_hot(y, 10)\n",
    ")\n",
    "\n",
    "# 최적화\n",
    "\n",
    "learning_rate = 0.3\n",
    "train = tf.train.GradientDescentOptimizer(learning_rate).minimize(loss)"
   ]
  },
  {
   "cell_type": "code",
   "execution_count": 10,
   "metadata": {
    "collapsed": true
   },
   "outputs": [],
   "source": [
    "# 예측\n",
    "\n",
    "predict = tf.argmax(z, axis=1)\n",
    "\n",
    "# 정확도\n",
    "\n",
    "correct = tf.equal(y, predict)\n",
    "accuracy = tf.reduce_mean(tf.cast(correct, tf.float32))"
   ]
  },
  {
   "cell_type": "code",
   "execution_count": 11,
   "metadata": {
    "collapsed": true
   },
   "outputs": [],
   "source": [
    "# TensorFlow 세션 준비\n",
    "\n",
    "session = tf.Session()\n",
    "session.run(tf.global_variables_initializer())"
   ]
  },
  {
   "cell_type": "code",
   "execution_count": 12,
   "metadata": {
    "collapsed": true
   },
   "outputs": [],
   "source": [
    "# 정확도 출력\n",
    "\n",
    "test_feed = {\n",
    "    x: mnist.test.images,\n",
    "    y: mnist.test.labels\n",
    "}\n",
    "\n",
    "def print_accuracy(index):\n",
    "    print('{} - {}'.format(index, session.run(accuracy, feed_dict=test_feed)))"
   ]
  },
  {
   "cell_type": "code",
   "execution_count": 13,
   "metadata": {
    "scrolled": false
   },
   "outputs": [
    {
     "name": "stdout",
     "output_type": "stream",
     "text": [
      "0 - 0.08900000154972076\n",
      "1 - 0.824400007724762\n",
      "2 - 0.8884000182151794\n",
      "3 - 0.6150000095367432\n",
      "4 - 0.8276000022888184\n",
      "5 - 0.8989999890327454\n",
      "6 - 0.8495000004768372\n",
      "7 - 0.8657000064849854\n",
      "8 - 0.9035000205039978\n",
      "9 - 0.763700008392334\n",
      "10 - 0.7735000252723694\n",
      "11 - 0.7264000177383423\n",
      "12 - 0.9039000272750854\n",
      "13 - 0.8851000070571899\n",
      "14 - 0.90829998254776\n",
      "15 - 0.895799994468689\n",
      "16 - 0.892300009727478\n",
      "17 - 0.9064000248908997\n",
      "18 - 0.8985999822616577\n",
      "19 - 0.9068999886512756\n",
      "20 - 0.8762999773025513\n",
      "21 - 0.9104999899864197\n",
      "22 - 0.896399974822998\n",
      "23 - 0.906499981880188\n",
      "24 - 0.9156000018119812\n",
      "25 - 0.8291000127792358\n",
      "26 - 0.9082000255584717\n",
      "27 - 0.8551999926567078\n",
      "28 - 0.8774999976158142\n",
      "29 - 0.9021000266075134\n",
      "30 - 0.8932999968528748\n",
      "31 - 0.7091000080108643\n",
      "32 - 0.9168999791145325\n",
      "33 - 0.8508999943733215\n",
      "34 - 0.9110000133514404\n",
      "35 - 0.9111999869346619\n",
      "36 - 0.913100004196167\n",
      "37 - 0.8565000295639038\n",
      "38 - 0.8385999798774719\n",
      "39 - 0.9118000268936157\n",
      "40 - 0.873199999332428\n",
      "41 - 0.8878999948501587\n",
      "42 - 0.8960999846458435\n",
      "43 - 0.8216000199317932\n",
      "44 - 0.8618000149726868\n",
      "45 - 0.9120000004768372\n",
      "46 - 0.9041000008583069\n",
      "47 - 0.7486000061035156\n",
      "48 - 0.8370000123977661\n",
      "49 - 0.8025000095367432\n",
      "50 - 0.8953999876976013\n",
      "51 - 0.8217999935150146\n",
      "52 - 0.8356000185012817\n",
      "53 - 0.7809000015258789\n",
      "54 - 0.9023000001907349\n",
      "55 - 0.9151999950408936\n",
      "56 - 0.8877999782562256\n",
      "57 - 0.9067999720573425\n",
      "58 - 0.8963000178337097\n",
      "59 - 0.909500002861023\n",
      "60 - 0.8871999979019165\n",
      "61 - 0.8899000287055969\n",
      "62 - 0.8847000002861023\n",
      "63 - 0.9083999991416931\n",
      "64 - 0.8981000185012817\n",
      "65 - 0.9114999771118164\n",
      "66 - 0.9070000052452087\n",
      "67 - 0.9110999703407288\n",
      "68 - 0.9164000153541565\n",
      "69 - 0.8797000050544739\n",
      "70 - 0.9070000052452087\n",
      "71 - 0.8935999870300293\n",
      "72 - 0.900600016117096\n",
      "73 - 0.8889999985694885\n",
      "74 - 0.8980000019073486\n",
      "75 - 0.9088000059127808\n",
      "76 - 0.8914999961853027\n",
      "77 - 0.8662999868392944\n",
      "78 - 0.9136999845504761\n",
      "79 - 0.8317000269889832\n",
      "80 - 0.8937000036239624\n",
      "81 - 0.8870000243186951\n",
      "82 - 0.9035999774932861\n",
      "83 - 0.8104000091552734\n",
      "84 - 0.9107999801635742\n",
      "85 - 0.8888000249862671\n",
      "86 - 0.9074000120162964\n",
      "87 - 0.7152000069618225\n",
      "88 - 0.9110000133514404\n",
      "89 - 0.8730999827384949\n",
      "90 - 0.8090000152587891\n",
      "91 - 0.9052000045776367\n",
      "92 - 0.907800018787384\n",
      "93 - 0.8621000051498413\n",
      "94 - 0.8998000025749207\n",
      "95 - 0.9128000140190125\n",
      "96 - 0.8950999975204468\n",
      "97 - 0.8658000230789185\n",
      "98 - 0.9154000282287598\n",
      "99 - 0.8948000073432922\n",
      "100 - 0.900600016117096\n",
      "Done!\n"
     ]
    }
   ],
   "source": [
    "# 훈련\n",
    "\n",
    "print_accuracy(0)\n",
    "\n",
    "for i in range(100):\n",
    "    for j in range(100):\n",
    "        x_data, y_data = mnist.train.next_batch(200)\n",
    "        train_feed = {\n",
    "            x: x_data,\n",
    "            y: y_data\n",
    "        }\n",
    "        session.run(train, feed_dict=train_feed)\n",
    "    print_accuracy(i + 1)\n",
    "\n",
    "print('Done!')"
   ]
  },
  {
   "cell_type": "code",
   "execution_count": 14,
   "metadata": {},
   "outputs": [
    {
     "data": {
      "image/png": "[encoded data removed]",
      "text/plain": [
       "<matplotlib.figure.Figure at 0x11a6fe208>"
      ]
     },
     "metadata": {},
     "output_type": "display_data"
    }
   ],
   "source": [
    "# 오답 시각화\n",
    "\n",
    "c, p = session.run([correct, predict], feed_dict=test_feed)\n",
    "\n",
    "images = mnist.test.images[~c]\n",
    "labels = p[~c]\n",
    "\n",
    "draw_image(images[:8], labels[:8])"
   ]
  },
  {
   "cell_type": "code",
   "execution_count": 15,
   "metadata": {
    "collapsed": true
   },
   "outputs": [],
   "source": [
    "# TensorFlow 그래프 초기화\n",
    "\n",
    "tf.reset_default_graph()"
   ]
  },
  {
   "cell_type": "code",
   "execution_count": 16,
   "metadata": {},
   "outputs": [
    {
     "name": "stdout",
     "output_type": "stream",
     "text": [
      "입력 (?, 28, 28, 1)\n",
      "1단계 (?, 14, 14, 4)\n",
      "2단계 (?, 7, 7, 8)\n",
      "모두 연결 (?, 392)\n",
      "중간 (?, 200)\n",
      "출력 (?, 10)\n"
     ]
    }
   ],
   "source": [
    "# CNN 모델 생성\n",
    "\n",
    "x = tf.placeholder(tf.float32, [None, 28 * 28])\n",
    "y = tf.placeholder(tf.int64, [None])\n",
    "\n",
    "x_2d = tf.reshape(x, [-1, 28, 28, 1])\n",
    "\n",
    "print('입력', x_2d.shape)\n",
    "\n",
    "# 1단계 -> 4채널 14 * 14\n",
    "\n",
    "c1 = tf.contrib.layers.conv2d(x_2d, 4, [5, 5])\n",
    "p1 = tf.contrib.layers.max_pool2d(c1, [2, 2])\n",
    "\n",
    "print('1단계', p1.shape)\n",
    "\n",
    "# 2단계 -> 8채널 7 * 7\n",
    "\n",
    "c2 = tf.contrib.layers.conv2d(p1, 8, [5, 5])\n",
    "p2 = tf.contrib.layers.max_pool2d(c2, [2, 2])\n",
    "\n",
    "print('2단계', p2.shape)\n",
    "\n",
    "# Flat -> 7 * 7 * 8\n",
    "\n",
    "flat = tf.contrib.layers.flatten(p2)\n",
    "\n",
    "print('모두 연결', flat.shape)\n",
    "\n",
    "# 중간층 -> 출력 노드: 200개\n",
    "\n",
    "hidden = tf.contrib.layers.fully_connected(flat, 200)\n",
    "\n",
    "print('중간', hidden.shape)\n",
    "\n",
    "# 출력 노드: 10개\n",
    "\n",
    "u = tf.layers.dense(hidden, 10)\n",
    "z = tf.nn.softmax(u)\n",
    "\n",
    "print('출력', z.shape)"
   ]
  },
  {
   "cell_type": "code",
   "execution_count": 17,
   "metadata": {
    "collapsed": true
   },
   "outputs": [],
   "source": [
    "# 손실/비용 함수\n",
    "\n",
    "loss = tf.nn.softmax_cross_entropy_with_logits(\n",
    "    logits=u, # softmax 적용하지 않은 값\n",
    "    labels=tf.one_hot(y, 10)\n",
    ")\n",
    "\n",
    "# 최적화 - Adam algorithm\n",
    "\n",
    "learning_rate = 0.0001\n",
    "train = tf.train.AdamOptimizer(learning_rate).minimize(loss)\n",
    "\n",
    "# 예측\n",
    "\n",
    "predict = tf.argmax(z, axis=1)\n",
    "\n",
    "# 정확도\n",
    "\n",
    "correct = tf.equal(y, predict)\n",
    "accuracy = tf.reduce_mean(tf.cast(correct, tf.float32))"
   ]
  },
  {
   "cell_type": "code",
   "execution_count": 18,
   "metadata": {
    "collapsed": true
   },
   "outputs": [],
   "source": [
    "# TensorFlow 세션 준비\n",
    "\n",
    "session = tf.Session()\n",
    "session.run(tf.global_variables_initializer())\n",
    "\n",
    "# 정확도 출력\n",
    "\n",
    "test_feed = {\n",
    "    x: mnist.test.images,\n",
    "    y: mnist.test.labels\n",
    "}\n",
    "\n",
    "def print_accuracy(index):\n",
    "    print('{} - {}'.format(index, session.run(accuracy, feed_dict=test_feed)))"
   ]
  },
  {
   "cell_type": "code",
   "execution_count": null,
   "metadata": {},
   "outputs": [
    {
     "name": "stdout",
     "output_type": "stream",
     "text": [
      "0 - 0.08730000257492065\n",
      "1 - 0.6420000195503235\n",
      "2 - 0.8306999802589417\n",
      "3 - 0.8762999773025513\n",
      "4 - 0.9021999835968018\n",
      "5 - 0.9132000207901001\n",
      "6 - 0.9207000136375427\n",
      "7 - 0.9283999800682068\n",
      "8 - 0.9323999881744385\n",
      "9 - 0.9355000257492065\n",
      "10 - 0.9391000270843506\n",
      "11 - 0.942799985408783\n",
      "12 - 0.9445000290870667\n",
      "13 - 0.9480000138282776\n",
      "14 - 0.9505000114440918\n",
      "15 - 0.9495999813079834\n",
      "16 - 0.9521999955177307\n",
      "17 - 0.9550999999046326\n",
      "18 - 0.9560999870300293\n",
      "19 - 0.9581999778747559\n",
      "20 - 0.9595999717712402\n",
      "21 - 0.961899995803833\n",
      "22 - 0.9617000222206116\n",
      "23 - 0.9623000025749207\n",
      "24 - 0.9638000130653381\n",
      "25 - 0.965399980545044\n",
      "26 - 0.9660999774932861\n",
      "27 - 0.96670001745224\n",
      "28 - 0.9692000150680542\n",
      "29 - 0.968500018119812\n",
      "30 - 0.9699000120162964\n",
      "31 - 0.970300018787384\n",
      "32 - 0.9707000255584717\n",
      "33 - 0.97079998254776\n",
      "34 - 0.9735999703407288\n",
      "35 - 0.9729999899864197\n",
      "36 - 0.9733999967575073\n",
      "37 - 0.9735000133514404\n",
      "38 - 0.9746000170707703\n",
      "39 - 0.9742000102996826\n",
      "40 - 0.9765999913215637\n",
      "41 - 0.9758999943733215\n"
     ]
    }
   ],
   "source": [
    "# 훈련\n",
    "\n",
    "print_accuracy(0)\n",
    "\n",
    "for i in range(100):\n",
    "    for j in range(100):\n",
    "        x_data, y_data = mnist.train.next_batch(200)\n",
    "        train_feed = {\n",
    "            x: x_data,\n",
    "            y: y_data\n",
    "        }\n",
    "        session.run(train, feed_dict=train_feed)\n",
    "    print_accuracy(i + 1)\n",
    "\n",
    "print('Done!')"
   ]
  },
  {
   "cell_type": "code",
   "execution_count": null,
   "metadata": {
    "collapsed": true
   },
   "outputs": [],
   "source": [
    "# 오답 시각화\n",
    "\n",
    "c, p = session.run([correct, predict], feed_dict=test_feed)\n",
    "\n",
    "images = mnist.test.images[~c]\n",
    "labels = p[~c]\n",
    "\n",
    "draw_image(images[:8], labels[:8])"
   ]
  },
  {
   "cell_type": "code",
   "execution_count": null,
   "metadata": {
    "collapsed": true
   },
   "outputs": [],
   "source": []
  }
 ],
 "metadata": {
  "kernelspec": {
   "display_name": "Python 3",
   "language": "python",
   "name": "python3"
  },
  "language_info": {
   "codemirror_mode": {
    "name": "ipython",
    "version": 3
   },
   "file_extension": ".py",
   "mimetype": "text/x-python",
   "name": "python",
   "nbconvert_exporter": "python",
   "pygments_lexer": "ipython3",
   "version": "3.6.2"
  }
 },
 "nbformat": 4,
 "nbformat_minor": 2
}
