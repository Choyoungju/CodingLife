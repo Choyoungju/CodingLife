{
 "cells": [
  {
   "cell_type": "code",
   "execution_count": 1,
   "metadata": {},
   "outputs": [
    {
     "data": {
      "text/plain": [
       "'1.3.0'"
      ]
     },
     "execution_count": 1,
     "metadata": {},
     "output_type": "execute_result"
    }
   ],
   "source": [
    "# TensorFlow 라이브러리 불러오기\n",
    "\n",
    "import tensorflow as tf\n",
    "\n",
    "tf.__version__"
   ]
  },
  {
   "cell_type": "code",
   "execution_count": 2,
   "metadata": {},
   "outputs": [
    {
     "data": {
      "text/plain": [
       "'1.13.1'"
      ]
     },
     "execution_count": 2,
     "metadata": {},
     "output_type": "execute_result"
    }
   ],
   "source": [
    "# NumPy 라이브러리 불러오기\n",
    "\n",
    "import numpy as np\n",
    "\n",
    "np.__version__"
   ]
  },
  {
   "cell_type": "code",
   "execution_count": 3,
   "metadata": {},
   "outputs": [
    {
     "data": {
      "text/plain": [
       "'2.0.2'"
      ]
     },
     "execution_count": 3,
     "metadata": {},
     "output_type": "execute_result"
    }
   ],
   "source": [
    "# Matplotlib 라이브러리 불러오기\n",
    "\n",
    "import matplotlib\n",
    "import matplotlib.pyplot as plt\n",
    "\n",
    "matplotlib.__version__"
   ]
  },
  {
   "cell_type": "code",
   "execution_count": 4,
   "metadata": {},
   "outputs": [
    {
     "name": "stdout",
     "output_type": "stream",
     "text": [
      "Extracting /tmp/mnist-data/train-images-idx3-ubyte.gz\n",
      "Extracting /tmp/mnist-data/train-labels-idx1-ubyte.gz\n",
      "Extracting /tmp/mnist-data/t10k-images-idx3-ubyte.gz\n",
      "Extracting /tmp/mnist-data/t10k-labels-idx1-ubyte.gz\n"
     ]
    }
   ],
   "source": [
    "# MNIST 데이터 로딩\n",
    "\n",
    "from tensorflow.examples.tutorials.mnist import input_data\n",
    "\n",
    "mnist = input_data.read_data_sets('/tmp/mnist-data')"
   ]
  },
  {
   "cell_type": "code",
   "execution_count": 5,
   "metadata": {},
   "outputs": [
    {
     "data": {
      "text/plain": [
       "((55000, 784), (55000,))"
      ]
     },
     "execution_count": 5,
     "metadata": {},
     "output_type": "execute_result"
    }
   ],
   "source": [
    "# 훈련 데이터 확인\n",
    "\n",
    "mnist.train.images.shape, mnist.train.labels.shape"
   ]
  },
  {
   "cell_type": "code",
   "execution_count": 6,
   "metadata": {},
   "outputs": [
    {
     "data": {
      "text/plain": [
       "((10000, 784), (10000,))"
      ]
     },
     "execution_count": 6,
     "metadata": {},
     "output_type": "execute_result"
    }
   ],
   "source": [
    "# 테스트 데이터 확인\n",
    "\n",
    "mnist.test.images.shape, mnist.test.labels.shape"
   ]
  },
  {
   "cell_type": "code",
   "execution_count": 7,
   "metadata": {},
   "outputs": [
    {
     "data": {
      "image/png": "[encoded data removed]",
      "text/plain": [
       "<matplotlib.figure.Figure at 0x114bcabe0>"
      ]
     },
     "metadata": {},
     "output_type": "display_data"
    },
    {
     "data": {
      "image/png": "[encoded data removed]",
      "text/plain": [
       "<matplotlib.figure.Figure at 0x114bcac50>"
      ]
     },
     "metadata": {},
     "output_type": "display_data"
    }
   ],
   "source": [
    "# 손글씨 이미지 시각화\n",
    "\n",
    "def draw_image(images, labels):\n",
    "    fig, axes = plt.subplots(1, images.shape[0])\n",
    "    for i, ax in enumerate(axes.flat):\n",
    "        ax.set_axis_off()\n",
    "        ax.imshow(images[i].reshape(28, 28))\n",
    "        ax.set_title(labels[i])\n",
    "    plt.show()\n",
    "\n",
    "draw_image(mnist.train.images[:8],\n",
    "           mnist.train.labels[:8])\n",
    "\n",
    "draw_image(mnist.test.images[:8],\n",
    "           mnist.test.labels[:8])"
   ]
  },
  {
   "cell_type": "code",
   "execution_count": 8,
   "metadata": {
    "collapsed": true
   },
   "outputs": [],
   "source": [
    "# 신경망 모델 생성\n",
    "\n",
    "# 데이터\n",
    "\n",
    "x = tf.placeholder(tf.float32, [None, 28 * 28])\n",
    "y = tf.placeholder(tf.int64, [None])\n",
    "\n",
    "# 입력 노드: 28 * 28개 / 출력 노드: 10개\n",
    "\n",
    "w = tf.Variable(tf.truncated_normal([28 * 28, 10], stddev=0.1))\n",
    "b = tf.Variable(tf.truncated_normal([10], stddev=0.1))\n",
    "\n",
    "# f( W * x + b )\n",
    "\n",
    "u = tf.matmul(x, w) + b\n",
    "z = tf.nn.softmax(u)"
   ]
  },
  {
   "cell_type": "code",
   "execution_count": 9,
   "metadata": {
    "collapsed": true
   },
   "outputs": [],
   "source": [
    "# 손실/비용 함수\n",
    "\n",
    "loss = tf.nn.softmax_cross_entropy_with_logits(\n",
    "    logits=u, # softmax 적용하지 않은 값\n",
    "    labels=tf.one_hot(y, 10)\n",
    ")\n",
    "\n",
    "# 최적화\n",
    "\n",
    "learning_rate = 0.3\n",
    "train = tf.train.GradientDescentOptimizer(learning_rate).minimize(loss)"
   ]
  },
  {
   "cell_type": "code",
   "execution_count": 10,
   "metadata": {
    "collapsed": true
   },
   "outputs": [],
   "source": [
    "# 예측\n",
    "\n",
    "predict = tf.argmax(z, axis=1)\n",
    "\n",
    "# 정확도\n",
    "\n",
    "correct = tf.equal(y, predict)\n",
    "accuracy = tf.reduce_mean(tf.cast(correct, tf.float32))"
   ]
  },
  {
   "cell_type": "code",
   "execution_count": 11,
   "metadata": {
    "collapsed": true
   },
   "outputs": [],
   "source": [
    "# TensorFlow 세션 준비\n",
    "\n",
    "session = tf.Session()\n",
    "session.run(tf.global_variables_initializer())"
   ]
  },
  {
   "cell_type": "code",
   "execution_count": 12,
   "metadata": {
    "collapsed": true
   },
   "outputs": [],
   "source": [
    "# 정확도 출력\n",
    "\n",
    "test_feed = {\n",
    "    x: mnist.test.images,\n",
    "    y: mnist.test.labels\n",
    "}\n",
    "\n",
    "def print_accuracy(index):\n",
    "    print('{} - {}'.format(index, session.run(accuracy, feed_dict=test_feed)))"
   ]
  },
  {
   "cell_type": "code",
   "execution_count": 13,
   "metadata": {
    "scrolled": false
   },
   "outputs": [
    {
     "name": "stdout",
     "output_type": "stream",
     "text": [
      "0 - 0.09589999914169312\n",
      "1 - 0.8393999934196472\n",
      "2 - 0.8766999840736389\n",
      "3 - 0.8076000213623047\n",
      "4 - 0.892799973487854\n",
      "5 - 0.9017999768257141\n",
      "6 - 0.8927000164985657\n",
      "7 - 0.8513000011444092\n",
      "8 - 0.9078999757766724\n",
      "9 - 0.892799973487854\n",
      "10 - 0.8963000178337097\n",
      "11 - 0.8755000233650208\n",
      "12 - 0.8393999934196472\n",
      "13 - 0.8780999779701233\n",
      "14 - 0.9107999801635742\n",
      "15 - 0.7843000292778015\n",
      "16 - 0.9120000004768372\n",
      "17 - 0.8652999997138977\n",
      "18 - 0.868399977684021\n",
      "19 - 0.9078999757766724\n",
      "20 - 0.9120000004768372\n",
      "Done!\n"
     ]
    }
   ],
   "source": [
    "# 훈련\n",
    "\n",
    "print_accuracy(0)\n",
    "\n",
    "for i in range(20):\n",
    "    for j in range(100):\n",
    "        x_data, y_data = mnist.train.next_batch(200)\n",
    "        train_feed = {\n",
    "            x: x_data,\n",
    "            y: y_data\n",
    "        }\n",
    "        session.run(train, feed_dict=train_feed)\n",
    "    print_accuracy(i + 1)\n",
    "\n",
    "print('Done!')"
   ]
  },
  {
   "cell_type": "code",
   "execution_count": 14,
   "metadata": {},
   "outputs": [
    {
     "data": {
      "image/png": "[encoded data removed]",
      "text/plain": [
       "<matplotlib.figure.Figure at 0x11da7e588>"
      ]
     },
     "metadata": {},
     "output_type": "display_data"
    }
   ],
   "source": [
    "# 오답 시각화\n",
    "\n",
    "c, p = session.run([correct, predict], feed_dict=test_feed)\n",
    "\n",
    "images = mnist.test.images[~c]\n",
    "labels = p[~c]\n",
    "\n",
    "draw_image(images[:8], labels[:8])"
   ]
  },
  {
   "cell_type": "code",
   "execution_count": 15,
   "metadata": {
    "collapsed": true
   },
   "outputs": [],
   "source": [
    "# TensorFlow 그래프 초기화\n",
    "\n",
    "tf.reset_default_graph()"
   ]
  },
  {
   "cell_type": "code",
   "execution_count": 16,
   "metadata": {},
   "outputs": [
    {
     "name": "stdout",
     "output_type": "stream",
     "text": [
      "입력 (?, 28, 28, 1)\n",
      "1단계 (?, 14, 14, 4)\n",
      "2단계 (?, 7, 7, 8)\n",
      "모두 연결 (?, 392)\n",
      "중간 (?, 200)\n",
      "출력 (?, 10)\n"
     ]
    }
   ],
   "source": [
    "# CNN 모델 생성\n",
    "\n",
    "x = tf.placeholder(tf.float32, [None, 28 * 28])\n",
    "y = tf.placeholder(tf.int64, [None])\n",
    "\n",
    "x_2d = tf.reshape(x, [-1, 28, 28, 1])\n",
    "\n",
    "print('입력', x_2d.shape)\n",
    "\n",
    "# 1단계 -> 4채널 14 * 14\n",
    "\n",
    "c1 = tf.contrib.layers.conv2d(x_2d, 4, [5, 5])\n",
    "p1 = tf.contrib.layers.max_pool2d(c1, [2, 2])\n",
    "\n",
    "print('1단계', p1.shape)\n",
    "\n",
    "# 2단계 -> 8채널 7 * 7\n",
    "\n",
    "c2 = tf.contrib.layers.conv2d(p1, 8, [5, 5])\n",
    "p2 = tf.contrib.layers.max_pool2d(c2, [2, 2])\n",
    "\n",
    "print('2단계', p2.shape)\n",
    "\n",
    "# Flat -> 7 * 7 * 8\n",
    "\n",
    "flat = tf.contrib.layers.flatten(p2)\n",
    "\n",
    "print('모두 연결', flat.shape)\n",
    "\n",
    "# 중간층 -> 출력 노드: 200개\n",
    "\n",
    "hidden = tf.contrib.layers.fully_connected(flat, 200)\n",
    "\n",
    "print('중간', hidden.shape)\n",
    "\n",
    "# 출력 노드: 10개\n",
    "\n",
    "u = tf.layers.dense(hidden, 10)\n",
    "z = tf.nn.softmax(u)\n",
    "\n",
    "print('출력', z.shape)"
   ]
  },
  {
   "cell_type": "code",
   "execution_count": 17,
   "metadata": {
    "collapsed": true
   },
   "outputs": [],
   "source": [
    "# 손실/비용 함수\n",
    "\n",
    "loss = tf.nn.softmax_cross_entropy_with_logits(\n",
    "    logits=u, # softmax 적용하지 않은 값\n",
    "    labels=tf.one_hot(y, 10)\n",
    ")\n",
    "\n",
    "# 최적화 - Adam algorithm\n",
    "\n",
    "learning_rate = 0.0001\n",
    "train = tf.train.AdamOptimizer(learning_rate).minimize(loss)\n",
    "\n",
    "# 예측\n",
    "\n",
    "predict = tf.argmax(z, axis=1)\n",
    "\n",
    "# 정확도\n",
    "\n",
    "correct = tf.equal(y, predict)\n",
    "accuracy = tf.reduce_mean(tf.cast(correct, tf.float32))"
   ]
  },
  {
   "cell_type": "code",
   "execution_count": 18,
   "metadata": {
    "collapsed": true
   },
   "outputs": [],
   "source": [
    "# TensorFlow 세션 준비\n",
    "\n",
    "session = tf.Session()\n",
    "session.run(tf.global_variables_initializer())\n",
    "\n",
    "# 정확도 출력\n",
    "\n",
    "test_feed = {\n",
    "    x: mnist.test.images,\n",
    "    y: mnist.test.labels\n",
    "}\n",
    "\n",
    "def print_accuracy(index):\n",
    "    print('{} - {}'.format(index, session.run(accuracy, feed_dict=test_feed)))"
   ]
  },
  {
   "cell_type": "code",
   "execution_count": 19,
   "metadata": {},
   "outputs": [
    {
     "name": "stdout",
     "output_type": "stream",
     "text": [
      "0 - 0.09780000150203705\n",
      "1 - 0.6018999814987183\n",
      "2 - 0.7594000101089478\n",
      "3 - 0.8205999732017517\n",
      "4 - 0.8619999885559082\n",
      "5 - 0.8748000264167786\n",
      "6 - 0.8848999738693237\n",
      "7 - 0.8948000073432922\n",
      "8 - 0.8986999988555908\n",
      "9 - 0.906499981880188\n",
      "10 - 0.9114999771118164\n",
      "11 - 0.9132000207901001\n",
      "12 - 0.914900004863739\n",
      "13 - 0.9207000136375427\n",
      "14 - 0.9254999756813049\n",
      "15 - 0.926800012588501\n",
      "16 - 0.9287999868392944\n",
      "17 - 0.9319000244140625\n",
      "18 - 0.9340000152587891\n",
      "19 - 0.9365000128746033\n",
      "20 - 0.9397000074386597\n",
      "Done!\n"
     ]
    }
   ],
   "source": [
    "# 훈련\n",
    "\n",
    "print_accuracy(0)\n",
    "\n",
    "for i in range(20):\n",
    "    for j in range(100):\n",
    "        x_data, y_data = mnist.train.next_batch(200)\n",
    "        train_feed = {\n",
    "            x: x_data,\n",
    "            y: y_data\n",
    "        }\n",
    "        session.run(train, feed_dict=train_feed)\n",
    "    print_accuracy(i + 1)\n",
    "\n",
    "print('Done!')"
   ]
  },
  {
   "cell_type": "code",
   "execution_count": 20,
   "metadata": {},
   "outputs": [
    {
     "data": {
      "image/png": "[encoded data removed]",
      "text/plain": [
       "<matplotlib.figure.Figure at 0x105935860>"
      ]
     },
     "metadata": {},
     "output_type": "display_data"
    }
   ],
   "source": [
    "# 오답 시각화\n",
    "\n",
    "c, p = session.run([correct, predict], feed_dict=test_feed)\n",
    "\n",
    "images = mnist.test.images[~c]\n",
    "labels = p[~c]\n",
    "\n",
    "draw_image(images[:8], labels[:8])"
   ]
  },
  {
   "cell_type": "code",
   "execution_count": null,
   "metadata": {
    "collapsed": true
   },
   "outputs": [],
   "source": []
  }
 ],
 "metadata": {
  "kernelspec": {
   "display_name": "Python 3",
   "language": "python",
   "name": "python3"
  },
  "language_info": {
   "codemirror_mode": {
    "name": "ipython",
    "version": 3
   },
   "file_extension": ".py",
   "mimetype": "text/x-python",
   "name": "python",
   "nbconvert_exporter": "python",
   "pygments_lexer": "ipython3",
   "version": "3.6.2"
  }
 },
 "nbformat": 4,
 "nbformat_minor": 2
}
