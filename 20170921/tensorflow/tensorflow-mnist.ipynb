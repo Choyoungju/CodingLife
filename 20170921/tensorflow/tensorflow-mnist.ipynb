{
 "cells": [
  {
   "cell_type": "code",
   "execution_count": 1,
   "metadata": {},
   "outputs": [],
   "source": [
    "# 사용할 라이브러리 불러오기\n",
    "\n",
    "import tensorflow as tf\n",
    "import numpy as np\n",
    "import matplotlib.pyplot as plt"
   ]
  },
  {
   "cell_type": "code",
   "execution_count": 2,
   "metadata": {},
   "outputs": [
    {
     "data": {
      "text/plain": [
       "'2.7.12 (default, Jan  4 2017, 21:04:22) \\n[GCC 4.2.1 Compatible Apple LLVM 8.0.0 (clang-800.0.42.1)]'"
      ]
     },
     "execution_count": 2,
     "metadata": {},
     "output_type": "execute_result"
    }
   ],
   "source": [
    "# Python 버전 확인\n",
    "# 가능하면 Python 3를 사용하는 게 좋습니다.\n",
    "\n",
    "import sys\n",
    "\n",
    "sys.version"
   ]
  },
  {
   "cell_type": "code",
   "execution_count": 3,
   "metadata": {},
   "outputs": [],
   "source": [
    "# Python 2에서 Python 3 기능 사용\n",
    "\n",
    "from __future__ import print_function"
   ]
  },
  {
   "cell_type": "code",
   "execution_count": 4,
   "metadata": {},
   "outputs": [
    {
     "data": {
      "text/plain": [
       "'1.1.0'"
      ]
     },
     "execution_count": 4,
     "metadata": {},
     "output_type": "execute_result"
    }
   ],
   "source": [
    "# TensorFlow 버전 확인\n",
    "# 최신 버전은 1.3.0이지만 실습 환경은 1.1.0으로 구성되어 있습니다.\n",
    "\n",
    "tf.__version__"
   ]
  },
  {
   "cell_type": "code",
   "execution_count": 5,
   "metadata": {},
   "outputs": [],
   "source": [
    "# MNIST 데이터 로딩\n",
    "\n",
    "import numpy as np\n",
    "\n",
    "with open('data/train-images-idx3-ubyte', 'rb') as f:\n",
    "    x_train = np.frombuffer(f.read(), np.uint8, offset=16).reshape(-1, 28 * 28) / 255.0\n",
    "\n",
    "with open('data/train-labels-idx1-ubyte', 'rb') as f:\n",
    "    y_train = np.frombuffer(f.read(), np.uint8, offset=8)\n",
    "\n",
    "with open('data/t10k-images-idx3-ubyte', 'rb') as f:\n",
    "    x_test = np.frombuffer(f.read(), np.uint8, offset=16).reshape(-1, 28 * 28) / 255.0\n",
    "\n",
    "with open('data/t10k-labels-idx1-ubyte', 'rb') as f:\n",
    "    y_test = np.frombuffer(f.read(), np.uint8, offset=8)"
   ]
  },
  {
   "cell_type": "code",
   "execution_count": 6,
   "metadata": {},
   "outputs": [
    {
     "data": {
      "text/plain": [
       "((60000, 784), (60000,))"
      ]
     },
     "execution_count": 6,
     "metadata": {},
     "output_type": "execute_result"
    }
   ],
   "source": [
    "# 훈련 데이터 확인\n",
    "\n",
    "x_train.shape, y_train.shape"
   ]
  },
  {
   "cell_type": "code",
   "execution_count": 7,
   "metadata": {},
   "outputs": [
    {
     "data": {
      "text/plain": [
       "((10000, 784), (10000,))"
      ]
     },
     "execution_count": 7,
     "metadata": {},
     "output_type": "execute_result"
    }
   ],
   "source": [
    "# 테스트 데이터 확인\n",
    "\n",
    "x_test.shape, y_test.shape"
   ]
  },
  {
   "cell_type": "code",
   "execution_count": 8,
   "metadata": {},
   "outputs": [
    {
     "data": {
      "image/png": "[encoded data removed]",
      "text/plain": [
       "<matplotlib.figure.Figure at 0x115b3a290>"
      ]
     },
     "metadata": {},
     "output_type": "display_data"
    },
    {
     "data": {
      "image/png": "[encoded data removed]",
      "text/plain": [
       "<matplotlib.figure.Figure at 0x10cf80dd0>"
      ]
     },
     "metadata": {},
     "output_type": "display_data"
    }
   ],
   "source": [
    "# 손글씨 이미지 시각화\n",
    "\n",
    "def draw_image(images, labels):\n",
    "    fig, axes = plt.subplots(1, images.shape[0])\n",
    "    for i, ax in enumerate(axes.flat):\n",
    "        ax.set_axis_off()\n",
    "        ax.imshow(images[i].reshape(28, 28))\n",
    "        ax.set_title(labels[i])\n",
    "    plt.show()\n",
    "\n",
    "draw_image(x_train[:10], y_train[:10])\n",
    "\n",
    "draw_image(x_test[:10], y_test[:10])"
   ]
  },
  {
   "cell_type": "code",
   "execution_count": 9,
   "metadata": {},
   "outputs": [],
   "source": [
    "# 훈련 데이터 배치로 분할\n",
    "\n",
    "batch_size = 1000\n",
    "\n",
    "sample_size = x_train.shape[0]\n",
    "batch_range = range(0, sample_size, batch_size)\n",
    "\n",
    "x_batches = [x_train[i:i + batch_size] for i in batch_range]\n",
    "y_batches = [y_train[i:i + batch_size] for i in batch_range]"
   ]
  },
  {
   "cell_type": "code",
   "execution_count": 10,
   "metadata": {},
   "outputs": [],
   "source": [
    "# 신경망 모델 생성\n",
    "\n",
    "x = tf.placeholder(tf.float32, [None, 28 * 28])\n",
    "y = tf.placeholder(tf.int64, [None])\n",
    "\n",
    "u = tf.layers.dense(x, 10)\n",
    "z = tf.nn.softmax(u)"
   ]
  },
  {
   "cell_type": "code",
   "execution_count": 11,
   "metadata": {},
   "outputs": [],
   "source": [
    "# 비용-최적화\n",
    "\n",
    "loss = tf.nn.softmax_cross_entropy_with_logits(\n",
    "    logits=u, # softmax 적용 전!\n",
    "    labels=tf.one_hot(y, 10) # one-hot encoding\n",
    ")\n",
    "\n",
    "learning_rate = 0.0001\n",
    "train = tf.train.AdamOptimizer(learning_rate).minimize(loss)"
   ]
  },
  {
   "cell_type": "code",
   "execution_count": 12,
   "metadata": {},
   "outputs": [],
   "source": [
    "# 예측 및 정확도\n",
    "\n",
    "predict = tf.argmax(z, axis=1)\n",
    "\n",
    "correct = tf.equal(y, predict)\n",
    "accuracy = tf.reduce_mean(tf.cast(correct, tf.float32))"
   ]
  },
  {
   "cell_type": "code",
   "execution_count": 13,
   "metadata": {},
   "outputs": [],
   "source": [
    "# TensorFlow 세션 준비\n",
    "\n",
    "session = tf.Session()\n",
    "session.run(tf.global_variables_initializer())"
   ]
  },
  {
   "cell_type": "code",
   "execution_count": 14,
   "metadata": {
    "scrolled": false
   },
   "outputs": [
    {
     "name": "stdout",
     "output_type": "stream",
     "text": [
      "Epoch #1/10\n",
      "............................................................\n",
      "Test Accuracy: 0.26060000062\n",
      "\n",
      "Epoch #2/10\n",
      "............................................................\n",
      "Test Accuracy: 0.462999999523\n",
      "\n",
      "Epoch #3/10\n",
      "............................................................\n",
      "Test Accuracy: 0.608900010586\n",
      "\n",
      "Epoch #4/10\n",
      "............................................................\n",
      "Test Accuracy: 0.679499983788\n",
      "\n",
      "Epoch #5/10\n",
      "............................................................\n",
      "Test Accuracy: 0.721199989319\n",
      "\n",
      "Epoch #6/10\n",
      "............................................................\n",
      "Test Accuracy: 0.750899970531\n",
      "\n",
      "Epoch #7/10\n",
      "............................................................\n",
      "Test Accuracy: 0.77270001173\n",
      "\n",
      "Epoch #8/10\n",
      "............................................................\n",
      "Test Accuracy: 0.787400007248\n",
      "\n",
      "Epoch #9/10\n",
      "............................................................\n",
      "Test Accuracy: 0.800300002098\n",
      "\n",
      "Epoch #10/10\n",
      "............................................................\n",
      "Test Accuracy: 0.809599995613\n",
      "\n",
      "Done!\n"
     ]
    }
   ],
   "source": [
    "# 반복\n",
    "\n",
    "num_epoch = 10\n",
    "\n",
    "test_feed = {\n",
    "    x: x_test,\n",
    "    y: y_test\n",
    "}\n",
    "\n",
    "for i in range(num_epoch):\n",
    "    print('Epoch #{}/{}'.format(i + 1, num_epoch))\n",
    "\n",
    "    # 훈련\n",
    "    for x_data, y_data in zip(x_batches, y_batches):\n",
    "        train_feed = {\n",
    "            x: x_data,\n",
    "            y: y_data\n",
    "        }\n",
    "        session.run(train, feed_dict=train_feed)\n",
    "        print('.', end='')\n",
    "    print()\n",
    "\n",
    "    # 정확도\n",
    "    test_accuracy = session.run(accuracy, feed_dict=test_feed)\n",
    "    print('Test Accuracy: {}'.format(test_accuracy))\n",
    "    print()\n",
    "\n",
    "print('Done!')"
   ]
  },
  {
   "cell_type": "code",
   "execution_count": 15,
   "metadata": {},
   "outputs": [
    {
     "data": {
      "image/png": "[encoded data removed]",
      "text/plain": [
       "<matplotlib.figure.Figure at 0x10b481710>"
      ]
     },
     "metadata": {},
     "output_type": "display_data"
    }
   ],
   "source": [
    "# 오답 시각화\n",
    "\n",
    "p, c = session.run([predict, correct], feed_dict=test_feed)\n",
    "\n",
    "images = x_test[~c]\n",
    "labels = p[~c]\n",
    "\n",
    "draw_image(images[:10], labels[:10])"
   ]
  },
  {
   "cell_type": "code",
   "execution_count": 16,
   "metadata": {},
   "outputs": [
    {
     "name": "stdout",
     "output_type": "stream",
     "text": [
      "(?, 28, 28, 1)\n",
      "(?, 14, 14, 4)\n",
      "(?, 7, 7, 8)\n",
      "(?, 392)\n",
      "(?, 200)\n",
      "(?, 10)\n"
     ]
    }
   ],
   "source": [
    "# CNN 모델 생성\n",
    "\n",
    "tf.reset_default_graph()\n",
    "\n",
    "x = tf.placeholder(tf.float32, [None, 28 * 28])\n",
    "y = tf.placeholder(tf.int64, [None])\n",
    "keep_prob = tf.placeholder(tf.float32)\n",
    "\n",
    "x_2d = tf.reshape(x, [-1, 28, 28, 1])\n",
    "\n",
    "print(x_2d.shape)\n",
    "\n",
    "# 1단계\n",
    "\n",
    "c1 = tf.contrib.layers.conv2d(x_2d, 4, [5, 5])\n",
    "p1 = tf.contrib.layers.max_pool2d(c1, [2, 2])\n",
    "\n",
    "print(p1.shape)\n",
    "\n",
    "# 2단계\n",
    "\n",
    "c2 = tf.contrib.layers.conv2d(p1, 8, [5, 5])\n",
    "p2 = tf.contrib.layers.max_pool2d(c2, [2, 2])\n",
    "\n",
    "print(p2.shape)\n",
    "\n",
    "# Fully Connected\n",
    "\n",
    "flat = tf.contrib.layers.flatten(p2)\n",
    "\n",
    "print(flat.shape)\n",
    "\n",
    "fc = tf.contrib.layers.fully_connected(flat, 200)\n",
    "\n",
    "print(fc.shape)\n",
    "\n",
    "drop = tf.nn.dropout(fc, keep_prob)\n",
    "\n",
    "u = tf.layers.dense(drop, 10)\n",
    "z = tf.nn.softmax(u)\n",
    "\n",
    "print(z.shape)"
   ]
  },
  {
   "cell_type": "code",
   "execution_count": 17,
   "metadata": {},
   "outputs": [],
   "source": [
    "# 비용-최적화\n",
    "\n",
    "loss = tf.nn.softmax_cross_entropy_with_logits(\n",
    "    logits=u, # softmax 적용 전!\n",
    "    labels=tf.one_hot(y, 10) # one-hot encoding\n",
    ")\n",
    "\n",
    "learning_rate = 0.0001\n",
    "train = tf.train.AdamOptimizer(learning_rate).minimize(loss)"
   ]
  },
  {
   "cell_type": "code",
   "execution_count": 18,
   "metadata": {},
   "outputs": [],
   "source": [
    "# 예측 및 정확도\n",
    "\n",
    "predict = tf.argmax(z, axis=1)\n",
    "\n",
    "correct = tf.equal(y, predict)\n",
    "accuracy = tf.reduce_mean(tf.cast(correct, tf.float32))"
   ]
  },
  {
   "cell_type": "code",
   "execution_count": 19,
   "metadata": {},
   "outputs": [],
   "source": [
    "# TensorFlow 세션 준비\n",
    "\n",
    "session = tf.Session()\n",
    "session.run(tf.global_variables_initializer())"
   ]
  },
  {
   "cell_type": "code",
   "execution_count": 20,
   "metadata": {
    "scrolled": false
   },
   "outputs": [
    {
     "name": "stdout",
     "output_type": "stream",
     "text": [
      "Epoch #1/10\n",
      "............................................................\n",
      "Test Accuracy: 0.598299980164\n",
      "\n",
      "Epoch #2/10\n",
      "............................................................\n",
      "Test Accuracy: 0.767599999905\n",
      "\n",
      "Epoch #3/10\n",
      "............................................................\n",
      "Test Accuracy: 0.832300007343\n",
      "\n",
      "Epoch #4/10\n",
      "............................................................\n",
      "Test Accuracy: 0.865899980068\n",
      "\n",
      "Epoch #5/10\n",
      "............................................................\n",
      "Test Accuracy: 0.885800004005\n",
      "\n",
      "Epoch #6/10\n",
      "............................................................\n",
      "Test Accuracy: 0.900200009346\n",
      "\n",
      "Epoch #7/10\n",
      "............................................................\n",
      "Test Accuracy: 0.910499989986\n",
      "\n",
      "Epoch #8/10\n",
      "............................................................\n",
      "Test Accuracy: 0.919200003147\n",
      "\n",
      "Epoch #9/10\n",
      "............................................................\n",
      "Test Accuracy: 0.923500001431\n",
      "\n",
      "Epoch #10/10\n",
      "............................................................\n",
      "Test Accuracy: 0.929099977016\n",
      "\n",
      "Done!\n"
     ]
    }
   ],
   "source": [
    "# 반복\n",
    "\n",
    "num_epoch = 10\n",
    "\n",
    "test_feed = {\n",
    "    x: x_test,\n",
    "    y: y_test,\n",
    "    keep_prob: 1.0\n",
    "}\n",
    "\n",
    "for i in range(num_epoch):\n",
    "    print('Epoch #{}/{}'.format(i + 1, num_epoch))\n",
    "\n",
    "    # 훈련\n",
    "    for x_data, y_data in zip(x_batches, y_batches):\n",
    "        train_feed = {\n",
    "            x: x_data,\n",
    "            y: y_data,\n",
    "            keep_prob: 0.5\n",
    "        }\n",
    "        session.run(train, feed_dict=train_feed)\n",
    "        print('.', end='')\n",
    "    print()\n",
    "\n",
    "    # 정확도\n",
    "    test_accuracy = session.run(accuracy, feed_dict=test_feed)\n",
    "    print('Test Accuracy: {}'.format(test_accuracy))\n",
    "    print()\n",
    "\n",
    "print('Done!')"
   ]
  },
  {
   "cell_type": "code",
   "execution_count": 21,
   "metadata": {},
   "outputs": [
    {
     "data": {
      "image/png": "[encoded data removed]",
      "text/plain": [
       "<matplotlib.figure.Figure at 0x13baf6710>"
      ]
     },
     "metadata": {},
     "output_type": "display_data"
    }
   ],
   "source": [
    "# 오답 시각화\n",
    "\n",
    "p, c = session.run([predict, correct], feed_dict=test_feed)\n",
    "\n",
    "images = x_test[~c]\n",
    "labels = p[~c]\n",
    "\n",
    "draw_image(images[:10], labels[:10])"
   ]
  },
  {
   "cell_type": "code",
   "execution_count": 22,
   "metadata": {
    "scrolled": false
   },
   "outputs": [
    {
     "name": "stdout",
     "output_type": "stream",
     "text": [
      "(?, 14, 28)\n",
      "(?, 200)\n",
      "(?, 2800)\n",
      "(?, 200)\n",
      "(?, 392)\n"
     ]
    }
   ],
   "source": [
    "# RNN 모델 생성\n",
    "\n",
    "tf.reset_default_graph()\n",
    "\n",
    "x = tf.placeholder(tf.float32, [None, 14 * 28])\n",
    "y = tf.placeholder(tf.float32, [None, 14 * 28])\n",
    "\n",
    "inputs = tf.reshape(x, [-1, 14, 28])\n",
    "\n",
    "print(inputs.shape)\n",
    "\n",
    "# TensorFlow 1.2부터 지원하는 dynamic_rnn을 쓰시는 게 더 낫습니다.\n",
    "# https://www.tensorflow.org/versions/r1.2/api_docs/python/tf/nn/dynamic_rnn\n",
    "\n",
    "cell = tf.contrib.rnn.BasicLSTMCell(200)\n",
    "outputs, states = tf.contrib.rnn.static_rnn(\n",
    "    cell,\n",
    "    tf.unstack(inputs, axis=1), # Python 리스트로 변환\n",
    "    dtype=tf.float32\n",
    ")\n",
    "\n",
    "print(outputs[0].shape)\n",
    "\n",
    "# Fully Connected\n",
    "\n",
    "output = tf.concat(outputs, axis=1)\n",
    "\n",
    "print(output.shape)\n",
    "\n",
    "fc = tf.contrib.layers.fully_connected(output, 200)\n",
    "\n",
    "print(fc.shape)\n",
    "\n",
    "u = tf.layers.dense(output, 14 * 28)\n",
    "z = tf.nn.sigmoid(u)\n",
    "\n",
    "print(z.shape)"
   ]
  },
  {
   "cell_type": "code",
   "execution_count": 23,
   "metadata": {},
   "outputs": [],
   "source": [
    "# 비용-최적화\n",
    "\n",
    "loss = tf.nn.sigmoid_cross_entropy_with_logits(\n",
    "    logits=u, # softmax 적용 전!\n",
    "    labels=y\n",
    ")\n",
    "\n",
    "learning_rate = 0.0001\n",
    "train = tf.train.AdamOptimizer(learning_rate).minimize(loss)"
   ]
  },
  {
   "cell_type": "code",
   "execution_count": 24,
   "metadata": {},
   "outputs": [],
   "source": [
    "# TensorFlow 세션 준비\n",
    "\n",
    "session = tf.Session()\n",
    "session.run(tf.global_variables_initializer())"
   ]
  },
  {
   "cell_type": "code",
   "execution_count": 25,
   "metadata": {},
   "outputs": [
    {
     "name": "stdout",
     "output_type": "stream",
     "text": [
      "Epoch #1/5\n",
      "............................................................\n",
      "Epoch #2/5\n",
      "............................................................\n",
      "Epoch #3/5\n",
      "............................................................\n",
      "Epoch #4/5\n",
      "............................................................\n",
      "Epoch #5/5\n",
      "............................................................\n",
      "Done!\n"
     ]
    }
   ],
   "source": [
    "# 반복\n",
    "\n",
    "num_epoch = 5\n",
    "\n",
    "for i in range(num_epoch):\n",
    "    print('Epoch #{}/{}'.format(i + 1, num_epoch))\n",
    "\n",
    "    # 훈련\n",
    "    for x_data in x_batches:\n",
    "        train_feed = {\n",
    "            x: x_data[:, :14 * 28],\n",
    "            y: x_data[:, 14 * 28:]\n",
    "        }\n",
    "        session.run(train, feed_dict=train_feed)\n",
    "        print('.', end='')\n",
    "    print()\n",
    "\n",
    "print('Done!')"
   ]
  },
  {
   "cell_type": "code",
   "execution_count": 26,
   "metadata": {},
   "outputs": [
    {
     "data": {
      "image/png": "[encoded data removed]",
      "text/plain": [
       "<matplotlib.figure.Figure at 0x13bcf8210>"
      ]
     },
     "metadata": {},
     "output_type": "display_data"
    }
   ],
   "source": [
    "# 예측 및 시각화\n",
    "\n",
    "count = 8\n",
    "\n",
    "images1 = x_test[:count, :14 * 28]\n",
    "images2 = session.run(z, feed_dict={\n",
    "    x: images1\n",
    "})\n",
    "\n",
    "images = np.concatenate([images1, images2], axis=1)\n",
    "\n",
    "draw_image(images, y_test[:count])"
   ]
  }
 ],
 "metadata": {
  "kernelspec": {
   "display_name": "Python 2",
   "language": "python",
   "name": "python2"
  },
  "language_info": {
   "codemirror_mode": {
    "name": "ipython",
    "version": 2
   },
   "file_extension": ".py",
   "mimetype": "text/x-python",
   "name": "python",
   "nbconvert_exporter": "python",
   "pygments_lexer": "ipython2",
   "version": "2.7.12"
  }
 },
 "nbformat": 4,
 "nbformat_minor": 2
}
