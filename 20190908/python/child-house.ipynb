{
 "cells": [
  {
   "cell_type": "code",
   "execution_count": 1,
   "metadata": {},
   "outputs": [
    {
     "data": {
      "text/plain": [
       "'3.1.1'"
      ]
     },
     "execution_count": 1,
     "metadata": {},
     "output_type": "execute_result"
    }
   ],
   "source": [
    "import matplotlib\n",
    "import matplotlib.pyplot as plt\n",
    "\n",
    "matplotlib.__version__"
   ]
  },
  {
   "cell_type": "code",
   "execution_count": 2,
   "metadata": {},
   "outputs": [
    {
     "data": {
      "text/plain": [
       "'0.24.2'"
      ]
     },
     "execution_count": 2,
     "metadata": {},
     "output_type": "execute_result"
    }
   ],
   "source": [
    "import pandas as pd\n",
    "\n",
    "pd.__version__"
   ]
  },
  {
   "cell_type": "code",
   "execution_count": 3,
   "metadata": {},
   "outputs": [
    {
     "data": {
      "text/plain": [
       "'0.10.0'"
      ]
     },
     "execution_count": 3,
     "metadata": {},
     "output_type": "execute_result"
    }
   ],
   "source": [
    "import folium\n",
    "from folium import Map\n",
    "from folium.plugins import HeatMap\n",
    "\n",
    "folium.__version__"
   ]
  },
  {
   "cell_type": "code",
   "execution_count": 4,
   "metadata": {},
   "outputs": [
    {
     "data": {
      "text/plain": [
       "[<Font 'Noto Nastaliq Urdu' (NotoNastaliq.ttc) normal normal 400 normal>,\n",
       " <Font 'Noto Sans CJK KR' (NotoSansCJKkr-Regular.otf) normal normal regular normal>,\n",
       " <Font 'Noto Sans CJK KR' (NotoSansCJKkr-Thin.otf) normal normal 400 normal>,\n",
       " <Font 'Noto Sans CJK KR' (NotoSansCJKkr-Light.otf) normal normal light normal>,\n",
       " <Font 'Noto Sans CJK KR' (NotoSansCJKkr-Medium.otf) normal normal medium normal>,\n",
       " <Font 'Noto Sans CJK KR' (NotoSansCJKkr-DemiLight.otf) normal normal light normal>,\n",
       " <Font 'Noto Sans CJK KR' (NotoSansCJKkr-Black.otf) normal normal black normal>,\n",
       " <Font 'Noto Sans Mono CJK KR' (NotoSansMonoCJKkr-Bold.otf) normal normal bold normal>,\n",
       " <Font 'Noto Sans Mono CJK KR' (NotoSansMonoCJKkr-Regular.otf) normal normal regular normal>,\n",
       " <Font 'Noto Sans CJK KR' (NotoSansCJKkr-Bold.otf) normal normal bold normal>]"
      ]
     },
     "execution_count": 4,
     "metadata": {},
     "output_type": "execute_result"
    }
   ],
   "source": [
    "import matplotlib.font_manager as fm\n",
    "\n",
    "[font for font in fm.fontManager.ttflist if 'Noto' in font.name]"
   ]
  },
  {
   "cell_type": "code",
   "execution_count": 5,
   "metadata": {},
   "outputs": [],
   "source": [
    "plt.rcParams['font.family'] = 'Noto Sans CJK KR'"
   ]
  },
  {
   "cell_type": "markdown",
   "metadata": {},
   "source": [
    "전국어린이집표준데이터\n",
    "\n",
    "<https://www.data.go.kr/dataset/15013108/standard.do>"
   ]
  },
  {
   "cell_type": "code",
   "execution_count": 6,
   "metadata": {},
   "outputs": [
    {
     "data": {
      "text/plain": [
       "Index(['어린이집명', '시도명', '시군구명', '어린이집유형구분', '정원수', '보육교직원수', '소재지도로명주소',\n",
       "       '어린이집전화번호', '어린이집팩스번호', '보육실수', '놀이터수', 'CCTV설치수', '통학차량운영여부', '홈페이지주소',\n",
       "       '데이터기준일자', '제공기관코드', '제공기관명', 'Unnamed: 17'],\n",
       "      dtype='object')"
      ]
     },
     "execution_count": 6,
     "metadata": {},
     "output_type": "execute_result"
    }
   ],
   "source": [
    "df = pd.read_csv('data/child-house.csv', encoding='euc-kr', low_memory=False)\n",
    "\n",
    "df.columns"
   ]
  },
  {
   "cell_type": "code",
   "execution_count": 7,
   "metadata": {},
   "outputs": [
    {
     "data": {
      "text/plain": [
       "(48178, 18)"
      ]
     },
     "execution_count": 7,
     "metadata": {},
     "output_type": "execute_result"
    }
   ],
   "source": [
    "df.shape"
   ]
  },
  {
   "cell_type": "code",
   "execution_count": 8,
   "metadata": {},
   "outputs": [
    {
     "data": {
      "text/html": [
       "<div>\n",
       "<style scoped>\n",
       "    .dataframe tbody tr th:only-of-type {\n",
       "        vertical-align: middle;\n",
       "    }\n",
       "\n",
       "    .dataframe tbody tr th {\n",
       "        vertical-align: top;\n",
       "    }\n",
       "\n",
       "    .dataframe thead th {\n",
       "        text-align: right;\n",
       "    }\n",
       "</style>\n",
       "<table border=\"1\" class=\"dataframe\">\n",
       "  <thead>\n",
       "    <tr style=\"text-align: right;\">\n",
       "      <th></th>\n",
       "      <th>어린이집명</th>\n",
       "      <th>시도명</th>\n",
       "      <th>시군구명</th>\n",
       "      <th>어린이집유형구분</th>\n",
       "      <th>정원수</th>\n",
       "      <th>보육교직원수</th>\n",
       "      <th>소재지도로명주소</th>\n",
       "      <th>어린이집전화번호</th>\n",
       "      <th>어린이집팩스번호</th>\n",
       "      <th>보육실수</th>\n",
       "      <th>놀이터수</th>\n",
       "      <th>CCTV설치수</th>\n",
       "      <th>통학차량운영여부</th>\n",
       "      <th>홈페이지주소</th>\n",
       "      <th>데이터기준일자</th>\n",
       "      <th>제공기관코드</th>\n",
       "      <th>제공기관명</th>\n",
       "      <th>Unnamed: 17</th>\n",
       "    </tr>\n",
       "  </thead>\n",
       "  <tbody>\n",
       "    <tr>\n",
       "      <th>0</th>\n",
       "      <td>노아키즈어린이집</td>\n",
       "      <td>강원도</td>\n",
       "      <td>원주시</td>\n",
       "      <td>가정</td>\n",
       "      <td>20</td>\n",
       "      <td>5.0</td>\n",
       "      <td>강원도 원주시 시청로 496-1 101동 102호(관설동, 코아루아파트)</td>\n",
       "      <td>033-742-1295</td>\n",
       "      <td>NaN</td>\n",
       "      <td>0.0</td>\n",
       "      <td>0.0</td>\n",
       "      <td>0.0</td>\n",
       "      <td></td>\n",
       "      <td>NaN</td>\n",
       "      <td>2018-07-31</td>\n",
       "      <td>6420000</td>\n",
       "      <td>강원도</td>\n",
       "      <td>NaN</td>\n",
       "    </tr>\n",
       "    <tr>\n",
       "      <th>1</th>\n",
       "      <td>놀러와어린이집</td>\n",
       "      <td>강원도</td>\n",
       "      <td>원주시</td>\n",
       "      <td>가정</td>\n",
       "      <td>20</td>\n",
       "      <td>4.0</td>\n",
       "      <td>강원도 원주시 봉화로 231 210동 103호 (우산동, 한라비발디2차아파트)</td>\n",
       "      <td>033-764-7600</td>\n",
       "      <td>NaN</td>\n",
       "      <td>0.0</td>\n",
       "      <td>0.0</td>\n",
       "      <td>0.0</td>\n",
       "      <td></td>\n",
       "      <td>NaN</td>\n",
       "      <td>2018-07-31</td>\n",
       "      <td>6420000</td>\n",
       "      <td>강원도</td>\n",
       "      <td>NaN</td>\n",
       "    </tr>\n",
       "    <tr>\n",
       "      <th>2</th>\n",
       "      <td>꿈꾸는 어린이집</td>\n",
       "      <td>강원도</td>\n",
       "      <td>강릉시</td>\n",
       "      <td>가정</td>\n",
       "      <td>10</td>\n",
       "      <td>2.0</td>\n",
       "      <td>강원도 강릉시 성덕포남로 89-17 503동 106호(입암동, 입암5주공아파트)</td>\n",
       "      <td>033-651-1555</td>\n",
       "      <td>NaN</td>\n",
       "      <td>2.0</td>\n",
       "      <td>0.0</td>\n",
       "      <td>3.0</td>\n",
       "      <td>N</td>\n",
       "      <td>NaN</td>\n",
       "      <td>2018-07-31</td>\n",
       "      <td>6420000</td>\n",
       "      <td>강원도</td>\n",
       "      <td>NaN</td>\n",
       "    </tr>\n",
       "    <tr>\n",
       "      <th>3</th>\n",
       "      <td>꿈꾸미 어린이집</td>\n",
       "      <td>강원도</td>\n",
       "      <td>강릉시</td>\n",
       "      <td>가정</td>\n",
       "      <td>18</td>\n",
       "      <td>4.0</td>\n",
       "      <td>강원도 강릉시 경강로2301번길 22 강릉7차아파트 A동 106호 (포남동)</td>\n",
       "      <td>070-4098-4292</td>\n",
       "      <td>NaN</td>\n",
       "      <td>3.0</td>\n",
       "      <td>0.0</td>\n",
       "      <td>0.0</td>\n",
       "      <td>N</td>\n",
       "      <td>NaN</td>\n",
       "      <td>2018-07-31</td>\n",
       "      <td>6420000</td>\n",
       "      <td>강원도</td>\n",
       "      <td>NaN</td>\n",
       "    </tr>\n",
       "    <tr>\n",
       "      <th>4</th>\n",
       "      <td>꼬마대통령어린이집</td>\n",
       "      <td>강원도</td>\n",
       "      <td>동해시</td>\n",
       "      <td>가정</td>\n",
       "      <td>20</td>\n",
       "      <td>4.0</td>\n",
       "      <td>강원도 동해시 평원로 107 엘리시아 아파트 105동104호</td>\n",
       "      <td>033-533-5866</td>\n",
       "      <td>NaN</td>\n",
       "      <td>3.0</td>\n",
       "      <td>0.0</td>\n",
       "      <td>4.0</td>\n",
       "      <td>Y</td>\n",
       "      <td>NaN</td>\n",
       "      <td>2018-07-31</td>\n",
       "      <td>6420000</td>\n",
       "      <td>강원도</td>\n",
       "      <td>NaN</td>\n",
       "    </tr>\n",
       "  </tbody>\n",
       "</table>\n",
       "</div>"
      ],
      "text/plain": [
       "       어린이집명  시도명 시군구명 어린이집유형구분  정원수  보육교직원수  \\\n",
       "0   노아키즈어린이집  강원도  원주시       가정   20     5.0   \n",
       "1    놀러와어린이집  강원도  원주시       가정   20     4.0   \n",
       "2   꿈꾸는 어린이집  강원도  강릉시       가정   10     2.0   \n",
       "3   꿈꾸미 어린이집  강원도  강릉시       가정   18     4.0   \n",
       "4  꼬마대통령어린이집  강원도  동해시       가정   20     4.0   \n",
       "\n",
       "                                       소재지도로명주소       어린이집전화번호 어린이집팩스번호  보육실수  \\\n",
       "0      강원도 원주시 시청로 496-1 101동 102호(관설동, 코아루아파트)   033-742-1295      NaN   0.0   \n",
       "1   강원도 원주시 봉화로 231 210동 103호 (우산동, 한라비발디2차아파트)   033-764-7600      NaN   0.0   \n",
       "2  강원도 강릉시 성덕포남로 89-17 503동 106호(입암동, 입암5주공아파트)   033-651-1555      NaN   2.0   \n",
       "3    강원도 강릉시 경강로2301번길 22 강릉7차아파트 A동 106호 (포남동)  070-4098-4292      NaN   3.0   \n",
       "4             강원도 동해시 평원로 107 엘리시아 아파트 105동104호   033-533-5866      NaN   3.0   \n",
       "\n",
       "   놀이터수  CCTV설치수 통학차량운영여부 홈페이지주소     데이터기준일자   제공기관코드 제공기관명  Unnamed: 17  \n",
       "0   0.0      0.0             NaN  2018-07-31  6420000   강원도          NaN  \n",
       "1   0.0      0.0             NaN  2018-07-31  6420000   강원도          NaN  \n",
       "2   0.0      3.0        N    NaN  2018-07-31  6420000   강원도          NaN  \n",
       "3   0.0      0.0        N    NaN  2018-07-31  6420000   강원도          NaN  \n",
       "4   0.0      4.0        Y    NaN  2018-07-31  6420000   강원도          NaN  "
      ]
     },
     "execution_count": 8,
     "metadata": {},
     "output_type": "execute_result"
    }
   ],
   "source": [
    "df.head()"
   ]
  },
  {
   "cell_type": "code",
   "execution_count": 9,
   "metadata": {},
   "outputs": [
    {
     "data": {
      "text/plain": [
       "가정        22206\n",
       "민간        17058\n",
       "국공립        4168\n",
       "사회복지법인     2235\n",
       "직장         1335\n",
       "법인·단체       995\n",
       "협동          181\n",
       "Name: 어린이집유형구분, dtype: int64"
      ]
     },
     "execution_count": 9,
     "metadata": {},
     "output_type": "execute_result"
    }
   ],
   "source": [
    "df['어린이집유형구분'].value_counts()"
   ]
  },
  {
   "cell_type": "code",
   "execution_count": 10,
   "metadata": {},
   "outputs": [
    {
     "data": {
      "image/png": "[encoded data removed]",
      "text/plain": [
       "<Figure size 432x288 with 1 Axes>"
      ]
     },
     "metadata": {
      "needs_background": "light"
     },
     "output_type": "display_data"
    }
   ],
   "source": [
    "df['어린이집유형구분'].value_counts().sort_values().plot(kind='barh', grid=True)\n",
    "\n",
    "plt.show()"
   ]
  },
  {
   "cell_type": "code",
   "execution_count": 11,
   "metadata": {},
   "outputs": [
    {
     "data": {
      "text/plain": [
       "경기도        9350\n",
       "경상남도       5564\n",
       "서울특별시      4717\n",
       "충청남도       3702\n",
       "광주광역시      3515\n",
       "경상북도       3355\n",
       "대구광역시      2656\n",
       "전라북도       2593\n",
       "강원도        2254\n",
       "인천광역시      2102\n",
       "전라남도       2015\n",
       "부산광역시      1849\n",
       "울산광역시      1715\n",
       "대전광역시      1169\n",
       "충청북도       1124\n",
       "제주특별자치도     498\n",
       "Name: 시도명, dtype: int64"
      ]
     },
     "execution_count": 11,
     "metadata": {},
     "output_type": "execute_result"
    }
   ],
   "source": [
    "df['시도명'].value_counts()"
   ]
  },
  {
   "cell_type": "code",
   "execution_count": 12,
   "metadata": {},
   "outputs": [
    {
     "data": {
      "image/png": "[encoded data removed]",
      "text/plain": [
       "<Figure size 432x288 with 1 Axes>"
      ]
     },
     "metadata": {
      "needs_background": "light"
     },
     "output_type": "display_data"
    }
   ],
   "source": [
    "df['시도명'].value_counts().sort_values().plot(kind='barh', grid=True)\n",
    "\n",
    "plt.show()"
   ]
  },
  {
   "cell_type": "code",
   "execution_count": 13,
   "metadata": {},
   "outputs": [
    {
     "data": {
      "text/plain": [
       "북구         2062\n",
       "서구         1847\n",
       "천안시        1348\n",
       "광산구        1281\n",
       "수원시        1136\n",
       "김해시        1122\n",
       "남구         1121\n",
       "구미시         960\n",
       "동구          934\n",
       "아산시         852\n",
       "양산시         771\n",
       "중구          727\n",
       "남양주시        676\n",
       "성남시         657\n",
       "원주시         650\n",
       "달서구         622\n",
       "부천시         598\n",
       "전주시 완산구     591\n",
       "전주시 덕진구     570\n",
       "강서구         556\n",
       "안산시         537\n",
       "진주시         525\n",
       "거제시         511\n",
       "안양시         481\n",
       "춘천시         480\n",
       "순천시         476\n",
       "파주시         466\n",
       "노원구         457\n",
       "시흥시         454\n",
       "익산시         445\n",
       "           ... \n",
       "진도군          26\n",
       "산청군          24\n",
       "증평군          24\n",
       "순창군          22\n",
       "합천군          22\n",
       "청도군          22\n",
       "봉화군          22\n",
       "해남군          22\n",
       "임실군          22\n",
       "곡성군          22\n",
       "옥천군          20\n",
       "무주군          18\n",
       "의령군          18\n",
       "구례군          17\n",
       "강진군          16\n",
       "영동군          16\n",
       "강화군          16\n",
       "하동군          15\n",
       "장수군          14\n",
       "단양군          14\n",
       "옹진군          14\n",
       "신안군          14\n",
       "진안군          12\n",
       "괴산군          12\n",
       "군위군          11\n",
       "청송군          11\n",
       "양양군          11\n",
       "영양군          10\n",
       "보은군           9\n",
       "울릉군           2\n",
       "Name: 시군구명, Length: 204, dtype: int64"
      ]
     },
     "execution_count": 13,
     "metadata": {},
     "output_type": "execute_result"
    }
   ],
   "source": [
    "df['시군구명'].value_counts()"
   ]
  },
  {
   "cell_type": "code",
   "execution_count": 14,
   "metadata": {},
   "outputs": [
    {
     "data": {
      "image/png": "[encoded data removed]",
      "text/plain": [
       "<Figure size 432x288 with 1 Axes>"
      ]
     },
     "metadata": {
      "needs_background": "light"
     },
     "output_type": "display_data"
    }
   ],
   "source": [
    "df['시군구명'].value_counts()[:20].sort_values().plot(kind='barh', grid=True)\n",
    "\n",
    "plt.show()"
   ]
  },
  {
   "cell_type": "code",
   "execution_count": 15,
   "metadata": {},
   "outputs": [
    {
     "data": {
      "text/plain": [
       "'강원도 원주시 시청로 496-1 101동 102호(관설동, 코아루아파트)'"
      ]
     },
     "execution_count": 15,
     "metadata": {},
     "output_type": "execute_result"
    }
   ],
   "source": [
    "df['소재지도로명주소'][0]"
   ]
  },
  {
   "cell_type": "code",
   "execution_count": 16,
   "metadata": {},
   "outputs": [
    {
     "data": {
      "text/plain": [
       "(37.31397292792154, 127.96216997926722)"
      ]
     },
     "execution_count": 16,
     "metadata": {},
     "output_type": "execute_result"
    }
   ],
   "source": [
    "from geocoder import geocode\n",
    "\n",
    "geocode('강원도 원주시 시청로 496-1 101동 102호(관설동, 코아루아파트)')"
   ]
  },
  {
   "cell_type": "code",
   "execution_count": 17,
   "metadata": {
    "scrolled": false
   },
   "outputs": [
    {
     "name": "stdout",
     "output_type": "stream",
     "text": [
      "1 4249\n",
      "2 37096\n",
      "3 27918\n",
      "4 33058\n",
      "5 4117\n",
      "6 45006\n",
      "7 43107\n",
      "8 14434\n",
      "9 12966\n",
      "10 36255\n",
      "11 22379\n",
      "12 11547\n",
      "13 47287\n",
      "14 46504\n",
      "15 6257\n",
      "16 487\n",
      "17 21640\n",
      "18 40344\n",
      "19 38817\n",
      "20 9300\n",
      "21 31697\n",
      "22 1974\n",
      "23 18813\n",
      "24 11223\n",
      "25 31934\n",
      "26 391\n",
      "27 2039\n",
      "28 26614\n",
      "29 47302\n",
      "30 45640\n",
      "31 19701\n",
      "32 21234\n",
      "33 4465\n",
      "34 40886\n",
      "35 23089\n",
      "36 47806\n",
      "37 4046\n",
      "38 43385\n",
      "39 46950\n",
      "40 15357\n",
      "41 21104\n",
      "42 2207\n",
      "43 5604\n",
      "44 20190\n",
      "45 23871\n",
      "46 46183\n",
      "47 45748\n",
      "48 46792\n",
      "49 6826\n",
      "50 35629\n",
      "51 28858\n",
      "52 41478\n",
      "53 17769\n",
      "54 10947\n",
      "55 30110\n",
      "56 25404\n",
      "57 5601\n",
      "58 40331\n",
      "59 15661\n",
      "60 27850\n",
      "61 6847\n",
      "62 44664\n",
      "63 7771\n",
      "64 38525\n",
      "65 30418\n",
      "66 34815\n",
      "67 12569\n",
      "68 16923\n",
      "69 44886\n",
      "70 19866\n",
      "71 5024\n",
      "72 18340\n",
      "73 23146\n",
      "74 3963\n",
      "75 38758\n",
      "76 24246\n",
      "77 32596\n",
      "78 11251\n",
      "79 8380\n",
      "80 2551\n",
      "81 14040\n",
      "82 9086\n",
      "83 9350\n",
      "84 1944\n",
      "85 34315\n",
      "86 31722\n",
      "87 407\n",
      "88 31185\n",
      "89 5068\n",
      "90 39878\n",
      "91 34661\n",
      "92 20885\n",
      "93 44021\n",
      "94 9772\n",
      "95 31928\n",
      "96 20994\n",
      "97 271\n",
      "98 38652\n",
      "99 9474\n",
      "100 25986\n",
      "101 23414\n",
      "102 33674\n",
      "103 8212\n",
      "104 931\n",
      "105 21689\n",
      "106 23344\n",
      "107 32555\n",
      "108 41489\n",
      "109 28438\n",
      "110 39525\n",
      "111 8181\n",
      "112 43983\n",
      "113 2742\n",
      "114 30957\n",
      "115 1923\n",
      "116 45653\n",
      "117 43277\n",
      "118 17297\n",
      "119 39923\n",
      "120 10567\n",
      "121 18085\n",
      "122 42043\n",
      "123 46189\n",
      "124 16138\n",
      "125 41756\n",
      "126 43475\n",
      "127 16289\n",
      "128 13895\n",
      "129 44074\n",
      "130 16447\n",
      "131 6230\n",
      "132 4815\n",
      "133 44119\n",
      "134 23900\n",
      "135 11077\n",
      "136 8911\n",
      "137 21435\n",
      "138 25011\n",
      "139 10586\n",
      "140 44750\n",
      "141 31052\n",
      "142 19875\n",
      "143 40430\n",
      "144 4371\n",
      "145 20425\n",
      "146 16553\n",
      "147 11037\n",
      "148 45960\n",
      "149 46251\n",
      "150 25719\n",
      "151 47931\n",
      "152 4958\n",
      "153 6007\n",
      "154 11502\n",
      "155 33450\n",
      "156 5973\n",
      "157 23093\n",
      "158 16247\n",
      "159 13185\n",
      "160 11697\n",
      "161 26564\n",
      "162 35338\n",
      "163 38058\n",
      "164 16159\n",
      "165 7536\n",
      "166 30296\n",
      "167 34622\n",
      "168 10743\n",
      "169 6781\n",
      "170 7424\n",
      "171 16556\n",
      "172 24095\n",
      "173 6348\n",
      "174 37305\n",
      "175 42477\n",
      "176 12878\n",
      "177 43318\n",
      "178 22479\n",
      "179 5184\n",
      "180 28942\n",
      "181 25003\n",
      "182 36887\n",
      "183 24016\n",
      "184 12757\n",
      "185 24968\n",
      "186 21766\n",
      "187 11564\n",
      "188 11800\n",
      "189 24379\n",
      "190 4681\n",
      "191 20842\n",
      "192 27700\n",
      "193 29058\n",
      "194 3693\n",
      "195 17521\n",
      "196 17344\n",
      "197 1251\n",
      "198 37978\n",
      "199 30482\n",
      "200 12681\n"
     ]
    },
    {
     "data": {
      "text/html": [
       "<div>\n",
       "<style scoped>\n",
       "    .dataframe tbody tr th:only-of-type {\n",
       "        vertical-align: middle;\n",
       "    }\n",
       "\n",
       "    .dataframe tbody tr th {\n",
       "        vertical-align: top;\n",
       "    }\n",
       "\n",
       "    .dataframe thead th {\n",
       "        text-align: right;\n",
       "    }\n",
       "</style>\n",
       "<table border=\"1\" class=\"dataframe\">\n",
       "  <thead>\n",
       "    <tr style=\"text-align: right;\">\n",
       "      <th></th>\n",
       "      <th>어린이집명</th>\n",
       "      <th>시도명</th>\n",
       "      <th>시군구명</th>\n",
       "      <th>어린이집유형구분</th>\n",
       "      <th>정원수</th>\n",
       "      <th>보육교직원수</th>\n",
       "      <th>소재지도로명주소</th>\n",
       "      <th>어린이집전화번호</th>\n",
       "      <th>어린이집팩스번호</th>\n",
       "      <th>보육실수</th>\n",
       "      <th>놀이터수</th>\n",
       "      <th>CCTV설치수</th>\n",
       "      <th>통학차량운영여부</th>\n",
       "      <th>홈페이지주소</th>\n",
       "      <th>데이터기준일자</th>\n",
       "      <th>제공기관코드</th>\n",
       "      <th>제공기관명</th>\n",
       "      <th>Unnamed: 17</th>\n",
       "      <th>lat</th>\n",
       "      <th>lng</th>\n",
       "    </tr>\n",
       "  </thead>\n",
       "  <tbody>\n",
       "    <tr>\n",
       "      <th>4249</th>\n",
       "      <td>신나는 어린이집</td>\n",
       "      <td>충청남도</td>\n",
       "      <td>당진시</td>\n",
       "      <td>가정</td>\n",
       "      <td>20</td>\n",
       "      <td>4.0</td>\n",
       "      <td>충청남도 당진시 당진중앙2로 212-10 2동 105호( 읍내동 25-6 2동 105호)</td>\n",
       "      <td>041-0352-4136</td>\n",
       "      <td>NaN</td>\n",
       "      <td>4.0</td>\n",
       "      <td>0.0</td>\n",
       "      <td>4.0</td>\n",
       "      <td>Y</td>\n",
       "      <td>NaN</td>\n",
       "      <td>2018-08-21</td>\n",
       "      <td>5680000</td>\n",
       "      <td>충청남도 당진시</td>\n",
       "      <td>NaN</td>\n",
       "      <td>36.895987</td>\n",
       "      <td>126.635300</td>\n",
       "    </tr>\n",
       "    <tr>\n",
       "      <th>37096</th>\n",
       "      <td>현대미포조선어린이집</td>\n",
       "      <td>울산광역시</td>\n",
       "      <td>동구</td>\n",
       "      <td>직장</td>\n",
       "      <td>42</td>\n",
       "      <td>5.0</td>\n",
       "      <td>울산광역시 동구 문현1길 1 문현관3동 1층 (방어동)</td>\n",
       "      <td>052-235-6003</td>\n",
       "      <td>052-235-6067</td>\n",
       "      <td>9.0</td>\n",
       "      <td>1.0</td>\n",
       "      <td>5.0</td>\n",
       "      <td>N</td>\n",
       "      <td>http://www.childcare.go.kr</td>\n",
       "      <td>2019-05-31</td>\n",
       "      <td>3710000</td>\n",
       "      <td>울산광역시 동구</td>\n",
       "      <td>NaN</td>\n",
       "      <td>35.487157</td>\n",
       "      <td>129.414435</td>\n",
       "    </tr>\n",
       "    <tr>\n",
       "      <th>27918</th>\n",
       "      <td>꼬망새어린이집</td>\n",
       "      <td>전라북도</td>\n",
       "      <td>익산시</td>\n",
       "      <td>가정</td>\n",
       "      <td>15</td>\n",
       "      <td>6.0</td>\n",
       "      <td>전라북도 익산시 고봉로34길 5-2</td>\n",
       "      <td>063-831-9459</td>\n",
       "      <td>NaN</td>\n",
       "      <td>3.0</td>\n",
       "      <td>0.0</td>\n",
       "      <td>0.0</td>\n",
       "      <td>Y</td>\n",
       "      <td>NaN</td>\n",
       "      <td>2019-06-28</td>\n",
       "      <td>6450000</td>\n",
       "      <td>전라북도</td>\n",
       "      <td>NaN</td>\n",
       "      <td>35.960953</td>\n",
       "      <td>126.972251</td>\n",
       "    </tr>\n",
       "    <tr>\n",
       "      <th>33058</th>\n",
       "      <td>작은숲 키큰나무어린이집</td>\n",
       "      <td>경상남도</td>\n",
       "      <td>진주시</td>\n",
       "      <td>가정</td>\n",
       "      <td>20</td>\n",
       "      <td>5.0</td>\n",
       "      <td>경상남도 진주시 새평거로 111 312동 102호 (평거동, 평거휴먼시아3단지)</td>\n",
       "      <td>055-745-6988</td>\n",
       "      <td>055-741-7988</td>\n",
       "      <td>4.0</td>\n",
       "      <td>0.0</td>\n",
       "      <td>4.0</td>\n",
       "      <td>Y</td>\n",
       "      <td>NaN</td>\n",
       "      <td>2019-04-03</td>\n",
       "      <td>5310000</td>\n",
       "      <td>경상남도 진주시</td>\n",
       "      <td>NaN</td>\n",
       "      <td>35.170494</td>\n",
       "      <td>128.059159</td>\n",
       "    </tr>\n",
       "    <tr>\n",
       "      <th>4117</th>\n",
       "      <td>드림아이어린이집</td>\n",
       "      <td>부산광역시</td>\n",
       "      <td>북구</td>\n",
       "      <td>가정</td>\n",
       "      <td>19</td>\n",
       "      <td>4.0</td>\n",
       "      <td>부산광역시 북구 금곡대로 166 103동 103호(화명동, 롯데캐슬카이저)</td>\n",
       "      <td>051-900-9800</td>\n",
       "      <td>051-0000-0000</td>\n",
       "      <td>3.0</td>\n",
       "      <td>0.0</td>\n",
       "      <td>4.0</td>\n",
       "      <td>N</td>\n",
       "      <td>NaN</td>\n",
       "      <td>2019-05-28</td>\n",
       "      <td>3320000</td>\n",
       "      <td>부산광역시 북구</td>\n",
       "      <td>NaN</td>\n",
       "      <td>35.222505</td>\n",
       "      <td>129.011338</td>\n",
       "    </tr>\n",
       "  </tbody>\n",
       "</table>\n",
       "</div>"
      ],
      "text/plain": [
       "              어린이집명    시도명 시군구명 어린이집유형구분  정원수  보육교직원수  \\\n",
       "4249       신나는 어린이집   충청남도  당진시       가정   20     4.0   \n",
       "37096    현대미포조선어린이집  울산광역시   동구       직장   42     5.0   \n",
       "27918       꼬망새어린이집   전라북도  익산시       가정   15     6.0   \n",
       "33058  작은숲 키큰나무어린이집   경상남도  진주시       가정   20     5.0   \n",
       "4117       드림아이어린이집  부산광역시   북구       가정   19     4.0   \n",
       "\n",
       "                                                소재지도로명주소       어린이집전화번호  \\\n",
       "4249   충청남도 당진시 당진중앙2로 212-10 2동 105호( 읍내동 25-6 2동 105호)  041-0352-4136   \n",
       "37096                     울산광역시 동구 문현1길 1 문현관3동 1층 (방어동)   052-235-6003   \n",
       "27918                                전라북도 익산시 고봉로34길 5-2   063-831-9459   \n",
       "33058       경상남도 진주시 새평거로 111 312동 102호 (평거동, 평거휴먼시아3단지)   055-745-6988   \n",
       "4117           부산광역시 북구 금곡대로 166 103동 103호(화명동, 롯데캐슬카이저)   051-900-9800   \n",
       "\n",
       "            어린이집팩스번호  보육실수  놀이터수  CCTV설치수 통학차량운영여부  \\\n",
       "4249             NaN   4.0   0.0      4.0        Y   \n",
       "37096   052-235-6067   9.0   1.0      5.0        N   \n",
       "27918            NaN   3.0   0.0      0.0        Y   \n",
       "33058   055-741-7988   4.0   0.0      4.0        Y   \n",
       "4117   051-0000-0000   3.0   0.0      4.0        N   \n",
       "\n",
       "                           홈페이지주소     데이터기준일자   제공기관코드     제공기관명  Unnamed: 17  \\\n",
       "4249                          NaN  2018-08-21  5680000  충청남도 당진시          NaN   \n",
       "37096  http://www.childcare.go.kr  2019-05-31  3710000  울산광역시 동구          NaN   \n",
       "27918                         NaN  2019-06-28  6450000      전라북도          NaN   \n",
       "33058                         NaN  2019-04-03  5310000  경상남도 진주시          NaN   \n",
       "4117                          NaN  2019-05-28  3320000  부산광역시 북구          NaN   \n",
       "\n",
       "             lat         lng  \n",
       "4249   36.895987  126.635300  \n",
       "37096  35.487157  129.414435  \n",
       "27918  35.960953  126.972251  \n",
       "33058  35.170494  128.059159  \n",
       "4117   35.222505  129.011338  "
      ]
     },
     "execution_count": 17,
     "metadata": {},
     "output_type": "execute_result"
    }
   ],
   "source": [
    "sample_df = df.sample(n=200, random_state=1)\n",
    "\n",
    "lats = []\n",
    "lngs = []\n",
    "\n",
    "for i, index in enumerate(sample_df.index):\n",
    "    print(i + 1, index)\n",
    "    lat, lng = geocode(df['소재지도로명주소'][index])\n",
    "    lats.append(lat or 0)\n",
    "    lngs.append(lng or 0)\n",
    "\n",
    "sample_df = sample_df.assign(lat=lats, lng=lngs)\n",
    "\n",
    "sample_df.head()"
   ]
  },
  {
   "cell_type": "code",
   "execution_count": 18,
   "metadata": {},
   "outputs": [
    {
     "data": {
      "text/html": [
       "<div style=\"width:100%;\"><div style=\"position:relative;width:100%;height:0;padding-bottom:60%;\"><iframe src=\"data:text/html;charset=utf-8;base64,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\" style=\"position:absolute;width:100%;height:100%;left:0;top:0;border:none !important;\" allowfullscreen webkitallowfullscreen mozallowfullscreen></iframe></div></div>"
      ],
      "text/plain": [
       "<folium.folium.Map at 0x10ecc5610>"
      ]
     },
     "execution_count": 18,
     "metadata": {},
     "output_type": "execute_result"
    }
   ],
   "source": [
    "map = Map(location=[37.4926239, 126.9775045], zoom_start=9)\n",
    "\n",
    "data = sample_df[['lat', 'lng']].groupby(['lat', 'lng']).sum().reset_index().values.tolist()\n",
    "\n",
    "HeatMap(data=data, radius=20).add_to(map)\n",
    "\n",
    "for lat, lng in data:\n",
    "    marker = folium.Circle(\n",
    "        location=[lat, lng],\n",
    "        radius=500,\n",
    "        weight=1,\n",
    "        fill_color='#F00',\n",
    "        fill_opacity=0.3,\n",
    "    )\n",
    "    marker.add_to(map)\n",
    "\n",
    "map"
   ]
  },
  {
   "cell_type": "code",
   "execution_count": null,
   "metadata": {},
   "outputs": [],
   "source": []
  }
 ],
 "metadata": {
  "kernelspec": {
   "display_name": "Python 3",
   "language": "python",
   "name": "python3"
  },
  "language_info": {
   "codemirror_mode": {
    "name": "ipython",
    "version": 3
   },
   "file_extension": ".py",
   "mimetype": "text/x-python",
   "name": "python",
   "nbconvert_exporter": "python",
   "pygments_lexer": "ipython3",
   "version": "3.7.4"
  }
 },
 "nbformat": 4,
 "nbformat_minor": 2
}
