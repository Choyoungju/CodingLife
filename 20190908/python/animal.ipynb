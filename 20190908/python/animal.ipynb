{
 "cells": [
  {
   "cell_type": "code",
   "execution_count": 1,
   "metadata": {},
   "outputs": [
    {
     "data": {
      "text/plain": [
       "'3.1.1'"
      ]
     },
     "execution_count": 1,
     "metadata": {},
     "output_type": "execute_result"
    }
   ],
   "source": [
    "import matplotlib\n",
    "import matplotlib.pyplot as plt\n",
    "\n",
    "matplotlib.__version__"
   ]
  },
  {
   "cell_type": "code",
   "execution_count": 2,
   "metadata": {},
   "outputs": [
    {
     "data": {
      "text/plain": [
       "'0.24.2'"
      ]
     },
     "execution_count": 2,
     "metadata": {},
     "output_type": "execute_result"
    }
   ],
   "source": [
    "import pandas as pd\n",
    "\n",
    "pd.__version__"
   ]
  },
  {
   "cell_type": "code",
   "execution_count": 3,
   "metadata": {},
   "outputs": [
    {
     "data": {
      "text/plain": [
       "'0.10.0'"
      ]
     },
     "execution_count": 3,
     "metadata": {},
     "output_type": "execute_result"
    }
   ],
   "source": [
    "import folium\n",
    "from folium import Map\n",
    "from folium.plugins import HeatMap\n",
    "\n",
    "folium.__version__"
   ]
  },
  {
   "cell_type": "code",
   "execution_count": 4,
   "metadata": {},
   "outputs": [
    {
     "data": {
      "text/plain": [
       "[<Font 'Noto Nastaliq Urdu' (NotoNastaliq.ttc) normal normal 400 normal>,\n",
       " <Font 'Noto Sans CJK KR' (NotoSansCJKkr-Regular.otf) normal normal regular normal>,\n",
       " <Font 'Noto Sans CJK KR' (NotoSansCJKkr-Thin.otf) normal normal 400 normal>,\n",
       " <Font 'Noto Sans CJK KR' (NotoSansCJKkr-Light.otf) normal normal light normal>,\n",
       " <Font 'Noto Sans CJK KR' (NotoSansCJKkr-Medium.otf) normal normal medium normal>,\n",
       " <Font 'Noto Sans CJK KR' (NotoSansCJKkr-DemiLight.otf) normal normal light normal>,\n",
       " <Font 'Noto Sans CJK KR' (NotoSansCJKkr-Black.otf) normal normal black normal>,\n",
       " <Font 'Noto Sans Mono CJK KR' (NotoSansMonoCJKkr-Bold.otf) normal normal bold normal>,\n",
       " <Font 'Noto Sans Mono CJK KR' (NotoSansMonoCJKkr-Regular.otf) normal normal regular normal>,\n",
       " <Font 'Noto Sans CJK KR' (NotoSansCJKkr-Bold.otf) normal normal bold normal>]"
      ]
     },
     "execution_count": 4,
     "metadata": {},
     "output_type": "execute_result"
    }
   ],
   "source": [
    "import matplotlib.font_manager as fm\n",
    "\n",
    "[font for font in fm.fontManager.ttflist if 'Noto' in font.name]"
   ]
  },
  {
   "cell_type": "code",
   "execution_count": 5,
   "metadata": {},
   "outputs": [],
   "source": [
    "plt.rcParams['font.family'] = 'Noto Sans CJK KR'"
   ]
  },
  {
   "cell_type": "markdown",
   "metadata": {},
   "source": [
    "전국동물보호센터정보표준데이터\n",
    "\n",
    "<https://www.data.go.kr/dataset/15025454/standard.do>"
   ]
  },
  {
   "cell_type": "code",
   "execution_count": 6,
   "metadata": {},
   "outputs": [
    {
     "data": {
      "text/plain": [
       "Index(['동물보호센터명', '관리기관명', '동물보호센터유형', '구조대상동물', '소재지도로명주소', '소재지지번주소', '위도',\n",
       "       '경도', '동물보호센터지정일자', '평일운영시작시각', '평일운영종료시각', '평일분양시작시각', '평일분양종료시각',\n",
       "       '주말운영시작시각', '주말운영종료시각', '주말분양시작시각', '주말분양종료시각', '휴무일', '수의사인원수',\n",
       "       '사양관리사인원수', '진료실수', '사육실수', '격리실수', '사료보관실수', '구조운반용차량보유대수', '전화번호',\n",
       "       '데이터기준일자', '제공기관코드', '제공기관명', 'Unnamed: 29'],\n",
       "      dtype='object')"
      ]
     },
     "execution_count": 6,
     "metadata": {},
     "output_type": "execute_result"
    }
   ],
   "source": [
    "df = pd.read_csv('data/animal.csv', encoding='euc-kr')\n",
    "\n",
    "df.columns"
   ]
  },
  {
   "cell_type": "code",
   "execution_count": 7,
   "metadata": {},
   "outputs": [
    {
     "data": {
      "text/plain": [
       "(188, 30)"
      ]
     },
     "execution_count": 7,
     "metadata": {},
     "output_type": "execute_result"
    }
   ],
   "source": [
    "df.shape"
   ]
  },
  {
   "cell_type": "code",
   "execution_count": 8,
   "metadata": {},
   "outputs": [
    {
     "data": {
      "text/html": [
       "<div>\n",
       "<style scoped>\n",
       "    .dataframe tbody tr th:only-of-type {\n",
       "        vertical-align: middle;\n",
       "    }\n",
       "\n",
       "    .dataframe tbody tr th {\n",
       "        vertical-align: top;\n",
       "    }\n",
       "\n",
       "    .dataframe thead th {\n",
       "        text-align: right;\n",
       "    }\n",
       "</style>\n",
       "<table border=\"1\" class=\"dataframe\">\n",
       "  <thead>\n",
       "    <tr style=\"text-align: right;\">\n",
       "      <th></th>\n",
       "      <th>동물보호센터명</th>\n",
       "      <th>관리기관명</th>\n",
       "      <th>동물보호센터유형</th>\n",
       "      <th>구조대상동물</th>\n",
       "      <th>소재지도로명주소</th>\n",
       "      <th>소재지지번주소</th>\n",
       "      <th>위도</th>\n",
       "      <th>경도</th>\n",
       "      <th>동물보호센터지정일자</th>\n",
       "      <th>평일운영시작시각</th>\n",
       "      <th>...</th>\n",
       "      <th>진료실수</th>\n",
       "      <th>사육실수</th>\n",
       "      <th>격리실수</th>\n",
       "      <th>사료보관실수</th>\n",
       "      <th>구조운반용차량보유대수</th>\n",
       "      <th>전화번호</th>\n",
       "      <th>데이터기준일자</th>\n",
       "      <th>제공기관코드</th>\n",
       "      <th>제공기관명</th>\n",
       "      <th>Unnamed: 29</th>\n",
       "    </tr>\n",
       "  </thead>\n",
       "  <tbody>\n",
       "    <tr>\n",
       "      <th>0</th>\n",
       "      <td>인천수의사회 유기동물보호소</td>\n",
       "      <td>인천수의사회</td>\n",
       "      <td>법인</td>\n",
       "      <td>「동물보호법」에 따른 유실·유기동물</td>\n",
       "      <td>인천광역시 계양구 다남로165번길 56(다남동)</td>\n",
       "      <td>NaN</td>\n",
       "      <td>37.566196</td>\n",
       "      <td>126.719630</td>\n",
       "      <td>2006-10-18</td>\n",
       "      <td>09:00</td>\n",
       "      <td>...</td>\n",
       "      <td>NaN</td>\n",
       "      <td>NaN</td>\n",
       "      <td>NaN</td>\n",
       "      <td>NaN</td>\n",
       "      <td>NaN</td>\n",
       "      <td>032-515-7567</td>\n",
       "      <td>2018-08-13</td>\n",
       "      <td>3520000</td>\n",
       "      <td>인천광역시 연수구</td>\n",
       "      <td>NaN</td>\n",
       "    </tr>\n",
       "    <tr>\n",
       "      <th>1</th>\n",
       "      <td>사단법인 한국동물구조관리협회</td>\n",
       "      <td>도봉구청</td>\n",
       "      <td>법인</td>\n",
       "      <td>유실·유기 및 피학대동물</td>\n",
       "      <td>경기도 양주시 남면 감악산로 63-37</td>\n",
       "      <td>NaN</td>\n",
       "      <td>37.870072</td>\n",
       "      <td>126.983225</td>\n",
       "      <td>2014-06-10</td>\n",
       "      <td>09:00</td>\n",
       "      <td>...</td>\n",
       "      <td>1.0</td>\n",
       "      <td>6.0</td>\n",
       "      <td>2.0</td>\n",
       "      <td>1.0</td>\n",
       "      <td>5.0</td>\n",
       "      <td>031-867-9119</td>\n",
       "      <td>2018-01-02</td>\n",
       "      <td>3090000</td>\n",
       "      <td>서울특별시 도봉구</td>\n",
       "      <td>NaN</td>\n",
       "    </tr>\n",
       "    <tr>\n",
       "      <th>2</th>\n",
       "      <td>수성동물병원</td>\n",
       "      <td>화성시</td>\n",
       "      <td>개인</td>\n",
       "      <td>개, 고양이</td>\n",
       "      <td>경기도 화성시 남양읍 남양성지로34</td>\n",
       "      <td>경기도 화성시 남양읍 남양리 465-3번지</td>\n",
       "      <td>37.205577</td>\n",
       "      <td>126.807191</td>\n",
       "      <td>2016-12-31</td>\n",
       "      <td>09:00</td>\n",
       "      <td>...</td>\n",
       "      <td>1.0</td>\n",
       "      <td>2.0</td>\n",
       "      <td>1.0</td>\n",
       "      <td>1.0</td>\n",
       "      <td>2.0</td>\n",
       "      <td>031-355-5883</td>\n",
       "      <td>2017-11-17</td>\n",
       "      <td>5530000</td>\n",
       "      <td>경기도 화성시</td>\n",
       "      <td>NaN</td>\n",
       "    </tr>\n",
       "    <tr>\n",
       "      <th>3</th>\n",
       "      <td>청산동물병원</td>\n",
       "      <td>화성시</td>\n",
       "      <td>개인</td>\n",
       "      <td>개, 고양이</td>\n",
       "      <td>경기도 화성시 우정읍 3.1만세로29</td>\n",
       "      <td>경기도 화성시 우정읍 조암리 348번지</td>\n",
       "      <td>37.082177</td>\n",
       "      <td>126.817192</td>\n",
       "      <td>2016-12-31</td>\n",
       "      <td>09:00</td>\n",
       "      <td>...</td>\n",
       "      <td>1.0</td>\n",
       "      <td>1.0</td>\n",
       "      <td>1.0</td>\n",
       "      <td>1.0</td>\n",
       "      <td>1.0</td>\n",
       "      <td>031-358-4358</td>\n",
       "      <td>2017-11-17</td>\n",
       "      <td>5530000</td>\n",
       "      <td>경기도 화성시</td>\n",
       "      <td>NaN</td>\n",
       "    </tr>\n",
       "    <tr>\n",
       "      <th>4</th>\n",
       "      <td>인천광역시수의사회유기동물보호소</td>\n",
       "      <td>인천시수의사회</td>\n",
       "      <td>단체</td>\n",
       "      <td>유기, 유실동물</td>\n",
       "      <td>인천광역시 계양구 다남로165번길 56(다남동)</td>\n",
       "      <td>인천광역시 계양구 다남동 35-8</td>\n",
       "      <td>37.566196</td>\n",
       "      <td>126.719630</td>\n",
       "      <td>2007-01-01</td>\n",
       "      <td>09:00</td>\n",
       "      <td>...</td>\n",
       "      <td>1.0</td>\n",
       "      <td>22.0</td>\n",
       "      <td>1.0</td>\n",
       "      <td>2.0</td>\n",
       "      <td>2.0</td>\n",
       "      <td>032-515-7567</td>\n",
       "      <td>2018-08-08</td>\n",
       "      <td>3530000</td>\n",
       "      <td>인천광역시 남동구</td>\n",
       "      <td>NaN</td>\n",
       "    </tr>\n",
       "  </tbody>\n",
       "</table>\n",
       "<p>5 rows × 30 columns</p>\n",
       "</div>"
      ],
      "text/plain": [
       "            동물보호센터명    관리기관명 동물보호센터유형               구조대상동물  \\\n",
       "0    인천수의사회 유기동물보호소   인천수의사회       법인  「동물보호법」에 따른 유실·유기동물   \n",
       "1   사단법인 한국동물구조관리협회     도봉구청       법인        유실·유기 및 피학대동물   \n",
       "2            수성동물병원      화성시       개인               개, 고양이   \n",
       "3            청산동물병원      화성시       개인               개, 고양이   \n",
       "4  인천광역시수의사회유기동물보호소  인천시수의사회       단체             유기, 유실동물   \n",
       "\n",
       "                     소재지도로명주소                  소재지지번주소         위도          경도  \\\n",
       "0  인천광역시 계양구 다남로165번길 56(다남동)                      NaN  37.566196  126.719630   \n",
       "1       경기도 양주시 남면 감악산로 63-37                      NaN  37.870072  126.983225   \n",
       "2         경기도 화성시 남양읍 남양성지로34  경기도 화성시 남양읍 남양리 465-3번지  37.205577  126.807191   \n",
       "3        경기도 화성시 우정읍 3.1만세로29    경기도 화성시 우정읍 조암리 348번지  37.082177  126.817192   \n",
       "4  인천광역시 계양구 다남로165번길 56(다남동)       인천광역시 계양구 다남동 35-8  37.566196  126.719630   \n",
       "\n",
       "   동물보호센터지정일자 평일운영시작시각  ... 진료실수  사육실수 격리실수 사료보관실수 구조운반용차량보유대수          전화번호  \\\n",
       "0  2006-10-18    09:00  ...  NaN   NaN  NaN    NaN         NaN  032-515-7567   \n",
       "1  2014-06-10    09:00  ...  1.0   6.0  2.0    1.0         5.0  031-867-9119   \n",
       "2  2016-12-31    09:00  ...  1.0   2.0  1.0    1.0         2.0  031-355-5883   \n",
       "3  2016-12-31    09:00  ...  1.0   1.0  1.0    1.0         1.0  031-358-4358   \n",
       "4  2007-01-01    09:00  ...  1.0  22.0  1.0    2.0         2.0  032-515-7567   \n",
       "\n",
       "      데이터기준일자   제공기관코드      제공기관명  Unnamed: 29  \n",
       "0  2018-08-13  3520000  인천광역시 연수구          NaN  \n",
       "1  2018-01-02  3090000  서울특별시 도봉구          NaN  \n",
       "2  2017-11-17  5530000    경기도 화성시          NaN  \n",
       "3  2017-11-17  5530000    경기도 화성시          NaN  \n",
       "4  2018-08-08  3530000  인천광역시 남동구          NaN  \n",
       "\n",
       "[5 rows x 30 columns]"
      ]
     },
     "execution_count": 8,
     "metadata": {},
     "output_type": "execute_result"
    }
   ],
   "source": [
    "df.head()"
   ]
  },
  {
   "cell_type": "code",
   "execution_count": 9,
   "metadata": {},
   "outputs": [
    {
     "data": {
      "text/plain": [
       "동물보호센터명          0\n",
       "관리기관명            0\n",
       "동물보호센터유형         0\n",
       "구조대상동물           0\n",
       "소재지도로명주소         4\n",
       "소재지지번주소         30\n",
       "위도               0\n",
       "경도               0\n",
       "동물보호센터지정일자       0\n",
       "평일운영시작시각         0\n",
       "평일운영종료시각         0\n",
       "평일분양시작시각        39\n",
       "평일분양종료시각        39\n",
       "주말운영시작시각        69\n",
       "주말운영종료시각        69\n",
       "주말분양시작시각        84\n",
       "주말분양종료시각        84\n",
       "휴무일              0\n",
       "수의사인원수           0\n",
       "사양관리사인원수         0\n",
       "진료실수            45\n",
       "사육실수            39\n",
       "격리실수            39\n",
       "사료보관실수          43\n",
       "구조운반용차량보유대수     36\n",
       "전화번호             0\n",
       "데이터기준일자          0\n",
       "제공기관코드           0\n",
       "제공기관명            0\n",
       "Unnamed: 29    188\n",
       "dtype: int64"
      ]
     },
     "execution_count": 9,
     "metadata": {},
     "output_type": "execute_result"
    }
   ],
   "source": [
    "df.isnull().sum()"
   ]
  },
  {
   "cell_type": "code",
   "execution_count": 10,
   "metadata": {},
   "outputs": [
    {
     "data": {
      "text/html": [
       "<div>\n",
       "<style scoped>\n",
       "    .dataframe tbody tr th:only-of-type {\n",
       "        vertical-align: middle;\n",
       "    }\n",
       "\n",
       "    .dataframe tbody tr th {\n",
       "        vertical-align: top;\n",
       "    }\n",
       "\n",
       "    .dataframe thead th {\n",
       "        text-align: right;\n",
       "    }\n",
       "</style>\n",
       "<table border=\"1\" class=\"dataframe\">\n",
       "  <thead>\n",
       "    <tr style=\"text-align: right;\">\n",
       "      <th></th>\n",
       "      <th>동물보호센터명</th>\n",
       "      <th>관리기관명</th>\n",
       "      <th>동물보호센터유형</th>\n",
       "      <th>구조대상동물</th>\n",
       "      <th>소재지도로명주소</th>\n",
       "      <th>위도</th>\n",
       "      <th>경도</th>\n",
       "      <th>휴무일</th>\n",
       "      <th>수의사인원수</th>\n",
       "      <th>사양관리사인원수</th>\n",
       "    </tr>\n",
       "  </thead>\n",
       "  <tbody>\n",
       "    <tr>\n",
       "      <th>0</th>\n",
       "      <td>인천수의사회 유기동물보호소</td>\n",
       "      <td>인천수의사회</td>\n",
       "      <td>법인</td>\n",
       "      <td>「동물보호법」에 따른 유실·유기동물</td>\n",
       "      <td>인천광역시 계양구 다남로165번길 56(다남동)</td>\n",
       "      <td>37.566196</td>\n",
       "      <td>126.719630</td>\n",
       "      <td>연중무휴</td>\n",
       "      <td>1</td>\n",
       "      <td>3</td>\n",
       "    </tr>\n",
       "    <tr>\n",
       "      <th>1</th>\n",
       "      <td>사단법인 한국동물구조관리협회</td>\n",
       "      <td>도봉구청</td>\n",
       "      <td>법인</td>\n",
       "      <td>유실·유기 및 피학대동물</td>\n",
       "      <td>경기도 양주시 남면 감악산로 63-37</td>\n",
       "      <td>37.870072</td>\n",
       "      <td>126.983225</td>\n",
       "      <td>연중무휴</td>\n",
       "      <td>1</td>\n",
       "      <td>6</td>\n",
       "    </tr>\n",
       "    <tr>\n",
       "      <th>2</th>\n",
       "      <td>수성동물병원</td>\n",
       "      <td>화성시</td>\n",
       "      <td>개인</td>\n",
       "      <td>개, 고양이</td>\n",
       "      <td>경기도 화성시 남양읍 남양성지로34</td>\n",
       "      <td>37.205577</td>\n",
       "      <td>126.807191</td>\n",
       "      <td>일요일</td>\n",
       "      <td>1</td>\n",
       "      <td>1</td>\n",
       "    </tr>\n",
       "    <tr>\n",
       "      <th>3</th>\n",
       "      <td>청산동물병원</td>\n",
       "      <td>화성시</td>\n",
       "      <td>개인</td>\n",
       "      <td>개, 고양이</td>\n",
       "      <td>경기도 화성시 우정읍 3.1만세로29</td>\n",
       "      <td>37.082177</td>\n",
       "      <td>126.817192</td>\n",
       "      <td>일요일</td>\n",
       "      <td>1</td>\n",
       "      <td>2</td>\n",
       "    </tr>\n",
       "    <tr>\n",
       "      <th>4</th>\n",
       "      <td>인천광역시수의사회유기동물보호소</td>\n",
       "      <td>인천시수의사회</td>\n",
       "      <td>단체</td>\n",
       "      <td>유기, 유실동물</td>\n",
       "      <td>인천광역시 계양구 다남로165번길 56(다남동)</td>\n",
       "      <td>37.566196</td>\n",
       "      <td>126.719630</td>\n",
       "      <td>없음</td>\n",
       "      <td>1</td>\n",
       "      <td>3</td>\n",
       "    </tr>\n",
       "  </tbody>\n",
       "</table>\n",
       "</div>"
      ],
      "text/plain": [
       "            동물보호센터명    관리기관명 동물보호센터유형               구조대상동물  \\\n",
       "0    인천수의사회 유기동물보호소   인천수의사회       법인  「동물보호법」에 따른 유실·유기동물   \n",
       "1   사단법인 한국동물구조관리협회     도봉구청       법인        유실·유기 및 피학대동물   \n",
       "2            수성동물병원      화성시       개인               개, 고양이   \n",
       "3            청산동물병원      화성시       개인               개, 고양이   \n",
       "4  인천광역시수의사회유기동물보호소  인천시수의사회       단체             유기, 유실동물   \n",
       "\n",
       "                     소재지도로명주소         위도          경도   휴무일  수의사인원수  사양관리사인원수  \n",
       "0  인천광역시 계양구 다남로165번길 56(다남동)  37.566196  126.719630  연중무휴       1         3  \n",
       "1       경기도 양주시 남면 감악산로 63-37  37.870072  126.983225  연중무휴       1         6  \n",
       "2         경기도 화성시 남양읍 남양성지로34  37.205577  126.807191   일요일       1         1  \n",
       "3        경기도 화성시 우정읍 3.1만세로29  37.082177  126.817192   일요일       1         2  \n",
       "4  인천광역시 계양구 다남로165번길 56(다남동)  37.566196  126.719630    없음       1         3  "
      ]
     },
     "execution_count": 10,
     "metadata": {},
     "output_type": "execute_result"
    }
   ],
   "source": [
    "simple_df = df.drop(columns=[\n",
    "    '소재지지번주소', '동물보호센터지정일자',\n",
    "    '평일운영시작시각', '평일운영종료시각', '평일분양시작시각', '평일분양종료시각',\n",
    "    '주말운영시작시각', '주말운영종료시각', '주말분양시작시각', '주말분양종료시각',\n",
    "    '진료실수', '사육실수', '격리실수', '사료보관실수', '구조운반용차량보유대수', '전화번호',\n",
    "    '데이터기준일자', '제공기관코드', '제공기관명', 'Unnamed: 29'\n",
    "])\n",
    "\n",
    "simple_df.head()"
   ]
  },
  {
   "cell_type": "code",
   "execution_count": 11,
   "metadata": {
    "scrolled": false
   },
   "outputs": [
    {
     "data": {
      "text/html": [
       "<div>\n",
       "<style scoped>\n",
       "    .dataframe tbody tr th:only-of-type {\n",
       "        vertical-align: middle;\n",
       "    }\n",
       "\n",
       "    .dataframe tbody tr th {\n",
       "        vertical-align: top;\n",
       "    }\n",
       "\n",
       "    .dataframe thead th {\n",
       "        text-align: right;\n",
       "    }\n",
       "</style>\n",
       "<table border=\"1\" class=\"dataframe\">\n",
       "  <thead>\n",
       "    <tr style=\"text-align: right;\">\n",
       "      <th></th>\n",
       "      <th>동물보호센터유형</th>\n",
       "    </tr>\n",
       "  </thead>\n",
       "  <tbody>\n",
       "    <tr>\n",
       "      <th>동물병원</th>\n",
       "      <td>85</td>\n",
       "    </tr>\n",
       "    <tr>\n",
       "      <th>법인</th>\n",
       "      <td>44</td>\n",
       "    </tr>\n",
       "    <tr>\n",
       "      <th>개인</th>\n",
       "      <td>32</td>\n",
       "    </tr>\n",
       "    <tr>\n",
       "      <th>단체</th>\n",
       "      <td>27</td>\n",
       "    </tr>\n",
       "  </tbody>\n",
       "</table>\n",
       "</div>"
      ],
      "text/plain": [
       "      동물보호센터유형\n",
       "동물병원        85\n",
       "법인          44\n",
       "개인          32\n",
       "단체          27"
      ]
     },
     "execution_count": 11,
     "metadata": {},
     "output_type": "execute_result"
    }
   ],
   "source": [
    "data = simple_df['동물보호센터유형'].value_counts()\n",
    "\n",
    "pd.DataFrame(data)"
   ]
  },
  {
   "cell_type": "code",
   "execution_count": 12,
   "metadata": {},
   "outputs": [
    {
     "data": {
      "image/png": "[encoded data removed]",
      "text/plain": [
       "<Figure size 432x288 with 1 Axes>"
      ]
     },
     "metadata": {},
     "output_type": "display_data"
    }
   ],
   "source": [
    "data = simple_df['동물보호센터유형'].value_counts()\n",
    "\n",
    "data.plot.pie()\n",
    "\n",
    "plt.show()"
   ]
  },
  {
   "cell_type": "code",
   "execution_count": 13,
   "metadata": {},
   "outputs": [
    {
     "data": {
      "text/html": [
       "<div>\n",
       "<style scoped>\n",
       "    .dataframe tbody tr th:only-of-type {\n",
       "        vertical-align: middle;\n",
       "    }\n",
       "\n",
       "    .dataframe tbody tr th {\n",
       "        vertical-align: top;\n",
       "    }\n",
       "\n",
       "    .dataframe thead th {\n",
       "        text-align: right;\n",
       "    }\n",
       "</style>\n",
       "<table border=\"1\" class=\"dataframe\">\n",
       "  <thead>\n",
       "    <tr style=\"text-align: right;\">\n",
       "      <th></th>\n",
       "      <th>휴무일</th>\n",
       "    </tr>\n",
       "  </thead>\n",
       "  <tbody>\n",
       "    <tr>\n",
       "      <th>연중무휴</th>\n",
       "      <td>39</td>\n",
       "    </tr>\n",
       "    <tr>\n",
       "      <th>일요일</th>\n",
       "      <td>32</td>\n",
       "    </tr>\n",
       "    <tr>\n",
       "      <th>없음</th>\n",
       "      <td>22</td>\n",
       "    </tr>\n",
       "    <tr>\n",
       "      <th>공휴일</th>\n",
       "      <td>18</td>\n",
       "    </tr>\n",
       "    <tr>\n",
       "      <th>매주 일요일</th>\n",
       "      <td>6</td>\n",
       "    </tr>\n",
       "    <tr>\n",
       "      <th>토요일+일요일</th>\n",
       "      <td>6</td>\n",
       "    </tr>\n",
       "    <tr>\n",
       "      <th>일요일+공휴일</th>\n",
       "      <td>5</td>\n",
       "    </tr>\n",
       "    <tr>\n",
       "      <th>주말+공휴일</th>\n",
       "      <td>4</td>\n",
       "    </tr>\n",
       "    <tr>\n",
       "      <th>토요일+일요일+공휴일</th>\n",
       "      <td>4</td>\n",
       "    </tr>\n",
       "    <tr>\n",
       "      <th>주말 및 공휴일</th>\n",
       "      <td>3</td>\n",
       "    </tr>\n",
       "  </tbody>\n",
       "</table>\n",
       "</div>"
      ],
      "text/plain": [
       "             휴무일\n",
       "연중무휴          39\n",
       "일요일           32\n",
       "없음            22\n",
       "공휴일           18\n",
       "매주 일요일         6\n",
       "토요일+일요일        6\n",
       "일요일+공휴일        5\n",
       "주말+공휴일         4\n",
       "토요일+일요일+공휴일    4\n",
       "주말 및 공휴일       3"
      ]
     },
     "execution_count": 13,
     "metadata": {},
     "output_type": "execute_result"
    }
   ],
   "source": [
    "data = simple_df['휴무일'].value_counts().nlargest(10)\n",
    "\n",
    "pd.DataFrame(data)"
   ]
  },
  {
   "cell_type": "code",
   "execution_count": 14,
   "metadata": {},
   "outputs": [
    {
     "data": {
      "image/png": "[encoded data removed]",
      "text/plain": [
       "<Figure size 432x288 with 1 Axes>"
      ]
     },
     "metadata": {},
     "output_type": "display_data"
    }
   ],
   "source": [
    "data = simple_df['휴무일'].value_counts().nlargest(10)\n",
    "\n",
    "data.plot.pie()\n",
    "\n",
    "plt.show()"
   ]
  },
  {
   "cell_type": "code",
   "execution_count": 15,
   "metadata": {},
   "outputs": [
    {
     "data": {
      "text/html": [
       "<div>\n",
       "<style scoped>\n",
       "    .dataframe tbody tr th:only-of-type {\n",
       "        vertical-align: middle;\n",
       "    }\n",
       "\n",
       "    .dataframe tbody tr th {\n",
       "        vertical-align: top;\n",
       "    }\n",
       "\n",
       "    .dataframe thead th {\n",
       "        text-align: right;\n",
       "    }\n",
       "</style>\n",
       "<table border=\"1\" class=\"dataframe\">\n",
       "  <thead>\n",
       "    <tr style=\"text-align: right;\">\n",
       "      <th></th>\n",
       "      <th>수의사인원수</th>\n",
       "    </tr>\n",
       "  </thead>\n",
       "  <tbody>\n",
       "    <tr>\n",
       "      <th>1</th>\n",
       "      <td>124</td>\n",
       "    </tr>\n",
       "    <tr>\n",
       "      <th>0</th>\n",
       "      <td>37</td>\n",
       "    </tr>\n",
       "    <tr>\n",
       "      <th>2</th>\n",
       "      <td>18</td>\n",
       "    </tr>\n",
       "    <tr>\n",
       "      <th>3</th>\n",
       "      <td>3</td>\n",
       "    </tr>\n",
       "    <tr>\n",
       "      <th>5</th>\n",
       "      <td>2</td>\n",
       "    </tr>\n",
       "    <tr>\n",
       "      <th>21</th>\n",
       "      <td>1</td>\n",
       "    </tr>\n",
       "    <tr>\n",
       "      <th>20</th>\n",
       "      <td>1</td>\n",
       "    </tr>\n",
       "    <tr>\n",
       "      <th>7</th>\n",
       "      <td>1</td>\n",
       "    </tr>\n",
       "    <tr>\n",
       "      <th>6</th>\n",
       "      <td>1</td>\n",
       "    </tr>\n",
       "  </tbody>\n",
       "</table>\n",
       "</div>"
      ],
      "text/plain": [
       "    수의사인원수\n",
       "1      124\n",
       "0       37\n",
       "2       18\n",
       "3        3\n",
       "5        2\n",
       "21       1\n",
       "20       1\n",
       "7        1\n",
       "6        1"
      ]
     },
     "execution_count": 15,
     "metadata": {},
     "output_type": "execute_result"
    }
   ],
   "source": [
    "data = simple_df['수의사인원수'].value_counts()\n",
    "\n",
    "pd.DataFrame(data)"
   ]
  },
  {
   "cell_type": "code",
   "execution_count": 16,
   "metadata": {},
   "outputs": [
    {
     "data": {
      "image/png": "[encoded data removed]",
      "text/plain": [
       "<Figure size 432x288 with 1 Axes>"
      ]
     },
     "metadata": {
      "needs_background": "light"
     },
     "output_type": "display_data"
    }
   ],
   "source": [
    "simple_df[['동물보호센터명', '수의사인원수']].plot.hist(bins=100, rwidth=10)\n",
    "\n",
    "plt.show()"
   ]
  },
  {
   "cell_type": "code",
   "execution_count": 17,
   "metadata": {},
   "outputs": [
    {
     "data": {
      "text/html": [
       "<div>\n",
       "<style scoped>\n",
       "    .dataframe tbody tr th:only-of-type {\n",
       "        vertical-align: middle;\n",
       "    }\n",
       "\n",
       "    .dataframe tbody tr th {\n",
       "        vertical-align: top;\n",
       "    }\n",
       "\n",
       "    .dataframe thead th {\n",
       "        text-align: right;\n",
       "    }\n",
       "</style>\n",
       "<table border=\"1\" class=\"dataframe\">\n",
       "  <thead>\n",
       "    <tr style=\"text-align: right;\">\n",
       "      <th></th>\n",
       "      <th>사양관리사인원수</th>\n",
       "    </tr>\n",
       "  </thead>\n",
       "  <tbody>\n",
       "    <tr>\n",
       "      <th>1</th>\n",
       "      <td>73</td>\n",
       "    </tr>\n",
       "    <tr>\n",
       "      <th>2</th>\n",
       "      <td>32</td>\n",
       "    </tr>\n",
       "    <tr>\n",
       "      <th>3</th>\n",
       "      <td>19</td>\n",
       "    </tr>\n",
       "    <tr>\n",
       "      <th>0</th>\n",
       "      <td>17</td>\n",
       "    </tr>\n",
       "    <tr>\n",
       "      <th>5</th>\n",
       "      <td>13</td>\n",
       "    </tr>\n",
       "    <tr>\n",
       "      <th>4</th>\n",
       "      <td>11</td>\n",
       "    </tr>\n",
       "    <tr>\n",
       "      <th>6</th>\n",
       "      <td>8</td>\n",
       "    </tr>\n",
       "    <tr>\n",
       "      <th>7</th>\n",
       "      <td>7</td>\n",
       "    </tr>\n",
       "    <tr>\n",
       "      <th>8</th>\n",
       "      <td>4</td>\n",
       "    </tr>\n",
       "    <tr>\n",
       "      <th>29</th>\n",
       "      <td>1</td>\n",
       "    </tr>\n",
       "    <tr>\n",
       "      <th>20</th>\n",
       "      <td>1</td>\n",
       "    </tr>\n",
       "    <tr>\n",
       "      <th>14</th>\n",
       "      <td>1</td>\n",
       "    </tr>\n",
       "    <tr>\n",
       "      <th>9</th>\n",
       "      <td>1</td>\n",
       "    </tr>\n",
       "  </tbody>\n",
       "</table>\n",
       "</div>"
      ],
      "text/plain": [
       "    사양관리사인원수\n",
       "1         73\n",
       "2         32\n",
       "3         19\n",
       "0         17\n",
       "5         13\n",
       "4         11\n",
       "6          8\n",
       "7          7\n",
       "8          4\n",
       "29         1\n",
       "20         1\n",
       "14         1\n",
       "9          1"
      ]
     },
     "execution_count": 17,
     "metadata": {},
     "output_type": "execute_result"
    }
   ],
   "source": [
    "data = simple_df['사양관리사인원수'].value_counts()\n",
    "\n",
    "pd.DataFrame(data)"
   ]
  },
  {
   "cell_type": "code",
   "execution_count": 18,
   "metadata": {},
   "outputs": [
    {
     "data": {
      "image/png": "[encoded data removed]",
      "text/plain": [
       "<Figure size 432x288 with 1 Axes>"
      ]
     },
     "metadata": {
      "needs_background": "light"
     },
     "output_type": "display_data"
    }
   ],
   "source": [
    "simple_df[['동물보호센터명', '사양관리사인원수']].plot.hist(bins=100, rwidth=10)\n",
    "\n",
    "plt.show()"
   ]
  },
  {
   "cell_type": "code",
   "execution_count": 19,
   "metadata": {},
   "outputs": [
    {
     "data": {
      "text/plain": [
       "((188, 10), (184, 10))"
      ]
     },
     "execution_count": 19,
     "metadata": {},
     "output_type": "execute_result"
    }
   ],
   "source": [
    "address_df = simple_df[simple_df['소재지도로명주소'].notnull()]\n",
    "\n",
    "simple_df.shape, address_df.shape"
   ]
  },
  {
   "cell_type": "code",
   "execution_count": 20,
   "metadata": {},
   "outputs": [
    {
     "data": {
      "text/html": [
       "<div>\n",
       "<style scoped>\n",
       "    .dataframe tbody tr th:only-of-type {\n",
       "        vertical-align: middle;\n",
       "    }\n",
       "\n",
       "    .dataframe tbody tr th {\n",
       "        vertical-align: top;\n",
       "    }\n",
       "\n",
       "    .dataframe thead th {\n",
       "        text-align: right;\n",
       "    }\n",
       "</style>\n",
       "<table border=\"1\" class=\"dataframe\">\n",
       "  <thead>\n",
       "    <tr style=\"text-align: right;\">\n",
       "      <th></th>\n",
       "      <th>동물보호센터명</th>\n",
       "      <th>관리기관명</th>\n",
       "      <th>동물보호센터유형</th>\n",
       "      <th>구조대상동물</th>\n",
       "      <th>소재지도로명주소</th>\n",
       "      <th>위도</th>\n",
       "      <th>경도</th>\n",
       "      <th>휴무일</th>\n",
       "      <th>수의사인원수</th>\n",
       "      <th>사양관리사인원수</th>\n",
       "    </tr>\n",
       "  </thead>\n",
       "  <tbody>\n",
       "    <tr>\n",
       "      <th>34</th>\n",
       "      <td>서초동물사랑센터</td>\n",
       "      <td>서초구청 지역경제과</td>\n",
       "      <td>법인</td>\n",
       "      <td>개</td>\n",
       "      <td>서울특별시 서초구  양재천로19길 22 (양재동)</td>\n",
       "      <td>37.476332</td>\n",
       "      <td>127.038124</td>\n",
       "      <td>매주월요일, 법정공휴일(일요일제외)</td>\n",
       "      <td>0</td>\n",
       "      <td>5</td>\n",
       "    </tr>\n",
       "    <tr>\n",
       "      <th>121</th>\n",
       "      <td>러브펫종합동물병원</td>\n",
       "      <td>서울특별시 관악구청</td>\n",
       "      <td>동물병원</td>\n",
       "      <td>개+고양이+기타유기동물</td>\n",
       "      <td>서울특별시 관악구 남부순환로 1451</td>\n",
       "      <td>37.481566</td>\n",
       "      <td>126.912010</td>\n",
       "      <td>연중무휴</td>\n",
       "      <td>2</td>\n",
       "      <td>5</td>\n",
       "    </tr>\n",
       "    <tr>\n",
       "      <th>173</th>\n",
       "      <td>강현림동물병원</td>\n",
       "      <td>서울특별시 양천구청</td>\n",
       "      <td>동물병원</td>\n",
       "      <td>반려동물</td>\n",
       "      <td>서울특별시 양천구 등촌로 160</td>\n",
       "      <td>37.543980</td>\n",
       "      <td>126.862417</td>\n",
       "      <td>매주일요일</td>\n",
       "      <td>1</td>\n",
       "      <td>2</td>\n",
       "    </tr>\n",
       "  </tbody>\n",
       "</table>\n",
       "</div>"
      ],
      "text/plain": [
       "       동물보호센터명       관리기관명 동물보호센터유형        구조대상동물  \\\n",
       "34    서초동물사랑센터  서초구청 지역경제과       법인             개   \n",
       "121  러브펫종합동물병원  서울특별시 관악구청     동물병원  개+고양이+기타유기동물   \n",
       "173    강현림동물병원  서울특별시 양천구청     동물병원          반려동물   \n",
       "\n",
       "                        소재지도로명주소         위도          경도                  휴무일  \\\n",
       "34   서울특별시 서초구  양재천로19길 22 (양재동)  37.476332  127.038124  매주월요일, 법정공휴일(일요일제외)   \n",
       "121         서울특별시 관악구 남부순환로 1451  37.481566  126.912010                 연중무휴   \n",
       "173            서울특별시 양천구 등촌로 160  37.543980  126.862417                매주일요일   \n",
       "\n",
       "     수의사인원수  사양관리사인원수  \n",
       "34        0         5  \n",
       "121       2         5  \n",
       "173       1         2  "
      ]
     },
     "execution_count": 20,
     "metadata": {},
     "output_type": "execute_result"
    }
   ],
   "source": [
    "address_df[address_df['소재지도로명주소'].str.contains('서울')]"
   ]
  },
  {
   "cell_type": "code",
   "execution_count": 21,
   "metadata": {
    "scrolled": false
   },
   "outputs": [
    {
     "data": {
      "text/html": [
       "<div style=\"width:100%;\"><div style=\"position:relative;width:100%;height:0;padding-bottom:60%;\"><iframe src=\"data:text/html;charset=utf-8;base64,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\" style=\"position:absolute;width:100%;height:100%;left:0;top:0;border:none !important;\" allowfullscreen webkitallowfullscreen mozallowfullscreen></iframe></div></div>"
      ],
      "text/plain": [
       "<folium.folium.Map at 0x116f4bad0>"
      ]
     },
     "execution_count": 21,
     "metadata": {},
     "output_type": "execute_result"
    }
   ],
   "source": [
    "map = Map(location=[36.5, 127.5], zoom_start=7)\n",
    "\n",
    "data = simple_df[['위도', '경도']].groupby(['위도', '경도']).sum().reset_index().values.tolist()\n",
    "\n",
    "HeatMap(data=data, radius=20).add_to(map)\n",
    "\n",
    "for lat, lng in data:\n",
    "    marker = folium.Circle(\n",
    "        location=[lat, lng],\n",
    "        radius=500,\n",
    "        weight=1,\n",
    "        fill_color='#F00',\n",
    "        fill_opacity=0.3,\n",
    "    )\n",
    "    marker.add_to(map)\n",
    "\n",
    "map"
   ]
  },
  {
   "cell_type": "code",
   "execution_count": null,
   "metadata": {},
   "outputs": [],
   "source": []
  }
 ],
 "metadata": {
  "kernelspec": {
   "display_name": "Python 3",
   "language": "python",
   "name": "python3"
  },
  "language_info": {
   "codemirror_mode": {
    "name": "ipython",
    "version": 3
   },
   "file_extension": ".py",
   "mimetype": "text/x-python",
   "name": "python",
   "nbconvert_exporter": "python",
   "pygments_lexer": "ipython3",
   "version": "3.7.4"
  }
 },
 "nbformat": 4,
 "nbformat_minor": 2
}
