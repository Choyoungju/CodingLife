{
 "cells": [
  {
   "cell_type": "code",
   "execution_count": 1,
   "metadata": {},
   "outputs": [
    {
     "data": {
      "text/plain": [
       "'3.1.1'"
      ]
     },
     "execution_count": 1,
     "metadata": {},
     "output_type": "execute_result"
    }
   ],
   "source": [
    "import matplotlib\n",
    "import matplotlib.pyplot as plt\n",
    "\n",
    "matplotlib.__version__"
   ]
  },
  {
   "cell_type": "code",
   "execution_count": 2,
   "metadata": {},
   "outputs": [
    {
     "data": {
      "text/plain": [
       "'0.24.2'"
      ]
     },
     "execution_count": 2,
     "metadata": {},
     "output_type": "execute_result"
    }
   ],
   "source": [
    "import pandas as pd\n",
    "\n",
    "pd.__version__"
   ]
  },
  {
   "cell_type": "code",
   "execution_count": 3,
   "metadata": {},
   "outputs": [
    {
     "data": {
      "text/plain": [
       "'0.10.0'"
      ]
     },
     "execution_count": 3,
     "metadata": {},
     "output_type": "execute_result"
    }
   ],
   "source": [
    "import folium\n",
    "from folium import Map\n",
    "from folium.plugins import HeatMap\n",
    "\n",
    "folium.__version__"
   ]
  },
  {
   "cell_type": "code",
   "execution_count": 4,
   "metadata": {},
   "outputs": [
    {
     "data": {
      "text/plain": [
       "[<Font 'Noto Nastaliq Urdu' (NotoNastaliq.ttc) normal normal 400 normal>,\n",
       " <Font 'Noto Sans CJK KR' (NotoSansCJKkr-Regular.otf) normal normal regular normal>,\n",
       " <Font 'Noto Sans CJK KR' (NotoSansCJKkr-Thin.otf) normal normal 400 normal>,\n",
       " <Font 'Noto Sans CJK KR' (NotoSansCJKkr-Light.otf) normal normal light normal>,\n",
       " <Font 'Noto Sans CJK KR' (NotoSansCJKkr-Medium.otf) normal normal medium normal>,\n",
       " <Font 'Noto Sans CJK KR' (NotoSansCJKkr-DemiLight.otf) normal normal light normal>,\n",
       " <Font 'Noto Sans CJK KR' (NotoSansCJKkr-Black.otf) normal normal black normal>,\n",
       " <Font 'Noto Sans Mono CJK KR' (NotoSansMonoCJKkr-Bold.otf) normal normal bold normal>,\n",
       " <Font 'Noto Sans Mono CJK KR' (NotoSansMonoCJKkr-Regular.otf) normal normal regular normal>,\n",
       " <Font 'Noto Sans CJK KR' (NotoSansCJKkr-Bold.otf) normal normal bold normal>]"
      ]
     },
     "execution_count": 4,
     "metadata": {},
     "output_type": "execute_result"
    }
   ],
   "source": [
    "import matplotlib.font_manager as fm\n",
    "\n",
    "[font for font in fm.fontManager.ttflist if 'Noto' in font.name]"
   ]
  },
  {
   "cell_type": "code",
   "execution_count": 5,
   "metadata": {},
   "outputs": [],
   "source": [
    "plt.rcParams['font.family'] = 'Noto Sans CJK KR'"
   ]
  },
  {
   "cell_type": "markdown",
   "metadata": {},
   "source": [
    "전국동물보호센터정보표준데이터\n",
    "\n",
    "<https://www.data.go.kr/dataset/15025454/standard.do>"
   ]
  },
  {
   "cell_type": "code",
   "execution_count": 6,
   "metadata": {},
   "outputs": [
    {
     "data": {
      "text/plain": [
       "Index(['동물보호센터명', '관리기관명', '동물보호센터유형', '구조대상동물', '소재지도로명주소', '소재지지번주소', '위도',\n",
       "       '경도', '동물보호센터지정일자', '평일운영시작시각', '평일운영종료시각', '평일분양시작시각', '평일분양종료시각',\n",
       "       '주말운영시작시각', '주말운영종료시각', '주말분양시작시각', '주말분양종료시각', '휴무일', '수의사인원수',\n",
       "       '사양관리사인원수', '진료실수', '사육실수', '격리실수', '사료보관실수', '구조운반용차량보유대수', '전화번호',\n",
       "       '데이터기준일자', '제공기관코드', '제공기관명', 'Unnamed: 29'],\n",
       "      dtype='object')"
      ]
     },
     "execution_count": 6,
     "metadata": {},
     "output_type": "execute_result"
    }
   ],
   "source": [
    "df = pd.read_csv('data/animal.csv', encoding='euc-kr')\n",
    "\n",
    "df.columns"
   ]
  },
  {
   "cell_type": "code",
   "execution_count": 7,
   "metadata": {},
   "outputs": [
    {
     "data": {
      "text/plain": [
       "(188, 30)"
      ]
     },
     "execution_count": 7,
     "metadata": {},
     "output_type": "execute_result"
    }
   ],
   "source": [
    "df.shape"
   ]
  },
  {
   "cell_type": "code",
   "execution_count": 8,
   "metadata": {},
   "outputs": [
    {
     "data": {
      "text/html": [
       "<div>\n",
       "<style scoped>\n",
       "    .dataframe tbody tr th:only-of-type {\n",
       "        vertical-align: middle;\n",
       "    }\n",
       "\n",
       "    .dataframe tbody tr th {\n",
       "        vertical-align: top;\n",
       "    }\n",
       "\n",
       "    .dataframe thead th {\n",
       "        text-align: right;\n",
       "    }\n",
       "</style>\n",
       "<table border=\"1\" class=\"dataframe\">\n",
       "  <thead>\n",
       "    <tr style=\"text-align: right;\">\n",
       "      <th></th>\n",
       "      <th>동물보호센터명</th>\n",
       "      <th>관리기관명</th>\n",
       "      <th>동물보호센터유형</th>\n",
       "      <th>구조대상동물</th>\n",
       "      <th>소재지도로명주소</th>\n",
       "      <th>소재지지번주소</th>\n",
       "      <th>위도</th>\n",
       "      <th>경도</th>\n",
       "      <th>동물보호센터지정일자</th>\n",
       "      <th>평일운영시작시각</th>\n",
       "      <th>...</th>\n",
       "      <th>진료실수</th>\n",
       "      <th>사육실수</th>\n",
       "      <th>격리실수</th>\n",
       "      <th>사료보관실수</th>\n",
       "      <th>구조운반용차량보유대수</th>\n",
       "      <th>전화번호</th>\n",
       "      <th>데이터기준일자</th>\n",
       "      <th>제공기관코드</th>\n",
       "      <th>제공기관명</th>\n",
       "      <th>Unnamed: 29</th>\n",
       "    </tr>\n",
       "  </thead>\n",
       "  <tbody>\n",
       "    <tr>\n",
       "      <th>0</th>\n",
       "      <td>인천수의사회 유기동물보호소</td>\n",
       "      <td>인천수의사회</td>\n",
       "      <td>법인</td>\n",
       "      <td>「동물보호법」에 따른 유실·유기동물</td>\n",
       "      <td>인천광역시 계양구 다남로165번길 56(다남동)</td>\n",
       "      <td>NaN</td>\n",
       "      <td>37.566196</td>\n",
       "      <td>126.719630</td>\n",
       "      <td>2006-10-18</td>\n",
       "      <td>09:00</td>\n",
       "      <td>...</td>\n",
       "      <td>NaN</td>\n",
       "      <td>NaN</td>\n",
       "      <td>NaN</td>\n",
       "      <td>NaN</td>\n",
       "      <td>NaN</td>\n",
       "      <td>032-515-7567</td>\n",
       "      <td>2018-08-13</td>\n",
       "      <td>3520000</td>\n",
       "      <td>인천광역시 연수구</td>\n",
       "      <td>NaN</td>\n",
       "    </tr>\n",
       "    <tr>\n",
       "      <th>1</th>\n",
       "      <td>사단법인 한국동물구조관리협회</td>\n",
       "      <td>도봉구청</td>\n",
       "      <td>법인</td>\n",
       "      <td>유실·유기 및 피학대동물</td>\n",
       "      <td>경기도 양주시 남면 감악산로 63-37</td>\n",
       "      <td>NaN</td>\n",
       "      <td>37.870072</td>\n",
       "      <td>126.983225</td>\n",
       "      <td>2014-06-10</td>\n",
       "      <td>09:00</td>\n",
       "      <td>...</td>\n",
       "      <td>1.0</td>\n",
       "      <td>6.0</td>\n",
       "      <td>2.0</td>\n",
       "      <td>1.0</td>\n",
       "      <td>5.0</td>\n",
       "      <td>031-867-9119</td>\n",
       "      <td>2018-01-02</td>\n",
       "      <td>3090000</td>\n",
       "      <td>서울특별시 도봉구</td>\n",
       "      <td>NaN</td>\n",
       "    </tr>\n",
       "    <tr>\n",
       "      <th>2</th>\n",
       "      <td>수성동물병원</td>\n",
       "      <td>화성시</td>\n",
       "      <td>개인</td>\n",
       "      <td>개, 고양이</td>\n",
       "      <td>경기도 화성시 남양읍 남양성지로34</td>\n",
       "      <td>경기도 화성시 남양읍 남양리 465-3번지</td>\n",
       "      <td>37.205577</td>\n",
       "      <td>126.807191</td>\n",
       "      <td>2016-12-31</td>\n",
       "      <td>09:00</td>\n",
       "      <td>...</td>\n",
       "      <td>1.0</td>\n",
       "      <td>2.0</td>\n",
       "      <td>1.0</td>\n",
       "      <td>1.0</td>\n",
       "      <td>2.0</td>\n",
       "      <td>031-355-5883</td>\n",
       "      <td>2017-11-17</td>\n",
       "      <td>5530000</td>\n",
       "      <td>경기도 화성시</td>\n",
       "      <td>NaN</td>\n",
       "    </tr>\n",
       "    <tr>\n",
       "      <th>3</th>\n",
       "      <td>청산동물병원</td>\n",
       "      <td>화성시</td>\n",
       "      <td>개인</td>\n",
       "      <td>개, 고양이</td>\n",
       "      <td>경기도 화성시 우정읍 3.1만세로29</td>\n",
       "      <td>경기도 화성시 우정읍 조암리 348번지</td>\n",
       "      <td>37.082177</td>\n",
       "      <td>126.817192</td>\n",
       "      <td>2016-12-31</td>\n",
       "      <td>09:00</td>\n",
       "      <td>...</td>\n",
       "      <td>1.0</td>\n",
       "      <td>1.0</td>\n",
       "      <td>1.0</td>\n",
       "      <td>1.0</td>\n",
       "      <td>1.0</td>\n",
       "      <td>031-358-4358</td>\n",
       "      <td>2017-11-17</td>\n",
       "      <td>5530000</td>\n",
       "      <td>경기도 화성시</td>\n",
       "      <td>NaN</td>\n",
       "    </tr>\n",
       "    <tr>\n",
       "      <th>4</th>\n",
       "      <td>인천광역시수의사회유기동물보호소</td>\n",
       "      <td>인천시수의사회</td>\n",
       "      <td>단체</td>\n",
       "      <td>유기, 유실동물</td>\n",
       "      <td>인천광역시 계양구 다남로165번길 56(다남동)</td>\n",
       "      <td>인천광역시 계양구 다남동 35-8</td>\n",
       "      <td>37.566196</td>\n",
       "      <td>126.719630</td>\n",
       "      <td>2007-01-01</td>\n",
       "      <td>09:00</td>\n",
       "      <td>...</td>\n",
       "      <td>1.0</td>\n",
       "      <td>22.0</td>\n",
       "      <td>1.0</td>\n",
       "      <td>2.0</td>\n",
       "      <td>2.0</td>\n",
       "      <td>032-515-7567</td>\n",
       "      <td>2018-08-08</td>\n",
       "      <td>3530000</td>\n",
       "      <td>인천광역시 남동구</td>\n",
       "      <td>NaN</td>\n",
       "    </tr>\n",
       "  </tbody>\n",
       "</table>\n",
       "<p>5 rows × 30 columns</p>\n",
       "</div>"
      ],
      "text/plain": [
       "            동물보호센터명    관리기관명 동물보호센터유형               구조대상동물  \\\n",
       "0    인천수의사회 유기동물보호소   인천수의사회       법인  「동물보호법」에 따른 유실·유기동물   \n",
       "1   사단법인 한국동물구조관리협회     도봉구청       법인        유실·유기 및 피학대동물   \n",
       "2            수성동물병원      화성시       개인               개, 고양이   \n",
       "3            청산동물병원      화성시       개인               개, 고양이   \n",
       "4  인천광역시수의사회유기동물보호소  인천시수의사회       단체             유기, 유실동물   \n",
       "\n",
       "                     소재지도로명주소                  소재지지번주소         위도          경도  \\\n",
       "0  인천광역시 계양구 다남로165번길 56(다남동)                      NaN  37.566196  126.719630   \n",
       "1       경기도 양주시 남면 감악산로 63-37                      NaN  37.870072  126.983225   \n",
       "2         경기도 화성시 남양읍 남양성지로34  경기도 화성시 남양읍 남양리 465-3번지  37.205577  126.807191   \n",
       "3        경기도 화성시 우정읍 3.1만세로29    경기도 화성시 우정읍 조암리 348번지  37.082177  126.817192   \n",
       "4  인천광역시 계양구 다남로165번길 56(다남동)       인천광역시 계양구 다남동 35-8  37.566196  126.719630   \n",
       "\n",
       "   동물보호센터지정일자 평일운영시작시각  ... 진료실수  사육실수 격리실수 사료보관실수 구조운반용차량보유대수          전화번호  \\\n",
       "0  2006-10-18    09:00  ...  NaN   NaN  NaN    NaN         NaN  032-515-7567   \n",
       "1  2014-06-10    09:00  ...  1.0   6.0  2.0    1.0         5.0  031-867-9119   \n",
       "2  2016-12-31    09:00  ...  1.0   2.0  1.0    1.0         2.0  031-355-5883   \n",
       "3  2016-12-31    09:00  ...  1.0   1.0  1.0    1.0         1.0  031-358-4358   \n",
       "4  2007-01-01    09:00  ...  1.0  22.0  1.0    2.0         2.0  032-515-7567   \n",
       "\n",
       "      데이터기준일자   제공기관코드      제공기관명  Unnamed: 29  \n",
       "0  2018-08-13  3520000  인천광역시 연수구          NaN  \n",
       "1  2018-01-02  3090000  서울특별시 도봉구          NaN  \n",
       "2  2017-11-17  5530000    경기도 화성시          NaN  \n",
       "3  2017-11-17  5530000    경기도 화성시          NaN  \n",
       "4  2018-08-08  3530000  인천광역시 남동구          NaN  \n",
       "\n",
       "[5 rows x 30 columns]"
      ]
     },
     "execution_count": 8,
     "metadata": {},
     "output_type": "execute_result"
    }
   ],
   "source": [
    "df.head()"
   ]
  },
  {
   "cell_type": "code",
   "execution_count": 9,
   "metadata": {},
   "outputs": [
    {
     "data": {
      "text/plain": [
       "동물보호센터명          0\n",
       "관리기관명            0\n",
       "동물보호센터유형         0\n",
       "구조대상동물           0\n",
       "소재지도로명주소         4\n",
       "소재지지번주소         30\n",
       "위도               0\n",
       "경도               0\n",
       "동물보호센터지정일자       0\n",
       "평일운영시작시각         0\n",
       "평일운영종료시각         0\n",
       "평일분양시작시각        39\n",
       "평일분양종료시각        39\n",
       "주말운영시작시각        69\n",
       "주말운영종료시각        69\n",
       "주말분양시작시각        84\n",
       "주말분양종료시각        84\n",
       "휴무일              0\n",
       "수의사인원수           0\n",
       "사양관리사인원수         0\n",
       "진료실수            45\n",
       "사육실수            39\n",
       "격리실수            39\n",
       "사료보관실수          43\n",
       "구조운반용차량보유대수     36\n",
       "전화번호             0\n",
       "데이터기준일자          0\n",
       "제공기관코드           0\n",
       "제공기관명            0\n",
       "Unnamed: 29    188\n",
       "dtype: int64"
      ]
     },
     "execution_count": 9,
     "metadata": {},
     "output_type": "execute_result"
    }
   ],
   "source": [
    "df.isnull().sum()"
   ]
  },
  {
   "cell_type": "code",
   "execution_count": 10,
   "metadata": {},
   "outputs": [
    {
     "data": {
      "text/html": [
       "<div>\n",
       "<style scoped>\n",
       "    .dataframe tbody tr th:only-of-type {\n",
       "        vertical-align: middle;\n",
       "    }\n",
       "\n",
       "    .dataframe tbody tr th {\n",
       "        vertical-align: top;\n",
       "    }\n",
       "\n",
       "    .dataframe thead th {\n",
       "        text-align: right;\n",
       "    }\n",
       "</style>\n",
       "<table border=\"1\" class=\"dataframe\">\n",
       "  <thead>\n",
       "    <tr style=\"text-align: right;\">\n",
       "      <th></th>\n",
       "      <th>동물보호센터명</th>\n",
       "      <th>관리기관명</th>\n",
       "      <th>동물보호센터유형</th>\n",
       "      <th>구조대상동물</th>\n",
       "      <th>소재지도로명주소</th>\n",
       "      <th>위도</th>\n",
       "      <th>경도</th>\n",
       "      <th>전화번호</th>\n",
       "    </tr>\n",
       "  </thead>\n",
       "  <tbody>\n",
       "    <tr>\n",
       "      <th>0</th>\n",
       "      <td>인천수의사회 유기동물보호소</td>\n",
       "      <td>인천수의사회</td>\n",
       "      <td>법인</td>\n",
       "      <td>「동물보호법」에 따른 유실·유기동물</td>\n",
       "      <td>인천광역시 계양구 다남로165번길 56(다남동)</td>\n",
       "      <td>37.566196</td>\n",
       "      <td>126.719630</td>\n",
       "      <td>032-515-7567</td>\n",
       "    </tr>\n",
       "    <tr>\n",
       "      <th>1</th>\n",
       "      <td>사단법인 한국동물구조관리협회</td>\n",
       "      <td>도봉구청</td>\n",
       "      <td>법인</td>\n",
       "      <td>유실·유기 및 피학대동물</td>\n",
       "      <td>경기도 양주시 남면 감악산로 63-37</td>\n",
       "      <td>37.870072</td>\n",
       "      <td>126.983225</td>\n",
       "      <td>031-867-9119</td>\n",
       "    </tr>\n",
       "    <tr>\n",
       "      <th>2</th>\n",
       "      <td>수성동물병원</td>\n",
       "      <td>화성시</td>\n",
       "      <td>개인</td>\n",
       "      <td>개, 고양이</td>\n",
       "      <td>경기도 화성시 남양읍 남양성지로34</td>\n",
       "      <td>37.205577</td>\n",
       "      <td>126.807191</td>\n",
       "      <td>031-355-5883</td>\n",
       "    </tr>\n",
       "    <tr>\n",
       "      <th>3</th>\n",
       "      <td>청산동물병원</td>\n",
       "      <td>화성시</td>\n",
       "      <td>개인</td>\n",
       "      <td>개, 고양이</td>\n",
       "      <td>경기도 화성시 우정읍 3.1만세로29</td>\n",
       "      <td>37.082177</td>\n",
       "      <td>126.817192</td>\n",
       "      <td>031-358-4358</td>\n",
       "    </tr>\n",
       "    <tr>\n",
       "      <th>4</th>\n",
       "      <td>인천광역시수의사회유기동물보호소</td>\n",
       "      <td>인천시수의사회</td>\n",
       "      <td>단체</td>\n",
       "      <td>유기, 유실동물</td>\n",
       "      <td>인천광역시 계양구 다남로165번길 56(다남동)</td>\n",
       "      <td>37.566196</td>\n",
       "      <td>126.719630</td>\n",
       "      <td>032-515-7567</td>\n",
       "    </tr>\n",
       "  </tbody>\n",
       "</table>\n",
       "</div>"
      ],
      "text/plain": [
       "            동물보호센터명    관리기관명 동물보호센터유형               구조대상동물  \\\n",
       "0    인천수의사회 유기동물보호소   인천수의사회       법인  「동물보호법」에 따른 유실·유기동물   \n",
       "1   사단법인 한국동물구조관리협회     도봉구청       법인        유실·유기 및 피학대동물   \n",
       "2            수성동물병원      화성시       개인               개, 고양이   \n",
       "3            청산동물병원      화성시       개인               개, 고양이   \n",
       "4  인천광역시수의사회유기동물보호소  인천시수의사회       단체             유기, 유실동물   \n",
       "\n",
       "                     소재지도로명주소         위도          경도          전화번호  \n",
       "0  인천광역시 계양구 다남로165번길 56(다남동)  37.566196  126.719630  032-515-7567  \n",
       "1       경기도 양주시 남면 감악산로 63-37  37.870072  126.983225  031-867-9119  \n",
       "2         경기도 화성시 남양읍 남양성지로34  37.205577  126.807191  031-355-5883  \n",
       "3        경기도 화성시 우정읍 3.1만세로29  37.082177  126.817192  031-358-4358  \n",
       "4  인천광역시 계양구 다남로165번길 56(다남동)  37.566196  126.719630  032-515-7567  "
      ]
     },
     "execution_count": 10,
     "metadata": {},
     "output_type": "execute_result"
    }
   ],
   "source": [
    "simple_df = df.drop(columns=[\n",
    "    '소재지지번주소', '동물보호센터지정일자',\n",
    "    '평일운영시작시각', '평일운영종료시각', '평일분양시작시각', '평일분양종료시각',\n",
    "    '주말운영시작시각', '주말운영종료시각', '주말분양시작시각', '주말분양종료시각',\n",
    "    '휴무일', '수의사인원수', '사양관리사인원수',\n",
    "    '진료실수', '사육실수', '격리실수', '사료보관실수', '구조운반용차량보유대수',\n",
    "    '데이터기준일자', '제공기관코드', '제공기관명', 'Unnamed: 29'\n",
    "])\n",
    "\n",
    "simple_df.head()"
   ]
  },
  {
   "cell_type": "code",
   "execution_count": 11,
   "metadata": {
    "scrolled": false
   },
   "outputs": [
    {
     "data": {
      "text/html": [
       "<div>\n",
       "<style scoped>\n",
       "    .dataframe tbody tr th:only-of-type {\n",
       "        vertical-align: middle;\n",
       "    }\n",
       "\n",
       "    .dataframe tbody tr th {\n",
       "        vertical-align: top;\n",
       "    }\n",
       "\n",
       "    .dataframe thead th {\n",
       "        text-align: right;\n",
       "    }\n",
       "</style>\n",
       "<table border=\"1\" class=\"dataframe\">\n",
       "  <thead>\n",
       "    <tr style=\"text-align: right;\">\n",
       "      <th></th>\n",
       "      <th>동물보호센터명</th>\n",
       "    </tr>\n",
       "  </thead>\n",
       "  <tbody>\n",
       "    <tr>\n",
       "      <th>(사)한국동물구조관리협회</th>\n",
       "      <td>6</td>\n",
       "    </tr>\n",
       "    <tr>\n",
       "      <th>한국동물구조관리협회</th>\n",
       "      <td>4</td>\n",
       "    </tr>\n",
       "    <tr>\n",
       "      <th>누리동물보호센터</th>\n",
       "      <td>3</td>\n",
       "    </tr>\n",
       "    <tr>\n",
       "      <th>울산유기동물보호센터</th>\n",
       "      <td>3</td>\n",
       "    </tr>\n",
       "    <tr>\n",
       "      <th>부산동물보호센터</th>\n",
       "      <td>3</td>\n",
       "    </tr>\n",
       "    <tr>\n",
       "      <th>사단법인 한국동물구조관리협회</th>\n",
       "      <td>3</td>\n",
       "    </tr>\n",
       "    <tr>\n",
       "      <th>(사)유기동물 및 동물보호 관리협회</th>\n",
       "      <td>2</td>\n",
       "    </tr>\n",
       "    <tr>\n",
       "      <th>백마동물병원</th>\n",
       "      <td>2</td>\n",
       "    </tr>\n",
       "    <tr>\n",
       "      <th>임시동물보호소</th>\n",
       "      <td>2</td>\n",
       "    </tr>\n",
       "    <tr>\n",
       "      <th>가정동물병원</th>\n",
       "      <td>2</td>\n",
       "    </tr>\n",
       "    <tr>\n",
       "      <th>천안시 유기동물보호소</th>\n",
       "      <td>2</td>\n",
       "    </tr>\n",
       "    <tr>\n",
       "      <th>당진시동물보호소</th>\n",
       "      <td>2</td>\n",
       "    </tr>\n",
       "    <tr>\n",
       "      <th>신영재동물병원</th>\n",
       "      <td>2</td>\n",
       "    </tr>\n",
       "    <tr>\n",
       "      <th>누리동물병원</th>\n",
       "      <td>2</td>\n",
       "    </tr>\n",
       "    <tr>\n",
       "      <th>인천수의사회 유기동물보호소</th>\n",
       "      <td>2</td>\n",
       "    </tr>\n",
       "    <tr>\n",
       "      <th>베스트동물병원</th>\n",
       "      <td>2</td>\n",
       "    </tr>\n",
       "    <tr>\n",
       "      <th>서산동물병원</th>\n",
       "      <td>2</td>\n",
       "    </tr>\n",
       "    <tr>\n",
       "      <th>경동동물병원</th>\n",
       "      <td>2</td>\n",
       "    </tr>\n",
       "    <tr>\n",
       "      <th>창원유기동물보호소</th>\n",
       "      <td>1</td>\n",
       "    </tr>\n",
       "    <tr>\n",
       "      <th>최상오동물병원</th>\n",
       "      <td>1</td>\n",
       "    </tr>\n",
       "  </tbody>\n",
       "</table>\n",
       "</div>"
      ],
      "text/plain": [
       "                     동물보호센터명\n",
       "(사)한국동물구조관리협회              6\n",
       "한국동물구조관리협회                 4\n",
       "누리동물보호센터                   3\n",
       "울산유기동물보호센터                 3\n",
       "부산동물보호센터                   3\n",
       "사단법인 한국동물구조관리협회            3\n",
       "(사)유기동물 및 동물보호 관리협회        2\n",
       "백마동물병원                     2\n",
       "임시동물보호소                    2\n",
       "가정동물병원                     2\n",
       "천안시 유기동물보호소                2\n",
       "당진시동물보호소                   2\n",
       "신영재동물병원                    2\n",
       "누리동물병원                     2\n",
       "인천수의사회 유기동물보호소             2\n",
       "베스트동물병원                    2\n",
       "서산동물병원                     2\n",
       "경동동물병원                     2\n",
       "창원유기동물보호소                  1\n",
       "최상오동물병원                    1"
      ]
     },
     "execution_count": 11,
     "metadata": {},
     "output_type": "execute_result"
    }
   ],
   "source": [
    "data = simple_df['동물보호센터명'].value_counts().nlargest(20)\n",
    "\n",
    "pd.DataFrame(data)"
   ]
  },
  {
   "cell_type": "code",
   "execution_count": 12,
   "metadata": {},
   "outputs": [
    {
     "data": {
      "image/png": "[encoded data removed]",
      "text/plain": [
       "<Figure size 432x288 with 1 Axes>"
      ]
     },
     "metadata": {
      "needs_background": "light"
     },
     "output_type": "display_data"
    }
   ],
   "source": [
    "data = simple_df['동물보호센터명'].value_counts().nlargest(20)\n",
    "\n",
    "data.sort_values().plot.barh(grid=True)\n",
    "\n",
    "plt.show()"
   ]
  },
  {
   "cell_type": "code",
   "execution_count": 13,
   "metadata": {},
   "outputs": [
    {
     "data": {
      "text/html": [
       "<div>\n",
       "<style scoped>\n",
       "    .dataframe tbody tr th:only-of-type {\n",
       "        vertical-align: middle;\n",
       "    }\n",
       "\n",
       "    .dataframe tbody tr th {\n",
       "        vertical-align: top;\n",
       "    }\n",
       "\n",
       "    .dataframe thead th {\n",
       "        text-align: right;\n",
       "    }\n",
       "</style>\n",
       "<table border=\"1\" class=\"dataframe\">\n",
       "  <thead>\n",
       "    <tr style=\"text-align: right;\">\n",
       "      <th></th>\n",
       "      <th>동물보호센터명</th>\n",
       "      <th>관리기관명</th>\n",
       "      <th>소재지도로명주소</th>\n",
       "    </tr>\n",
       "  </thead>\n",
       "  <tbody>\n",
       "    <tr>\n",
       "      <th>39</th>\n",
       "      <td>(사)동물구조관리협회</td>\n",
       "      <td>서울특별시 송파구청</td>\n",
       "      <td>경기도 양주시 남면 감악산로 63-37</td>\n",
       "    </tr>\n",
       "    <tr>\n",
       "      <th>61</th>\n",
       "      <td>한국동물구조관리협회</td>\n",
       "      <td>서울특별시 광진구청</td>\n",
       "      <td>경기도 양주시 남면 감악산로 63-37</td>\n",
       "    </tr>\n",
       "    <tr>\n",
       "      <th>69</th>\n",
       "      <td>동물구조관리협회</td>\n",
       "      <td>서울특별시 노원구청</td>\n",
       "      <td>경기도 양주시 남면 감악산로 63-37</td>\n",
       "    </tr>\n",
       "    <tr>\n",
       "      <th>97</th>\n",
       "      <td>(사단)한국동물구조관리협회</td>\n",
       "      <td>서울특별시 서대문구청</td>\n",
       "      <td>경기도 양주시 남면 감악산로 63-37</td>\n",
       "    </tr>\n",
       "    <tr>\n",
       "      <th>116</th>\n",
       "      <td>사단법인 한국동물구조관리협회</td>\n",
       "      <td>서울특별시강서구청</td>\n",
       "      <td>경기도 양주시 남면 감악산로 63-37</td>\n",
       "    </tr>\n",
       "    <tr>\n",
       "      <th>121</th>\n",
       "      <td>러브펫종합동물병원</td>\n",
       "      <td>서울특별시 관악구청</td>\n",
       "      <td>서울특별시 관악구 남부순환로 1451</td>\n",
       "    </tr>\n",
       "    <tr>\n",
       "      <th>154</th>\n",
       "      <td>(사)한국동물구조관리협회</td>\n",
       "      <td>서울특별시 영등포구청</td>\n",
       "      <td>경기도 양주시 남면 감악산로 63-37</td>\n",
       "    </tr>\n",
       "    <tr>\n",
       "      <th>168</th>\n",
       "      <td>(사)한국동물구조관리협회</td>\n",
       "      <td>서울특별시 강남구청</td>\n",
       "      <td>경기도 양주시 남면 감악산로 63-37</td>\n",
       "    </tr>\n",
       "    <tr>\n",
       "      <th>173</th>\n",
       "      <td>강현림동물병원</td>\n",
       "      <td>서울특별시 양천구청</td>\n",
       "      <td>서울특별시 양천구 등촌로 160</td>\n",
       "    </tr>\n",
       "    <tr>\n",
       "      <th>174</th>\n",
       "      <td>(사)한국동물구조관리협회</td>\n",
       "      <td>서울특별시 은평구청</td>\n",
       "      <td>경기도 양주시 남면 감악산로 63-37(상수리)</td>\n",
       "    </tr>\n",
       "    <tr>\n",
       "      <th>180</th>\n",
       "      <td>(사)한국동물구조관리협회</td>\n",
       "      <td>서울특별시 중구</td>\n",
       "      <td>경기도 양주시 남면 감악산로 63-37</td>\n",
       "    </tr>\n",
       "  </tbody>\n",
       "</table>\n",
       "</div>"
      ],
      "text/plain": [
       "             동물보호센터명        관리기관명                    소재지도로명주소\n",
       "39       (사)동물구조관리협회   서울특별시 송파구청       경기도 양주시 남면 감악산로 63-37\n",
       "61        한국동물구조관리협회   서울특별시 광진구청       경기도 양주시 남면 감악산로 63-37\n",
       "69          동물구조관리협회   서울특별시 노원구청       경기도 양주시 남면 감악산로 63-37\n",
       "97    (사단)한국동물구조관리협회  서울특별시 서대문구청       경기도 양주시 남면 감악산로 63-37\n",
       "116  사단법인 한국동물구조관리협회    서울특별시강서구청       경기도 양주시 남면 감악산로 63-37\n",
       "121        러브펫종합동물병원   서울특별시 관악구청        서울특별시 관악구 남부순환로 1451\n",
       "154    (사)한국동물구조관리협회  서울특별시 영등포구청       경기도 양주시 남면 감악산로 63-37\n",
       "168    (사)한국동물구조관리협회   서울특별시 강남구청       경기도 양주시 남면 감악산로 63-37\n",
       "173          강현림동물병원   서울특별시 양천구청           서울특별시 양천구 등촌로 160\n",
       "174    (사)한국동물구조관리협회   서울특별시 은평구청  경기도 양주시 남면 감악산로 63-37(상수리)\n",
       "180    (사)한국동물구조관리협회     서울특별시 중구       경기도 양주시 남면 감악산로 63-37"
      ]
     },
     "execution_count": 13,
     "metadata": {},
     "output_type": "execute_result"
    }
   ],
   "source": [
    "seoul_df = simple_df[simple_df['관리기관명'].str.contains('서울')]\n",
    "\n",
    "seoul_df[['동물보호센터명', '관리기관명', '소재지도로명주소']]"
   ]
  },
  {
   "cell_type": "code",
   "execution_count": 14,
   "metadata": {
    "scrolled": false
   },
   "outputs": [
    {
     "data": {
      "text/html": [
       "<div style=\"width:100%;\"><div style=\"position:relative;width:100%;height:0;padding-bottom:60%;\"><iframe src=\"data:text/html;charset=utf-8;base64,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\" style=\"position:absolute;width:100%;height:100%;left:0;top:0;border:none !important;\" allowfullscreen webkitallowfullscreen mozallowfullscreen></iframe></div></div>"
      ],
      "text/plain": [
       "<folium.folium.Map at 0x1181d5450>"
      ]
     },
     "execution_count": 14,
     "metadata": {},
     "output_type": "execute_result"
    }
   ],
   "source": [
    "map = Map(location=[36.5, 127.5], zoom_start=7)\n",
    "\n",
    "data = simple_df[['위도', '경도']].groupby(['위도', '경도']).sum().reset_index().values.tolist()\n",
    "\n",
    "HeatMap(data=data, radius=20).add_to(map)\n",
    "\n",
    "for lat, lng in data:\n",
    "    marker = folium.Circle(\n",
    "        location=[lat, lng],\n",
    "        radius=500,\n",
    "        weight=1,\n",
    "        fill_color='#F00',\n",
    "        fill_opacity=0.3,\n",
    "    )\n",
    "    marker.add_to(map)\n",
    "\n",
    "map"
   ]
  },
  {
   "cell_type": "code",
   "execution_count": null,
   "metadata": {},
   "outputs": [],
   "source": []
  }
 ],
 "metadata": {
  "kernelspec": {
   "display_name": "Python 3",
   "language": "python",
   "name": "python3"
  },
  "language_info": {
   "codemirror_mode": {
    "name": "ipython",
    "version": 3
   },
   "file_extension": ".py",
   "mimetype": "text/x-python",
   "name": "python",
   "nbconvert_exporter": "python",
   "pygments_lexer": "ipython3",
   "version": "3.7.4"
  }
 },
 "nbformat": 4,
 "nbformat_minor": 2
}
