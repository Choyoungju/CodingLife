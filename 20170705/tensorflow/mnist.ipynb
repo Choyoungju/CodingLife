{
 "cells": [
  {
   "cell_type": "code",
   "execution_count": 1,
   "metadata": {
    "collapsed": true
   },
   "outputs": [],
   "source": [
    "import numpy as np\n",
    "import pandas as pd\n",
    "import tensorflow as tf\n",
    "import matplotlib.pyplot as plt"
   ]
  },
  {
   "cell_type": "code",
   "execution_count": 2,
   "metadata": {
    "collapsed": true
   },
   "outputs": [],
   "source": [
    "with open('data/t10k-images-idx3-ubyte', 'rb') as f:\n",
    "    x_data = np.frombuffer(f.read(), np.uint8, offset=16).reshape(-1, 28 * 28)\n",
    "\n",
    "with open('data/t10k-labels-idx1-ubyte', 'rb') as f:\n",
    "    y_data = np.frombuffer(f.read(), np.uint8, offset=8)"
   ]
  },
  {
   "cell_type": "code",
   "execution_count": 3,
   "metadata": {},
   "outputs": [
    {
     "data": {
      "text/plain": [
       "784"
      ]
     },
     "execution_count": 3,
     "metadata": {},
     "output_type": "execute_result"
    }
   ],
   "source": [
    "28 * 28"
   ]
  },
  {
   "cell_type": "code",
   "execution_count": 4,
   "metadata": {},
   "outputs": [
    {
     "data": {
      "text/plain": [
       "((10000, 784), (10000,))"
      ]
     },
     "execution_count": 4,
     "metadata": {},
     "output_type": "execute_result"
    }
   ],
   "source": [
    "x_data.shape, y_data.shape"
   ]
  },
  {
   "cell_type": "code",
   "execution_count": 5,
   "metadata": {
    "scrolled": true
   },
   "outputs": [
    {
     "data": {
      "text/plain": [
       "(0, 255)"
      ]
     },
     "execution_count": 5,
     "metadata": {},
     "output_type": "execute_result"
    }
   ],
   "source": [
    "x_data.min(), x_data.max()"
   ]
  },
  {
   "cell_type": "code",
   "execution_count": 6,
   "metadata": {},
   "outputs": [
    {
     "data": {
      "text/plain": [
       "(0.0, 1.0)"
      ]
     },
     "execution_count": 6,
     "metadata": {},
     "output_type": "execute_result"
    }
   ],
   "source": [
    "x_data = x_data / 255\n",
    "\n",
    "x_data.min(), x_data.max()"
   ]
  },
  {
   "cell_type": "code",
   "execution_count": 7,
   "metadata": {},
   "outputs": [
    {
     "data": {
      "text/plain": [
       "(0, 9)"
      ]
     },
     "execution_count": 7,
     "metadata": {},
     "output_type": "execute_result"
    }
   ],
   "source": [
    "y_data.min(), y_data.max()"
   ]
  },
  {
   "cell_type": "code",
   "execution_count": 8,
   "metadata": {},
   "outputs": [
    {
     "name": "stdout",
     "output_type": "stream",
     "text": [
      "7\n"
     ]
    },
    {
     "data": {
      "image/png": "[encoded data removed]",
      "text/plain": [
       "<matplotlib.figure.Figure at 0x119a39320>"
      ]
     },
     "metadata": {},
     "output_type": "display_data"
    }
   ],
   "source": [
    "images = x_data.reshape(-1, 28, 28)\n",
    "\n",
    "print(y_data[0])\n",
    "\n",
    "plt.imshow(images[0])\n",
    "plt.show()"
   ]
  },
  {
   "cell_type": "code",
   "execution_count": 9,
   "metadata": {},
   "outputs": [
    {
     "name": "stdout",
     "output_type": "stream",
     "text": [
      "[[1 2 2]\n",
      " [0 4 2]\n",
      " [1 4 1]]\n"
     ]
    },
    {
     "data": {
      "image/png": "[encoded data removed]",
      "text/plain": [
       "<matplotlib.figure.Figure at 0x11a2d8e48>"
      ]
     },
     "metadata": {},
     "output_type": "display_data"
    }
   ],
   "source": [
    "shuffle = np.random.permutation(x_data.shape[0])[:9]\n",
    "\n",
    "print(y_data[shuffle].reshape(3, 3))\n",
    "\n",
    "plt.figure(figsize=(3, 3))\n",
    "\n",
    "for i, index in enumerate(shuffle):\n",
    "    plt.subplot2grid((3, 3), (i // 3, i % 3))\n",
    "    plt.imshow(images[index])\n",
    "\n",
    "plt.show()"
   ]
  },
  {
   "cell_type": "code",
   "execution_count": 10,
   "metadata": {
    "collapsed": true
   },
   "outputs": [],
   "source": [
    "train_x_data = x_data[1000:]\n",
    "train_y_data = y_data[1000:]\n",
    "\n",
    "test_x_data = x_data[:1000]\n",
    "test_y_data = y_data[:1000]\n",
    "\n",
    "test_images = images[:1000]"
   ]
  },
  {
   "cell_type": "code",
   "execution_count": 11,
   "metadata": {},
   "outputs": [
    {
     "data": {
      "text/plain": [
       "(9000, 100, 90)"
      ]
     },
     "execution_count": 11,
     "metadata": {},
     "output_type": "execute_result"
    }
   ],
   "source": [
    "def batch(data, index, size):\n",
    "    offset = index * size\n",
    "    return data[offset:offset + size]\n",
    "\n",
    "batch_size = 100\n",
    "num_batches = train_x_data.shape[0] // batch_size\n",
    "\n",
    "train_x_data.shape[0], batch_size, num_batches"
   ]
  },
  {
   "cell_type": "code",
   "execution_count": 12,
   "metadata": {},
   "outputs": [],
   "source": [
    "train_x_batches = [batch(train_x_data, i, batch_size) for i in range(num_batches)]\n",
    "train_y_batches = [batch(train_y_data, i, batch_size) for i in range(num_batches)]"
   ]
  },
  {
   "cell_type": "code",
   "execution_count": 13,
   "metadata": {},
   "outputs": [
    {
     "data": {
      "text/plain": [
       "array([[ 1.,  0.,  0.,  0.,  0.,  0.,  0.,  0.,  0.,  0.],\n",
       "       [ 0.,  1.,  0.,  0.,  0.,  0.,  0.,  0.,  0.,  0.],\n",
       "       [ 0.,  0.,  1.,  0.,  0.,  0.,  0.,  0.,  0.,  0.],\n",
       "       [ 0.,  0.,  0.,  1.,  0.,  0.,  0.,  0.,  0.,  0.],\n",
       "       [ 0.,  0.,  0.,  0.,  1.,  0.,  0.,  0.,  0.,  0.],\n",
       "       [ 0.,  0.,  0.,  0.,  0.,  1.,  0.,  0.,  0.,  0.],\n",
       "       [ 0.,  0.,  0.,  0.,  0.,  0.,  1.,  0.,  0.,  0.],\n",
       "       [ 0.,  0.,  0.,  0.,  0.,  0.,  0.,  1.,  0.,  0.],\n",
       "       [ 0.,  0.,  0.,  0.,  0.,  0.,  0.,  0.,  1.,  0.],\n",
       "       [ 0.,  0.,  0.,  0.,  0.,  0.,  0.,  0.,  0.,  1.]])"
      ]
     },
     "execution_count": 13,
     "metadata": {},
     "output_type": "execute_result"
    }
   ],
   "source": [
    "np.eye(10)"
   ]
  },
  {
   "cell_type": "code",
   "execution_count": 14,
   "metadata": {
    "scrolled": false
   },
   "outputs": [
    {
     "data": {
      "text/plain": [
       "array([[ 1.,  0.,  0.,  0.,  0.,  0.,  0.,  0.,  0.,  0.],\n",
       "       [ 0.,  0.,  0.,  0.,  0.,  0.,  0.,  0.,  0.,  1.],\n",
       "       [ 0.,  1.,  0.,  0.,  0.,  0.,  0.,  0.,  0.,  0.],\n",
       "       [ 0.,  0.,  0.,  0.,  0.,  0.,  0.,  0.,  1.,  0.]])"
      ]
     },
     "execution_count": 14,
     "metadata": {},
     "output_type": "execute_result"
    }
   ],
   "source": [
    "def onehot(data):\n",
    "    return np.eye(10)[data]\n",
    "\n",
    "onehot([0, 9, 1, 8])"
   ]
  },
  {
   "cell_type": "code",
   "execution_count": 15,
   "metadata": {
    "collapsed": true
   },
   "outputs": [],
   "source": [
    "def print_accuracy():\n",
    "    predict = session.run(label, feed_dict=test_data)\n",
    "    correct = predict == y_data[:1000]\n",
    "    print('accuracy = %f' % np.mean(correct))\n",
    "\n",
    "def draw():\n",
    "    predict = session.run(label, feed_dict=test_data)\n",
    "    correct = predict == test_y_data\n",
    "    print(predict[~correct][:9].reshape(3, 3))\n",
    "    print(test_y_data[~correct][:9].reshape(3, 3))\n",
    "    incorrect_images = test_images[~correct][:9]\n",
    "    plt.figure(figsize=(3, 3))\n",
    "    for i, image in enumerate(incorrect_images):\n",
    "        plt.subplot2grid((3, 3), (i // 3, i % 3))\n",
    "        plt.imshow(image)\n",
    "    plt.show()"
   ]
  },
  {
   "cell_type": "code",
   "execution_count": 16,
   "metadata": {
    "collapsed": true
   },
   "outputs": [],
   "source": [
    "x = tf.placeholder(tf.float32, [None, 28 * 28])\n",
    "y = tf.placeholder(tf.float32, [None, 10])\n",
    "\n",
    "w = tf.Variable(tf.truncated_normal([28 * 28, 10], stddev=0.1))\n",
    "b = tf.Variable(tf.truncated_normal([10], stddev=0.1))\n",
    "\n",
    "u = tf.matmul(x, w) + b\n",
    "z = tf.nn.softmax(u)\n",
    "\n",
    "label = tf.argmax(z, axis=1)\n",
    "\n",
    "cross_entropy = -tf.reduce_sum(y * tf.log(z), axis=1)\n",
    "loss = tf.reduce_mean(cross_entropy)\n",
    "\n",
    "train = tf.train.GradientDescentOptimizer(0.05).minimize(loss)"
   ]
  },
  {
   "cell_type": "code",
   "execution_count": 17,
   "metadata": {
    "scrolled": false
   },
   "outputs": [
    {
     "name": "stdout",
     "output_type": "stream",
     "text": [
      "1\n",
      "loss = 2.480948\n",
      "loss = 2.045453\n",
      "loss = 1.686487\n",
      "loss = 1.432156\n",
      "loss = 1.296934\n",
      "loss = 1.140356\n",
      "loss = 0.897843\n",
      "loss = 0.691986\n",
      "loss = 0.871672\n",
      "accuracy = 0.760000\n",
      "----------------------------------\n",
      "2\n",
      "loss = 0.947018\n",
      "loss = 1.031686\n",
      "loss = 0.713354\n",
      "loss = 0.759489\n",
      "loss = 0.625409\n",
      "loss = 0.723702\n",
      "loss = 0.491330\n",
      "loss = 0.427569\n",
      "loss = 0.650728\n",
      "accuracy = 0.811000\n",
      "----------------------------------\n",
      "3\n",
      "loss = 0.716529\n",
      "loss = 0.850251\n",
      "loss = 0.531714\n",
      "loss = 0.630870\n",
      "loss = 0.484849\n",
      "loss = 0.606242\n",
      "loss = 0.373034\n",
      "loss = 0.344453\n",
      "loss = 0.569131\n",
      "accuracy = 0.829000\n",
      "----------------------------------\n",
      "4\n",
      "loss = 0.621570\n",
      "loss = 0.764543\n",
      "loss = 0.452449\n",
      "loss = 0.572375\n",
      "loss = 0.423723\n",
      "loss = 0.546062\n",
      "loss = 0.313878\n",
      "loss = 0.301330\n",
      "loss = 0.522608\n",
      "accuracy = 0.851000\n",
      "----------------------------------\n",
      "5\n",
      "loss = 0.566928\n",
      "loss = 0.710822\n",
      "loss = 0.406642\n",
      "loss = 0.537160\n",
      "loss = 0.388933\n",
      "loss = 0.508041\n",
      "loss = 0.277332\n",
      "loss = 0.274185\n",
      "loss = 0.491062\n",
      "accuracy = 0.857000\n",
      "----------------------------------\n",
      "6\n",
      "loss = 0.530168\n",
      "loss = 0.672605\n",
      "loss = 0.376251\n",
      "loss = 0.512845\n",
      "loss = 0.366068\n",
      "loss = 0.481214\n",
      "loss = 0.252017\n",
      "loss = 0.255240\n",
      "loss = 0.467629\n",
      "accuracy = 0.865000\n",
      "----------------------------------\n",
      "7\n",
      "loss = 0.503116\n",
      "loss = 0.643389\n",
      "loss = 0.354371\n",
      "loss = 0.494638\n",
      "loss = 0.349630\n",
      "loss = 0.460907\n",
      "loss = 0.233174\n",
      "loss = 0.241131\n",
      "loss = 0.449213\n",
      "accuracy = 0.868000\n",
      "----------------------------------\n",
      "8\n",
      "loss = 0.482027\n",
      "loss = 0.619983\n",
      "loss = 0.337749\n",
      "loss = 0.480257\n",
      "loss = 0.337077\n",
      "loss = 0.444752\n",
      "loss = 0.218445\n",
      "loss = 0.230144\n",
      "loss = 0.434175\n",
      "accuracy = 0.870000\n",
      "----------------------------------\n",
      "9\n",
      "loss = 0.464921\n",
      "loss = 0.600602\n",
      "loss = 0.324630\n",
      "loss = 0.468462\n",
      "loss = 0.327067\n",
      "loss = 0.431411\n",
      "loss = 0.206516\n",
      "loss = 0.221305\n",
      "loss = 0.421545\n",
      "accuracy = 0.870000\n",
      "----------------------------------\n",
      "10\n",
      "loss = 0.450639\n",
      "loss = 0.584154\n",
      "loss = 0.313977\n",
      "loss = 0.458516\n",
      "loss = 0.318825\n",
      "loss = 0.420072\n",
      "loss = 0.196598\n",
      "loss = 0.214019\n",
      "loss = 0.410709\n",
      "accuracy = 0.876000\n",
      "----------------------------------\n",
      "[[6 0 3]\n",
      " [3 2 2]\n",
      " [7 9 1]]\n",
      "[[5 4 2]\n",
      " [1 3 6]\n",
      " [2 7 7]]\n"
     ]
    },
    {
     "data": {
      "image/png": "[encoded data removed]",
      "text/plain": [
       "<matplotlib.figure.Figure at 0x10d50bb38>"
      ]
     },
     "metadata": {},
     "output_type": "display_data"
    }
   ],
   "source": [
    "session = tf.Session()\n",
    "session.run(tf.global_variables_initializer())\n",
    "\n",
    "test_data = {\n",
    "    x: test_x_data\n",
    "}\n",
    "\n",
    "for i in range(10):\n",
    "    print(i + 1)\n",
    "    for index in range(num_batches):\n",
    "        data = {\n",
    "            x: train_x_batches[index],\n",
    "            y: onehot(train_y_batches[index])\n",
    "        }\n",
    "        session.run(train, feed_dict=data)\n",
    "        if index % 10 == 0:\n",
    "            print('loss = %f' % session.run(loss, feed_dict=data))\n",
    "    print_accuracy()\n",
    "    print('----------------------------------')\n",
    "\n",
    "draw()"
   ]
  },
  {
   "cell_type": "code",
   "execution_count": 18,
   "metadata": {
    "collapsed": true
   },
   "outputs": [],
   "source": [
    "x = tf.placeholder(tf.float32, [None, 28 * 28])\n",
    "y = tf.placeholder(tf.float32, [None, 10])\n",
    "\n",
    "# Hidden Layer\n",
    "\n",
    "h_w = tf.Variable(tf.truncated_normal([28 * 28, 200], stddev=0.1))\n",
    "h_b = tf.Variable(tf.truncated_normal([200], stddev=0.1))\n",
    "\n",
    "h_u = tf.matmul(x, h_w) + h_b\n",
    "h_z = tf.nn.relu(h_u)\n",
    "\n",
    "# Output Layer\n",
    "\n",
    "w = tf.Variable(tf.truncated_normal([200, 10], stddev=0.1))\n",
    "b = tf.Variable(tf.truncated_normal([10], stddev=0.1))\n",
    "\n",
    "u = tf.matmul(h_z, w) + b\n",
    "z = tf.nn.softmax(u)\n",
    "\n",
    "label = tf.argmax(z, axis=1)\n",
    "\n",
    "cross_entropy = -tf.reduce_sum(y * tf.log(z), axis=1)\n",
    "loss = tf.reduce_mean(cross_entropy)\n",
    "\n",
    "train = tf.train.GradientDescentOptimizer(0.05).minimize(loss)"
   ]
  },
  {
   "cell_type": "code",
   "execution_count": 19,
   "metadata": {
    "scrolled": false
   },
   "outputs": [
    {
     "name": "stdout",
     "output_type": "stream",
     "text": [
      "1\n",
      "loss = 2.357692\n",
      "loss = 1.954215\n",
      "loss = 1.521489\n",
      "loss = 1.159795\n",
      "loss = 1.155701\n",
      "loss = 0.938746\n",
      "loss = 0.662315\n",
      "loss = 0.559370\n",
      "loss = 0.670797\n",
      "accuracy = 0.773000\n",
      "----------------------------------\n",
      "2\n",
      "loss = 0.752130\n",
      "loss = 0.842885\n",
      "loss = 0.539067\n",
      "loss = 0.552344\n",
      "loss = 0.470971\n",
      "loss = 0.541023\n",
      "loss = 0.298264\n",
      "loss = 0.304459\n",
      "loss = 0.433091\n",
      "accuracy = 0.831000\n",
      "----------------------------------\n",
      "3\n",
      "loss = 0.533573\n",
      "loss = 0.647811\n",
      "loss = 0.389438\n",
      "loss = 0.441655\n",
      "loss = 0.345507\n",
      "loss = 0.437074\n",
      "loss = 0.205598\n",
      "loss = 0.235673\n",
      "loss = 0.342524\n",
      "accuracy = 0.864000\n",
      "----------------------------------\n",
      "4\n",
      "loss = 0.446398\n",
      "loss = 0.556414\n",
      "loss = 0.330261\n",
      "loss = 0.390161\n",
      "loss = 0.290781\n",
      "loss = 0.379977\n",
      "loss = 0.161651\n",
      "loss = 0.203148\n",
      "loss = 0.291677\n",
      "accuracy = 0.879000\n",
      "----------------------------------\n",
      "5\n",
      "loss = 0.396729\n",
      "loss = 0.499383\n",
      "loss = 0.297675\n",
      "loss = 0.358811\n",
      "loss = 0.258495\n",
      "loss = 0.340807\n",
      "loss = 0.135785\n",
      "loss = 0.183042\n",
      "loss = 0.257557\n",
      "accuracy = 0.889000\n",
      "----------------------------------\n",
      "6\n",
      "loss = 0.363313\n",
      "loss = 0.458542\n",
      "loss = 0.276538\n",
      "loss = 0.337063\n",
      "loss = 0.236444\n",
      "loss = 0.310318\n",
      "loss = 0.118488\n",
      "loss = 0.168377\n",
      "loss = 0.231668\n",
      "accuracy = 0.895000\n",
      "----------------------------------\n",
      "7\n",
      "loss = 0.338633\n",
      "loss = 0.426966\n",
      "loss = 0.261215\n",
      "loss = 0.320110\n",
      "loss = 0.219603\n",
      "loss = 0.284471\n",
      "loss = 0.106107\n",
      "loss = 0.156839\n",
      "loss = 0.211676\n",
      "accuracy = 0.900000\n",
      "----------------------------------\n",
      "8\n",
      "loss = 0.319644\n",
      "loss = 0.401392\n",
      "loss = 0.249338\n",
      "loss = 0.305980\n",
      "loss = 0.205540\n",
      "loss = 0.262546\n",
      "loss = 0.096438\n",
      "loss = 0.147007\n",
      "loss = 0.195189\n",
      "accuracy = 0.902000\n",
      "----------------------------------\n",
      "9\n",
      "loss = 0.304078\n",
      "loss = 0.379422\n",
      "loss = 0.239829\n",
      "loss = 0.293960\n",
      "loss = 0.193492\n",
      "loss = 0.243581\n",
      "loss = 0.088714\n",
      "loss = 0.138422\n",
      "loss = 0.181199\n",
      "accuracy = 0.908000\n",
      "----------------------------------\n",
      "10\n",
      "loss = 0.290777\n",
      "loss = 0.360471\n",
      "loss = 0.232090\n",
      "loss = 0.282986\n",
      "loss = 0.182706\n",
      "loss = 0.227230\n",
      "loss = 0.082285\n",
      "loss = 0.130815\n",
      "loss = 0.169069\n",
      "accuracy = 0.910000\n",
      "----------------------------------\n",
      "[[6 6 7]\n",
      " [3 1 4]\n",
      " [9 3 2]]\n",
      "[[5 4 2]\n",
      " [7 7 7]\n",
      " [2 9 3]]\n"
     ]
    },
    {
     "data": {
      "image/png": "[encoded data removed]",
      "text/plain": [
       "<matplotlib.figure.Figure at 0x11b2918d0>"
      ]
     },
     "metadata": {},
     "output_type": "display_data"
    }
   ],
   "source": [
    "session = tf.Session()\n",
    "session.run(tf.global_variables_initializer())\n",
    "\n",
    "test_data = {\n",
    "    x: test_x_data\n",
    "}\n",
    "\n",
    "for i in range(10):\n",
    "    print(i + 1)\n",
    "    for index in range(num_batches):\n",
    "        data = {\n",
    "            x: train_x_batches[index],\n",
    "            y: onehot(train_y_batches[index])\n",
    "        }\n",
    "        session.run(train, feed_dict=data)\n",
    "        if index % 10 == 0:\n",
    "            print('loss = %f' % session.run(loss, feed_dict=data))\n",
    "    print_accuracy()\n",
    "    print('----------------------------------')\n",
    "\n",
    "draw()"
   ]
  },
  {
   "cell_type": "code",
   "execution_count": 20,
   "metadata": {},
   "outputs": [],
   "source": [
    "# CNN\n",
    "\n",
    "x = tf.placeholder(tf.float32, [None, 28 * 28])\n",
    "y = tf.placeholder(tf.float32, [None, 10])\n",
    "\n",
    "keep_prob = tf.placeholder(tf.float32)\n",
    "\n",
    "xx = tf.reshape(x, [-1, 28, 28, 1])\n",
    "\n",
    "def conv(x, in_ch, out_ch):\n",
    "    w = tf.Variable(tf.truncated_normal([5, 5, in_ch, out_ch], stddev=0.1))\n",
    "    b = tf.Variable(tf.truncated_normal([out_ch], stddev=0.1))\n",
    "    u = tf.nn.conv2d(x, w, strides=[1, 1, 1, 1], padding='SAME') + b\n",
    "    return tf.nn.relu(u)\n",
    "\n",
    "def pool(x):\n",
    "    return tf.nn.max_pool(x, ksize=[1, 2, 2, 1], strides=[1, 2, 2, 1], padding='SAME')\n",
    "\n",
    "z1 = conv(xx, 1, 8)\n",
    "z2 = pool(z1)\n",
    "\n",
    "z3 = conv(z2, 8, 16)\n",
    "z4 = pool(z3)\n",
    "\n",
    "fc_size = (28 // 4) * (28 // 4) * 16\n",
    "fc_z = tf.reshape(z4, [-1, fc_size])\n",
    "\n",
    "# Hidden Layer\n",
    "\n",
    "h_w = tf.Variable(tf.truncated_normal([fc_size, 1000], stddev=0.1))\n",
    "h_b = tf.Variable(tf.truncated_normal([1000], stddev=0.1))\n",
    "\n",
    "h_u = tf.matmul(fc_z, h_w) + h_b\n",
    "h_z = tf.nn.relu(h_u)\n",
    "\n",
    "# Dropout\n",
    "\n",
    "drop = tf.nn.dropout(h_z, keep_prob)\n",
    "\n",
    "# Output Layer\n",
    "\n",
    "w = tf.Variable(tf.truncated_normal([1000, 10], stddev=0.1))\n",
    "b = tf.Variable(tf.truncated_normal([10], stddev=0.1))\n",
    "\n",
    "u = tf.matmul(h_z, w) + b\n",
    "z = tf.nn.softmax(u)\n",
    "\n",
    "label = tf.argmax(z, axis=1)\n",
    "\n",
    "cross_entropy = -tf.reduce_sum(y * tf.log(z), axis=1)\n",
    "loss = tf.reduce_mean(cross_entropy)\n",
    "\n",
    "train = tf.train.AdamOptimizer(0.001).minimize(loss)"
   ]
  },
  {
   "cell_type": "code",
   "execution_count": 21,
   "metadata": {},
   "outputs": [
    {
     "data": {
      "text/plain": [
       "(TensorShape([Dimension(None), Dimension(28), Dimension(28), Dimension(1)]),\n",
       " TensorShape([Dimension(None), Dimension(14), Dimension(14), Dimension(8)]),\n",
       " TensorShape([Dimension(None), Dimension(7), Dimension(7), Dimension(16)]),\n",
       " TensorShape([Dimension(None), Dimension(1000)]),\n",
       " TensorShape([Dimension(None), Dimension(10)]))"
      ]
     },
     "execution_count": 21,
     "metadata": {},
     "output_type": "execute_result"
    }
   ],
   "source": [
    "xx.shape, z2.shape, z4.shape, h_z.shape, z.shape"
   ]
  },
  {
   "cell_type": "code",
   "execution_count": 22,
   "metadata": {
    "scrolled": false
   },
   "outputs": [
    {
     "name": "stdout",
     "output_type": "stream",
     "text": [
      "1\n",
      "loss = 2.206897\n",
      "loss = 1.068760\n",
      "loss = 0.422504\n",
      "loss = 0.417262\n",
      "loss = 0.229941\n",
      "loss = 0.340613\n",
      "loss = 0.114765\n",
      "loss = 0.174465\n",
      "loss = 0.369891\n",
      "accuracy = 0.898000\n",
      "----------------------------------\n",
      "2\n",
      "loss = 0.379142\n",
      "loss = 0.265643\n",
      "loss = 0.223668\n",
      "loss = 0.179976\n",
      "loss = 0.085177\n",
      "loss = 0.231891\n",
      "loss = 0.051890\n",
      "loss = 0.059037\n",
      "loss = 0.078433\n",
      "accuracy = 0.930000\n",
      "----------------------------------\n",
      "3\n",
      "loss = 0.196914\n",
      "loss = 0.142453\n",
      "loss = 0.157722\n",
      "loss = 0.099308\n",
      "loss = 0.056177\n",
      "loss = 0.042425\n",
      "loss = 0.017350\n",
      "loss = 0.081045\n",
      "loss = 0.033910\n",
      "accuracy = 0.959000\n",
      "----------------------------------\n",
      "4\n",
      "loss = 0.130260\n",
      "loss = 0.067924\n",
      "loss = 0.074262\n",
      "loss = 0.057932\n",
      "loss = 0.026867\n",
      "loss = 0.018063\n",
      "loss = 0.006818\n",
      "loss = 0.050219\n",
      "loss = 0.014565\n",
      "accuracy = 0.973000\n",
      "----------------------------------\n",
      "5\n",
      "loss = 0.088325\n",
      "loss = 0.043476\n",
      "loss = 0.034902\n",
      "loss = 0.035868\n",
      "loss = 0.009607\n",
      "loss = 0.009754\n",
      "loss = 0.004982\n",
      "loss = 0.026232\n",
      "loss = 0.008507\n",
      "accuracy = 0.978000\n",
      "----------------------------------\n",
      "6\n",
      "loss = 0.054435\n",
      "loss = 0.039612\n",
      "loss = 0.018898\n",
      "loss = 0.015779\n",
      "loss = 0.009130\n",
      "loss = 0.006175\n",
      "loss = 0.002885\n",
      "loss = 0.011734\n",
      "loss = 0.003749\n",
      "accuracy = 0.978000\n",
      "----------------------------------\n",
      "7\n",
      "loss = 0.033922\n",
      "loss = 0.023087\n",
      "loss = 0.017265\n",
      "loss = 0.012753\n",
      "loss = 0.003967\n",
      "loss = 0.006564\n",
      "loss = 0.003759\n",
      "loss = 0.006580\n",
      "loss = 0.005130\n",
      "accuracy = 0.981000\n",
      "----------------------------------\n",
      "8\n",
      "loss = 0.019980\n",
      "loss = 0.014597\n",
      "loss = 0.016648\n",
      "loss = 0.018006\n",
      "loss = 0.002008\n",
      "loss = 0.003519\n",
      "loss = 0.002053\n",
      "loss = 0.006603\n",
      "loss = 0.003769\n",
      "accuracy = 0.977000\n",
      "----------------------------------\n",
      "9\n",
      "loss = 0.017332\n",
      "loss = 0.015067\n",
      "loss = 0.016014\n",
      "loss = 0.005832\n",
      "loss = 0.004401\n",
      "loss = 0.003999\n",
      "loss = 0.001974\n",
      "loss = 0.001334\n",
      "loss = 0.000707\n",
      "accuracy = 0.981000\n",
      "----------------------------------\n",
      "10\n",
      "loss = 0.004472\n",
      "loss = 0.008941\n",
      "loss = 0.009849\n",
      "loss = 0.012768\n",
      "loss = 0.002072\n",
      "loss = 0.004559\n",
      "loss = 0.001261\n",
      "loss = 0.001869\n",
      "loss = 0.000452\n",
      "accuracy = 0.984000\n",
      "----------------------------------\n",
      "[[0 0 4]\n",
      " [7 3 4]\n",
      " [0 2 3]]\n",
      "[[4 6 8]\n",
      " [9 5 9]\n",
      " [6 8 7]]\n"
     ]
    },
    {
     "data": {
      "image/png": "[encoded data removed]",
      "text/plain": [
       "<matplotlib.figure.Figure at 0x11b94f4e0>"
      ]
     },
     "metadata": {},
     "output_type": "display_data"
    }
   ],
   "source": [
    "session = tf.Session()\n",
    "session.run(tf.global_variables_initializer())\n",
    "\n",
    "test_data = {\n",
    "    x: test_x_data,\n",
    "    keep_prob: 1.0\n",
    "}\n",
    "\n",
    "for i in range(10):\n",
    "    print(i + 1)\n",
    "    for index in range(num_batches):\n",
    "        data = {\n",
    "            x: train_x_batches[index],\n",
    "            y: onehot(train_y_batches[index]),\n",
    "            keep_prob: 0.5\n",
    "        }\n",
    "        session.run(train, feed_dict=data)\n",
    "        if index % 10 == 0:\n",
    "            print('loss = %f' % session.run(loss, feed_dict=data))\n",
    "    print_accuracy()\n",
    "    print('----------------------------------')\n",
    "\n",
    "draw()"
   ]
  }
 ],
 "metadata": {
  "kernelspec": {
   "display_name": "Python 3",
   "language": "python",
   "name": "python3"
  },
  "language_info": {
   "codemirror_mode": {
    "name": "ipython",
    "version": 3
   },
   "file_extension": ".py",
   "mimetype": "text/x-python",
   "name": "python",
   "nbconvert_exporter": "python",
   "pygments_lexer": "ipython3",
   "version": "3.6.1"
  }
 },
 "nbformat": 4,
 "nbformat_minor": 2
}
