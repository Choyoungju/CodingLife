{
 "cells": [
  {
   "cell_type": "code",
   "execution_count": 1,
   "metadata": {},
   "outputs": [
    {
     "name": "stdout",
     "output_type": "stream",
     "text": [
      "Extracting data/train-images-idx3-ubyte.gz\n",
      "Extracting data/train-labels-idx1-ubyte.gz\n",
      "Extracting data/t10k-images-idx3-ubyte.gz\n",
      "Extracting data/t10k-labels-idx1-ubyte.gz\n"
     ]
    }
   ],
   "source": [
    "# MNIST 데이터 로딩\n",
    "\n",
    "from tensorflow.examples.tutorials.mnist import input_data\n",
    "mnist = input_data.read_data_sets('data', one_hot=True)"
   ]
  },
  {
   "cell_type": "code",
   "execution_count": 2,
   "metadata": {},
   "outputs": [
    {
     "data": {
      "text/plain": [
       "((55000, 784), (55000, 10))"
      ]
     },
     "execution_count": 2,
     "metadata": {},
     "output_type": "execute_result"
    }
   ],
   "source": [
    "# 훈련 데이터 확인\n",
    "\n",
    "mnist.train.images.shape, mnist.train.labels.shape"
   ]
  },
  {
   "cell_type": "code",
   "execution_count": 3,
   "metadata": {},
   "outputs": [
    {
     "data": {
      "text/plain": [
       "((10000, 784), (10000, 10))"
      ]
     },
     "execution_count": 3,
     "metadata": {},
     "output_type": "execute_result"
    }
   ],
   "source": [
    "# 테스트 데이터 확인\n",
    "\n",
    "mnist.test.images.shape, mnist.test.labels.shape"
   ]
  },
  {
   "cell_type": "code",
   "execution_count": 4,
   "metadata": {},
   "outputs": [
    {
     "data": {
      "image/png": "[encoded data removed]",
      "text/plain": [
       "<matplotlib.figure.Figure at 0x11867ed90>"
      ]
     },
     "metadata": {},
     "output_type": "display_data"
    },
    {
     "data": {
      "image/png": "[encoded data removed]",
      "text/plain": [
       "<matplotlib.figure.Figure at 0x10bb5c950>"
      ]
     },
     "metadata": {},
     "output_type": "display_data"
    }
   ],
   "source": [
    "# 손글씨 이미지 시각화\n",
    "\n",
    "import matplotlib.pyplot as plt\n",
    "\n",
    "def draw_image(images, labels):\n",
    "    fig, axes = plt.subplots(1, images.shape[0])\n",
    "    for i, ax in enumerate(axes.flat):\n",
    "        ax.set_axis_off()\n",
    "        ax.imshow(images[i].reshape(28, 28))\n",
    "        ax.set_title(labels[i])\n",
    "    plt.show()\n",
    "\n",
    "draw_image(mnist.train.images[:8],\n",
    "           mnist.train.labels[:8].argmax(axis=1))\n",
    "\n",
    "draw_image(mnist.test.images[:8],\n",
    "           mnist.test.labels[:8].argmax(axis=1))"
   ]
  },
  {
   "cell_type": "code",
   "execution_count": 5,
   "metadata": {},
   "outputs": [
    {
     "name": "stderr",
     "output_type": "stream",
     "text": [
      "Using TensorFlow backend.\n"
     ]
    }
   ],
   "source": [
    "# 신경망 모델 생성\n",
    "\n",
    "from keras.models import Sequential\n",
    "from keras.layers import Dense\n",
    "\n",
    "model = Sequential()\n",
    "\n",
    "model.add(Dense(10,\n",
    "                activation='softmax',\n",
    "                input_shape=mnist.train.images.shape[1:]))\n",
    "\n",
    "model.compile(loss='categorical_crossentropy',\n",
    "              optimizer='adam',\n",
    "              metrics=['accuracy'])"
   ]
  },
  {
   "cell_type": "code",
   "execution_count": 6,
   "metadata": {},
   "outputs": [
    {
     "name": "stdout",
     "output_type": "stream",
     "text": [
      "Epoch 1/10\n",
      "55000/55000 [==============================] - 5s - loss: 0.4863 - acc: 0.8734     \n",
      "Epoch 2/10\n",
      "55000/55000 [==============================] - 5s - loss: 0.3090 - acc: 0.9136     \n",
      "Epoch 3/10\n",
      "55000/55000 [==============================] - 5s - loss: 0.2872 - acc: 0.9190     \n",
      "Epoch 4/10\n",
      "55000/55000 [==============================] - 4s - loss: 0.2758 - acc: 0.9221     \n",
      "Epoch 5/10\n",
      "55000/55000 [==============================] - 9s - loss: 0.2695 - acc: 0.9245     \n",
      "Epoch 6/10\n",
      "55000/55000 [==============================] - 7s - loss: 0.2641 - acc: 0.9266     \n",
      "Epoch 7/10\n",
      "55000/55000 [==============================] - 5s - loss: 0.2601 - acc: 0.9274     \n",
      "Epoch 8/10\n",
      "55000/55000 [==============================] - 4s - loss: 0.2568 - acc: 0.9292     \n",
      "Epoch 9/10\n",
      "55000/55000 [==============================] - 4s - loss: 0.2546 - acc: 0.9289     \n",
      "Epoch 10/10\n",
      "55000/55000 [==============================] - 4s - loss: 0.2518 - acc: 0.9305     \n"
     ]
    },
    {
     "data": {
      "text/plain": [
       "<keras.callbacks.History at 0x114911ed0>"
      ]
     },
     "execution_count": 6,
     "metadata": {},
     "output_type": "execute_result"
    }
   ],
   "source": [
    "# 훈련\n",
    "\n",
    "model.fit(mnist.train.images,\n",
    "          mnist.train.labels,\n",
    "          epochs=10)"
   ]
  },
  {
   "cell_type": "code",
   "execution_count": 7,
   "metadata": {},
   "outputs": [
    {
     "name": "stdout",
     "output_type": "stream",
     "text": [
      " 9472/10000 [===========================>..] - ETA: 0s"
     ]
    },
    {
     "data": {
      "text/plain": [
       "(0.93256363636363637, 0.9264)"
      ]
     },
     "execution_count": 7,
     "metadata": {},
     "output_type": "execute_result"
    }
   ],
   "source": [
    "# 정확도\n",
    "\n",
    "_, train_accuracy = model.evaluate(mnist.train.images, mnist.train.labels)\n",
    "_, test_accuracy = model.evaluate(mnist.test.images, mnist.test.labels)\n",
    "\n",
    "train_accuracy, test_accuracy"
   ]
  },
  {
   "cell_type": "code",
   "execution_count": 8,
   "metadata": {},
   "outputs": [
    {
     "data": {
      "text/plain": [
       "array([7, 2, 1, 0, 4, 1, 4, 9, 6, 9])"
      ]
     },
     "execution_count": 8,
     "metadata": {},
     "output_type": "execute_result"
    }
   ],
   "source": [
    "# 예측\n",
    "\n",
    "predict = model.predict(mnist.test.images).argmax(axis=1)\n",
    "\n",
    "predict[:10]"
   ]
  },
  {
   "cell_type": "code",
   "execution_count": 9,
   "metadata": {},
   "outputs": [
    {
     "data": {
      "text/plain": [
       "array([ True,  True,  True,  True,  True,  True,  True,  True, False,  True], dtype=bool)"
      ]
     },
     "execution_count": 9,
     "metadata": {},
     "output_type": "execute_result"
    }
   ],
   "source": [
    "# 정답 검사\n",
    "\n",
    "correct = predict == mnist.test.labels.argmax(axis=1)\n",
    "\n",
    "correct[:10]"
   ]
  },
  {
   "cell_type": "code",
   "execution_count": 10,
   "metadata": {},
   "outputs": [
    {
     "data": {
      "text/plain": [
       "0.9264"
      ]
     },
     "execution_count": 10,
     "metadata": {},
     "output_type": "execute_result"
    }
   ],
   "source": [
    "# BONUS: 정확도 계산 공식\n",
    "\n",
    "correct.mean()"
   ]
  },
  {
   "cell_type": "code",
   "execution_count": 11,
   "metadata": {},
   "outputs": [
    {
     "data": {
      "image/png": "[encoded data removed]",
      "text/plain": [
       "<matplotlib.figure.Figure at 0x118512890>"
      ]
     },
     "metadata": {},
     "output_type": "display_data"
    }
   ],
   "source": [
    "# 오답 시각화\n",
    "\n",
    "images = mnist.test.images[~correct]\n",
    "labels = predict[~correct]\n",
    "\n",
    "draw_image(images[:8], labels[:8])"
   ]
  },
  {
   "cell_type": "code",
   "execution_count": 12,
   "metadata": {},
   "outputs": [],
   "source": [
    "# CNN 모델 생성\n",
    "\n",
    "from keras.models import Sequential\n",
    "from keras.layers import Reshape, Conv2D, MaxPooling2D, Dropout, Flatten, Dense\n",
    "\n",
    "model = Sequential()\n",
    "\n",
    "model.add(Reshape((28, 28, 1),\n",
    "                  input_shape=mnist.train.images.shape[1:]))\n",
    "\n",
    "model.add(Conv2D(4, (5, 5), activation='relu'))\n",
    "model.add(MaxPooling2D(pool_size=(2, 2)))\n",
    "model.add(Dropout(0.25))\n",
    "\n",
    "model.add(Conv2D(8, (5, 5), activation='relu'))\n",
    "model.add(MaxPooling2D(pool_size=(2, 2)))\n",
    "model.add(Dropout(0.25))\n",
    "\n",
    "model.add(Flatten())\n",
    "\n",
    "model.add(Dense(200, activation='relu'))\n",
    "model.add(Dropout(0.5))\n",
    "\n",
    "model.add(Dense(10, activation='softmax'))\n",
    "\n",
    "model.compile(loss='categorical_crossentropy',\n",
    "              optimizer='adam',\n",
    "              metrics=['accuracy'])"
   ]
  },
  {
   "cell_type": "code",
   "execution_count": 13,
   "metadata": {},
   "outputs": [
    {
     "name": "stdout",
     "output_type": "stream",
     "text": [
      "Epoch 1/10\n",
      "55000/55000 [==============================] - 31s - loss: 0.4799 - acc: 0.8448    \n",
      "Epoch 2/10\n",
      "55000/55000 [==============================] - 32s - loss: 0.2258 - acc: 0.9302    \n",
      "Epoch 3/10\n",
      "55000/55000 [==============================] - 36s - loss: 0.1889 - acc: 0.9417    \n",
      "Epoch 4/10\n",
      "55000/55000 [==============================] - 33s - loss: 0.1711 - acc: 0.9460    \n",
      "Epoch 5/10\n",
      "55000/55000 [==============================] - 35s - loss: 0.1557 - acc: 0.9513    \n",
      "Epoch 6/10\n",
      "55000/55000 [==============================] - 36s - loss: 0.1477 - acc: 0.9539    \n",
      "Epoch 7/10\n",
      "55000/55000 [==============================] - 42s - loss: 0.1434 - acc: 0.9562    \n",
      "Epoch 8/10\n",
      "55000/55000 [==============================] - 40s - loss: 0.1393 - acc: 0.9567    \n",
      "Epoch 9/10\n",
      "55000/55000 [==============================] - 37s - loss: 0.1314 - acc: 0.9590    \n",
      "Epoch 10/10\n",
      "55000/55000 [==============================] - 43s - loss: 0.1299 - acc: 0.9602    \n"
     ]
    },
    {
     "data": {
      "text/plain": [
       "<keras.callbacks.History at 0x11b4c4090>"
      ]
     },
     "execution_count": 13,
     "metadata": {},
     "output_type": "execute_result"
    }
   ],
   "source": [
    "# 훈련\n",
    "\n",
    "model.fit(mnist.train.images,\n",
    "          mnist.train.labels,\n",
    "          epochs=10)"
   ]
  },
  {
   "cell_type": "code",
   "execution_count": 14,
   "metadata": {},
   "outputs": [
    {
     "name": "stdout",
     "output_type": "stream",
     "text": [
      " 9984/10000 [============================>.] - ETA: 0s"
     ]
    },
    {
     "data": {
      "text/plain": [
       "(0.98596363636363638, 0.98580000000000001)"
      ]
     },
     "execution_count": 14,
     "metadata": {},
     "output_type": "execute_result"
    }
   ],
   "source": [
    "# 정확도\n",
    "\n",
    "_, train_accuracy = model.evaluate(mnist.train.images, mnist.train.labels)\n",
    "_, test_accuracy = model.evaluate(mnist.test.images, mnist.test.labels)\n",
    "\n",
    "train_accuracy, test_accuracy"
   ]
  },
  {
   "cell_type": "code",
   "execution_count": 15,
   "metadata": {},
   "outputs": [
    {
     "data": {
      "text/plain": [
       "(array([7, 2, 1, 0, 4, 1, 4, 9, 5, 9]),\n",
       " array([ True,  True,  True,  True,  True,  True,  True,  True,  True,  True], dtype=bool))"
      ]
     },
     "execution_count": 15,
     "metadata": {},
     "output_type": "execute_result"
    }
   ],
   "source": [
    "# 예측\n",
    "\n",
    "predict = model.predict(mnist.test.images).argmax(axis=1)\n",
    "\n",
    "correct = predict == mnist.test.labels.argmax(axis=1)\n",
    "\n",
    "predict[:10], correct[:10]"
   ]
  },
  {
   "cell_type": "code",
   "execution_count": 16,
   "metadata": {},
   "outputs": [
    {
     "data": {
      "image/png": "[encoded data removed]",
      "text/plain": [
       "<matplotlib.figure.Figure at 0x11b4b6650>"
      ]
     },
     "metadata": {},
     "output_type": "display_data"
    }
   ],
   "source": [
    "# 오답 시각화\n",
    "\n",
    "images = mnist.test.images[~correct]\n",
    "labels = predict[~correct]\n",
    "\n",
    "draw_image(images[:8], labels[:8])"
   ]
  },
  {
   "cell_type": "code",
   "execution_count": 17,
   "metadata": {},
   "outputs": [],
   "source": [
    "# RNN 모델 생성\n",
    "\n",
    "from keras.models import Sequential\n",
    "from keras.layers import Reshape, GRU, Dropout, Dense\n",
    "\n",
    "model = Sequential()\n",
    "\n",
    "model.add(Reshape((14, 28),\n",
    "                  input_shape=(14 * 28,)))\n",
    "\n",
    "model.add(GRU(100))\n",
    "model.add(Dropout(0.25))\n",
    "\n",
    "model.add(Dense(14 * 28, activation='sigmoid'))\n",
    "\n",
    "model.compile(loss='categorical_crossentropy',\n",
    "              optimizer='adam',\n",
    "              metrics=['accuracy'])"
   ]
  },
  {
   "cell_type": "code",
   "execution_count": 18,
   "metadata": {},
   "outputs": [
    {
     "name": "stdout",
     "output_type": "stream",
     "text": [
      "Epoch 1/10\n",
      "10000/10000 [==============================] - 19s - loss: 288.7180 - acc: 0.0151    \n",
      "Epoch 2/10\n",
      "10000/10000 [==============================] - 18s - loss: 282.4534 - acc: 0.0122    \n",
      "Epoch 3/10\n",
      "10000/10000 [==============================] - 19s - loss: 275.3328 - acc: 0.0328    \n",
      "Epoch 4/10\n",
      "10000/10000 [==============================] - 22s - loss: 270.5058 - acc: 0.0314    \n",
      "Epoch 5/10\n",
      "10000/10000 [==============================] - 20s - loss: 268.6718 - acc: 0.0383    \n",
      "Epoch 6/10\n",
      "10000/10000 [==============================] - 17s - loss: 267.3861 - acc: 0.0444    \n",
      "Epoch 7/10\n",
      "10000/10000 [==============================] - 18s - loss: 266.5603 - acc: 0.0464    \n",
      "Epoch 8/10\n",
      "10000/10000 [==============================] - 20s - loss: 265.8010 - acc: 0.0492    \n",
      "Epoch 9/10\n",
      "10000/10000 [==============================] - 22s - loss: 265.1455 - acc: 0.0573    \n",
      "Epoch 10/10\n",
      "10000/10000 [==============================] - 19s - loss: 264.6935 - acc: 0.0602    \n"
     ]
    },
    {
     "data": {
      "text/plain": [
       "<keras.callbacks.History at 0x12466c290>"
      ]
     },
     "execution_count": 18,
     "metadata": {},
     "output_type": "execute_result"
    }
   ],
   "source": [
    "# 훈련\n",
    "\n",
    "model.fit(mnist.test.images[:, :14 * 28],\n",
    "          mnist.test.images[:, 14 * 28:],\n",
    "          epochs=10)"
   ]
  },
  {
   "cell_type": "code",
   "execution_count": 19,
   "metadata": {},
   "outputs": [
    {
     "data": {
      "image/png": "[encoded data removed]",
      "text/plain": [
       "<matplotlib.figure.Figure at 0x10b898510>"
      ]
     },
     "metadata": {},
     "output_type": "display_data"
    }
   ],
   "source": [
    "# 예측 및 시각화\n",
    "\n",
    "import numpy as np\n",
    "\n",
    "count = 8\n",
    "\n",
    "images1 = mnist.train.images[:count, :14 * 28]\n",
    "images2 = model.predict(images1)\n",
    "\n",
    "images = np.concatenate([images1, images2], axis=1)\n",
    "\n",
    "draw_image(images, mnist.train.labels[:count].argmax(axis=1))"
   ]
  }
 ],
 "metadata": {
  "kernelspec": {
   "display_name": "Python 2",
   "language": "python",
   "name": "python2"
  },
  "language_info": {
   "codemirror_mode": {
    "name": "ipython",
    "version": 2
   },
   "file_extension": ".py",
   "mimetype": "text/x-python",
   "name": "python",
   "nbconvert_exporter": "python",
   "pygments_lexer": "ipython2",
   "version": "2.7.12"
  }
 },
 "nbformat": 4,
 "nbformat_minor": 2
}
