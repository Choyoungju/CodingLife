{
 "cells": [
  {
   "cell_type": "code",
   "execution_count": 1,
   "metadata": {
    "collapsed": true
   },
   "outputs": [],
   "source": [
    "# import os\n",
    "# os.environ['KERAS_BACKEND'] = 'theano'"
   ]
  },
  {
   "cell_type": "code",
   "execution_count": 2,
   "metadata": {},
   "outputs": [
    {
     "name": "stderr",
     "output_type": "stream",
     "text": [
      "Using TensorFlow backend.\n"
     ]
    }
   ],
   "source": [
    "import keras.backend as K"
   ]
  },
  {
   "cell_type": "code",
   "execution_count": 3,
   "metadata": {
    "collapsed": true
   },
   "outputs": [],
   "source": [
    "import numpy as np\n",
    "\n",
    "with open('../../mnist/data/t10k-images-idx3-ubyte', 'rb') as f:\n",
    "    x_data = np.frombuffer(f.read(), np.uint8, offset=16).reshape(-1, 28 * 28) / 255\n",
    "\n",
    "with open('../../mnist/data/t10k-labels-idx1-ubyte', 'rb') as f:\n",
    "    y_data = np.frombuffer(f.read(), np.uint8, offset=8)"
   ]
  },
  {
   "cell_type": "code",
   "execution_count": 4,
   "metadata": {
    "collapsed": true
   },
   "outputs": [],
   "source": [
    "x_data = x_data.astype(K.floatx())"
   ]
  },
  {
   "cell_type": "code",
   "execution_count": 5,
   "metadata": {
    "collapsed": true
   },
   "outputs": [],
   "source": [
    "# 손글씨 이미지 인식용 데이터\n",
    "\n",
    "import keras.utils\n",
    "\n",
    "x_test = x_data[:1000].reshape(-1, 28, 28, 1)\n",
    "y_test = keras.utils.to_categorical(y_data[:1000], num_classes=10)\n",
    "\n",
    "x_train = x_data[1000:].reshape(-1, 28, 28, 1)\n",
    "y_train = keras.utils.to_categorical(y_data[1000:], num_classes=10)"
   ]
  },
  {
   "cell_type": "code",
   "execution_count": 6,
   "metadata": {
    "collapsed": true
   },
   "outputs": [],
   "source": [
    "# CNN\n",
    "\n",
    "from keras.models import Sequential\n",
    "from keras.layers import Conv2D, MaxPooling2D, Dropout, Flatten, Dense\n",
    "\n",
    "model = Sequential()\n",
    "\n",
    "model.add(Conv2D(4, (5, 5), activation='relu', input_shape=(28, 28, 1)))\n",
    "model.add(MaxPooling2D(pool_size=(2, 2)))\n",
    "model.add(Dropout(0.25))\n",
    "\n",
    "model.add(Conv2D(8, (5, 5), activation='relu'))\n",
    "model.add(MaxPooling2D(pool_size=(2, 2)))\n",
    "model.add(Dropout(0.25))\n",
    "\n",
    "model.add(Flatten())\n",
    "\n",
    "model.add(Dense(200, activation='relu'))\n",
    "model.add(Dropout(0.5))\n",
    "\n",
    "model.add(Dense(10, activation='softmax'))\n",
    "\n",
    "model.compile(loss='categorical_crossentropy',\n",
    "              optimizer='adam',\n",
    "              metrics=['accuracy'])"
   ]
  },
  {
   "cell_type": "code",
   "execution_count": 7,
   "metadata": {},
   "outputs": [
    {
     "name": "stdout",
     "output_type": "stream",
     "text": [
      "Epoch 1/10\n",
      "9000/9000 [==============================] - 7s - loss: 1.2061 - acc: 0.5894     \n",
      "Epoch 2/10\n",
      "9000/9000 [==============================] - 6s - loss: 0.5231 - acc: 0.8334     \n",
      "Epoch 3/10\n",
      "9000/9000 [==============================] - 6s - loss: 0.3944 - acc: 0.8763     \n",
      "Epoch 4/10\n",
      "9000/9000 [==============================] - 6s - loss: 0.3212 - acc: 0.8994     \n",
      "Epoch 5/10\n",
      "9000/9000 [==============================] - 6s - loss: 0.2770 - acc: 0.9073     \n",
      "Epoch 6/10\n",
      "9000/9000 [==============================] - 6s - loss: 0.2559 - acc: 0.9167     \n",
      "Epoch 7/10\n",
      "9000/9000 [==============================] - 6s - loss: 0.2328 - acc: 0.9239     \n",
      "Epoch 8/10\n",
      "9000/9000 [==============================] - 6s - loss: 0.2238 - acc: 0.9251     \n",
      "Epoch 9/10\n",
      "9000/9000 [==============================] - 6s - loss: 0.2140 - acc: 0.9309     \n",
      "Epoch 10/10\n",
      "9000/9000 [==============================] - 6s - loss: 0.1984 - acc: 0.9349     \n"
     ]
    },
    {
     "data": {
      "text/plain": [
       "<keras.callbacks.History at 0x114a316a0>"
      ]
     },
     "execution_count": 7,
     "metadata": {},
     "output_type": "execute_result"
    }
   ],
   "source": [
    "# 훈련\n",
    "\n",
    "model.fit(x_train, y_train, epochs=10, batch_size=32)"
   ]
  },
  {
   "cell_type": "code",
   "execution_count": 8,
   "metadata": {},
   "outputs": [
    {
     "name": "stdout",
     "output_type": "stream",
     "text": [
      " 896/1000 [=========================>....] - ETA: 0s"
     ]
    },
    {
     "data": {
      "text/plain": [
       "0.95799999904632571"
      ]
     },
     "execution_count": 8,
     "metadata": {},
     "output_type": "execute_result"
    }
   ],
   "source": [
    "# 모델 검증\n",
    "\n",
    "loss, accuracy = model.evaluate(x_test, y_test, batch_size=128)\n",
    "accuracy"
   ]
  },
  {
   "cell_type": "code",
   "execution_count": 9,
   "metadata": {},
   "outputs": [
    {
     "data": {
      "text/plain": [
       "array([7, 2, 1, 0, 4, 1, 4, 9, 5, 9, 0, 6, 9, 0, 1, 5, 9, 7, 3, 4])"
      ]
     },
     "execution_count": 9,
     "metadata": {},
     "output_type": "execute_result"
    }
   ],
   "source": [
    "# 예측 = 손글씨 이미지 인식\n",
    "\n",
    "classes = model.predict(x_test, batch_size=128)\n",
    "np.argmax(classes, axis=1)[:20]"
   ]
  },
  {
   "cell_type": "code",
   "execution_count": 10,
   "metadata": {},
   "outputs": [
    {
     "name": "stdout",
     "output_type": "stream",
     "text": [
      "ready...\n",
      "--------------------------------------------------------------------------------\n"
     ]
    },
    {
     "data": {
      "image/png": "[encoded data removed]",
      "text/plain": [
       "<matplotlib.figure.Figure at 0x11b90bbe0>"
      ]
     },
     "metadata": {},
     "output_type": "display_data"
    }
   ],
   "source": [
    "# 오답 시각화\n",
    "\n",
    "import matplotlib.pyplot as plt\n",
    "\n",
    "predict = np.argmax(classes, axis=1)\n",
    "correct = predict == y_data[:1000]\n",
    "\n",
    "indices = np.arange(1000)[~correct]\n",
    "np.random.shuffle(indices)\n",
    "\n",
    "print('ready...')\n",
    "print('-' * 80)\n",
    "\n",
    "fig, axes = plt.subplots(5, 5, figsize=(10, 10))\n",
    "for i, ax in zip(indices[:25], axes.flat):\n",
    "    ax.set_axis_off()\n",
    "    ax.imshow(x_data[i].reshape(28, 28), cmap='gray')\n",
    "    ax.set_title('R: {} / P: {}'.format(y_data[i], predict[i]))\n",
    "\n",
    "plt.show()"
   ]
  },
  {
   "cell_type": "code",
   "execution_count": 11,
   "metadata": {
    "collapsed": true
   },
   "outputs": [],
   "source": [
    "# 손글씨 이미지 생성용 데이터\n",
    "\n",
    "x_test = x_data[:1000, :14 * 28]\n",
    "y_test = x_data[:1000, 14 * 28:]\n",
    "\n",
    "x_train = x_data[1000:, :14 * 28]\n",
    "y_train = x_data[1000:, 14 * 28:]"
   ]
  },
  {
   "cell_type": "code",
   "execution_count": 12,
   "metadata": {
    "collapsed": true
   },
   "outputs": [],
   "source": [
    "# RNN\n",
    "\n",
    "from keras.models import Sequential\n",
    "from keras.layers import Reshape, GRU, Dropout, Dense\n",
    "\n",
    "model = Sequential()\n",
    "\n",
    "model.add(Reshape((14, 28), input_shape=(14 * 28,)))\n",
    "\n",
    "model.add(GRU(100))\n",
    "model.add(Dropout(0.25))\n",
    "\n",
    "model.add(Dense(200, activation='relu'))\n",
    "model.add(Dropout(0.5))\n",
    "\n",
    "model.add(Dense(14 * 28, activation='sigmoid'))\n",
    "\n",
    "model.compile(loss='categorical_crossentropy', optimizer='adam')"
   ]
  },
  {
   "cell_type": "code",
   "execution_count": 13,
   "metadata": {},
   "outputs": [
    {
     "name": "stdout",
     "output_type": "stream",
     "text": [
      "Epoch 1/10\n",
      "9000/9000 [==============================] - 41s - loss: 290.1260    \n",
      "Epoch 2/10\n",
      "9000/9000 [==============================] - 22s - loss: 279.0521    \n",
      "Epoch 3/10\n",
      "9000/9000 [==============================] - 19s - loss: 273.1725    \n",
      "Epoch 4/10\n",
      "9000/9000 [==============================] - 19s - loss: 270.8796    \n",
      "Epoch 5/10\n",
      "9000/9000 [==============================] - 22s - loss: 269.5051    \n",
      "Epoch 6/10\n",
      "9000/9000 [==============================] - 23s - loss: 268.6264    \n",
      "Epoch 7/10\n",
      "9000/9000 [==============================] - 23s - loss: 267.9257    \n",
      "Epoch 8/10\n",
      "9000/9000 [==============================] - 24s - loss: 267.3744    \n",
      "Epoch 9/10\n",
      "9000/9000 [==============================] - 24s - loss: 267.0309    \n",
      "Epoch 10/10\n",
      "9000/9000 [==============================] - 24s - loss: 266.5794    \n"
     ]
    },
    {
     "data": {
      "text/plain": [
       "<keras.callbacks.History at 0x11b587e80>"
      ]
     },
     "execution_count": 13,
     "metadata": {},
     "output_type": "execute_result"
    }
   ],
   "source": [
    "# 훈련\n",
    "\n",
    "model.fit(x_train, y_train, epochs=10, batch_size=32)"
   ]
  },
  {
   "cell_type": "code",
   "execution_count": 14,
   "metadata": {},
   "outputs": [
    {
     "name": "stdout",
     "output_type": "stream",
     "text": [
      "1000/1000 [==============================] - 0s     \n"
     ]
    },
    {
     "data": {
      "text/plain": [
       "241.75769140624999"
      ]
     },
     "execution_count": 14,
     "metadata": {},
     "output_type": "execute_result"
    }
   ],
   "source": [
    "# 모델 검증\n",
    "\n",
    "model.evaluate(x_test, y_test, batch_size=128)"
   ]
  },
  {
   "cell_type": "code",
   "execution_count": 15,
   "metadata": {},
   "outputs": [
    {
     "name": "stdout",
     "output_type": "stream",
     "text": [
      "ready...\n",
      "--------------------------------------------------------------------------------\n"
     ]
    },
    {
     "data": {
      "image/png": "[encoded data removed]",
      "text/plain": [
       "<matplotlib.figure.Figure at 0x1237aefd0>"
      ]
     },
     "metadata": {},
     "output_type": "display_data"
    }
   ],
   "source": [
    "# 예측 + 시각화\n",
    "\n",
    "import matplotlib.pyplot as plt\n",
    "\n",
    "predict = model.predict(x_test[:25, :], batch_size=128)\n",
    "images = np.concatenate([x_test[:25, :], predict], axis=1)\n",
    "\n",
    "print('ready...')\n",
    "print('-' * 80)\n",
    "\n",
    "fig, axes = plt.subplots(5, 5, figsize=(10, 10))\n",
    "for i, ax in enumerate(axes.flat):\n",
    "    ax.set_axis_off()\n",
    "    ax.imshow(images[i].reshape(28, 28), cmap='gray')\n",
    "    ax.set_title('R: {}'.format(y_data[i]))\n",
    "\n",
    "plt.show()"
   ]
  },
  {
   "cell_type": "code",
   "execution_count": 16,
   "metadata": {
    "collapsed": true
   },
   "outputs": [],
   "source": [
    "import re\n",
    "\n",
    "with open('data.txt', encoding='utf-8') as f:\n",
    "    read_data = f.read()\n",
    "\n",
    "text = read_data.replace('\\n', ' ')\n",
    "text = re.sub('\\s+', '_', text)\n",
    "\n",
    "chars = list(set(text))\n",
    "\n",
    "num_chars = len(chars)\n",
    "num_inputs = 10"
   ]
  },
  {
   "cell_type": "code",
   "execution_count": 17,
   "metadata": {
    "collapsed": true
   },
   "outputs": [],
   "source": [
    "import keras.utils\n",
    "\n",
    "x_data = []\n",
    "y_data = []\n",
    "\n",
    "for i in range(len(text) - num_inputs):\n",
    "    x_data.append([chars.index(x) for x in list(text[i:i + num_inputs])])\n",
    "    y_data.append(chars.index(text[i + num_inputs]))\n",
    "\n",
    "x_data = np.array(x_data).astype(K.floatx())\n",
    "y_data = keras.utils.to_categorical(y_data, num_classes=num_chars)"
   ]
  },
  {
   "cell_type": "code",
   "execution_count": 18,
   "metadata": {
    "collapsed": true
   },
   "outputs": [],
   "source": [
    "# RNN\n",
    "\n",
    "from keras.models import Sequential\n",
    "from keras.layers import Embedding, GRU, Dropout, Dense\n",
    "\n",
    "model = Sequential()\n",
    "\n",
    "model.add(Embedding(num_chars, 100, input_length=num_inputs))\n",
    "\n",
    "model.add(GRU(100))\n",
    "model.add(Dropout(0.25))\n",
    "\n",
    "model.add(Dense(200, activation='relu'))\n",
    "model.add(Dropout(0.5))\n",
    "\n",
    "model.add(Dense(num_chars, activation='softmax'))\n",
    "\n",
    "model.compile(loss='categorical_crossentropy',\n",
    "              optimizer='adam',\n",
    "              metrics=['accuracy'])"
   ]
  },
  {
   "cell_type": "code",
   "execution_count": 19,
   "metadata": {
    "scrolled": false
   },
   "outputs": [
    {
     "name": "stdout",
     "output_type": "stream",
     "text": [
      "1\n",
      "382/382 [==============================] - 0s     \n",
      "accuracy: 0.2722513134254835\n",
      "그리워하면_언젠간___________________________________________________\n",
      "2\n",
      "382/382 [==============================] - 0s     \n",
      "accuracy: 0.2827225174579321\n",
      "그리워하면_언젠간_나_나_나나_나나_나나_나_나나_나나_나나_나_나나_나나_나나_나_나나_나나_나나_나_나나\n",
      "3\n",
      "382/382 [==============================] - 0s     \n",
      "accuracy: 0.32984293583800034\n",
      "그리워하면_언젠간_어나나나나나나나나나나나나나나나나나나나나나나나나나나나나나나나나나나나나나나나나나나나나나나나나나\n",
      "4\n",
      "382/382 [==============================] - 0s     \n",
      "accuracy: 0.4895287958115183\n",
      "그리워하면_언젠간_너는_너에_너에_너에_너에_너에_너에_너에_너에_너에_너에_너에_너에_너에_너에_너에_너에\n",
      "5\n",
      "382/382 [==============================] - 0s     \n",
      "accuracy: 0.6910994804966513\n",
      "그리워하면_언젠간_언젠간_언젠간_그리워하면_언젠간_언젠간_언젠간_그리워하면_언젠간_언젠간_언젠간_그리워하면_\n",
      "6\n",
      "382/382 [==============================] - 0s     \n",
      "accuracy: 0.8115183161815424\n",
      "그리워하면_언젠간_언젠간_언젠간_그리워하면_언젠간_언젠간_언젠간_그리워하면_언젠간_언젠간_언젠간_그리워하면_\n",
      "7\n",
      "382/382 [==============================] - 0s     \n",
      "accuracy: 0.8795811421584084\n",
      "그리워하면_언젠간_만나게_되는_어느_영화와_같은_일들이_이루어져_가기를_힘겨워한_날에_너를_지킬_수_없었던_\n",
      "8\n",
      "382/382 [==============================] - 0s     \n",
      "accuracy: 0.9319371631008169\n",
      "그리워하면_언젠간_만나게_되는_어느_영화와_같은_일들이_이루어져_가기를_힘겨워한_날에_너를_지킬_수_없었던_\n",
      "9\n",
      "382/382 [==============================] - 0s     \n",
      "accuracy: 0.9607329746191414\n",
      "그리워하면_언젠간_만나게_되는_어느_영화와_같은_일들이_이루어져_가기를_힘겨워한_날에_너를_지킬_수_없었던_\n",
      "10\n",
      "382/382 [==============================] - 0s     \n",
      "accuracy: 0.9790575819489844\n",
      "그리워하면_언젠간_만나게_되는_어느_영화와_같은_일들이_이루어져_가기를_힘겨워한_날에_너를_지킬_수_없었던_\n"
     ]
    }
   ],
   "source": [
    "# 훈련 & 예측 = 텍스트 생성\n",
    "\n",
    "def generate():\n",
    "    inputs = [chars.index(x) for x in list('그리워하면_언젠간_')]\n",
    "    for i in range(50):\n",
    "        predict = model.predict(np.array([inputs[-num_inputs:]]), batch_size=128)\n",
    "        output = np.argmax(predict, axis=1)\n",
    "        inputs = np.hstack([inputs, output])\n",
    "    print(''.join(chars[x] for x in inputs.tolist()))\n",
    "\n",
    "for i in range(10):\n",
    "    print(i + 1)\n",
    "    model.fit(x_data, y_data, epochs=5, batch_size=32, verbose=False)\n",
    "    loss, accuracy = model.evaluate(x_data, y_data, batch_size=128)\n",
    "    print('accuracy: {}'.format(accuracy))\n",
    "    generate()"
   ]
  }
 ],
 "metadata": {
  "kernelspec": {
   "display_name": "Python 3",
   "language": "python",
   "name": "python3"
  },
  "language_info": {
   "codemirror_mode": {
    "name": "ipython",
    "version": 3
   },
   "file_extension": ".py",
   "mimetype": "text/x-python",
   "name": "python",
   "nbconvert_exporter": "python",
   "pygments_lexer": "ipython3",
   "version": "3.6.1"
  }
 },
 "nbformat": 4,
 "nbformat_minor": 2
}
