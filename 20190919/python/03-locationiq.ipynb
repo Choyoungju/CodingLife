{
 "cells": [
  {
   "cell_type": "markdown",
   "metadata": {},
   "source": [
    "# LocationIQ로 위도, 경도 얻기\n",
    "\n",
    "> LocationIQ - Free & Fast Geocoding and Reverse Geocoding service\n",
    "\n",
    "<https://locationiq.com/>"
   ]
  },
  {
   "cell_type": "markdown",
   "metadata": {},
   "source": [
    "터미널 또는 Git Bash에서 다음을 입력해 API 키를 사용합니다.\n",
    "\n",
    "```bash\n",
    "# 환경변수 설정. 발급 받은 키로 변경해 주세요.\n",
    "export LOCATIONIQ_TOKEN=b023f593f83638\n",
    "\n",
    "# Jupyter Notebook 실행\n",
    "jupyter notebook\n",
    "```"
   ]
  },
  {
   "cell_type": "code",
   "execution_count": 1,
   "metadata": {},
   "outputs": [],
   "source": [
    "# 환경 변수에서 API 키 가져오기\n",
    "\n",
    "import os\n",
    "\n",
    "LOCATIONIQ_TOKEN = os.environ['LOCATIONIQ_TOKEN']"
   ]
  },
  {
   "cell_type": "code",
   "execution_count": 2,
   "metadata": {},
   "outputs": [
    {
     "data": {
      "text/plain": [
       "'2.22.0'"
      ]
     },
     "execution_count": 2,
     "metadata": {},
     "output_type": "execute_result"
    }
   ],
   "source": [
    "# requests 사용\n",
    "\n",
    "import requests\n",
    "\n",
    "requests.__version__"
   ]
  },
  {
   "cell_type": "code",
   "execution_count": 3,
   "metadata": {},
   "outputs": [
    {
     "name": "stdout",
     "output_type": "stream",
     "text": [
      "[{\"place_id\":\"206185511\",\"licence\":\"https:\\/\\/locationiq.com\\/attribution\",\"osm_type\":\"way\",\"osm_id\":\"608088218\",\"boundingbox\":[\"37.5463183\",\"37.5468967\",\"126.9492191\",\"126.9501552\"],\"lat\":\"37.54662875\",\"lon\":\"126.949684293519\",\"display_name\":\"Seoul Startup Hub, Baekbeom-ro 31-gil, Ahyeon-dong, Mapo-gu, Seoul, 04140, South Korea\",\"class\":\"office\",\"type\":\"government\",\"importance\":0.001}]\n"
     ]
    }
   ],
   "source": [
    "# LocationIQ로 “서울창업허브” 검색\n",
    "\n",
    "url = 'https://us1.locationiq.com/v1/search.php'\n",
    "payload = {\n",
    "    'key': LOCATIONIQ_TOKEN,\n",
    "    'q': '서울창업허브',\n",
    "    'format': 'json'\n",
    "}\n",
    "\n",
    "response = requests.get(url, params=payload)\n",
    "\n",
    "print(response.text)"
   ]
  },
  {
   "cell_type": "markdown",
   "metadata": {},
   "source": [
    "## JSON Beautifier로 확인\n",
    "\n",
    "<https://www.jsonformatter.io/>"
   ]
  },
  {
   "cell_type": "markdown",
   "metadata": {},
   "source": [
    "```json\n",
    "[\n",
    "   {\n",
    "      \"place_id\": \"206185511\",\n",
    "      \"licence\": \"https://locationiq.com/attribution\",\n",
    "      \"osm_type\": \"way\",\n",
    "      \"osm_id\": \"608088218\",\n",
    "      \"boundingbox\": [\n",
    "         \"37.5463183\",\n",
    "         \"37.5468967\",\n",
    "         \"126.9492191\",\n",
    "         \"126.9501552\"\n",
    "      ],\n",
    "      \"lat\": \"37.54662875\",\n",
    "      \"lon\": \"126.949684293519\",\n",
    "      \"display_name\": \"Seoul Startup Hub, Baekbeom-ro 31-gil, Ahyeon-dong, Mapo-gu, Seoul, 04140, South Korea\",\n",
    "      \"class\": \"office\",\n",
    "      \"type\": \"government\",\n",
    "      \"importance\": 0.001\n",
    "   }\n",
    "]\n",
    "```"
   ]
  },
  {
   "cell_type": "code",
   "execution_count": 4,
   "metadata": {},
   "outputs": [
    {
     "name": "stdout",
     "output_type": "stream",
     "text": [
      "위도: 37.54662875\n",
      "경도: 126.949684293519\n"
     ]
    }
   ],
   "source": [
    "# 위도, 경도만 표시\n",
    "\n",
    "results = response.json()\n",
    "\n",
    "coordinates = results[0]\n",
    "\n",
    "print('위도:', coordinates['lat'])\n",
    "print('경도:', coordinates['lon'])"
   ]
  },
  {
   "cell_type": "code",
   "execution_count": null,
   "metadata": {},
   "outputs": [],
   "source": []
  }
 ],
 "metadata": {
  "kernelspec": {
   "display_name": "Python 3",
   "language": "python",
   "name": "python3"
  },
  "language_info": {
   "codemirror_mode": {
    "name": "ipython",
    "version": 3
   },
   "file_extension": ".py",
   "mimetype": "text/x-python",
   "name": "python",
   "nbconvert_exporter": "python",
   "pygments_lexer": "ipython3",
   "version": "3.7.4"
  }
 },
 "nbformat": 4,
 "nbformat_minor": 2
}
