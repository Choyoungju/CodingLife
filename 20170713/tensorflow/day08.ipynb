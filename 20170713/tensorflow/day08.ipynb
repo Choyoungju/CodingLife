{
 "cells": [
  {
   "cell_type": "code",
   "execution_count": 1,
   "metadata": {
    "collapsed": true
   },
   "outputs": [],
   "source": [
    "import numpy as np\n",
    "import tensorflow as tf\n",
    "import matplotlib.pyplot as plt"
   ]
  },
  {
   "cell_type": "code",
   "execution_count": 2,
   "metadata": {},
   "outputs": [
    {
     "name": "stdout",
     "output_type": "stream",
     "text": [
      "Extracting data/train-images-idx3-ubyte.gz\n",
      "Extracting data/train-labels-idx1-ubyte.gz\n",
      "Extracting data/t10k-images-idx3-ubyte.gz\n",
      "Extracting data/t10k-labels-idx1-ubyte.gz\n"
     ]
    }
   ],
   "source": [
    "from tensorflow.examples.tutorials.mnist import input_data\n",
    "\n",
    "mnist = input_data.read_data_sets('data')"
   ]
  },
  {
   "cell_type": "code",
   "execution_count": 3,
   "metadata": {
    "scrolled": true
   },
   "outputs": [
    {
     "data": {
      "image/png": "[encoded data removed]",
      "text/plain": [
       "<matplotlib.figure.Figure at 0x11169da20>"
      ]
     },
     "metadata": {},
     "output_type": "display_data"
    }
   ],
   "source": [
    "def draw_image(images, labels):\n",
    "    fig, axes = plt.subplots(1, len(images), figsize=(len(images) * 2, 2))\n",
    "    for i, ax in enumerate(axes.flat):\n",
    "        ax.set_axis_off()\n",
    "        ax.imshow(images[i].reshape(28, 28), cmap='gray')\n",
    "        ax.set_title(labels[i])\n",
    "    plt.show()\n",
    "\n",
    "draw_image(mnist.test.images[:6], mnist.test.labels[:6])"
   ]
  },
  {
   "cell_type": "code",
   "execution_count": 4,
   "metadata": {
    "collapsed": true
   },
   "outputs": [],
   "source": [
    "# https://www.tensorflow.org/api_docs/python/tf/contrib/layers/fully_connected\n",
    "\n",
    "def layer(x, out_size, activation):\n",
    "    return tf.contrib.layers.fully_connected(x, out_size, activation)"
   ]
  },
  {
   "cell_type": "code",
   "execution_count": 5,
   "metadata": {},
   "outputs": [
    {
     "data": {
      "text/plain": [
       "TensorShape([Dimension(None), Dimension(14), Dimension(28)])"
      ]
     },
     "execution_count": 5,
     "metadata": {},
     "output_type": "execute_result"
    }
   ],
   "source": [
    "x = tf.placeholder(tf.float32, [None, 14 * 28])\n",
    "\n",
    "xx = tf.reshape(x, [-1, 14, 28])\n",
    "\n",
    "xx.shape"
   ]
  },
  {
   "cell_type": "code",
   "execution_count": 6,
   "metadata": {},
   "outputs": [
    {
     "data": {
      "text/plain": [
       "[<tf.Tensor 'unstack:0' shape=(?, 28) dtype=float32>,\n",
       " <tf.Tensor 'unstack:1' shape=(?, 28) dtype=float32>,\n",
       " <tf.Tensor 'unstack:2' shape=(?, 28) dtype=float32>,\n",
       " <tf.Tensor 'unstack:3' shape=(?, 28) dtype=float32>,\n",
       " <tf.Tensor 'unstack:4' shape=(?, 28) dtype=float32>,\n",
       " <tf.Tensor 'unstack:5' shape=(?, 28) dtype=float32>,\n",
       " <tf.Tensor 'unstack:6' shape=(?, 28) dtype=float32>,\n",
       " <tf.Tensor 'unstack:7' shape=(?, 28) dtype=float32>,\n",
       " <tf.Tensor 'unstack:8' shape=(?, 28) dtype=float32>,\n",
       " <tf.Tensor 'unstack:9' shape=(?, 28) dtype=float32>,\n",
       " <tf.Tensor 'unstack:10' shape=(?, 28) dtype=float32>,\n",
       " <tf.Tensor 'unstack:11' shape=(?, 28) dtype=float32>,\n",
       " <tf.Tensor 'unstack:12' shape=(?, 28) dtype=float32>,\n",
       " <tf.Tensor 'unstack:13' shape=(?, 28) dtype=float32>]"
      ]
     },
     "execution_count": 6,
     "metadata": {},
     "output_type": "execute_result"
    }
   ],
   "source": [
    "inputs = tf.unstack(xx, 14, axis=1)\n",
    "\n",
    "inputs"
   ]
  },
  {
   "cell_type": "code",
   "execution_count": 7,
   "metadata": {},
   "outputs": [
    {
     "data": {
      "text/plain": [
       "14"
      ]
     },
     "execution_count": 7,
     "metadata": {},
     "output_type": "execute_result"
    }
   ],
   "source": [
    "len(inputs)"
   ]
  },
  {
   "cell_type": "code",
   "execution_count": 8,
   "metadata": {},
   "outputs": [
    {
     "data": {
      "text/plain": [
       "TensorShape([Dimension(None), Dimension(28)])"
      ]
     },
     "execution_count": 8,
     "metadata": {},
     "output_type": "execute_result"
    }
   ],
   "source": [
    "inputs[0].shape"
   ]
  },
  {
   "cell_type": "code",
   "execution_count": 9,
   "metadata": {
    "collapsed": true
   },
   "outputs": [],
   "source": [
    "# https://www.tensorflow.org/api_docs/python/tf/contrib/rnn/BasicLSTMCell\n",
    "# https://www.tensorflow.org/api_docs/python/tf/nn/static_rnn\n",
    "\n",
    "def rnn(x, batches, in_size, out_size):\n",
    "    # list로 분리\n",
    "    xx = tf.reshape(x, [-1, batches, in_size])\n",
    "    inputs = tf.unstack(xx, batches, axis=1)\n",
    "\n",
    "    # Cell 초기화\n",
    "    cell = tf.contrib.rnn.BasicLSTMCell(out_size)\n",
    "\n",
    "    # 순환\n",
    "    outputs, states = tf.contrib.rnn.static_rnn(cell, inputs, dtype=tf.float32)\n",
    "\n",
    "    # list를 하나로 합침\n",
    "    output = tf.concat(outputs, axis=1)\n",
    "    return tf.reshape(output, [-1, batches * out_size])"
   ]
  },
  {
   "cell_type": "code",
   "execution_count": 10,
   "metadata": {
    "collapsed": true,
    "scrolled": false
   },
   "outputs": [],
   "source": [
    "tf.reset_default_graph()\n",
    "\n",
    "x = tf.placeholder(tf.float32, [None, 14 * 28])\n",
    "y = tf.placeholder(tf.float32, [None, 14 * 28])\n",
    "\n",
    "keep_prob = tf.placeholder(tf.float32)\n",
    "\n",
    "z1 = rnn(x, 14, 28, 200)\n",
    "z2 = layer(z1, 500, tf.nn.relu)\n",
    "drop = tf.nn.dropout(z2, keep_prob)\n",
    "z = layer(drop, 14 * 28, tf.nn.sigmoid)\n",
    "\n",
    "loss = -tf.reduce_mean(y * tf.log(z) + (1 - y) * tf.log(1 - z))\n",
    "\n",
    "train = tf.train.AdamOptimizer(0.0001).minimize(loss)"
   ]
  },
  {
   "cell_type": "code",
   "execution_count": 11,
   "metadata": {
    "collapsed": true
   },
   "outputs": [],
   "source": [
    "test_data = {\n",
    "    x: mnist.test.images,\n",
    "    y: mnist.test.labels\n",
    "}\n",
    "\n",
    "def draw():\n",
    "    shuffle = np.random.permutation(mnist.test.labels.shape[0])\n",
    "\n",
    "    labels = mnist.test.labels[shuffle][:5]\n",
    "    images1 = mnist.test.images[:, :14 * 28][shuffle][:5]\n",
    "    images2 = session.run(z, feed_dict={ x: images1, keep_prob: 1.0 })\n",
    "    images = np.concatenate([images1, images2], axis=1)\n",
    "\n",
    "    draw_image(images, labels)"
   ]
  },
  {
   "cell_type": "code",
   "execution_count": 12,
   "metadata": {
    "scrolled": false
   },
   "outputs": [
    {
     "name": "stdout",
     "output_type": "stream",
     "text": [
      "1\n"
     ]
    },
    {
     "data": {
      "image/png": "[encoded data removed]",
      "text/plain": [
       "<matplotlib.figure.Figure at 0x11b7fb860>"
      ]
     },
     "metadata": {},
     "output_type": "display_data"
    },
    {
     "name": "stdout",
     "output_type": "stream",
     "text": [
      "2\n"
     ]
    },
    {
     "data": {
      "image/png": "[encoded data removed]",
      "text/plain": [
       "<matplotlib.figure.Figure at 0x11bc46320>"
      ]
     },
     "metadata": {},
     "output_type": "display_data"
    },
    {
     "name": "stdout",
     "output_type": "stream",
     "text": [
      "3\n"
     ]
    },
    {
     "data": {
      "image/png": "[encoded data removed]",
      "text/plain": [
       "<matplotlib.figure.Figure at 0x111f0da90>"
      ]
     },
     "metadata": {},
     "output_type": "display_data"
    },
    {
     "name": "stdout",
     "output_type": "stream",
     "text": [
      "4\n"
     ]
    },
    {
     "data": {
      "image/png": "[encoded data removed]",
      "text/plain": [
       "<matplotlib.figure.Figure at 0x11215ad68>"
      ]
     },
     "metadata": {},
     "output_type": "display_data"
    },
    {
     "name": "stdout",
     "output_type": "stream",
     "text": [
      "5\n"
     ]
    },
    {
     "data": {
      "image/png": "[encoded data removed]",
      "text/plain": [
       "<matplotlib.figure.Figure at 0x11209ad68>"
      ]
     },
     "metadata": {},
     "output_type": "display_data"
    },
    {
     "name": "stdout",
     "output_type": "stream",
     "text": [
      "6\n"
     ]
    },
    {
     "data": {
      "image/png": "[encoded data removed]",
      "text/plain": [
       "<matplotlib.figure.Figure at 0x111fa5908>"
      ]
     },
     "metadata": {},
     "output_type": "display_data"
    },
    {
     "name": "stdout",
     "output_type": "stream",
     "text": [
      "7\n"
     ]
    },
    {
     "data": {
      "image/png": "[encoded data removed]",
      "text/plain": [
       "<matplotlib.figure.Figure at 0x111edeba8>"
      ]
     },
     "metadata": {},
     "output_type": "display_data"
    },
    {
     "name": "stdout",
     "output_type": "stream",
     "text": [
      "8\n"
     ]
    },
    {
     "data": {
      "image/png": "[encoded data removed]",
      "text/plain": [
       "<matplotlib.figure.Figure at 0x11b9b56d8>"
      ]
     },
     "metadata": {},
     "output_type": "display_data"
    },
    {
     "name": "stdout",
     "output_type": "stream",
     "text": [
      "9\n"
     ]
    },
    {
     "data": {
      "image/png": "[encoded data removed]",
      "text/plain": [
       "<matplotlib.figure.Figure at 0x111ebd160>"
      ]
     },
     "metadata": {},
     "output_type": "display_data"
    },
    {
     "name": "stdout",
     "output_type": "stream",
     "text": [
      "10\n"
     ]
    },
    {
     "data": {
      "image/png": "[encoded data removed]",
      "text/plain": [
       "<matplotlib.figure.Figure at 0x11251bfd0>"
      ]
     },
     "metadata": {},
     "output_type": "display_data"
    }
   ],
   "source": [
    "session = tf.Session()\n",
    "session.run(tf.global_variables_initializer())\n",
    "\n",
    "batch_size = 100\n",
    "\n",
    "for i in range(10):\n",
    "    print(i + 1)\n",
    "    for j in range(100):\n",
    "        images, labels = mnist.train.next_batch(batch_size)\n",
    "        parts = np.split(images, 2, axis=1)\n",
    "        data = {\n",
    "            x: parts[0],\n",
    "            y: parts[1],\n",
    "            keep_prob: 0.5\n",
    "        }\n",
    "        session.run(train, feed_dict=data)\n",
    "    draw()"
   ]
  },
  {
   "cell_type": "markdown",
   "metadata": {
    "collapsed": true
   },
   "source": [
    "[텍스트의 통계학: (2) 셰익스피어의 영혼은 몇 그램?](http://nullmodel.egloos.com/1956967)"
   ]
  },
  {
   "cell_type": "code",
   "execution_count": 13,
   "metadata": {},
   "outputs": [
    {
     "data": {
      "text/plain": [
       "'손_닿을_수_없는_저기_어딘가_오늘도_넌_숨쉬고_있지만_너와_머물던_작은_의자_위엔_같은_모습의_바람이_지나네_너는_떠나며_마치_날_떠나가듯이_멀리_손을_흔들며_언젠간_추억에_남겨져_갈_거라고_그리워하면_언젠간_만나게_되는_어느_영화와_같은_일들이_이루어져_가기를_힘겨워한_날에_너를_지킬_수_없었던_아름다운_시절_속에_머문_그대이기에_너는_떠나며_마치_날_떠나가듯이_멀리_손을_흔들며_언젠간_추억에_남겨져_갈_거라고_그리워하면_언젠간_만나게_되는_어느_영화와_같은_일들이_이루어져_가기를_힘겨워한_날에_너를_지킬_수_없었던_아름다운_시절_속에_머문_그대여_그리워하면_언젠간_만나게_되는_어느_영화와_같은_일들이_이루어져_가기를_힘겨워한_날에_너를_지킬_수_없었던_아름다운_시절_속에_머문_그대이기에_'"
      ]
     },
     "execution_count": 13,
     "metadata": {},
     "output_type": "execute_result"
    }
   ],
   "source": [
    "import re\n",
    "\n",
    "# Windows에서는 encoding을 반드시 써야 함.\n",
    "with open('data.txt', encoding='utf-8') as f:\n",
    "    read_data = f.read()\n",
    "\n",
    "# 공백 제거\n",
    "# text = re.sub('\\s+', '', read_data)\n",
    "\n",
    "# 줄 넘김만 제거하고 공백 유지\n",
    "text = read_data.replace('\\n', ' ')\n",
    "text = re.sub('\\s+', '_', text)\n",
    "\n",
    "text"
   ]
  },
  {
   "cell_type": "code",
   "execution_count": 14,
   "metadata": {},
   "outputs": [
    {
     "data": {
      "text/plain": [
       "array(['만', '모', '치', '화', '었', '오', '느', '을', '가', '들', '있', '문', '엔',\n",
       "       '남', '와', '속', '며', '영', '추', '손', '루', '힘', '젠', '게', '듯', '아',\n",
       "       '늘', '멀', '다', '는', '일', '너', '없', '워', '운', '날', '기', '던', '겨',\n",
       "       '에', '자', '리', '람', '라', '름', '흔', '도', '_', '면', '이', '하', '한',\n",
       "       '여', '머', '억', '그', '갈', '쉬', '킬', '져', '같', '고', '거', '지', '절',\n",
       "       '바', '닿', '간', '의', '저', '떠', '대', '숨', '은', '작', '나', '언', '수',\n",
       "       '물', '시', '네', '되', '어', '마', '위', '습', '딘', '를', '넌'],\n",
       "      dtype='<U1')"
      ]
     },
     "execution_count": 14,
     "metadata": {},
     "output_type": "execute_result"
    }
   ],
   "source": [
    "chars = list(set(text))\n",
    "\n",
    "np.array(chars)"
   ]
  },
  {
   "cell_type": "code",
   "execution_count": 15,
   "metadata": {},
   "outputs": [
    {
     "data": {
      "text/plain": [
       "89"
      ]
     },
     "execution_count": 15,
     "metadata": {},
     "output_type": "execute_result"
    }
   ],
   "source": [
    "num_chars = len(chars)\n",
    "num_inputs = 10\n",
    "\n",
    "num_chars"
   ]
  },
  {
   "cell_type": "code",
   "execution_count": 16,
   "metadata": {},
   "outputs": [
    {
     "data": {
      "text/plain": [
       "((382, 10), (382,))"
      ]
     },
     "execution_count": 16,
     "metadata": {},
     "output_type": "execute_result"
    }
   ],
   "source": [
    "x_data = []\n",
    "y_data = []\n",
    "\n",
    "for i in range(len(text) - num_inputs):\n",
    "    x_data.append([chars.index(x) for x in list(text[i:i + num_inputs])])\n",
    "    y_data.append(chars.index(text[i + num_inputs]))\n",
    "\n",
    "x_data = np.array(x_data)\n",
    "y_data = np.array(y_data)\n",
    "\n",
    "x_data.shape, y_data.shape"
   ]
  },
  {
   "cell_type": "code",
   "execution_count": 17,
   "metadata": {
    "collapsed": true
   },
   "outputs": [],
   "source": [
    "tf.reset_default_graph()\n",
    "\n",
    "x = tf.placeholder(tf.int64, [None, num_inputs])\n",
    "y = tf.placeholder(tf.int64, [None])\n",
    "\n",
    "keep_prob = tf.placeholder(tf.float32)\n",
    "\n",
    "xx = tf.one_hot(x, num_chars)\n",
    "yy = tf.one_hot(y, num_chars)\n",
    "\n",
    "z1 = rnn(xx, num_inputs, num_chars, 50)\n",
    "z2 = layer(z1, 100, tf.nn.relu)\n",
    "drop = tf.nn.dropout(z2, keep_prob)\n",
    "z = layer(drop, num_chars, tf.nn.softmax)\n",
    "\n",
    "label = tf.argmax(z, axis=1)\n",
    "\n",
    "loss = -tf.reduce_mean(yy * tf.log(z))\n",
    "\n",
    "train = tf.train.AdamOptimizer(0.0001).minimize(loss)"
   ]
  },
  {
   "cell_type": "code",
   "execution_count": 18,
   "metadata": {
    "scrolled": false
   },
   "outputs": [
    {
     "name": "stdout",
     "output_type": "stream",
     "text": [
      "1\n",
      "오늘도_넌_숨쉬고_있지만__________________________________________________\n",
      "2\n",
      "오늘도_넌_숨쉬고_있지만__________________________________________________\n",
      "3\n",
      "오늘도_넌_숨쉬고_있지만__________________________________________________\n",
      "4\n",
      "오늘도_넌_숨쉬고_있지만____나_____________________________________________\n",
      "5\n",
      "오늘도_넌_숨쉬고_있지만____머던__________던던던아아__________던던던아아__________던던던아\n",
      "6\n",
      "오늘도_넌_숨쉬고_있지만____머던던__________던던던던아아운__________던던던던아아운_________\n",
      "7\n",
      "오늘도_넌_숨쉬고_있지만__와_머물던__은__들____어_____던던던아아아운__________었었던던던아운운__\n",
      "8\n",
      "오늘도_넌_숨쉬고_있지만_너와_머물던_작은_의자_위엔_은은_모습의_____지나나_었었는_________었었었던던아\n",
      "9\n",
      "오늘도_넌_숨쉬고_있지만_너와_머물던_작은_의자_위엔_같은_모습의_바람이_지나네_너는_떠나며_마치_날_떠나가듯이_\n",
      "10\n",
      "오늘도_넌_숨쉬고_있지만_너와_머물던_작은_의자_위엔_같은_모습의_바람이_지나네_너는_떠나며_마치_날_떠나가듯이_\n"
     ]
    }
   ],
   "source": [
    "session = tf.Session()\n",
    "session.run(tf.global_variables_initializer())\n",
    "\n",
    "def generate():\n",
    "    inputs = [chars.index(x) for x in list('오늘도_넌_숨쉬고_있지만')]\n",
    "    for i in range(50):\n",
    "        output = session.run(label, feed_dict={\n",
    "            x: [inputs[-num_inputs:]],\n",
    "            keep_prob: 1.0\n",
    "        })\n",
    "        inputs = np.hstack([inputs, output])\n",
    "    print(''.join(chars[x] for x in inputs.tolist()))\n",
    "\n",
    "data = {\n",
    "    x: x_data,\n",
    "    y: y_data,\n",
    "    keep_prob: 0.5\n",
    "}\n",
    "\n",
    "for i in range(10):\n",
    "    print(i + 1)\n",
    "    for j in range(200):\n",
    "        session.run(train, feed_dict=data)\n",
    "    generate()"
   ]
  }
 ],
 "metadata": {
  "kernelspec": {
   "display_name": "Python 3",
   "language": "python",
   "name": "python3"
  },
  "language_info": {
   "codemirror_mode": {
    "name": "ipython",
    "version": 3
   },
   "file_extension": ".py",
   "mimetype": "text/x-python",
   "name": "python",
   "nbconvert_exporter": "python",
   "pygments_lexer": "ipython3",
   "version": "3.6.1"
  }
 },
 "nbformat": 4,
 "nbformat_minor": 2
}
