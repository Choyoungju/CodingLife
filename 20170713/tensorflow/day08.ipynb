{
 "cells": [
  {
   "cell_type": "code",
   "execution_count": 1,
   "metadata": {
    "collapsed": true
   },
   "outputs": [],
   "source": [
    "import numpy as np\n",
    "import tensorflow as tf\n",
    "import matplotlib.pyplot as plt"
   ]
  },
  {
   "cell_type": "code",
   "execution_count": 2,
   "metadata": {},
   "outputs": [
    {
     "name": "stdout",
     "output_type": "stream",
     "text": [
      "Extracting data/train-images-idx3-ubyte.gz\n",
      "Extracting data/train-labels-idx1-ubyte.gz\n",
      "Extracting data/t10k-images-idx3-ubyte.gz\n",
      "Extracting data/t10k-labels-idx1-ubyte.gz\n"
     ]
    }
   ],
   "source": [
    "from tensorflow.examples.tutorials.mnist import input_data\n",
    "\n",
    "mnist = input_data.read_data_sets('data')"
   ]
  },
  {
   "cell_type": "code",
   "execution_count": 3,
   "metadata": {
    "scrolled": true
   },
   "outputs": [
    {
     "data": {
      "image/png": "[encoded data removed]",
      "text/plain": [
       "<matplotlib.figure.Figure at 0x11a869b38>"
      ]
     },
     "metadata": {},
     "output_type": "display_data"
    }
   ],
   "source": [
    "def draw_image(images, labels):\n",
    "    fig, axes = plt.subplots(1, len(images), figsize=(len(images) * 2, 2))\n",
    "    for i, ax in enumerate(axes.flat):\n",
    "        ax.set_axis_off()\n",
    "        ax.imshow(images[i].reshape(28, 28), cmap='gray')\n",
    "        ax.set_title(labels[i])\n",
    "    plt.show()\n",
    "\n",
    "draw_image(mnist.test.images[:6], mnist.test.labels[:6])"
   ]
  },
  {
   "cell_type": "code",
   "execution_count": 4,
   "metadata": {
    "collapsed": true
   },
   "outputs": [],
   "source": [
    "# https://www.tensorflow.org/api_docs/python/tf/contrib/layers/fully_connected\n",
    "\n",
    "def layer(x, out_size, activation):\n",
    "    return tf.contrib.layers.fully_connected(x, out_size, activation)"
   ]
  },
  {
   "cell_type": "code",
   "execution_count": 5,
   "metadata": {
    "collapsed": true
   },
   "outputs": [],
   "source": [
    "# https://www.tensorflow.org/api_docs/python/tf/contrib/rnn/BasicLSTMCell\n",
    "# https://www.tensorflow.org/api_docs/python/tf/nn/static_rnn\n",
    "\n",
    "def rnn(x, batches, in_size, out_size):\n",
    "    # list로 분리\n",
    "    xx = tf.reshape(x, [-1, batches, in_size])\n",
    "    inputs = tf.unstack(xx, batches, axis=1)\n",
    "\n",
    "    # Cell 초기화\n",
    "    cell = tf.contrib.rnn.BasicLSTMCell(out_size)\n",
    "\n",
    "    # 순환\n",
    "    outputs, states = tf.contrib.rnn.static_rnn(cell, inputs, dtype=tf.float32)\n",
    "\n",
    "    # list를 하나로 합침\n",
    "    output = tf.concat(outputs, axis=1)\n",
    "    return tf.reshape(output, [-1, batches * out_size])"
   ]
  },
  {
   "cell_type": "code",
   "execution_count": 6,
   "metadata": {
    "scrolled": false
   },
   "outputs": [],
   "source": [
    "tf.reset_default_graph()\n",
    "\n",
    "x = tf.placeholder(tf.float32, [None, 14 * 28])\n",
    "y = tf.placeholder(tf.float32, [None, 14 * 28])\n",
    "\n",
    "keep_prob = tf.placeholder(tf.float32)\n",
    "\n",
    "z1 = rnn(x, 14, 28, 200)\n",
    "z2 = layer(z1, 500, tf.nn.relu)\n",
    "drop = tf.nn.dropout(z2, keep_prob)\n",
    "z = layer(drop, 14 * 28, tf.nn.sigmoid)\n",
    "\n",
    "loss = -tf.reduce_mean(y * tf.log(z) + (1 - y) * tf.log(1 - z))\n",
    "\n",
    "train = tf.train.AdamOptimizer(0.0001).minimize(loss)"
   ]
  },
  {
   "cell_type": "code",
   "execution_count": 7,
   "metadata": {
    "collapsed": true
   },
   "outputs": [],
   "source": [
    "test_data = {\n",
    "    x: mnist.test.images,\n",
    "    y: mnist.test.labels\n",
    "}\n",
    "\n",
    "def draw():\n",
    "    shuffle = np.random.permutation(mnist.test.labels.shape[0])\n",
    "\n",
    "    labels = mnist.test.labels[shuffle][:5]\n",
    "    images1 = mnist.test.images[:, :14 * 28][shuffle][:5]\n",
    "    images2 = session.run(z, feed_dict={ x: images1, keep_prob: 1.0 })\n",
    "    images = np.concatenate([images1, images2], axis=1)\n",
    "\n",
    "    draw_image(images, labels)"
   ]
  },
  {
   "cell_type": "code",
   "execution_count": 8,
   "metadata": {
    "scrolled": false
   },
   "outputs": [
    {
     "name": "stdout",
     "output_type": "stream",
     "text": [
      "1\n"
     ]
    },
    {
     "data": {
      "image/png": "[encoded data removed]",
      "text/plain": [
       "<matplotlib.figure.Figure at 0x11a872208>"
      ]
     },
     "metadata": {},
     "output_type": "display_data"
    },
    {
     "name": "stdout",
     "output_type": "stream",
     "text": [
      "2\n"
     ]
    },
    {
     "data": {
      "image/png": "[encoded data removed]",
      "text/plain": [
       "<matplotlib.figure.Figure at 0x124c30eb8>"
      ]
     },
     "metadata": {},
     "output_type": "display_data"
    },
    {
     "name": "stdout",
     "output_type": "stream",
     "text": [
      "3\n"
     ]
    },
    {
     "data": {
      "image/png": "[encoded data removed]",
      "text/plain": [
       "<matplotlib.figure.Figure at 0x11b150470>"
      ]
     },
     "metadata": {},
     "output_type": "display_data"
    },
    {
     "name": "stdout",
     "output_type": "stream",
     "text": [
      "4\n"
     ]
    },
    {
     "data": {
      "image/png": "[encoded data removed]",
      "text/plain": [
       "<matplotlib.figure.Figure at 0x11b1f2710>"
      ]
     },
     "metadata": {},
     "output_type": "display_data"
    },
    {
     "name": "stdout",
     "output_type": "stream",
     "text": [
      "5\n"
     ]
    },
    {
     "data": {
      "image/png": "[encoded data removed]",
      "text/plain": [
       "<matplotlib.figure.Figure at 0x12399c2b0>"
      ]
     },
     "metadata": {},
     "output_type": "display_data"
    },
    {
     "name": "stdout",
     "output_type": "stream",
     "text": [
      "6\n"
     ]
    },
    {
     "data": {
      "image/png": "[encoded data removed]",
      "text/plain": [
       "<matplotlib.figure.Figure at 0x11b2edcf8>"
      ]
     },
     "metadata": {},
     "output_type": "display_data"
    },
    {
     "name": "stdout",
     "output_type": "stream",
     "text": [
      "7\n"
     ]
    },
    {
     "data": {
      "image/png": "[encoded data removed]",
      "text/plain": [
       "<matplotlib.figure.Figure at 0x124f95fd0>"
      ]
     },
     "metadata": {},
     "output_type": "display_data"
    },
    {
     "name": "stdout",
     "output_type": "stream",
     "text": [
      "8\n"
     ]
    },
    {
     "data": {
      "image/png": "[encoded data removed]",
      "text/plain": [
       "<matplotlib.figure.Figure at 0x124ca2518>"
      ]
     },
     "metadata": {},
     "output_type": "display_data"
    },
    {
     "name": "stdout",
     "output_type": "stream",
     "text": [
      "9\n"
     ]
    },
    {
     "data": {
      "image/png": "[encoded data removed]",
      "text/plain": [
       "<matplotlib.figure.Figure at 0x11b8956d8>"
      ]
     },
     "metadata": {},
     "output_type": "display_data"
    },
    {
     "name": "stdout",
     "output_type": "stream",
     "text": [
      "10\n"
     ]
    },
    {
     "data": {
      "image/png": "[encoded data removed]",
      "text/plain": [
       "<matplotlib.figure.Figure at 0x11b10d400>"
      ]
     },
     "metadata": {},
     "output_type": "display_data"
    }
   ],
   "source": [
    "session = tf.Session()\n",
    "session.run(tf.global_variables_initializer())\n",
    "\n",
    "batch_size = 100\n",
    "\n",
    "for i in range(10):\n",
    "    print(i + 1)\n",
    "    for j in range(100):\n",
    "        images, labels = mnist.train.next_batch(batch_size)\n",
    "        parts = np.split(images, 2, axis=1)\n",
    "        data = {\n",
    "            x: parts[0],\n",
    "            y: parts[1],\n",
    "            keep_prob: 0.5\n",
    "        }\n",
    "        session.run(train, feed_dict=data)\n",
    "    draw()"
   ]
  },
  {
   "cell_type": "markdown",
   "metadata": {
    "collapsed": true
   },
   "source": [
    "---\n",
    "\n",
    "Lorem Ipsum - Lipsum generator\n",
    "\n",
    "http://www.lipsum.com/"
   ]
  },
  {
   "cell_type": "code",
   "execution_count": 9,
   "metadata": {},
   "outputs": [
    {
     "data": {
      "text/plain": [
       "'손닿을수없는저기어딘가오늘도넌숨쉬고있지만너와머물던작은의자위엔같은모습의바람이지나네너는떠나며마치날떠나가듯이멀리손을흔들며언젠간추억에남겨져갈거라고그리워하면언젠간만나게되는어느영화와같은일들이이루어져가기를힘겨워한날에너를지킬수없었던아름다운시절속에머문그대이기에너는떠나며마치날떠나가듯이멀리손을흔들며언젠간추억에남겨져갈거라고그리워하면언젠간만나게되는어느영화와같은일들이이루어져가기를힘겨워한날에너를지킬수없었던아름다운시절속에머문그대여그리워하면언젠간만나게되는어느영화와같은일들이이루어져가기를힘겨워한날에너를지킬수없었던아름다운시절속에머문그대이기에'"
      ]
     },
     "execution_count": 9,
     "metadata": {},
     "output_type": "execute_result"
    }
   ],
   "source": [
    "import re\n",
    "\n",
    "with open('data.txt') as f:\n",
    "    read_data = f.read()\n",
    "\n",
    "text = re.sub('\\s+', '', read_data)\n",
    "\n",
    "text"
   ]
  },
  {
   "cell_type": "code",
   "execution_count": 10,
   "metadata": {},
   "outputs": [
    {
     "data": {
      "text/plain": [
       "array(['늘', '대', '겨', '나', '화', '위', '에', '여', '마', '날', '간', '며', '오',\n",
       "       '바', '언', '머', '이', '람', '남', '지', '던', '었', '힘', '갈', '저', '되',\n",
       "       '다', '기', '수', '숨', '듯', '그', '손', '습', '는', '을', '떠', '의', '킬',\n",
       "       '닿', '한', '흔', '게', '운', '라', '와', '절', '워', '를', '네', '작', '추',\n",
       "       '영', '물', '같', '너', '하', '도', '치', '억', '있', '넌', '시', '만', '일',\n",
       "       '어', '쉬', '루', '름', '들', '져', '문', '젠', '딘', '면', '아', '거', '은',\n",
       "       '없', '속', '자', '멀', '리', '모', '고', '가', '엔', '느'],\n",
       "      dtype='<U1')"
      ]
     },
     "execution_count": 10,
     "metadata": {},
     "output_type": "execute_result"
    }
   ],
   "source": [
    "chars = list(set(text))\n",
    "\n",
    "np.array(chars)"
   ]
  },
  {
   "cell_type": "code",
   "execution_count": 11,
   "metadata": {},
   "outputs": [
    {
     "data": {
      "text/plain": [
       "88"
      ]
     },
     "execution_count": 11,
     "metadata": {},
     "output_type": "execute_result"
    }
   ],
   "source": [
    "num_chars = len(chars)\n",
    "num_inputs = 10\n",
    "\n",
    "num_chars"
   ]
  },
  {
   "cell_type": "code",
   "execution_count": 12,
   "metadata": {},
   "outputs": [
    {
     "data": {
      "text/plain": [
       "((274, 10), (274,))"
      ]
     },
     "execution_count": 12,
     "metadata": {},
     "output_type": "execute_result"
    }
   ],
   "source": [
    "x_data = []\n",
    "y_data = []\n",
    "\n",
    "for i in range(len(text) - num_inputs):\n",
    "    x_data.append([chars.index(x) for x in list(text[i:i + num_inputs])])\n",
    "    y_data.append(chars.index(text[i + num_inputs]))\n",
    "\n",
    "x_data = np.array(x_data)\n",
    "y_data = np.array(y_data)\n",
    "\n",
    "x_data.shape, y_data.shape"
   ]
  },
  {
   "cell_type": "code",
   "execution_count": 13,
   "metadata": {},
   "outputs": [],
   "source": [
    "tf.reset_default_graph()\n",
    "\n",
    "x = tf.placeholder(tf.int64, [None, num_inputs])\n",
    "y = tf.placeholder(tf.int64, [None])\n",
    "\n",
    "keep_prob = tf.placeholder(tf.float32)\n",
    "\n",
    "xx = tf.one_hot(x, num_chars)\n",
    "yy = tf.one_hot(y, num_chars)\n",
    "\n",
    "z1 = rnn(xx, num_inputs, num_chars, 50)\n",
    "z2 = layer(z1, 100, tf.nn.relu)\n",
    "drop = tf.nn.dropout(z2, keep_prob)\n",
    "z = layer(drop, num_chars, tf.nn.softmax)\n",
    "\n",
    "label = tf.argmax(z, axis=1)\n",
    "\n",
    "loss = -tf.reduce_mean(yy * tf.log(z))\n",
    "\n",
    "train = tf.train.AdamOptimizer(0.0001).minimize(loss)"
   ]
  },
  {
   "cell_type": "code",
   "execution_count": 14,
   "metadata": {
    "scrolled": false
   },
   "outputs": [
    {
     "name": "stdout",
     "output_type": "stream",
     "text": [
      "1\n",
      "0.0496641\n",
      "2\n",
      "0.046052\n",
      "3\n",
      "0.0391036\n",
      "4\n",
      "0.0307957\n",
      "5\n",
      "0.0265492\n",
      "6\n",
      "0.0222374\n",
      "7\n",
      "0.018427\n",
      "8\n",
      "0.0160256\n",
      "9\n",
      "0.0120352\n",
      "10\n",
      "0.0108745\n",
      "11\n",
      "0.0088517\n",
      "12\n",
      "0.0077943\n",
      "13\n",
      "0.00677371\n",
      "14\n",
      "0.0058123\n",
      "15\n",
      "0.00481136\n",
      "16\n",
      "0.00370135\n",
      "17\n",
      "0.00358549\n",
      "18\n",
      "0.00318675\n",
      "19\n",
      "0.0028757\n",
      "20\n",
      "0.00259933\n",
      "21\n",
      "0.00218356\n",
      "22\n",
      "0.00186345\n",
      "23\n",
      "0.00180252\n",
      "24\n",
      "0.0014404\n",
      "25\n",
      "0.00182414\n",
      "26\n",
      "0.00118983\n",
      "27\n",
      "0.00104847\n",
      "28\n",
      "0.00115142\n",
      "29\n",
      "0.00101464\n",
      "30\n",
      "0.000905035\n"
     ]
    }
   ],
   "source": [
    "session = tf.Session()\n",
    "session.run(tf.global_variables_initializer())\n",
    "\n",
    "data = {\n",
    "    x: x_data,\n",
    "    y: y_data,\n",
    "    keep_prob: 0.5\n",
    "}\n",
    "\n",
    "for i in range(30):\n",
    "    print(i + 1)\n",
    "    for j in range(100):\n",
    "        session.run(train, feed_dict=data)\n",
    "    print(session.run(loss, feed_dict=data))"
   ]
  },
  {
   "cell_type": "code",
   "execution_count": 15,
   "metadata": {
    "scrolled": true
   },
   "outputs": [
    {
     "name": "stdout",
     "output_type": "stream",
     "text": [
      "오늘도넌숨쉬고있지만너와머물던작은의자위엔같은모습의바람이지나네너는떠나며마치날\n"
     ]
    }
   ],
   "source": [
    "inputs = [chars.index(x) for x in list('오늘도넌숨쉬고있지만')]\n",
    "\n",
    "for i in range(30):\n",
    "    output = session.run(label, feed_dict={\n",
    "        x: [inputs[-10:]],\n",
    "        keep_prob: 1.0\n",
    "    })\n",
    "    inputs = np.hstack([inputs, output])\n",
    "\n",
    "print(''.join(chars[x] for x in inputs.tolist()))"
   ]
  }
 ],
 "metadata": {
  "kernelspec": {
   "display_name": "Python 3",
   "language": "python",
   "name": "python3"
  },
  "language_info": {
   "codemirror_mode": {
    "name": "ipython",
    "version": 3
   },
   "file_extension": ".py",
   "mimetype": "text/x-python",
   "name": "python",
   "nbconvert_exporter": "python",
   "pygments_lexer": "ipython3",
   "version": "3.6.1"
  }
 },
 "nbformat": 4,
 "nbformat_minor": 2
}
