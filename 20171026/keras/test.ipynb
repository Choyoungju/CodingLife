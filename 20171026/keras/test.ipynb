{
 "cells": [
  {
   "cell_type": "code",
   "execution_count": 1,
   "metadata": {},
   "outputs": [
    {
     "name": "stdout",
     "output_type": "stream",
     "text": [
      "Extracting /tmp/mnist-data/train-images-idx3-ubyte.gz\n",
      "Extracting /tmp/mnist-data/train-labels-idx1-ubyte.gz\n",
      "Extracting /tmp/mnist-data/t10k-images-idx3-ubyte.gz\n",
      "Extracting /tmp/mnist-data/t10k-labels-idx1-ubyte.gz\n"
     ]
    }
   ],
   "source": [
    "# MNIST 데이터 로딩\n",
    "\n",
    "from tensorflow.examples.tutorials.mnist import input_data\n",
    "\n",
    "mnist = input_data.read_data_sets('/tmp/mnist-data', one_hot=True)"
   ]
  },
  {
   "cell_type": "code",
   "execution_count": 2,
   "metadata": {},
   "outputs": [
    {
     "name": "stderr",
     "output_type": "stream",
     "text": [
      "Using TensorFlow backend.\n"
     ]
    }
   ],
   "source": [
    "# 간단한 신경망 모델\n",
    "\n",
    "from keras.models import Sequential\n",
    "from keras.layers import Dense\n",
    "\n",
    "model = Sequential()\n",
    "\n",
    "# 입력은 28*28개 (Image Size)\n",
    "# 출력은 10개 (0~9)\n",
    "\n",
    "model.add(Dense(10,\n",
    "                input_shape=[28 * 28],\n",
    "                activation='softmax'))\n",
    "\n",
    "model.compile(loss='categorical_crossentropy', optimizer='sgd')"
   ]
  },
  {
   "cell_type": "code",
   "execution_count": 3,
   "metadata": {},
   "outputs": [
    {
     "name": "stdout",
     "output_type": "stream",
     "text": [
      "Epoch 1/10\n",
      "55000/55000 [==============================] - 10s - loss: 0.8082    \n",
      "Epoch 2/10\n",
      "55000/55000 [==============================] - 15s - loss: 0.4686    \n",
      "Epoch 3/10\n",
      "55000/55000 [==============================] - 10s - loss: 0.4128    \n",
      "Epoch 4/10\n",
      "55000/55000 [==============================] - 7s - loss: 0.3850     \n",
      "Epoch 5/10\n",
      "55000/55000 [==============================] - 7s - loss: 0.3674     \n",
      "Epoch 6/10\n",
      "55000/55000 [==============================] - 6s - loss: 0.3549     \n",
      "Epoch 7/10\n",
      "55000/55000 [==============================] - 6s - loss: 0.3455     \n",
      "Epoch 8/10\n",
      "55000/55000 [==============================] - 6s - loss: 0.3380     \n",
      "Epoch 9/10\n",
      "55000/55000 [==============================] - 6s - loss: 0.3319     \n",
      "Epoch 10/10\n",
      "55000/55000 [==============================] - 6s - loss: 0.3266     \n"
     ]
    },
    {
     "data": {
      "text/plain": [
       "<keras.callbacks.History at 0x11a73be48>"
      ]
     },
     "execution_count": 3,
     "metadata": {},
     "output_type": "execute_result"
    }
   ],
   "source": [
    "# 훈련\n",
    "\n",
    "model.fit(mnist.train.images, mnist.train.labels, epochs=10)"
   ]
  },
  {
   "cell_type": "code",
   "execution_count": 4,
   "metadata": {},
   "outputs": [
    {
     "data": {
      "text/plain": [
       "0.91539999999999999"
      ]
     },
     "execution_count": 4,
     "metadata": {},
     "output_type": "execute_result"
    }
   ],
   "source": [
    "# 예측\n",
    "\n",
    "predict = model.predict(mnist.test.images).argmax(axis=1)\n",
    "\n",
    "# 정답 비교\n",
    "\n",
    "correct = predict == mnist.test.labels.argmax(axis=1)\n",
    "\n",
    "# 정답률\n",
    "\n",
    "correct.mean()"
   ]
  },
  {
   "cell_type": "code",
   "execution_count": 5,
   "metadata": {},
   "outputs": [],
   "source": [
    "# 좀더 복잡한 신경망 모델\n",
    "\n",
    "from keras.models import Sequential\n",
    "from keras.layers import Dense\n",
    "\n",
    "model = Sequential()\n",
    "\n",
    "# 입력은 28*28개 (Image Size)\n",
    "# 중간에 (내 맘대로) 100개\n",
    "# 출력은 10개 (0~9)\n",
    "\n",
    "model.add(Dense(100,\n",
    "                input_shape=[28 * 28]))\n",
    "model.add(Dense(10,\n",
    "                activation='softmax'))\n",
    "\n",
    "model.compile(loss='categorical_crossentropy', optimizer='sgd')"
   ]
  },
  {
   "cell_type": "code",
   "execution_count": 6,
   "metadata": {},
   "outputs": [
    {
     "name": "stdout",
     "output_type": "stream",
     "text": [
      "Epoch 1/10\n",
      "55000/55000 [==============================] - 10s - loss: 0.6119    \n",
      "Epoch 2/10\n",
      "55000/55000 [==============================] - 11s - loss: 0.3631    \n",
      "Epoch 3/10\n",
      "55000/55000 [==============================] - 14s - loss: 0.3306    \n",
      "Epoch 4/10\n",
      "55000/55000 [==============================] - 13s - loss: 0.3148    \n",
      "Epoch 5/10\n",
      "55000/55000 [==============================] - 12s - loss: 0.3047    \n",
      "Epoch 6/10\n",
      "55000/55000 [==============================] - 14s - loss: 0.2977    \n",
      "Epoch 7/10\n",
      "55000/55000 [==============================] - 21s - loss: 0.2920    \n",
      "Epoch 8/10\n",
      "55000/55000 [==============================] - 14s - loss: 0.2880    \n",
      "Epoch 9/10\n",
      "55000/55000 [==============================] - 10s - loss: 0.2841    \n",
      "Epoch 10/10\n",
      "55000/55000 [==============================] - 9s - loss: 0.2815     \n"
     ]
    },
    {
     "data": {
      "text/plain": [
       "<keras.callbacks.History at 0x115600f28>"
      ]
     },
     "execution_count": 6,
     "metadata": {},
     "output_type": "execute_result"
    }
   ],
   "source": [
    "# 훈련\n",
    "\n",
    "model.fit(mnist.train.images, mnist.train.labels, epochs=10)"
   ]
  },
  {
   "cell_type": "code",
   "execution_count": 7,
   "metadata": {},
   "outputs": [
    {
     "data": {
      "text/plain": [
       "0.92110000000000003"
      ]
     },
     "execution_count": 7,
     "metadata": {},
     "output_type": "execute_result"
    }
   ],
   "source": [
    "# 예측\n",
    "\n",
    "predict = model.predict(mnist.test.images).argmax(axis=1)\n",
    "\n",
    "# 정답 비교\n",
    "\n",
    "correct = predict == mnist.test.labels.argmax(axis=1)\n",
    "\n",
    "# 정답률\n",
    "\n",
    "correct.mean()"
   ]
  }
 ],
 "metadata": {
  "kernelspec": {
   "display_name": "Python 3",
   "language": "python",
   "name": "python3"
  },
  "language_info": {
   "codemirror_mode": {
    "name": "ipython",
    "version": 3
   },
   "file_extension": ".py",
   "mimetype": "text/x-python",
   "name": "python",
   "nbconvert_exporter": "python",
   "pygments_lexer": "ipython3",
   "version": "3.6.2"
  }
 },
 "nbformat": 4,
 "nbformat_minor": 2
}
